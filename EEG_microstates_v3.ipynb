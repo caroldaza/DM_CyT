{
  "nbformat": 4,
  "nbformat_minor": 0,
  "metadata": {
    "colab": {
      "name": "Copia de EEG_microstates_v3.ipynb",
      "provenance": [],
      "collapsed_sections": [],
      "authorship_tag": "ABX9TyMUM1adg6ouwd8cvaDdGdYg",
      "include_colab_link": true
    },
    "kernelspec": {
      "name": "python3",
      "display_name": "Python 3"
    },
    "language_info": {
      "name": "python"
    }
  },
  "cells": [
    {
      "cell_type": "markdown",
      "metadata": {
        "id": "view-in-github",
        "colab_type": "text"
      },
      "source": [
        "<a href=\"https://colab.research.google.com/github/caroldaza/DM_CyT/blob/main/EEG_microstates_v3.ipynb\" target=\"_parent\"><img src=\"https://colab.research.google.com/assets/colab-badge.svg\" alt=\"Open In Colab\"/></a>"
      ]
    },
    {
      "cell_type": "code",
      "metadata": {
        "colab": {
          "base_uri": "https://localhost:8080/"
        },
        "id": "CAe79JUor8kl",
        "outputId": "9a775e5f-d04c-4cb5-b542-aac8c497fa3c"
      },
      "source": [
        "from google.colab import drive\n",
        "drive.mount('/content/drive')"
      ],
      "execution_count": 1,
      "outputs": [
        {
          "output_type": "stream",
          "name": "stdout",
          "text": [
            "Mounted at /content/drive\n"
          ]
        }
      ]
    },
    {
      "cell_type": "code",
      "metadata": {
        "id": "pP7swgYWsBCU"
      },
      "source": [
        "import numpy as np\n",
        "import pandas as pd\n",
        "import matplotlib.pylab as plt \n",
        "import matplotlib.gridspec as gridspec\n",
        "import scipy\n",
        "from scipy.signal import butter, lfilter\n",
        "import scipy.spatial.distance as d\n",
        "from sklearn import decomposition\n",
        "import seaborn as sns; sns.set_theme()\n",
        "from scipy.cluster.hierarchy import dendrogram, linkage, cophenet, fcluster\n",
        "from scipy.spatial.distance import squareform\n",
        "from scipy.spatial import distance\n",
        "from sklearn.preprocessing import StandardScaler\n",
        "import pylab\n",
        "from sklearn.metrics.pairwise import euclidean_distances\n",
        "from sklearn.metrics import adjusted_rand_score\n",
        "from sklearn.metrics import confusion_matrix\n",
        "from sklearn.neighbors import NearestNeighbors\n",
        "import random"
      ],
      "execution_count": 2,
      "outputs": []
    },
    {
      "cell_type": "code",
      "metadata": {
        "colab": {
          "base_uri": "https://localhost:8080/"
        },
        "id": "avj6496IsG0f",
        "outputId": "43158895-2ebc-4edc-9e34-089ee30378bb"
      },
      "source": [
        "!pip install mne\n",
        "import mne"
      ],
      "execution_count": 3,
      "outputs": [
        {
          "output_type": "stream",
          "name": "stdout",
          "text": [
            "Collecting mne\n",
            "  Downloading mne-0.23.4-py3-none-any.whl (6.9 MB)\n",
            "\u001b[K     |████████████████████████████████| 6.9 MB 6.7 MB/s \n",
            "\u001b[?25hRequirement already satisfied: scipy>=1.1.0 in /usr/local/lib/python3.7/dist-packages (from mne) (1.4.1)\n",
            "Requirement already satisfied: numpy>=1.15.4 in /usr/local/lib/python3.7/dist-packages (from mne) (1.19.5)\n",
            "Installing collected packages: mne\n",
            "Successfully installed mne-0.23.4\n"
          ]
        }
      ]
    },
    {
      "cell_type": "markdown",
      "metadata": {
        "id": "iNeecRb4sQIE"
      },
      "source": [
        "(0) Levanto datos de EEG"
      ]
    },
    {
      "cell_type": "markdown",
      "metadata": {
        "id": "Y2jF77x0sRKU"
      },
      "source": [
        "El registro de EEG de 30 canales viene en formato txt. La frecuencia de muestreo es de 128 Hz.\n",
        "\n",
        "Los datos ya vienen limpios y filtrados entre 2 y 20 Hz"
      ]
    },
    {
      "cell_type": "code",
      "metadata": {
        "id": "xexCo2vYsPQx"
      },
      "source": [
        "# Montage 10-20\n",
        "mont1020 = mne.channels.make_standard_montage('standard_1020')\n",
        "# Elijo canales que tengo\n",
        "kept_channels = ['Fp1', 'Fp2', 'F3', 'F4', 'C3', 'C4', 'P3', 'P4', 'O1', 'O2', 'F7', 'F8', \n",
        "                 'T7', 'T8', 'P7', 'P8', 'Fz', 'Cz', 'Pz', 'FC1', 'FC2',\n",
        "                 'FC5', 'FC6','CP1','CP2','CP5','CP6','AFz','Fpz','POz']\n",
        "\n",
        "ind = [i for (i, channel) in enumerate(mont1020.ch_names) if channel in kept_channels]\n",
        "mont1020_30 = mont1020.copy()\n",
        "# Me quedo solo con los canales seleccionados\n",
        "mont1020_30.ch_names = [mont1020.ch_names[x] for x in ind]\n",
        "kept_channel_info = [mont1020.dig[x+3] for x in ind]\n",
        "# Me quedo con las referencias desde dónde están ubicados los canales\n",
        "mont1020_30.dig = mont1020.dig[0:3]+kept_channel_info\n",
        "info_eeg = mne.create_info(ch_names=mont1020_30.ch_names, sfreq=128,\n",
        "                            ch_types='eeg').set_montage(mont1020_30)"
      ],
      "execution_count": 4,
      "outputs": []
    },
    {
      "cell_type": "markdown",
      "metadata": {
        "id": "d-03I1s2sm3V"
      },
      "source": [
        "(1) Inspección de los datos"
      ]
    },
    {
      "cell_type": "markdown",
      "metadata": {
        "id": "6d4lLMvXsvMt"
      },
      "source": [
        "(1.1) Topografía media"
      ]
    },
    {
      "cell_type": "markdown",
      "metadata": {
        "id": "UQRvMwPYtFJf"
      },
      "source": [
        "(1.2) Descomposición (PCA-1)"
      ]
    },
    {
      "cell_type": "markdown",
      "metadata": {
        "id": "yl5TmKlptL7D"
      },
      "source": [
        "(2) Cálculo del Global Field Power"
      ]
    },
    {
      "cell_type": "code",
      "metadata": {
        "id": "qEOZgYYlsmg7"
      },
      "source": [
        "subject = [8,9,10,12,13] \n",
        "periodo = [1,2]\n",
        "srate=128\n",
        "\n",
        "EEGdata_all = pd.DataFrame()\n",
        "\n",
        "i=0\n",
        "for ind,sub in enumerate(subject):\n",
        "  for per in range(1,3):\n",
        "    \n",
        "    filename = '/content/drive/MyDrive/procesados/suj_' + str(sub) + '_bl_' + str(per) + '.txt'\n",
        "\n",
        "    datos = pd.read_csv(filename, sep=',', header=None)\n",
        "    EEGdata = datos.to_numpy()\n",
        "\n",
        "    globals()['df' + str(i)] = EEGdata # esto crea variables df y les asigna dataframes que va leyendo\n",
        "    i += 1\n",
        "\n",
        "# pasar numpy array a dataset\n",
        "# seguro hay una manera mas inteligente de escribir esto pero para rapidez\n",
        "df0 = pd.DataFrame(df0) #s8 p1\n",
        "df1 = pd.DataFrame(df1) #s8 p2\n",
        "df2 = pd.DataFrame(df2) #s9 p1\n",
        "df3 = pd.DataFrame(df3) #s9 p2\n",
        "df4 = pd.DataFrame(df4) #s10 p1\n",
        "df5 = pd.DataFrame(df5) #s10 p2\n",
        "df6 = pd.DataFrame(df6) #s12 p1\n",
        "df7 = pd.DataFrame(df7) #s12 p2\n",
        "df8 = pd.DataFrame(df8) #s13 p1\n",
        "df9 = pd.DataFrame(df9) #s13 p2\n",
        "\n",
        "# Concateno pre y post por sujeto\n",
        "\n",
        "frames1 = [df0,df1]  \n",
        "frames2 = [df2,df3]\n",
        "frames3 = [df4,df5]\n",
        "frames4 = [df6,df7]\n",
        "frames5 = [df8,df9]\n",
        "\n",
        "# No calculo el GFP aqui porque voy a sacar todo de la funcion kmeans\n",
        "\n",
        "# Concatenando todo para hacer matrices grandes\n",
        "\n",
        "Todo_EEG_p=pd.concat([df0,df1,df2,df3,df4,df5,df6,df7,df8,df9],axis=1) # Todas los EEG juntos version pandas\n",
        "Todo_EEG = Todo_EEG_p.to_numpy() # Todos los EEG juntos version numpy array"
      ],
      "execution_count": 16,
      "outputs": []
    },
    {
      "cell_type": "code",
      "metadata": {
        "id": "34DzN8NlwWok"
      },
      "source": [
        "# Uso la matriz escaleada de aqui en adelante\n",
        "Todo_EEG_scaled = StandardScaler().fit_transform(Todo_EEG)"
      ],
      "execution_count": 17,
      "outputs": []
    },
    {
      "cell_type": "code",
      "metadata": {
        "colab": {
          "base_uri": "https://localhost:8080/"
        },
        "id": "Cx5umehHycFG",
        "outputId": "861b1334-1c5a-4a66-df94-c1340df97632"
      },
      "source": [
        "Todo_EEG_scaled.shape[0],Todo_EEG_scaled.shape[1]"
      ],
      "execution_count": 18,
      "outputs": [
        {
          "output_type": "execute_result",
          "data": {
            "text/plain": [
              "(30, 76810)"
            ]
          },
          "metadata": {},
          "execution_count": 18
        }
      ]
    },
    {
      "cell_type": "markdown",
      "metadata": {
        "id": "5f4Fyf2tvCkI"
      },
      "source": [
        "# (3) Clusterización"
      ]
    },
    {
      "cell_type": "markdown",
      "metadata": {
        "id": "U2wqg9ZzvqmD"
      },
      "source": [
        "\n",
        "\n",
        "Previo, uso la parte de gfp de la funcion kmeans de clase para calcular la matriz de EEG en los picos de GFP\n"
      ]
    },
    {
      "cell_type": "code",
      "metadata": {
        "id": "-z3epHxqvpt_"
      },
      "source": [
        "# k means modificado funcion\n",
        "# la diferencia de esta funcion con kmeans3 es que en esta los picos de gfp se calculan adentro y en la kmeans3 se ponen como parametro\n",
        "\n",
        "def locmax(x):\n",
        "    dx = np.diff(x) # discrete 1st derivative\n",
        "    zc = np.diff(np.sign(dx)) # zero-crossings of dx\n",
        "    m = 1 + np.where(zc == -2)[0] # indices of local max.\n",
        "    return m\n",
        "\n",
        "def GFP(dat): \n",
        "\n",
        "    data=dat.transpose()\n",
        "    n_t = data.shape[0]\n",
        "    n_ch = data.shape[1]\n",
        "    data = data - data.mean(axis=1, keepdims=True)\n",
        "\n",
        "    # GFP peaks\n",
        "    gfp = np.std(data, axis=1)\n",
        "    gfp_peaks = locmax(gfp)\n",
        "    gfp_values = gfp[gfp_peaks]\n",
        "\n",
        "    return gfp_peaks"
      ],
      "execution_count": 19,
      "outputs": []
    },
    {
      "cell_type": "code",
      "metadata": {
        "id": "VST2GEWNwLh3"
      },
      "source": [
        "# Calculando la matriz de EEG en los picos de GFP\n",
        "gfp_peaks = GFP(Todo_EEG_scaled)"
      ],
      "execution_count": 20,
      "outputs": []
    },
    {
      "cell_type": "code",
      "metadata": {
        "colab": {
          "base_uri": "https://localhost:8080/"
        },
        "id": "L1cTu_6qy0gM",
        "outputId": "285c8edd-81a6-49bd-dd40-f8fc6dca7566"
      },
      "source": [
        "len(gfp_peaks)"
      ],
      "execution_count": 21,
      "outputs": [
        {
          "output_type": "execute_result",
          "data": {
            "text/plain": [
              "10298"
            ]
          },
          "metadata": {},
          "execution_count": 21
        }
      ]
    },
    {
      "cell_type": "code",
      "metadata": {
        "id": "xfnSdNlPzG75"
      },
      "source": [
        "# recuperando los valores de EEG en los picos\n",
        "EEG_todo_scaled = Todo_EEG_scaled[:,gfp_peaks] \n",
        "EEG_todo_scaled_p = pd.DataFrame(EEG_todo_scaled) # version pandas"
      ],
      "execution_count": 22,
      "outputs": []
    },
    {
      "cell_type": "markdown",
      "metadata": {
        "id": "sMTcKAUa_TDN"
      },
      "source": [
        "## (3.1) Tendencia al clustering"
      ]
    },
    {
      "cell_type": "markdown",
      "metadata": {
        "id": "4anisQTG_ZP1"
      },
      "source": [
        "Para detectar la tendencia al clustering se calcula el estadistico de Hopkins:"
      ]
    },
    {
      "cell_type": "code",
      "metadata": {
        "colab": {
          "base_uri": "https://localhost:8080/"
        },
        "id": "W2CbsIkJ_jtW",
        "outputId": "57da78ed-495b-4e06-9024-2a0bef0846c4"
      },
      "source": [
        "datos = EEG_todo_scaled.transpose()\n",
        "\n",
        "d = datos.shape[1] # columnas (esta al contrario por el transpose)\n",
        "n = datos.shape[0] # filas\n",
        "m = 1000 # cantidad de puntos al azar\n",
        "\n",
        "nbrs = NearestNeighbors(n_neighbors=1, algorithm='brute').fit(datos) # buscador de vecinos\n",
        "\n",
        "rand_ind = random.sample(range(0, n, 1), m) # indices al azar\n",
        "\n",
        "ui = []\n",
        "wi = []\n",
        "for j in range(0, m):\n",
        "    u_dist, _ = nbrs.kneighbors(np.random.normal(size=(1, d)).reshape(1, -1), 2, return_distance=True) # distancia a los nuevos puntos\n",
        "    ui.append(u_dist[0][1])\n",
        "    w_dist, _ = nbrs.kneighbors(datos[rand_ind[j]].reshape(1, -1), 2, return_distance=True) # distancia a los puntos al azar\n",
        "    wi.append(w_dist[0][1])\n",
        "\n",
        "H = sum(wi) / (sum(ui) + sum(wi))\n",
        "H"
      ],
      "execution_count": null,
      "outputs": [
        {
          "output_type": "execute_result",
          "data": {
            "text/plain": [
              "0.3561805997727004"
            ]
          },
          "metadata": {},
          "execution_count": 55
        }
      ]
    },
    {
      "cell_type": "markdown",
      "metadata": {
        "id": "lwBAgXywBhSP"
      },
      "source": [
        "Un coeficiente de Hopkins menor que 0,5 quiere decir que los puntos estan menos agrupados que los que se tiran al azar. Sin embargo vamos a intentar clusterizar (da mejor con la matriz sin estandarizar...)"
      ]
    },
    {
      "cell_type": "code",
      "metadata": {
        "id": "3BWjzvPS--Ig"
      },
      "source": [
        ""
      ],
      "execution_count": null,
      "outputs": []
    },
    {
      "cell_type": "code",
      "metadata": {
        "colab": {
          "base_uri": "https://localhost:8080/"
        },
        "id": "6kNxbtuFzstt",
        "outputId": "b0d6abe8-cfc3-4f6a-bea4-f94f459882d5"
      },
      "source": [
        "EEG_todo_scaled.shape[0],EEG_todo_scaled.shape[1]"
      ],
      "execution_count": null,
      "outputs": [
        {
          "output_type": "execute_result",
          "data": {
            "text/plain": [
              "(30, 10298)"
            ]
          },
          "metadata": {},
          "execution_count": 16
        }
      ]
    },
    {
      "cell_type": "markdown",
      "metadata": {
        "id": "Ow11W96fvEl0"
      },
      "source": [
        "## (3.2) Dendrograma"
      ]
    },
    {
      "cell_type": "markdown",
      "metadata": {
        "id": "ONoTbV4mvS4S"
      },
      "source": [
        "### Distancia Euclidiana"
      ]
    },
    {
      "cell_type": "code",
      "metadata": {
        "id": "Zr9Hqz5f0W--"
      },
      "source": [
        "data = EEG_todo_scaled_p.sample(frac=1).reset_index(drop=True) # aleatorizando, frac es la proporcion de filas que devuelve\n",
        "\n",
        "df = np.transpose(data) # para que clusterize columnas no filas (los puntos en el espacio son las columnas de EEG)\n",
        "\n",
        "z = linkage(df, method='average', metric='euclidean')\n"
      ],
      "execution_count": null,
      "outputs": []
    },
    {
      "cell_type": "code",
      "metadata": {
        "colab": {
          "base_uri": "https://localhost:8080/",
          "height": 281
        },
        "id": "_4wD9yrh1Syn",
        "outputId": "0040afc3-3c56-4f45-db8f-762226300ebc"
      },
      "source": [
        "plt.figure()\n",
        "plt.title('Dendrograma D. Euclidiana')#, ccc = %0.2f'%c)\n",
        "plt.xlabel('registros')\n",
        "plt.ylabel('distancia')\n",
        "dn = dendrogram(z,no_labels=True, p=5, truncate_mode='level')  # show only the last p merged clusters"
      ],
      "execution_count": null,
      "outputs": [
        {
          "output_type": "display_data",
          "data": {
            "image/png": "[encoded data removed]",
            "text/plain": [
              "<Figure size 432x288 with 1 Axes>"
            ]
          },
          "metadata": {}
        }
      ]
    },
    {
      "cell_type": "markdown",
      "metadata": {
        "id": "kVpMucT40haS"
      },
      "source": [
        "### Distancia Coseno"
      ]
    },
    {
      "cell_type": "code",
      "metadata": {
        "id": "KGOXb8NS0lBW"
      },
      "source": [
        "data = EEG_todo_scaled_p.sample(frac=1).reset_index(drop=True) # aleatorizando, frac es la proporcion de filas que devuelve\n",
        "\n",
        "df = np.transpose(data) # para que clusterize columnas no filas (los puntos en el espacio son las columnas de EEG)\n",
        "\n",
        "z_cosine = linkage(df, method='average', metric='cosine')"
      ],
      "execution_count": null,
      "outputs": []
    },
    {
      "cell_type": "code",
      "metadata": {
        "colab": {
          "base_uri": "https://localhost:8080/",
          "height": 281
        },
        "id": "yzsccI8c12zz",
        "outputId": "0ccd84c3-37a6-4021-ac50-40b74533c72e"
      },
      "source": [
        "plt.figure()\n",
        "plt.title('Dendrograma D. Coseno')#, ccc = %0.2f'%c)\n",
        "plt.xlabel('registros')\n",
        "plt.ylabel('distancia')\n",
        "dn = dendrogram(z_cosine,no_labels=True, p=5, truncate_mode='level')  # show only the last p merged clusters"
      ],
      "execution_count": null,
      "outputs": [
        {
          "output_type": "display_data",
          "data": {
            "image/png": "[encoded data removed]",
            "text/plain": [
              "<Figure size 432x288 with 1 Axes>"
            ]
          },
          "metadata": {}
        }
      ]
    },
    {
      "cell_type": "markdown",
      "metadata": {
        "id": "_j4RUXJJ4vgy"
      },
      "source": [
        "### Correlacion"
      ]
    },
    {
      "cell_type": "markdown",
      "metadata": {
        "id": "KHIhresK4ne-"
      },
      "source": [
        "Matriz de distancias tomando la correlacion:"
      ]
    },
    {
      "cell_type": "code",
      "metadata": {
        "id": "8t-a1sJa4nD5"
      },
      "source": [
        "z_correlation = linkage(df, method='average', metric='correlation')"
      ],
      "execution_count": null,
      "outputs": []
    },
    {
      "cell_type": "code",
      "metadata": {
        "colab": {
          "base_uri": "https://localhost:8080/",
          "height": 281
        },
        "id": "WL5iUuPU42C_",
        "outputId": "22bd23cf-fc64-43e1-db77-3d63d4f483d1"
      },
      "source": [
        "plt.figure()\n",
        "plt.title('Dendrograma Corr')#, ccc = %0.2f'%c)\n",
        "plt.xlabel('registros')\n",
        "plt.ylabel('distancia')\n",
        "dn = dendrogram(z_correlation,no_labels=True, p=5, truncate_mode='level')  # show only the last p merged clusters"
      ],
      "execution_count": null,
      "outputs": [
        {
          "output_type": "display_data",
          "data": {
            "image/png": "[encoded data removed]",
            "text/plain": [
              "<Figure size 432x288 with 1 Axes>"
            ]
          },
          "metadata": {}
        }
      ]
    },
    {
      "cell_type": "code",
      "metadata": {
        "id": "-pjFmMFd2uYD"
      },
      "source": [
        "# Cortando por ejemplo en 5 clusters, estos son las etiquetas\n",
        "numclust = 5\n",
        "\n",
        "labels_ini_eucl = fcluster(z,numclust,criterion='maxclust') \n",
        "labels_ini_cosine = fcluster(z_cosine,numclust,criterion='maxclust') \n",
        "labels_ini_corr = fcluster(z_correlation,numclust,criterion='maxclust') "
      ],
      "execution_count": null,
      "outputs": []
    },
    {
      "cell_type": "markdown",
      "metadata": {
        "id": "6eDACnhL2Ro0"
      },
      "source": [
        "Matriz de confusión para la clasificación con distancias euclídeas o distancias coseno:"
      ]
    },
    {
      "cell_type": "code",
      "metadata": {
        "colab": {
          "base_uri": "https://localhost:8080/"
        },
        "id": "pm116tL63UYt",
        "outputId": "123573a9-5f54-4960-f7f9-ebbe22b1ebcb"
      },
      "source": [
        "confusion_matrix(labels_ini_eucl, labels_ini_eucl) # para distancia euclidea"
      ],
      "execution_count": null,
      "outputs": [
        {
          "output_type": "execute_result",
          "data": {
            "text/plain": [
              "array([[4118,    0,    0,    0,    0],\n",
              "       [   0, 1066,    0,    0,    0],\n",
              "       [   0,    0,  102,    0,    0],\n",
              "       [   0,    0,    0,  211,    0],\n",
              "       [   0,    0,    0,    0, 4801]])"
            ]
          },
          "metadata": {},
          "execution_count": 28
        }
      ]
    },
    {
      "cell_type": "code",
      "metadata": {
        "colab": {
          "base_uri": "https://localhost:8080/"
        },
        "id": "XKFqTyQU3iPU",
        "outputId": "90b6da7e-2d55-4fda-81a9-7613854f27e7"
      },
      "source": [
        "confusion_matrix(labels_ini_cosine, labels_ini_cosine) # para distancia coseno"
      ],
      "execution_count": null,
      "outputs": [
        {
          "output_type": "execute_result",
          "data": {
            "text/plain": [
              "array([[  40,    0,    0,    0,    0],\n",
              "       [   0, 3954,    0,    0,    0],\n",
              "       [   0,    0, 1367,    0,    0],\n",
              "       [   0,    0,    0,  939,    0],\n",
              "       [   0,    0,    0,    0, 3998]])"
            ]
          },
          "metadata": {},
          "execution_count": 29
        }
      ]
    },
    {
      "cell_type": "code",
      "metadata": {
        "colab": {
          "base_uri": "https://localhost:8080/"
        },
        "id": "GcYOAxA75Iwc",
        "outputId": "c3fd9af4-6c39-46c8-e3ef-158741f0bb4b"
      },
      "source": [
        "confusion_matrix(labels_ini_corr, labels_ini_corr) # para distancia coseno"
      ],
      "execution_count": null,
      "outputs": [
        {
          "output_type": "execute_result",
          "data": {
            "text/plain": [
              "array([[  40,    0,    0,    0,    0],\n",
              "       [   0, 3954,    0,    0,    0],\n",
              "       [   0,    0, 1367,    0,    0],\n",
              "       [   0,    0,    0,  939,    0],\n",
              "       [   0,    0,    0,    0, 3998]])"
            ]
          },
          "metadata": {},
          "execution_count": 117
        }
      ]
    },
    {
      "cell_type": "code",
      "metadata": {
        "colab": {
          "base_uri": "https://localhost:8080/"
        },
        "id": "6DN1g9dLo-oB",
        "outputId": "c129cb14-2550-4e61-92e8-4fc7f0d735c2"
      },
      "source": [
        "bin,cuentas = np.unique(labels_ini_corr, return_counts=True)\n",
        "sum(cuentas)"
      ],
      "execution_count": null,
      "outputs": [
        {
          "output_type": "execute_result",
          "data": {
            "text/plain": [
              "10298"
            ]
          },
          "metadata": {},
          "execution_count": 118
        }
      ]
    },
    {
      "cell_type": "code",
      "metadata": {
        "colab": {
          "base_uri": "https://localhost:8080/"
        },
        "id": "JmjK3O6V2GYT",
        "outputId": "eca117cb-2d43-4df6-dabe-57418586cab0"
      },
      "source": [
        "confusion_matrix(labels_ini_eucl, labels_ini_cosine) # no se que se deduce de esta comparacion Raul"
      ],
      "execution_count": null,
      "outputs": [
        {
          "output_type": "execute_result",
          "data": {
            "text/plain": [
              "array([[  10,   82,  381,  262, 3383],\n",
              "       [   3,  204,   96,  470,  293],\n",
              "       [   2,   15,   31,   19,   35],\n",
              "       [   0,   67,   35,   64,   45],\n",
              "       [  25, 3586,  824,  124,  242]])"
            ]
          },
          "metadata": {},
          "execution_count": 27
        }
      ]
    },
    {
      "cell_type": "markdown",
      "metadata": {
        "id": "Jqgb_HEf2Bnx"
      },
      "source": [
        "Se observa una mejora en la clusterizacion usando distancia coseno porque los clusters son mas balanceados (si?). Para la correlacion y la coseno dan igual porque los datos estan estandarizados, entonces no es necesario incluir el calculo de distancia con la correlacion."
      ]
    },
    {
      "cell_type": "markdown",
      "metadata": {
        "id": "0BhP7a8-5jfg"
      },
      "source": [
        "## (3.3) K-means modificado"
      ]
    },
    {
      "cell_type": "code",
      "metadata": {
        "id": "w3bTBffp5Nob"
      },
      "source": [
        "# k means modificado funcion\n",
        "# la diferencia de esta funcion con kmeans3 es que en esta los picos de gfp se calculan adentro y en la kmeans3 se ponen como parametro\n",
        "\n",
        "def locmax(x):\n",
        "    dx = np.diff(x) # discrete 1st derivative\n",
        "    zc = np.diff(np.sign(dx)) # zero-crossings of dx\n",
        "    m = 1 + np.where(zc == -2)[0] # indices of local max.\n",
        "    return m\n",
        "\n",
        "def kmeans(dat, n_maps, n_runs=10, maxerr=1e-6, maxiter=500): #data[gfp_peaks,:]=gfp_maps.T, gfp[gfp_peaks]=gfp_eval\n",
        "  # input: datos, numero de clusters, cantidad de corridas, error y número maximo de iteraciones.\n",
        "  # Output: \n",
        "    data=dat.transpose()\n",
        "    n_t = data.shape[0]\n",
        "    n_ch = data.shape[1]\n",
        "    data = data - data.mean(axis=1, keepdims=True)\n",
        "\n",
        "    # GFP peaks\n",
        "    gfp = np.std(data, axis=1)\n",
        "    gfp_peaks = locmax(gfp)\n",
        "    gfp_values = gfp[gfp_peaks]\n",
        "    gfp2 = np.sum(gfp_values**2) # normalizing constant in GEV\n",
        "    n_gfp = gfp_peaks.shape[0]\n",
        "\n",
        "    # clustering of GFP peak maps only\n",
        "    V = data[gfp_peaks, :] # maps\n",
        "    sumV2 = np.sum(V**2)\n",
        "\n",
        "    # store results for each k-means run\n",
        "    cv_list =   []  # cross-validation criterion for each k-means run\n",
        "    gev_list =  []  # GEV of each map for each k-means run\n",
        "    gevT_list = []  # total GEV values for each k-means run\n",
        "    maps_list = []  # microstate maps for each k-means run\n",
        "    L_list =    []  # microstate label sequence for each k-means run\n",
        "    Llist =    []  # microstate label sequence for each k-means run gfp\n",
        "    cv_gfp_list = [] # cross-validation criterion for each k-means run para gfp\n",
        "  \n",
        "    for run in range(n_runs):\n",
        "        # initialize random cluster centroids \n",
        "        rndi = np.random.permutation(n_gfp)[:n_maps]\n",
        "        maps = V[rndi, :] #V = data[gfp_peaks, :] \n",
        "        # normalize row-wise (across EEG channels)\n",
        "        maps /= np.sqrt(np.sum(maps**2, axis=1, keepdims=True))\n",
        "        # initialize\n",
        "        n_iter = 0\n",
        "        var0 = 1.0\n",
        "        var1 = 0.0\n",
        "        # convergence criterion: variance estimate (step 6)\n",
        "        while ( (np.abs((var0-var1)/var0) > maxerr) & (n_iter < maxiter) ):\n",
        "            # (step 3) microstate sequence (= current cluster assignment)\n",
        "            C = np.dot(V, maps.T)\n",
        "            C /= (n_ch*np.outer(gfp[gfp_peaks], np.std(maps, axis=1)))\n",
        "            L = np.argmax(C**2, axis=1)\n",
        "            # (step 4)\n",
        "            for k in range(n_maps):\n",
        "                Vt = V[L==k, :]\n",
        "                # (step 4a)\n",
        "                Sk = np.dot(Vt.T, Vt)\n",
        "                # (step 4b)\n",
        "                evals, evecs = np.linalg.eig(Sk)\n",
        "                v = evecs[:, np.argmax(np.abs(evals))]\n",
        "                v = v.real\n",
        "                maps[k, :] = v/np.sqrt(np.sum(v**2))\n",
        "            # (step 5)\n",
        "            var1 = var0\n",
        "            var0 = sumV2 - np.sum(np.sum(maps[L, :]*V, axis=1)**2)\n",
        "            var0 /= (n_gfp*(n_ch-1))\n",
        "            n_iter += 1\n",
        "        if (n_iter > maxiter):\n",
        "          print((f\"\\tK-means run {run+1:d}/{n_runs:d} did NOT converge \"\n",
        "                   f\"after {maxiter:d} iterations.\"))\n",
        "            #print((f\"\\tK-means run {run+1:d}/{n_runs:d} converged after \"\n",
        "            #       f\"{n_iter:d} iterations.\"))\n",
        "        #else:\n",
        "        #    print((f\"\\tK-means run {run+1:d}/{n_runs:d} did NOT converge \"\n",
        "        #          f\"after {maxiter:d} iterations.\"))\n",
        "\n",
        "        # CROSS-VALIDATION criterion for this run (step 8)\n",
        "        C_ = np.dot(data, maps.T)\n",
        "        C_ /= (n_ch*np.outer(gfp, np.std(maps, axis=1)))\n",
        "        L_ = np.argmax(C_**2, axis=1)\n",
        "        # ¿no tendría que ser v?\n",
        "        var = np.sum(data**2) - np.sum(np.sum(maps[L_, :]*data, axis=1)**2)\n",
        "        var /= (n_t*(n_ch-1))\n",
        "        cv = var * (n_ch-1)**2/(n_ch-n_maps-1.)**2\n",
        "\n",
        "         # GEV (global explained variance) of cluster k\n",
        "        gev = np.zeros(n_maps)\n",
        "        for k in range(n_maps):\n",
        "            r = L==k\n",
        "            gev[k] = np.sum(gfp_values[r]**2 * C[r,k]**2)/gfp2\n",
        "        gev_total = np.sum(gev)\n",
        "        \n",
        "        # store\n",
        "        cv_list.append(cv)\n",
        "        gev_list.append(gev)\n",
        "        gevT_list.append(gev_total)\n",
        "        maps_list.append(maps)\n",
        "        L_list.append(L_)\n",
        "        Llist.append(L)\n",
        "\n",
        "    # select best run. Lo elige en función del validación cruzada\n",
        "    k_opt = np.argmin(cv_list)\n",
        "    gev = gev_list[k_opt]\n",
        "    maps = maps_list[k_opt]\n",
        "    L_ = L_list[k_opt]\n",
        "    L  = Llist[k_opt]\n",
        "\n",
        "    return maps, L_, L, k_opt,gev,gfp_peaks #maps_kmeans,labels_datos,labels_gfp,cv,GEV,picosgfp"
      ],
      "execution_count": 8,
      "outputs": []
    },
    {
      "cell_type": "code",
      "metadata": {
        "colab": {
          "base_uri": "https://localhost:8080/",
          "height": 121
        },
        "id": "FHprDFiC5zm2",
        "outputId": "09ede9d9-4691-4002-ae9c-4f1c95c31c90"
      },
      "source": [
        "# Calculando para 5 clusters como ejemplo y graficando los centroides\n",
        "\n",
        "n_clusters = 5\n",
        "\n",
        "maps_kmeans,labels_datos,labels_gfp,cv,gev,gfp_peaks = kmeans(Todo_EEG_scaled, n_clusters, n_runs=100, maxerr=1e-6, maxiter=500)\n",
        "\n",
        "fig3, ax = plt.subplots(ncols=n_clusters, figsize=(10, 4), gridspec_kw=dict(top=0.9),\n",
        "                       sharex=True, sharey=True)\n",
        "for n in range(n_clusters):\n",
        "    mne.viz.plot_topomap(maps_kmeans[n,:].T,info_eeg,\n",
        "                         vmin=-0.3,vmax=0.3, cmap='coolwarm',\n",
        "                         contours=0, axes=ax[n],show=False)\n",
        "   # ax[n].set_title('gev='+str(round(100*gev[n],1))+'%', fontweight='bold')\n",
        "plt.show()"
      ],
      "execution_count": null,
      "outputs": [
        {
          "output_type": "display_data",
          "data": {
            "image/png": "[encoded data removed]",
            "text/plain": [
              "<Figure size 720x288 with 5 Axes>"
            ]
          },
          "metadata": {}
        }
      ]
    },
    {
      "cell_type": "code",
      "metadata": {
        "id": "vkeKUcQH5_tF"
      },
      "source": [
        "# definicion funcion silhoette\n",
        "\n",
        "def silhoutte_modificado2(maps,data,labels,ch,n_clusters):\n",
        "    if data.shape[0]!=ch:\n",
        "       data=data.T\n",
        "    elif maps.shape[0]!=ch:\n",
        "       maps=maps.T\n",
        "    \n",
        "    corr_ctodos =np.abs(np.corrcoef(data.T))\n",
        "    sil = []\n",
        "    for n,i in enumerate(data.T):\n",
        "        L = labels[n]\n",
        "        dist = 1-corr_ctodos[n,:]\n",
        "        dist_=np.delete(dist,n)\n",
        "        lab_ = np.delete(labels,n)\n",
        "        prom_dist=[]\n",
        "        for k in range(n_clusters):\n",
        "            prom_dist.append(np.mean(dist_[lab_==k]))\n",
        "        a=prom_dist[L]\n",
        "        b=np.min(np.delete(prom_dist,L))\n",
        "        sil.append((b-a)/np.max([a,b]))\n",
        "    return sil"
      ],
      "execution_count": 9,
      "outputs": []
    },
    {
      "cell_type": "code",
      "metadata": {
        "id": "wApUtjLW6Fu1"
      },
      "source": [
        "# Grafico silhoutte\n",
        "def grafica_sil(n_clusters,sil,labels):\n",
        "    import matplotlib.cm as cm\n",
        "    # Create a subplot with 1 row and 2 columns\n",
        "    fig = plt.figure()\n",
        "    ax1 = fig.add_subplot(1, 1, 1)\n",
        "    \n",
        "    # The 1st subplot is the silhouette plot\n",
        "    # The silhouette coefficient can range from -1, 1 but in this example all\n",
        "    # lie within [-0.1, 1]\n",
        "    ax1.set_xlim([-0.5, 1])\n",
        "    # The (n_clusters+1)*10 is for inserting blank space between silhouette\n",
        "    # plots of individual clusters, to demarcate them clearly.\n",
        "    ax1.set_ylim([0, len(labels) + (n_clusters + 1) * 10])\n",
        "\n",
        "    \n",
        "    # The silhouette_score gives the average value for all the samples.\n",
        "    # This gives a perspective into the density and separation of the formed\n",
        "    # clusters\n",
        "    silhouette_avg = np.mean(sil)\n",
        "    print(\"For n_clusters =\", n_clusters,\n",
        "          \"The average silhouette_score is :\", silhouette_avg)\n",
        "    \n",
        "    # Compute the silhouette scores for each sample\n",
        "    sample_silhouette_values = np.array(sil)\n",
        "\n",
        "    y_lower = 10\n",
        "    for i in range(n_clusters):\n",
        "        # Aggregate the silhouette scores for samples belonging to\n",
        "        # cluster i, and sort them\n",
        "        ith_cluster_silhouette_values = \\\n",
        "            sample_silhouette_values[labels == i]\n",
        "\n",
        "        ith_cluster_silhouette_values.sort()\n",
        "\n",
        "        size_cluster_i = ith_cluster_silhouette_values.shape[0]\n",
        "        y_upper = y_lower + size_cluster_i\n",
        "\n",
        "        color = cm.nipy_spectral(float(i) / n_clusters)\n",
        "        ax1.fill_betweenx(np.arange(y_lower, y_upper),\n",
        "                          0, ith_cluster_silhouette_values,\n",
        "                          facecolor=color, edgecolor=color, alpha=0.7)\n",
        "\n",
        "        # Label the silhouette plots with their cluster numbers at the middle\n",
        "        ax1.text(-0.05, y_lower + 0.5 * size_cluster_i, str(i))\n",
        "\n",
        "        # Compute the new y_lower for next plot\n",
        "        y_lower = y_upper + 10  # 10 for the 0 samples\n",
        "\n",
        "    ax1.set_title(\"The silhouette plot.\")\n",
        "    ax1.set_xlabel(\"The silhouette coefficient values\")\n",
        "    ax1.set_ylabel(\"Cluster label\")\n",
        "\n",
        "    # The vertical line for average silhouette score of all the values\n",
        "    ax1.axvline(x=silhouette_avg, color=\"red\", linestyle=\"--\")\n",
        "\n",
        "    ax1.set_yticks([])  # Clear the yaxis labels / ticks\n",
        "   # ax1.set_xticks([-1,-0.5,-0.2,0, 0.2, 0.4, 0.6, 0.8, 1])\n",
        "\n",
        "    plt.show()"
      ],
      "execution_count": 10,
      "outputs": []
    },
    {
      "cell_type": "markdown",
      "metadata": {
        "id": "TcbNP1K56iV9"
      },
      "source": [
        "Graficando el silhoette para el ejemplo de 5 clusters:"
      ]
    },
    {
      "cell_type": "code",
      "metadata": {
        "colab": {
          "base_uri": "https://localhost:8080/",
          "height": 318
        },
        "id": "8mdcPR_06ION",
        "outputId": "c86eda5e-7aa7-4bad-fa2a-dc44b6d9bdee"
      },
      "source": [
        "ch    = EEG_todo_scaled.shape[0]\n",
        "samples = EEG_todo_scaled.shape[1] \n",
        "\n",
        "n_clusters = 5\n",
        "\n",
        "X = EEG_todo_scaled\n",
        "\n",
        "sil = silhoutte_modificado2(maps_kmeans, X, labels_gfp, ch, n_clusters) # los argumentos se habian calculado arriba para 5 clusters\n",
        "\n",
        "grafica_sil(n_clusters,sil,labels_gfp)"
      ],
      "execution_count": null,
      "outputs": [
        {
          "output_type": "stream",
          "name": "stdout",
          "text": [
            "For n_clusters = 5 The average silhouette_score is : 0.15759217304616432\n"
          ]
        },
        {
          "output_type": "display_data",
          "data": {
            "image/png": "[encoded data removed]",
            "text/plain": [
              "<Figure size 432x288 with 1 Axes>"
            ]
          },
          "metadata": {}
        }
      ]
    },
    {
      "cell_type": "markdown",
      "metadata": {
        "id": "vlb9LMbC8Kwn"
      },
      "source": [
        "para un ejemplo de 9 clusters:"
      ]
    },
    {
      "cell_type": "code",
      "metadata": {
        "colab": {
          "base_uri": "https://localhost:8080/",
          "height": 318
        },
        "id": "s4NjK1UT8Nze",
        "outputId": "20c562e2-5dcb-4eeb-ae99-a2071b31eec6"
      },
      "source": [
        "n_clusters = 9\n",
        "\n",
        "maps_kmeans,labels_datos,labels_gfp,cv,gev,gfp_peaks = kmeans(Todo_EEG_scaled, n_clusters, n_runs=100, maxerr=1e-6, maxiter=500)\n",
        "\n",
        "X = EEG_todo_scaled\n",
        "\n",
        "sil = silhoutte_modificado2(maps_kmeans, X, labels_gfp, ch, n_clusters)\n",
        "\n",
        "grafica_sil(n_clusters,sil,labels_gfp)"
      ],
      "execution_count": null,
      "outputs": [
        {
          "output_type": "stream",
          "name": "stdout",
          "text": [
            "For n_clusters = 9 The average silhouette_score is : 0.1599859880155876\n"
          ]
        },
        {
          "output_type": "display_data",
          "data": {
            "image/png": "[encoded data removed]",
            "text/plain": [
              "<Figure size 432x288 with 1 Axes>"
            ]
          },
          "metadata": {}
        }
      ]
    },
    {
      "cell_type": "markdown",
      "metadata": {
        "id": "L1ODhNYd8z14"
      },
      "source": [
        "Para calcular el numero optimo de clusters se calcula una curva para el Silhoette:"
      ]
    },
    {
      "cell_type": "code",
      "metadata": {
        "id": "ms7re0uQ8zDs"
      },
      "source": [
        "n_clusters =[2,3,4,5,6,7,8,9,10]\n",
        "cv_nK = np.zeros_like(n_clusters)\n",
        "sil_nK = []\n",
        "\n",
        "for n_c in np.arange(len(n_clusters)):\n",
        "  maps_kmeans,labels_datos,labels_gfp,cv,gev,gfp_peaks = kmeans(Todo_EEG_scaled, n_clusters[n_c], n_runs=10, maxerr=1e-6, maxiter=500)\n",
        "  temp = silhoutte_modificado2(maps_kmeans, X,labels_gfp, ch,n_clusters[n_c])\n",
        "  sil_nK=np.append(sil_nK,np.mean(temp))"
      ],
      "execution_count": null,
      "outputs": []
    },
    {
      "cell_type": "code",
      "metadata": {
        "id": "wt9S_VOE9673"
      },
      "source": [
        "# varias corridas\n",
        "#for n_c in np.arange(len(n_clusters)):\n",
        "#  for k in range(0,5):\n",
        "#    maps_kmeans,labels_datos,labels_gfp,cv,gev,gfp_peaks = kmeans(Todo_EEG_scaled, n_clusters[n_c], n_runs=10, maxerr=1e-6, maxiter=500)\n",
        "#    temp = silhoutte_modificado2(maps_kmeans, X,labels_gfp, ch,n_clusters[n_c])\n",
        "#    sil_nK=np.append(sil_nK,np.mean(temp))"
      ],
      "execution_count": null,
      "outputs": []
    },
    {
      "cell_type": "code",
      "metadata": {
        "colab": {
          "base_uri": "https://localhost:8080/",
          "height": 341
        },
        "id": "GM-XEO6l9_VY",
        "outputId": "65d940ed-63f3-4cfe-8f0d-c65da110ee3f"
      },
      "source": [
        "# por ahora subo la grafica sin barritas de error porque se van a demorar\n",
        "ax = sns.lineplot(n_clusters,sil_nK)\n",
        "ax.set(xlabel ='n_clusters', ylabel ='silhouette')\n",
        "plt.show()"
      ],
      "execution_count": null,
      "outputs": [
        {
          "output_type": "stream",
          "name": "stderr",
          "text": [
            "/usr/local/lib/python3.7/dist-packages/seaborn/_decorators.py:43: FutureWarning: Pass the following variables as keyword args: x, y. From version 0.12, the only valid positional argument will be `data`, and passing other arguments without an explicit keyword will result in an error or misinterpretation.\n",
            "  FutureWarning\n"
          ]
        },
        {
          "output_type": "display_data",
          "data": {
            "image/png": "[encoded data removed]",
            "text/plain": [
              "<Figure size 432x288 with 1 Axes>"
            ]
          },
          "metadata": {}
        }
      ]
    },
    {
      "cell_type": "markdown",
      "metadata": {
        "id": "PjGQ3f1xEB42"
      },
      "source": [
        "### GEV"
      ]
    },
    {
      "cell_type": "markdown",
      "metadata": {
        "id": "3TUrO9y_DwVm"
      },
      "source": [
        "El grafico de Silhoette se analiza en conjunto con ganancia en varianza explicada y la validacion cruzada:"
      ]
    },
    {
      "cell_type": "code",
      "metadata": {
        "colab": {
          "base_uri": "https://localhost:8080/"
        },
        "id": "_GMoR2mK-HYn",
        "outputId": "e46185e5-2cc5-457b-f81b-578588689c7a"
      },
      "source": [
        "n_clusters = [2,3,4,5,6,7,8,9,10]\n",
        "Todo_GEV = []  #curva GEV\n",
        "Todo_cv = []  # curva cv\n",
        "\n",
        "for i in range(0,len(n_clusters)):\n",
        "  maps_kmeans,labels_datos,labels_gfp,cv,GEV,gfp_peaks = kmeans(Todo_EEG_scaled, n_clusters[i], n_runs=100, maxerr=1e-6, maxiter=500)\n",
        "  Todo_GEV.append(sum(GEV)) \n",
        "  Todo_cv.append(cv)\n",
        "\n",
        "Todo_GEV"
      ],
      "execution_count": null,
      "outputs": [
        {
          "output_type": "execute_result",
          "data": {
            "text/plain": [
              "[0.3236409229499142,\n",
              " 0.3827282735251926,\n",
              " 0.41750149036274287,\n",
              " 0.44226627384440825,\n",
              " 0.4624840730902783,\n",
              " 0.47790976536382745,\n",
              " 0.4915014539509941,\n",
              " 0.5027082333772099,\n",
              " 0.5131162832631662]"
            ]
          },
          "metadata": {},
          "execution_count": 67
        }
      ]
    },
    {
      "cell_type": "code",
      "metadata": {
        "colab": {
          "base_uri": "https://localhost:8080/",
          "height": 340
        },
        "id": "siXPUkQRFkaP",
        "outputId": "94441f7d-3e06-4a31-b83b-36dec74b7769"
      },
      "source": [
        "ax = sns.lineplot(n_clusters,Todo_GEV,marker=\"o\")\n",
        "ax.set(xlabel ='n_clusters', ylabel ='GEV')\n",
        "plt.show()"
      ],
      "execution_count": null,
      "outputs": [
        {
          "output_type": "stream",
          "name": "stderr",
          "text": [
            "/usr/local/lib/python3.7/dist-packages/seaborn/_decorators.py:43: FutureWarning: Pass the following variables as keyword args: x, y. From version 0.12, the only valid positional argument will be `data`, and passing other arguments without an explicit keyword will result in an error or misinterpretation.\n",
            "  FutureWarning\n"
          ]
        },
        {
          "output_type": "display_data",
          "data": {
            "image/png": "[encoded data removed]",
            "text/plain": [
              "<Figure size 432x288 with 1 Axes>"
            ]
          },
          "metadata": {}
        }
      ]
    },
    {
      "cell_type": "markdown",
      "metadata": {
        "id": "WdvmemRCRgqM"
      },
      "source": [
        "### CV"
      ]
    },
    {
      "cell_type": "code",
      "metadata": {
        "colab": {
          "base_uri": "https://localhost:8080/",
          "height": 344
        },
        "id": "_Gd7-2ypRUGh",
        "outputId": "3a132418-a284-4b9e-fc33-ea737a1c865f"
      },
      "source": [
        "ax = sns.lineplot(n_clusters,Todo_cv,marker=\"o\")\n",
        "ax.set(xlabel ='n_clusters', ylabel ='CV')\n",
        "plt.show()"
      ],
      "execution_count": null,
      "outputs": [
        {
          "output_type": "stream",
          "name": "stderr",
          "text": [
            "/usr/local/lib/python3.7/dist-packages/seaborn/_decorators.py:43: FutureWarning: Pass the following variables as keyword args: x, y. From version 0.12, the only valid positional argument will be `data`, and passing other arguments without an explicit keyword will result in an error or misinterpretation.\n",
            "  FutureWarning\n"
          ]
        },
        {
          "output_type": "display_data",
          "data": {
            "image/png": "[encoded data removed]",
            "text/plain": [
              "<Figure size 432x288 with 1 Axes>"
            ]
          },
          "metadata": {}
        }
      ]
    },
    {
      "cell_type": "markdown",
      "metadata": {
        "id": "pMjMjCAXF7an"
      },
      "source": [
        "De aca deducimos que 6 clusters es un buen numero para clusterizar los datos, pues a pesar de que hay mas varianza explicada con mas componentes, aumentar una mas, solo incrementa ~0.0125 la varianza explicada. En 6 el cv da minimo, es decir el error es chico y confiamos sobre la eleccion de 6 como optimo.\n",
        "\n",
        "Calculamos la grafica del silhoette para todos los elementos de cada cluster tomando a 6 como numero de clusters"
      ]
    },
    {
      "cell_type": "code",
      "metadata": {
        "colab": {
          "base_uri": "https://localhost:8080/",
          "height": 318
        },
        "id": "d2OUqoKAGV1s",
        "outputId": "99caa014-11f5-4bd6-9ab8-73bba9db4580"
      },
      "source": [
        "n_clusters = 6\n",
        "\n",
        "X = EEG_todo_scaled #valores de EEG en los picos\n",
        "\n",
        "maps_kmeans,labels_datos,labels_gfp,cv,GEV,gfp_peaks = kmeans(Todo_EEG_scaled, n_clusters, n_runs=100, maxerr=1e-6, maxiter=500)\n",
        "\n",
        "sil = silhoutte_modificado2(maps_kmeans, X, labels_gfp, ch, n_clusters)\n",
        "grafica_sil(n_clusters,sil,labels_gfp)"
      ],
      "execution_count": null,
      "outputs": [
        {
          "output_type": "stream",
          "name": "stdout",
          "text": [
            "For n_clusters = 6 The average silhouette_score is : 0.15850137035038817\n"
          ]
        },
        {
          "output_type": "display_data",
          "data": {
            "image/png": "[encoded data removed]",
            "text/plain": [
              "<Figure size 432x288 with 1 Axes>"
            ]
          },
          "metadata": {}
        }
      ]
    },
    {
      "cell_type": "markdown",
      "metadata": {
        "id": "eTUA6oUeKAdt"
      },
      "source": [
        "Sacando los outliers presentes:"
      ]
    },
    {
      "cell_type": "code",
      "metadata": {
        "id": "BfBhX1_BJ8oS"
      },
      "source": [
        "sil_pos_ind = [i for i in range(0,len(sil)) if sil[i] > 0] # indices de los silhoette positivos\n",
        "short_Todo_EEG_scaled = Todo_EEG_scaled[:,sil_pos_ind]"
      ],
      "execution_count": null,
      "outputs": []
    },
    {
      "cell_type": "code",
      "metadata": {
        "colab": {
          "base_uri": "https://localhost:8080/"
        },
        "id": "E66seYEIODBH",
        "outputId": "e94b9221-ccdb-4481-b2f6-39e2d03a0012"
      },
      "source": [
        "len(sil_pos_ind)"
      ],
      "execution_count": null,
      "outputs": [
        {
          "output_type": "execute_result",
          "data": {
            "text/plain": [
              "9308"
            ]
          },
          "metadata": {},
          "execution_count": 93
        }
      ]
    },
    {
      "cell_type": "code",
      "metadata": {
        "colab": {
          "base_uri": "https://localhost:8080/"
        },
        "id": "if53Pk6jN1Ny",
        "outputId": "13398a69-75bc-4fae-e459-caf047b99a91"
      },
      "source": [
        "short_Todo_EEG_scaled.shape[0],short_Todo_EEG_scaled.shape[1]"
      ],
      "execution_count": null,
      "outputs": [
        {
          "output_type": "execute_result",
          "data": {
            "text/plain": [
              "(30, 9308)"
            ]
          },
          "metadata": {},
          "execution_count": 74
        }
      ]
    },
    {
      "cell_type": "code",
      "metadata": {
        "colab": {
          "base_uri": "https://localhost:8080/"
        },
        "id": "LPiwGj6jS-Ix",
        "outputId": "d9d4acb3-7cc5-4a51-c748-468d54e6e220"
      },
      "source": [
        "Todo_EEG_scaled.shape[0],Todo_EEG_scaled.shape[1]"
      ],
      "execution_count": null,
      "outputs": [
        {
          "output_type": "execute_result",
          "data": {
            "text/plain": [
              "(30, 76810)"
            ]
          },
          "metadata": {},
          "execution_count": 91
        }
      ]
    },
    {
      "cell_type": "code",
      "metadata": {
        "id": "znHSCvpIPMwr"
      },
      "source": [
        "gfp_peaks_new = GFP(short_Todo_EEG_scaled) # gfp nuevos picos"
      ],
      "execution_count": null,
      "outputs": []
    },
    {
      "cell_type": "code",
      "metadata": {
        "colab": {
          "base_uri": "https://localhost:8080/"
        },
        "id": "XsZu74psPbeH",
        "outputId": "506f0fc7-fbb1-4795-a07f-9ca1ec715a05"
      },
      "source": [
        "len(gfp_peaks_new)"
      ],
      "execution_count": null,
      "outputs": [
        {
          "output_type": "execute_result",
          "data": {
            "text/plain": [
              "1221"
            ]
          },
          "metadata": {},
          "execution_count": 79
        }
      ]
    },
    {
      "cell_type": "code",
      "metadata": {
        "id": "lz9wQOFBOs4r"
      },
      "source": [
        "short_EEG_todo_scaled = short_Todo_EEG_scaled[:,gfp_peaks_new]"
      ],
      "execution_count": null,
      "outputs": []
    },
    {
      "cell_type": "code",
      "metadata": {
        "colab": {
          "base_uri": "https://localhost:8080/"
        },
        "id": "sV0pRSHCP0FE",
        "outputId": "96a707ef-3b7c-41dd-bd84-04baed33ab8a"
      },
      "source": [
        "short_EEG_todo_scaled.shape[0], short_EEG_todo_scaled.shape[1]"
      ],
      "execution_count": null,
      "outputs": [
        {
          "output_type": "execute_result",
          "data": {
            "text/plain": [
              "(30, 1221)"
            ]
          },
          "metadata": {},
          "execution_count": 81
        }
      ]
    },
    {
      "cell_type": "code",
      "metadata": {
        "colab": {
          "base_uri": "https://localhost:8080/"
        },
        "id": "ewFYS1J2N9xL",
        "outputId": "6f12a6d2-a134-408e-f4af-9484375cd5c4"
      },
      "source": [
        "EEG_todo_scaled.shape[0],EEG_todo_scaled.shape[1]"
      ],
      "execution_count": null,
      "outputs": [
        {
          "output_type": "execute_result",
          "data": {
            "text/plain": [
              "(30, 10298)"
            ]
          },
          "metadata": {},
          "execution_count": 77
        }
      ]
    },
    {
      "cell_type": "markdown",
      "metadata": {
        "id": "7wllbfLBUhl6"
      },
      "source": [
        "Volviendo a dibujar los silhoettes para cada elemento en cada cluster:"
      ]
    },
    {
      "cell_type": "code",
      "metadata": {
        "colab": {
          "base_uri": "https://localhost:8080/",
          "height": 318
        },
        "id": "HDH0q7nvUAB3",
        "outputId": "981b6196-8112-4785-d9c1-46b99458211a"
      },
      "source": [
        "n_clusters = 6\n",
        "\n",
        "maps_kmeans,labels_datos,labels_gfp,cv,gev,gfp_peaks = kmeans(short_Todo_EEG_scaled, n_clusters, n_runs=100, maxerr=1e-6, maxiter=500)\n",
        "\n",
        "X = short_EEG_todo_scaled\n",
        "\n",
        "sil_new = silhoutte_modificado2(maps_kmeans, X, labels_gfp, ch, n_clusters)\n",
        "\n",
        "grafica_sil(n_clusters,sil_new,labels_gfp)"
      ],
      "execution_count": null,
      "outputs": [
        {
          "output_type": "stream",
          "name": "stdout",
          "text": [
            "For n_clusters = 6 The average silhouette_score is : 0.14220139314269167\n"
          ]
        },
        {
          "output_type": "display_data",
          "data": {
            "image/png": "[encoded data removed]",
            "text/plain": [
              "<Figure size 432x288 with 1 Axes>"
            ]
          },
          "metadata": {}
        }
      ]
    },
    {
      "cell_type": "markdown",
      "metadata": {
        "id": "Sz5yI464Us7s"
      },
      "source": [
        "A pesar de haber sacado los outliers, al clusterizar el metodo detecta mas outliers, lo que concluye que la clusterizacion no se va a ver beneficiada de sacar estos puntos."
      ]
    },
    {
      "cell_type": "markdown",
      "metadata": {
        "id": "HJ4t5B5WKwFr"
      },
      "source": [
        "Volviendo a recalcular las curvas de Silhoette y GEV:"
      ]
    },
    {
      "cell_type": "code",
      "metadata": {
        "id": "DzkXxUROLMr1"
      },
      "source": [
        "n_clusters =[2,3,4,5,6,7,8,9,10]\n",
        "cv_nK_2 = np.zeros_like(n_clusters)\n",
        "sil_nK_2 = []\n",
        "\n",
        "X = short_EEG_todo_scaled\n",
        "\n",
        "for n_c in np.arange(len(n_clusters)):\n",
        "  maps_kmeans,labels_datos,labels_gfp,cv,gev,gfp_peaks = kmeans(short_Todo_EEG_scaled, n_clusters[n_c], n_runs=10, maxerr=1e-6, maxiter=500)\n",
        "  temp = silhoutte_modificado2(maps_kmeans, X, labels_gfp, ch,n_clusters[n_c])\n",
        "  sil_nK_2 = np.append(sil_nK_2,np.mean(temp))"
      ],
      "execution_count": null,
      "outputs": []
    },
    {
      "cell_type": "code",
      "metadata": {
        "colab": {
          "base_uri": "https://localhost:8080/",
          "height": 340
        },
        "id": "Su_cobz4Qzgz",
        "outputId": "ffbd8d19-08c0-469a-bf37-7f904439f525"
      },
      "source": [
        "# por ahora subo la grafica sin barritas de error porque se van a demorar\n",
        "ax = sns.lineplot(n_clusters,sil_nK_2)\n",
        "ax.set(xlabel ='n_clusters', ylabel ='silhouette')\n",
        "plt.show()"
      ],
      "execution_count": null,
      "outputs": [
        {
          "output_type": "stream",
          "name": "stderr",
          "text": [
            "/usr/local/lib/python3.7/dist-packages/seaborn/_decorators.py:43: FutureWarning: Pass the following variables as keyword args: x, y. From version 0.12, the only valid positional argument will be `data`, and passing other arguments without an explicit keyword will result in an error or misinterpretation.\n",
            "  FutureWarning\n"
          ]
        },
        {
          "output_type": "display_data",
          "data": {
            "image/png": "[encoded data removed]",
            "text/plain": [
              "<Figure size 432x288 with 1 Axes>"
            ]
          },
          "metadata": {}
        }
      ]
    },
    {
      "cell_type": "code",
      "metadata": {
        "colab": {
          "base_uri": "https://localhost:8080/"
        },
        "id": "VlOKy125Q1y5",
        "outputId": "71f7b702-9510-41c5-cf57-43a409f1252a"
      },
      "source": [
        "n_clusters = [2,3,4,5,6,7,8,9,10]\n",
        "Todo_GEV_new = []  #curva GEV\n",
        "Todo_cv_new = []  # curva cv\n",
        "\n",
        "for i in range(0,len(n_clusters)):\n",
        "  maps_kmeans,labels_datos,labels_gfp,cv,GEV,gfp_peaks = kmeans(short_Todo_EEG_scaled, n_clusters[i], n_runs=100, maxerr=1e-6, maxiter=500)\n",
        "  Todo_GEV_new.append(sum(GEV)) \n",
        "  Todo_cv_new.append(cv)\n",
        "\n",
        "Todo_GEV_new"
      ],
      "execution_count": null,
      "outputs": [
        {
          "output_type": "execute_result",
          "data": {
            "text/plain": [
              "[0.3756610158163306,\n",
              " 0.42449271081564144,\n",
              " 0.4548776582235098,\n",
              " 0.4776970594788002,\n",
              " 0.49323640776435707,\n",
              " 0.508045698665002,\n",
              " 0.51668366734996,\n",
              " 0.5310154742438367,\n",
              " 0.5387006207032017]"
            ]
          },
          "metadata": {},
          "execution_count": 90
        }
      ]
    },
    {
      "cell_type": "markdown",
      "metadata": {
        "id": "SX77WLg1TQJH"
      },
      "source": [
        "el GEV queda asi:"
      ]
    },
    {
      "cell_type": "code",
      "metadata": {
        "colab": {
          "base_uri": "https://localhost:8080/",
          "height": 340
        },
        "id": "9NY6v7uNTRsb",
        "outputId": "d9da2c68-465b-4b23-f886-c95222c67e57"
      },
      "source": [
        "ax = sns.lineplot(n_clusters,Todo_GEV_new,marker=\"o\")\n",
        "ax.set(xlabel ='n_clusters', ylabel ='GEV_nuevo')\n",
        "plt.show()"
      ],
      "execution_count": null,
      "outputs": [
        {
          "output_type": "stream",
          "name": "stderr",
          "text": [
            "/usr/local/lib/python3.7/dist-packages/seaborn/_decorators.py:43: FutureWarning: Pass the following variables as keyword args: x, y. From version 0.12, the only valid positional argument will be `data`, and passing other arguments without an explicit keyword will result in an error or misinterpretation.\n",
            "  FutureWarning\n"
          ]
        },
        {
          "output_type": "display_data",
          "data": {
            "image/png": "[encoded data removed]",
            "text/plain": [
              "<Figure size 432x288 with 1 Axes>"
            ]
          },
          "metadata": {}
        }
      ]
    },
    {
      "cell_type": "markdown",
      "metadata": {
        "id": "xRYzUaeGTmBX"
      },
      "source": [
        "y el cv:"
      ]
    },
    {
      "cell_type": "code",
      "metadata": {
        "colab": {
          "base_uri": "https://localhost:8080/",
          "height": 340
        },
        "id": "bov4MxHtTR0b",
        "outputId": "f9cb301c-75a7-4952-9821-331c2be14337"
      },
      "source": [
        "ax = sns.lineplot(n_clusters,Todo_cv_new,marker=\"o\")\n",
        "ax.set(xlabel ='n_clusters', ylabel ='CV_new')\n",
        "plt.show()"
      ],
      "execution_count": null,
      "outputs": [
        {
          "output_type": "stream",
          "name": "stderr",
          "text": [
            "/usr/local/lib/python3.7/dist-packages/seaborn/_decorators.py:43: FutureWarning: Pass the following variables as keyword args: x, y. From version 0.12, the only valid positional argument will be `data`, and passing other arguments without an explicit keyword will result in an error or misinterpretation.\n",
            "  FutureWarning\n"
          ]
        },
        {
          "output_type": "display_data",
          "data": {
            "image/png": "[encoded data removed]",
            "text/plain": [
              "<Figure size 432x288 with 1 Axes>"
            ]
          },
          "metadata": {}
        }
      ]
    },
    {
      "cell_type": "markdown",
      "metadata": {
        "id": "NFKboADGTxyI"
      },
      "source": [
        "El GEV se incrementa lo mismo de 6 a 7 clusters pero el cv se dobla. La nueva curva de silhoette da que para este set de datos mas pequeño 5 clusters serian mejor, pero en vista de que las nubes de puntos de silhoette calculadas anteriormente vuelven a mostrar outliers y en mayor cantidad, se concluye que no hay beneficio en sacarlos."
      ]
    },
    {
      "cell_type": "markdown",
      "metadata": {
        "id": "fVh6EJp7Vp-a"
      },
      "source": [
        "## (3.4) Validacion Externa"
      ]
    },
    {
      "cell_type": "markdown",
      "metadata": {
        "id": "rYvD6_XoaWfq"
      },
      "source": [
        "### Matriz de confusion"
      ]
    },
    {
      "cell_type": "code",
      "metadata": {
        "id": "JuP1wu_uaXQa"
      },
      "source": [
        "n_clusters = 6   #Todo_EEG matriz completa, EEG_Todo matriz eeg en los picos del gfp\n",
        "\n",
        "# clusterizacion kmeans\n",
        "maps_kmeans,labels_datos,labels_gfp,cv,GEV,gfp_peaks= kmeans(Todo_EEG_scaled, n_clusters, n_runs=100, maxerr=1e-6, maxiter=500)\n",
        "\n",
        "# ahora las etiquetas del dendrograma\n",
        "data = EEG_todo_scaled_p.sample(frac=1).reset_index(drop=True) # aleatorizando, frac es la proporcion de filas que devuelve\n",
        "\n",
        "df = np.transpose(data) # para que clusterize columnas no filas\n",
        "\n",
        "z = linkage(df, method='average', metric='cosine')\n",
        "\n",
        "\n",
        "labels_ini_6 = fcluster(z,n_clusters,criterion='maxclust') # los labels clasificando todo el GFP con dendrograma"
      ],
      "execution_count": 24,
      "outputs": []
    },
    {
      "cell_type": "code",
      "metadata": {
        "colab": {
          "base_uri": "https://localhost:8080/",
          "height": 269
        },
        "id": "GZeA_bYMfP7S",
        "outputId": "e2f15efb-f44b-45be-b402-84932e72044d"
      },
      "source": [
        "# la matriz de confusion de comparar el clusterizado de EEG_Todo con dendrograma y con kmeans\n",
        "tmp = pd.DataFrame({'Labels': labels_ini_6, 'Clusters': labels_gfp})\n",
        "ct0 = pd.crosstab(tmp['Labels'], tmp['Clusters']) # Create crosstab: ct \n",
        "ct0"
      ],
      "execution_count": null,
      "outputs": [
        {
          "output_type": "execute_result",
          "data": {
            "text/html": [
              "<div>\n",
              "<style scoped>\n",
              "    .dataframe tbody tr th:only-of-type {\n",
              "        vertical-align: middle;\n",
              "    }\n",
              "\n",
              "    .dataframe tbody tr th {\n",
              "        vertical-align: top;\n",
              "    }\n",
              "\n",
              "    .dataframe thead th {\n",
              "        text-align: right;\n",
              "    }\n",
              "</style>\n",
              "<table border=\"1\" class=\"dataframe\">\n",
              "  <thead>\n",
              "    <tr style=\"text-align: right;\">\n",
              "      <th>Clusters</th>\n",
              "      <th>0</th>\n",
              "      <th>1</th>\n",
              "      <th>2</th>\n",
              "      <th>3</th>\n",
              "      <th>4</th>\n",
              "      <th>5</th>\n",
              "    </tr>\n",
              "    <tr>\n",
              "      <th>Labels</th>\n",
              "      <th></th>\n",
              "      <th></th>\n",
              "      <th></th>\n",
              "      <th></th>\n",
              "      <th></th>\n",
              "      <th></th>\n",
              "    </tr>\n",
              "  </thead>\n",
              "  <tbody>\n",
              "    <tr>\n",
              "      <th>1</th>\n",
              "      <td>8</td>\n",
              "      <td>16</td>\n",
              "      <td>1</td>\n",
              "      <td>13</td>\n",
              "      <td>0</td>\n",
              "      <td>2</td>\n",
              "    </tr>\n",
              "    <tr>\n",
              "      <th>2</th>\n",
              "      <td>327</td>\n",
              "      <td>830</td>\n",
              "      <td>824</td>\n",
              "      <td>949</td>\n",
              "      <td>795</td>\n",
              "      <td>229</td>\n",
              "    </tr>\n",
              "    <tr>\n",
              "      <th>3</th>\n",
              "      <td>8</td>\n",
              "      <td>7</td>\n",
              "      <td>5</td>\n",
              "      <td>15</td>\n",
              "      <td>5</td>\n",
              "      <td>11</td>\n",
              "    </tr>\n",
              "    <tr>\n",
              "      <th>4</th>\n",
              "      <td>320</td>\n",
              "      <td>128</td>\n",
              "      <td>69</td>\n",
              "      <td>62</td>\n",
              "      <td>159</td>\n",
              "      <td>578</td>\n",
              "    </tr>\n",
              "    <tr>\n",
              "      <th>5</th>\n",
              "      <td>276</td>\n",
              "      <td>55</td>\n",
              "      <td>63</td>\n",
              "      <td>293</td>\n",
              "      <td>71</td>\n",
              "      <td>181</td>\n",
              "    </tr>\n",
              "    <tr>\n",
              "      <th>6</th>\n",
              "      <td>529</td>\n",
              "      <td>706</td>\n",
              "      <td>901</td>\n",
              "      <td>623</td>\n",
              "      <td>745</td>\n",
              "      <td>494</td>\n",
              "    </tr>\n",
              "  </tbody>\n",
              "</table>\n",
              "</div>"
            ],
            "text/plain": [
              "Clusters    0    1    2    3    4    5\n",
              "Labels                                \n",
              "1           8   16    1   13    0    2\n",
              "2         327  830  824  949  795  229\n",
              "3           8    7    5   15    5   11\n",
              "4         320  128   69   62  159  578\n",
              "5         276   55   63  293   71  181\n",
              "6         529  706  901  623  745  494"
            ]
          },
          "metadata": {},
          "execution_count": 145
        }
      ]
    },
    {
      "cell_type": "markdown",
      "metadata": {
        "id": "vMY7Nhnyl9aD"
      },
      "source": [
        "las que clasifico bien:"
      ]
    },
    {
      "cell_type": "code",
      "metadata": {
        "colab": {
          "base_uri": "https://localhost:8080/"
        },
        "id": "CM4i5ZUXmEwn",
        "outputId": "2b1083ee-0b0b-41d1-f986-c3663700e962"
      },
      "source": [
        "ct0_p = ct0\n",
        "ct0 = ct0_p.to_numpy()\n",
        "b=ct0.diagonal()\n",
        "sum(b)"
      ],
      "execution_count": null,
      "outputs": [
        {
          "output_type": "execute_result",
          "data": {
            "text/plain": [
              "1470"
            ]
          },
          "metadata": {},
          "execution_count": 146
        }
      ]
    },
    {
      "cell_type": "markdown",
      "metadata": {
        "id": "Hq7pL4M8mZ2C"
      },
      "source": [
        "Comparacion con dendrograma distancia euclidea:"
      ]
    },
    {
      "cell_type": "code",
      "metadata": {
        "id": "0pidzqI9mGKP"
      },
      "source": [
        "# ahora las etiquetas del dendrograma\n",
        "\n",
        "n_clusters = 6\n",
        "\n",
        "data = EEG_todo_scaled_p.sample(frac=1).reset_index(drop=True) # aleatorizando, frac es la proporcion de filas que devuelve\n",
        "\n",
        "df = np.transpose(data) # para que clusterize columnas no filas\n",
        "\n",
        "z_eu = linkage(df, method='average', metric='euclidean')\n",
        "\n",
        "labels_ini_6_eu = fcluster(z_eu,n_clusters,criterion='maxclust') # los labels clasificando todo el GFP con dendrograma"
      ],
      "execution_count": 23,
      "outputs": []
    },
    {
      "cell_type": "code",
      "metadata": {
        "colab": {
          "base_uri": "https://localhost:8080/",
          "height": 269
        },
        "id": "FAyk4b4Bm2Vk",
        "outputId": "3260d4bc-16b3-48bc-de84-2bafaa0b0dcf"
      },
      "source": [
        "# la matriz de confusion de comparar el clusterizado de EEG_Todo con dendrograma y con kmeans\n",
        "tmp = pd.DataFrame({'Labels': labels_ini_6_eu, 'Clusters': labels_gfp})\n",
        "ct0_eu = pd.crosstab(tmp['Labels'], tmp['Clusters']) # Create crosstab: ct \n",
        "ct0_eu"
      ],
      "execution_count": null,
      "outputs": [
        {
          "output_type": "execute_result",
          "data": {
            "text/html": [
              "<div>\n",
              "<style scoped>\n",
              "    .dataframe tbody tr th:only-of-type {\n",
              "        vertical-align: middle;\n",
              "    }\n",
              "\n",
              "    .dataframe tbody tr th {\n",
              "        vertical-align: top;\n",
              "    }\n",
              "\n",
              "    .dataframe thead th {\n",
              "        text-align: right;\n",
              "    }\n",
              "</style>\n",
              "<table border=\"1\" class=\"dataframe\">\n",
              "  <thead>\n",
              "    <tr style=\"text-align: right;\">\n",
              "      <th>Clusters</th>\n",
              "      <th>0</th>\n",
              "      <th>1</th>\n",
              "      <th>2</th>\n",
              "      <th>3</th>\n",
              "      <th>4</th>\n",
              "      <th>5</th>\n",
              "    </tr>\n",
              "    <tr>\n",
              "      <th>Labels</th>\n",
              "      <th></th>\n",
              "      <th></th>\n",
              "      <th></th>\n",
              "      <th></th>\n",
              "      <th></th>\n",
              "      <th></th>\n",
              "    </tr>\n",
              "  </thead>\n",
              "  <tbody>\n",
              "    <tr>\n",
              "      <th>1</th>\n",
              "      <td>531</td>\n",
              "      <td>748</td>\n",
              "      <td>880</td>\n",
              "      <td>776</td>\n",
              "      <td>838</td>\n",
              "      <td>345</td>\n",
              "    </tr>\n",
              "    <tr>\n",
              "      <th>2</th>\n",
              "      <td>217</td>\n",
              "      <td>64</td>\n",
              "      <td>47</td>\n",
              "      <td>183</td>\n",
              "      <td>127</td>\n",
              "      <td>428</td>\n",
              "    </tr>\n",
              "    <tr>\n",
              "      <th>3</th>\n",
              "      <td>22</td>\n",
              "      <td>11</td>\n",
              "      <td>7</td>\n",
              "      <td>4</td>\n",
              "      <td>23</td>\n",
              "      <td>9</td>\n",
              "    </tr>\n",
              "    <tr>\n",
              "      <th>4</th>\n",
              "      <td>7</td>\n",
              "      <td>1</td>\n",
              "      <td>3</td>\n",
              "      <td>3</td>\n",
              "      <td>5</td>\n",
              "      <td>7</td>\n",
              "    </tr>\n",
              "    <tr>\n",
              "      <th>5</th>\n",
              "      <td>69</td>\n",
              "      <td>45</td>\n",
              "      <td>23</td>\n",
              "      <td>24</td>\n",
              "      <td>18</td>\n",
              "      <td>32</td>\n",
              "    </tr>\n",
              "    <tr>\n",
              "      <th>6</th>\n",
              "      <td>622</td>\n",
              "      <td>873</td>\n",
              "      <td>903</td>\n",
              "      <td>965</td>\n",
              "      <td>764</td>\n",
              "      <td>674</td>\n",
              "    </tr>\n",
              "  </tbody>\n",
              "</table>\n",
              "</div>"
            ],
            "text/plain": [
              "Clusters    0    1    2    3    4    5\n",
              "Labels                                \n",
              "1         531  748  880  776  838  345\n",
              "2         217   64   47  183  127  428\n",
              "3          22   11    7    4   23    9\n",
              "4           7    1    3    3    5    7\n",
              "5          69   45   23   24   18   32\n",
              "6         622  873  903  965  764  674"
            ]
          },
          "metadata": {},
          "execution_count": 125
        }
      ]
    },
    {
      "cell_type": "markdown",
      "metadata": {
        "id": "VtmWwCOcqXLe"
      },
      "source": [
        "Las que clasifico bien:"
      ]
    },
    {
      "cell_type": "code",
      "metadata": {
        "colab": {
          "base_uri": "https://localhost:8080/"
        },
        "id": "vzj0jR4Mm-zp",
        "outputId": "2f7c6ce9-f9b7-4e75-be62-c0077bcc9c3b"
      },
      "source": [
        "ct0_eu_p = ct0_eu\n",
        "ct0_eu = ct0_eu_p.to_numpy()\n",
        "a=ct0_eu.diagonal()\n",
        "sum(a)\n"
      ],
      "execution_count": null,
      "outputs": [
        {
          "output_type": "execute_result",
          "data": {
            "text/plain": [
              "1297"
            ]
          },
          "metadata": {},
          "execution_count": 126
        }
      ]
    },
    {
      "cell_type": "markdown",
      "metadata": {
        "id": "FFkNr1L0qeNM"
      },
      "source": [
        "Con la distancia euclidiana, el kmeans clasifica bien 14,27% de los elementos con respecto a la clasificacion del dendrograma. Para la distancia coseno un 12,59%. Le \"pega\" mal mucha veces, probablemente es el dendrograma el que da una mala clasificacion. Igual habiamos decidido quedarnos con la distancia coseno porque daba clases mas \"balanceadas\""
      ]
    },
    {
      "cell_type": "markdown",
      "metadata": {
        "id": "2gWv6RLXtFLX"
      },
      "source": [
        "### Van Dongen"
      ]
    },
    {
      "cell_type": "code",
      "metadata": {
        "colab": {
          "base_uri": "https://localhost:8080/"
        },
        "id": "DGsrJ9hQtE_G",
        "outputId": "4b9754a1-1074-43ed-ddab-914d68249703"
      },
      "source": [
        "# cuentita\n",
        "\n",
        "n2=2*sum(sum(ct0)) # suma de todos los elementos matriz de confusion\n",
        "sumi = sum(ct0_p.apply(np.max,axis=1))  # suma de los maximos de cada fila\n",
        "sumj = sum(ct0_p.apply(np.max,axis=0))  # suma de los maximos de cada columna\n",
        "maxsumi = np.max(ct0_p.apply(sum,axis=1)) #suma de cada fila y selecciona el maximo \n",
        "maxsumj = np.max(ct0_p.apply(sum,axis=0)) #suma de cada columna y selecciona el maximo \n",
        "vd = (n2 - sumi - sumj)/(n2 - maxsumi - maxsumj)\n",
        "vd"
      ],
      "execution_count": null,
      "outputs": [
        {
          "output_type": "execute_result",
          "data": {
            "text/plain": [
              "0.9056887249880489"
            ]
          },
          "metadata": {},
          "execution_count": 191
        }
      ]
    },
    {
      "cell_type": "markdown",
      "metadata": {
        "id": "CXxMC2h8tvNZ"
      },
      "source": [
        "La matriz \"pura\" se diferencia un 90% de la matriz de confusion encontrada (comparacion con el dendrograma metrica coseno)"
      ]
    },
    {
      "cell_type": "code",
      "metadata": {
        "colab": {
          "base_uri": "https://localhost:8080/"
        },
        "id": "6Fq00QsZroxn",
        "outputId": "c1d92914-1605-471a-f816-bf08dd6b9f52"
      },
      "source": [
        "n2=2*sum(sum(ct0_eu)) # suma de todos los elementos matriz de confusion\n",
        "sumi = sum(ct0_eu_p.apply(np.max,axis=1))  # suma de los maximos de cada fila\n",
        "sumj = sum(ct0_eu_p.apply(np.max,axis=0))  # suma de los maximos de cada columna\n",
        "maxsumi = np.max(ct0_eu_p.apply(sum,axis=1)) #suma de cada fila y selecciona el maximo \n",
        "maxsumj = np.max(ct0_eu_p.apply(sum,axis=0)) #suma de cada columna y selecciona el maximo \n",
        "vd_eu = (n2 - sumi - sumj)/(n2 - maxsumi - maxsumj)\n",
        "vd_eu"
      ],
      "execution_count": null,
      "outputs": [
        {
          "output_type": "execute_result",
          "data": {
            "text/plain": [
              "0.9645231213872832"
            ]
          },
          "metadata": {},
          "execution_count": 192
        }
      ]
    },
    {
      "cell_type": "markdown",
      "metadata": {
        "id": "OObpu_1U7Js_"
      },
      "source": [
        "La matriz \"pura\" se diferencia un 96% de la matriz de confusion encontrada (comparacion con el dendrograma metrica euclidiana)"
      ]
    },
    {
      "cell_type": "markdown",
      "metadata": {
        "id": "umIn3g0_7Z9V"
      },
      "source": [
        "Esto quiere decir que las clases no son muy puras, o equivalentemente que no son muy representativas."
      ]
    },
    {
      "cell_type": "markdown",
      "metadata": {
        "id": "0XSbXhCE95oG"
      },
      "source": [
        "### Indice Rand Ajustado"
      ]
    },
    {
      "cell_type": "code",
      "metadata": {
        "colab": {
          "base_uri": "https://localhost:8080/"
        },
        "id": "YeU7wEVx9_9A",
        "outputId": "0f584122-3bac-4a15-c41b-7a02d9853ab3"
      },
      "source": [
        "ARI = adjusted_rand_score(labels_ini_6, labels_gfp)\n",
        "ARI"
      ],
      "execution_count": null,
      "outputs": [
        {
          "output_type": "execute_result",
          "data": {
            "text/plain": [
              "0.037358819817549134"
            ]
          },
          "metadata": {},
          "execution_count": 201
        }
      ]
    },
    {
      "cell_type": "markdown",
      "metadata": {
        "id": "gar60sEF-LFr"
      },
      "source": [
        "El indice es muy pequeño. Si las clases estan dadas por el dendrograma, el kmeans las estaria repartiendo mal."
      ]
    },
    {
      "cell_type": "markdown",
      "metadata": {
        "id": "3lPPRC4sBxvi"
      },
      "source": [
        "- Realice una inspección de las características de los clusters hallados"
      ]
    },
    {
      "cell_type": "markdown",
      "metadata": {
        "id": "b8Vnz-Og8RD6"
      },
      "source": [
        "### Efecto uniforme (comparando clusters de metodos)\n",
        "Se puede calcular como el coeficiente de variación (CV = desvío estándar/media) de la distribución del tamaño de las clases. Valores del orden del 85% indica que metodo de clusterizacion esta formando clusters uniformes a pesar de que las clases estan desbalanceadas."
      ]
    },
    {
      "cell_type": "code",
      "metadata": {
        "colab": {
          "base_uri": "https://localhost:8080/"
        },
        "id": "pd132Ltuu_T7",
        "outputId": "4a1c84cb-4fa4-4232-9cd4-a153cd5eccd5"
      },
      "source": [
        "labd,cuentas_d = np.unique(labels_ini_6, return_counts=True)  # cantidad de elementos en cada clase etiquetas dendrograma coseno\n",
        "labk,cuentas_k = np.unique(labels_gfp, return_counts=True) # cantidad de elementos en cada clase clusterizacion kmeans\n",
        "\n",
        "cv_dendro = np.std(cuentas_d)/np.mean(cuentas_d)\n",
        "cv_kmeans = np.std(cuentas_k)/np.mean(cuentas_k)\n",
        "cv_dendro, cv_kmeans"
      ],
      "execution_count": null,
      "outputs": [
        {
          "output_type": "execute_result",
          "data": {
            "text/plain": [
              "(0.9679820245246101, 0.1045590221475978)"
            ]
          },
          "metadata": {},
          "execution_count": 200
        }
      ]
    },
    {
      "cell_type": "markdown",
      "metadata": {
        "id": "S1aKUD0L9KH-"
      },
      "source": [
        "Segun estos valores, el dendrograma forma clusters uniformes mientras que el kmeans no lo estaria haciendo, por lo que funciona bien"
      ]
    },
    {
      "cell_type": "markdown",
      "metadata": {
        "id": "1om0nwI1-oCt"
      },
      "source": [
        "En resumen, todos los metodos que resultan de asumir las clases del dendrograma como las \"verdaderas\" y comparar con ellas dan mal. Estos resultados se pueden deber a que el dendrograma es malo como metodo de partida. Podriamos usar DBSCAN como metodo para sacar las etiquetas base para comparar a ver si la validacion da mejor.\n",
        "\n",
        "El analisis de efecto uniforme nos dice que el kmeans no estaria formando clusters uniformes."
      ]
    },
    {
      "cell_type": "markdown",
      "metadata": {
        "id": "Mml7WeO6B8lk"
      },
      "source": [
        "- y de los prototipos de cada cluster en caso que los hubiese (o de ejemplos en el caso que no), comparar con los encontrados por el método de k-means modificado."
      ]
    },
    {
      "cell_type": "markdown",
      "metadata": {
        "id": "USBp-GKmCMPN"
      },
      "source": [
        "### Comparacion de protipos (comparando prototipos de metodos)"
      ]
    },
    {
      "cell_type": "code",
      "metadata": {
        "id": "NDsNDBlZVC0L"
      },
      "source": [
        "# indices de cada etiqueta\n",
        "\n",
        "# seguro hay manera mas inteligente de escribir esto\n",
        "ind_1 = [i for i in range(0,EEG_todo_scaled.shape[1]) if labels_ini_6[i] == 1]\n",
        "ind_2 = [i for i in range(0,EEG_todo_scaled.shape[1]) if labels_ini_6[i] == 2]\n",
        "ind_3 = [i for i in range(0,EEG_todo_scaled.shape[1]) if labels_ini_6[i] == 3]\n",
        "ind_4 = [i for i in range(0,EEG_todo_scaled.shape[1]) if labels_ini_6[i] == 4]\n",
        "ind_5 = [i for i in range(0,EEG_todo_scaled.shape[1]) if labels_ini_6[i] == 5]\n",
        "ind_6 = [i for i in range(0,EEG_todo_scaled.shape[1]) if labels_ini_6[i] == 6]\n",
        "\n",
        "# prototipo (calculados como el promedio de los vectores en cada etiqueta - clusterizado con dendrograma distancia coseno-)\n",
        "\n",
        "proto1 = np.mean(EEG_todo_scaled[:,ind_1],axis=1)\n",
        "proto2 = np.mean(EEG_todo_scaled[:,ind_2],axis=1)\n",
        "proto3 = np.mean(EEG_todo_scaled[:,ind_3],axis=1)\n",
        "proto4 = np.mean(EEG_todo_scaled[:,ind_4],axis=1)\n",
        "proto5 = np.mean(EEG_todo_scaled[:,ind_5],axis=1)\n",
        "proto6 = np.mean(EEG_todo_scaled[:,ind_6],axis=1)"
      ],
      "execution_count": null,
      "outputs": []
    },
    {
      "cell_type": "code",
      "metadata": {
        "id": "OrEPN65AfOHT"
      },
      "source": [
        "prototipos = np.concatenate((proto1,proto2,proto3,proto4,proto5,proto6),axis=0)\n",
        "mapas_dendro = prototipos.reshape(6,-1)\n"
      ],
      "execution_count": null,
      "outputs": []
    },
    {
      "cell_type": "markdown",
      "metadata": {
        "id": "rDFxmoKGngnj"
      },
      "source": [
        "Calculando las distancias:"
      ]
    },
    {
      "cell_type": "code",
      "metadata": {
        "colab": {
          "base_uri": "https://localhost:8080/"
        },
        "id": "pViqZotblm4H",
        "outputId": "ceb5ad86-52a2-496d-8fca-adc5b07ecf77"
      },
      "source": [
        "map_dist_eu = scipy.spatial.distance.cdist(mapas_dendro, maps_kmeans, metric='euclidean')\n",
        "map_dist_eu.round(3)"
      ],
      "execution_count": null,
      "outputs": [
        {
          "output_type": "execute_result",
          "data": {
            "text/plain": [
              "array([[3.418, 3.238, 3.201, 3.142, 3.293, 3.429],\n",
              "       [3.098, 3.666, 2.096, 2.121, 2.125, 3.066],\n",
              "       [2.751, 2.584, 2.514, 2.668, 2.666, 2.811],\n",
              "       [2.293, 2.415, 2.469, 2.723, 3.191, 3.468],\n",
              "       [2.018, 2.667, 2.783, 3.189, 2.438, 2.04 ],\n",
              "       [2.91 , 1.942, 3.529, 3.349, 3.378, 2.525]])"
            ]
          },
          "metadata": {},
          "execution_count": 274
        }
      ]
    },
    {
      "cell_type": "code",
      "metadata": {
        "colab": {
          "base_uri": "https://localhost:8080/"
        },
        "id": "YVOaV3pvnRmO",
        "outputId": "2659516a-3bf8-4760-eabd-ee1ff1b6b93d"
      },
      "source": [
        "# la distancias entre los prototipos de la misma etiqueta son los elementos de la diagonal\n",
        "dist_eu = map_dist_eu.diagonal()\n",
        "dist_eu.reshape(6,-1)"
      ],
      "execution_count": null,
      "outputs": [
        {
          "output_type": "execute_result",
          "data": {
            "text/plain": [
              "array([[3.41791393],\n",
              "       [3.66595741],\n",
              "       [2.51433321],\n",
              "       [2.72333776],\n",
              "       [2.43783443],\n",
              "       [2.52475967]])"
            ]
          },
          "metadata": {},
          "execution_count": 285
        }
      ]
    },
    {
      "cell_type": "markdown",
      "metadata": {
        "id": "kWxPRffZnzog"
      },
      "source": [
        "Con distancia coseno:"
      ]
    },
    {
      "cell_type": "code",
      "metadata": {
        "colab": {
          "base_uri": "https://localhost:8080/"
        },
        "id": "pmKZxtxpWR6R",
        "outputId": "c4957663-86d4-4f1e-b530-fbd2f2b1276d"
      },
      "source": [
        "map_dist_cos = scipy.spatial.distance.cdist(mapas_dendro, maps_kmeans, metric='cosine')\n",
        "map_dist_cos.round(3)\n"
      ],
      "execution_count": null,
      "outputs": [
        {
          "output_type": "execute_result",
          "data": {
            "text/plain": [
              "array([[1.128, 0.937, 0.899, 0.84 , 0.994, 1.14 ],\n",
              "       [1.123, 1.806, 0.197, 0.216, 0.219, 1.088],\n",
              "       [1.152, 0.968, 0.895, 1.06 , 1.057, 1.222],\n",
              "       [0.578, 0.693, 0.745, 1.006, 1.553, 1.918],\n",
              "       [0.416, 1.04 , 1.17 , 1.668, 0.8  , 0.433],\n",
              "       [1.141, 0.236, 1.909, 1.67 , 1.707, 0.737]])"
            ]
          },
          "metadata": {},
          "execution_count": 279
        }
      ]
    },
    {
      "cell_type": "code",
      "metadata": {
        "colab": {
          "base_uri": "https://localhost:8080/"
        },
        "id": "T1VIfBOnz2xR",
        "outputId": "3b039c45-e790-49e6-c264-75348ec93d18"
      },
      "source": [
        "aux =1-map_dist_cos\n",
        "aux"
      ],
      "execution_count": null,
      "outputs": [
        {
          "output_type": "execute_result",
          "data": {
            "text/plain": [
              "array([[-0.1279459 ,  0.06295442,  0.10076575,  0.16025615,  0.00575661,\n",
              "        -0.14013973],\n",
              "       [-0.12265171, -0.80562858,  0.80303724,  0.78396766,  0.78090628,\n",
              "        -0.08770422],\n",
              "       [-0.15224927,  0.03185994,  0.10528838, -0.05964195, -0.05736784,\n",
              "        -0.22239733],\n",
              "       [ 0.42159173,  0.30711773,  0.25549473, -0.00592641, -0.55322151,\n",
              "        -0.91830592],\n",
              "       [ 0.58449487, -0.04022508, -0.17022165, -0.66834606,  0.20012249,\n",
              "         0.56652246],\n",
              "       [-0.14061698,  0.76393063, -0.90857469, -0.66968471, -0.7069975 ,\n",
              "         0.2627687 ]])"
            ]
          },
          "metadata": {},
          "execution_count": 319
        }
      ]
    },
    {
      "cell_type": "code",
      "metadata": {
        "colab": {
          "base_uri": "https://localhost:8080/"
        },
        "id": "psgvzcq1Puvb",
        "outputId": "02722b1f-1995-4271-8b9b-c83291c8647e"
      },
      "source": [
        "# la distancias entre los prototipos de la misma etiqueta son los elementos de la diagonal\n",
        "dist_cos = map_dist_cos.diagonal()\n",
        "dist_cos.reshape(6,-1)"
      ],
      "execution_count": null,
      "outputs": [
        {
          "output_type": "execute_result",
          "data": {
            "text/plain": [
              "array([[1.1279459 ],\n",
              "       [1.80562858],\n",
              "       [0.89471162],\n",
              "       [1.00592641],\n",
              "       [0.79987751],\n",
              "       [0.7372313 ]])"
            ]
          },
          "metadata": {},
          "execution_count": 311
        }
      ]
    },
    {
      "cell_type": "code",
      "metadata": {
        "colab": {
          "base_uri": "https://localhost:8080/",
          "height": 238
        },
        "id": "7izWY4rwoEmv",
        "outputId": "45742636-3496-492c-abe6-5547857b66aa"
      },
      "source": [
        "pd.DataFrame(np.concatenate((dist_eu.reshape(6,-1), dist_cos.reshape(6,-1)),axis=1), columns=['Euclidea','Coseno'], \n",
        "             index=['1','2','3','4','5','6'], dtype = float) "
      ],
      "execution_count": null,
      "outputs": [
        {
          "output_type": "execute_result",
          "data": {
            "text/html": [
              "<div>\n",
              "<style scoped>\n",
              "    .dataframe tbody tr th:only-of-type {\n",
              "        vertical-align: middle;\n",
              "    }\n",
              "\n",
              "    .dataframe tbody tr th {\n",
              "        vertical-align: top;\n",
              "    }\n",
              "\n",
              "    .dataframe thead th {\n",
              "        text-align: right;\n",
              "    }\n",
              "</style>\n",
              "<table border=\"1\" class=\"dataframe\">\n",
              "  <thead>\n",
              "    <tr style=\"text-align: right;\">\n",
              "      <th></th>\n",
              "      <th>Euclidea</th>\n",
              "      <th>Coseno</th>\n",
              "    </tr>\n",
              "  </thead>\n",
              "  <tbody>\n",
              "    <tr>\n",
              "      <th>1</th>\n",
              "      <td>3.417914</td>\n",
              "      <td>1.127946</td>\n",
              "    </tr>\n",
              "    <tr>\n",
              "      <th>2</th>\n",
              "      <td>3.665957</td>\n",
              "      <td>1.805629</td>\n",
              "    </tr>\n",
              "    <tr>\n",
              "      <th>3</th>\n",
              "      <td>2.514333</td>\n",
              "      <td>0.894712</td>\n",
              "    </tr>\n",
              "    <tr>\n",
              "      <th>4</th>\n",
              "      <td>2.723338</td>\n",
              "      <td>1.005926</td>\n",
              "    </tr>\n",
              "    <tr>\n",
              "      <th>5</th>\n",
              "      <td>2.437834</td>\n",
              "      <td>0.799878</td>\n",
              "    </tr>\n",
              "    <tr>\n",
              "      <th>6</th>\n",
              "      <td>2.524760</td>\n",
              "      <td>0.737231</td>\n",
              "    </tr>\n",
              "  </tbody>\n",
              "</table>\n",
              "</div>"
            ],
            "text/plain": [
              "   Euclidea    Coseno\n",
              "1  3.417914  1.127946\n",
              "2  3.665957  1.805629\n",
              "3  2.514333  0.894712\n",
              "4  2.723338  1.005926\n",
              "5  2.437834  0.799878\n",
              "6  2.524760  0.737231"
            ]
          },
          "metadata": {},
          "execution_count": 316
        }
      ]
    },
    {
      "cell_type": "markdown",
      "metadata": {
        "id": "dNldZdzv13qE"
      },
      "source": [
        "Las distancias euclideas entre los prototipos obtenidos con dendrograma y kmeans son pequeñas (compararando si 0 distancia son iguales y si distancia es max(EEG_todos_scaled)*sqrt(30) son lo mas distintos posible) y similares entre etiquetas, pero de la distancia coseno podemos ver que en el espacio multidimensional los prototipos obtenidos con ambos metodos estarian en direcciones muy distintas."
      ]
    },
    {
      "cell_type": "markdown",
      "metadata": {
        "id": "4Dv7VCcndYH5"
      },
      "source": [
        "## Medidas basadas en los microestados"
      ]
    },
    {
      "cell_type": "markdown",
      "metadata": {
        "id": "K-k5gVfJgnPu"
      },
      "source": [
        "Ahora se ajusta la señal general a los prototipos encontrados con el método kmeans con el k=6 optimo encontrado."
      ]
    },
    {
      "cell_type": "code",
      "metadata": {
        "id": "30af8nMPhEqN"
      },
      "source": [
        "corr=np.zeros((maps_kmeans.shape[0],Todo_EEG_scaled.shape[1]))\n",
        "\n",
        "for i in range(0,maps_kmeans.shape[0]):\n",
        "  for j in range(0,Todo_EEG_scaled.shape[1]):\n",
        "    corr[i,j] = np.correlate(maps_kmeans[i,:],Todo_EEG[:,j]) # correlacion prototipo con vector eeg en cada tiempo\n"
      ],
      "execution_count": 46,
      "outputs": []
    },
    {
      "cell_type": "code",
      "metadata": {
        "colab": {
          "base_uri": "https://localhost:8080/"
        },
        "id": "0KJbuLmHjxWn",
        "outputId": "87542027-6a6f-436d-cc82-dd13d0e2dbeb"
      },
      "source": [
        "np.max(corr)"
      ],
      "execution_count": 49,
      "outputs": [
        {
          "output_type": "execute_result",
          "data": {
            "text/plain": [
              "148.4002775759074"
            ]
          },
          "metadata": {},
          "execution_count": 49
        }
      ]
    },
    {
      "cell_type": "code",
      "metadata": {
        "colab": {
          "base_uri": "https://localhost:8080/"
        },
        "id": "RsSOgOO9qCrM",
        "outputId": "076a0961-4a91-46ba-b90f-1e3cf4e949f6"
      },
      "source": [
        "np.min(corr)"
      ],
      "execution_count": 50,
      "outputs": [
        {
          "output_type": "execute_result",
          "data": {
            "text/plain": [
              "-111.22602370059143"
            ]
          },
          "metadata": {},
          "execution_count": 50
        }
      ]
    },
    {
      "cell_type": "code",
      "metadata": {
        "id": "aXXV6hh3t_X_"
      },
      "source": [
        "## con Pearson\n",
        "pear=np.zeros((maps_kmeans.shape[0],Todo_EEG_scaled.shape[1]))\n",
        "\n",
        "for i in range(0,maps_kmeans.shape[0]):\n",
        "  for j in range(0,Todo_EEG_scaled.shape[1]):\n",
        "    aux = np.corrcoef(maps_kmeans[i,:],Todo_EEG[:,j]) # matriz de coeficientes de correlacion de Pearson\n",
        "    pear[i,j] = aux[0,-1] #me quedo con el ultimo elemento primera fila\n"
      ],
      "execution_count": 67,
      "outputs": []
    },
    {
      "cell_type": "code",
      "metadata": {
        "colab": {
          "base_uri": "https://localhost:8080/"
        },
        "id": "iwrUzL_KwB2r",
        "outputId": "2dc8a564-f05b-44c7-cc56-0e73dadc42dc"
      },
      "source": [
        "np.max(pear)"
      ],
      "execution_count": 68,
      "outputs": [
        {
          "output_type": "execute_result",
          "data": {
            "text/plain": [
              "0.9894838927764515"
            ]
          },
          "metadata": {},
          "execution_count": 68
        }
      ]
    },
    {
      "cell_type": "code",
      "metadata": {
        "colab": {
          "base_uri": "https://localhost:8080/"
        },
        "id": "HwtgkRScwwJK",
        "outputId": "fa072693-0776-4534-d9ba-bc85512d7df3"
      },
      "source": [
        "np.min(pear)"
      ],
      "execution_count": 69,
      "outputs": [
        {
          "output_type": "execute_result",
          "data": {
            "text/plain": [
              "-0.9909845368881071"
            ]
          },
          "metadata": {},
          "execution_count": 69
        }
      ]
    },
    {
      "cell_type": "markdown",
      "metadata": {
        "id": "Hs-WsRLNxIV6"
      },
      "source": [
        "En cada columna estan las correlaciones del EEG en ese tiempo con cada prototipo. Me quedo con el maximo."
      ]
    },
    {
      "cell_type": "code",
      "metadata": {
        "id": "TgjqG6zH3Yas"
      },
      "source": [
        "# Create an empty list\n",
        "list_index = []\n",
        "# Iterate over a sequence of numbers from 0 to 4\n",
        "for i in range(0,pear.shape[1]):\n",
        "    # In each iteration, add an empty list to the main list\n",
        "    list_index.append([])\n"
      ],
      "execution_count": 90,
      "outputs": []
    },
    {
      "cell_type": "code",
      "metadata": {
        "id": "DBl47jjByxgg"
      },
      "source": [
        "# creo listas con los indices de prototipo con el que la correlacion fue maxima\n",
        "\n",
        "for j in range(0,pear.shape[1]):\n",
        "  for i in range(0,pear.shape[0]):\n",
        "    if (pear[i,j]==np.max(pear[:,j])):\n",
        "      list_index[j].append(i)\n"
      ],
      "execution_count": 91,
      "outputs": []
    },
    {
      "cell_type": "code",
      "metadata": {
        "colab": {
          "base_uri": "https://localhost:8080/"
        },
        "id": "aKzllyPx5IfX",
        "outputId": "016c0463-7563-4b35-9d1b-5f0a71b4a081"
      },
      "source": [
        "list_index[4][0]"
      ],
      "execution_count": 93,
      "outputs": [
        {
          "output_type": "execute_result",
          "data": {
            "text/plain": [
              "3"
            ]
          },
          "metadata": {},
          "execution_count": 93
        }
      ]
    },
    {
      "cell_type": "code",
      "metadata": {
        "colab": {
          "base_uri": "https://localhost:8080/"
        },
        "id": "k4rFdcMl7C6Z",
        "outputId": "9dee98bb-d84d-4aab-d2e0-d425b193bc51"
      },
      "source": [
        "list_index[0][0]"
      ],
      "execution_count": 103,
      "outputs": [
        {
          "output_type": "execute_result",
          "data": {
            "text/plain": [
              "0"
            ]
          },
          "metadata": {},
          "execution_count": 103
        }
      ]
    },
    {
      "cell_type": "code",
      "metadata": {
        "id": "RIs9JksWwyT0"
      },
      "source": [
        "# esto para guardar los indices de manera mas amigable\n",
        "\n",
        "etiquetas_mas_corr = np.zeros((1,len(list_index)))\n",
        "\n",
        "for i in range(0,len(list_index)):\n",
        "  etiquetas_mas_corr[:,i] = list_index[i][0] # en cada tiempo i, da la etiqueta que obtuvo correlacion maxima\n",
        "\n"
      ],
      "execution_count": 114,
      "outputs": []
    },
    {
      "cell_type": "code",
      "metadata": {
        "colab": {
          "base_uri": "https://localhost:8080/"
        },
        "id": "KK8ILx4Y1xGP",
        "outputId": "b642ff9b-158c-4e6b-bead-135f4c695c04"
      },
      "source": [
        "etiquetas_mas_corr[0,4]"
      ],
      "execution_count": 115,
      "outputs": [
        {
          "output_type": "execute_result",
          "data": {
            "text/plain": [
              "3.0"
            ]
          },
          "metadata": {},
          "execution_count": 115
        }
      ]
    },
    {
      "cell_type": "markdown",
      "metadata": {
        "id": "nFJWZJIC831R"
      },
      "source": [
        "### Frecuencia"
      ]
    },
    {
      "cell_type": "markdown",
      "metadata": {
        "id": "oeCGgZLAQ_06"
      },
      "source": [
        "Tabla de frecuencia de aparicion de cada prototipo en el dataset:"
      ]
    },
    {
      "cell_type": "code",
      "metadata": {
        "colab": {
          "base_uri": "https://localhost:8080/"
        },
        "id": "6sowZy9Q2epX",
        "outputId": "568e3931-ee91-48f5-b019-429a76f53a38"
      },
      "source": [
        "bins,counts = np.unique(etiquetas_mas_corr, return_counts=True) # contando cuandtas\n",
        "counts"
      ],
      "execution_count": 116,
      "outputs": [
        {
          "output_type": "execute_result",
          "data": {
            "text/plain": [
              "array([16997, 18705, 12646,  9975,  8023, 10464])"
            ]
          },
          "metadata": {},
          "execution_count": 116
        }
      ]
    },
    {
      "cell_type": "code",
      "metadata": {
        "colab": {
          "base_uri": "https://localhost:8080/",
          "height": 238
        },
        "id": "dDoAAtSH8c-L",
        "outputId": "d7e4d059-7718-4ef0-a131-5c9f34991a0d"
      },
      "source": [
        "daat = pd.DataFrame(counts, index=['A','B','C','D','E','F'], columns=['Frecuencia'], dtype = float)\n",
        "daat "
      ],
      "execution_count": 125,
      "outputs": [
        {
          "output_type": "execute_result",
          "data": {
            "text/html": [
              "<div>\n",
              "<style scoped>\n",
              "    .dataframe tbody tr th:only-of-type {\n",
              "        vertical-align: middle;\n",
              "    }\n",
              "\n",
              "    .dataframe tbody tr th {\n",
              "        vertical-align: top;\n",
              "    }\n",
              "\n",
              "    .dataframe thead th {\n",
              "        text-align: right;\n",
              "    }\n",
              "</style>\n",
              "<table border=\"1\" class=\"dataframe\">\n",
              "  <thead>\n",
              "    <tr style=\"text-align: right;\">\n",
              "      <th></th>\n",
              "      <th>Frecuencia</th>\n",
              "    </tr>\n",
              "  </thead>\n",
              "  <tbody>\n",
              "    <tr>\n",
              "      <th>A</th>\n",
              "      <td>16997.0</td>\n",
              "    </tr>\n",
              "    <tr>\n",
              "      <th>B</th>\n",
              "      <td>18705.0</td>\n",
              "    </tr>\n",
              "    <tr>\n",
              "      <th>C</th>\n",
              "      <td>12646.0</td>\n",
              "    </tr>\n",
              "    <tr>\n",
              "      <th>D</th>\n",
              "      <td>9975.0</td>\n",
              "    </tr>\n",
              "    <tr>\n",
              "      <th>E</th>\n",
              "      <td>8023.0</td>\n",
              "    </tr>\n",
              "    <tr>\n",
              "      <th>F</th>\n",
              "      <td>10464.0</td>\n",
              "    </tr>\n",
              "  </tbody>\n",
              "</table>\n",
              "</div>"
            ],
            "text/plain": [
              "   Frecuencia\n",
              "A     16997.0\n",
              "B     18705.0\n",
              "C     12646.0\n",
              "D      9975.0\n",
              "E      8023.0\n",
              "F     10464.0"
            ]
          },
          "metadata": {},
          "execution_count": 125
        }
      ]
    },
    {
      "cell_type": "code",
      "metadata": {
        "colab": {
          "base_uri": "https://localhost:8080/"
        },
        "id": "SRJUX2fnE5wy",
        "outputId": "e19c0e83-10a1-4f9f-ea3a-56f7f7f2cf95"
      },
      "source": [
        "etiquetas_mas_corr.shape[1]"
      ],
      "execution_count": 128,
      "outputs": [
        {
          "output_type": "execute_result",
          "data": {
            "text/plain": [
              "76810"
            ]
          },
          "metadata": {},
          "execution_count": 128
        }
      ]
    },
    {
      "cell_type": "code",
      "metadata": {
        "id": "V_KynLW_LkRH"
      },
      "source": [
        "matrix = etiquetas_mas_corr.reshape(-1,15362)"
      ],
      "execution_count": 169,
      "outputs": []
    },
    {
      "cell_type": "code",
      "metadata": {
        "colab": {
          "base_uri": "https://localhost:8080/"
        },
        "id": "KtUtOo3PLtI6",
        "outputId": "b819f964-f002-4502-9d92-5ce6ec7da3eb"
      },
      "source": [
        "matrix.shape[0] # individuos"
      ],
      "execution_count": 204,
      "outputs": [
        {
          "output_type": "execute_result",
          "data": {
            "text/plain": [
              "5"
            ]
          },
          "metadata": {},
          "execution_count": 204
        }
      ]
    },
    {
      "cell_type": "code",
      "metadata": {
        "colab": {
          "base_uri": "https://localhost:8080/",
          "height": 291
        },
        "id": "Eklqamvk_vqY",
        "outputId": "f758f1c0-9cec-4a28-b905-4450dd8b3003"
      },
      "source": [
        "\n",
        "ax = sns.heatmap(matrix,vmin=0,vmax=6, cmap='Set2')\n",
        "ax.set(xlabel ='tiempo', ylabel ='individuos')\n",
        "ax.set(title='Aparicion de los prototipos')\n",
        "ax.set(yticklabels=[])\n",
        "ax.set(xticklabels=[])\n",
        "plt.show()"
      ],
      "execution_count": 175,
      "outputs": [
        {
          "output_type": "display_data",
          "data": {
            "image/png": "[encoded data removed]",
            "text/plain": [
              "<Figure size 432x288 with 2 Axes>"
            ]
          },
          "metadata": {}
        }
      ]
    },
    {
      "cell_type": "markdown",
      "metadata": {
        "id": "AICwxkbJJh1p"
      },
      "source": [
        "Se puede calcular numericamente la frecuencia de cada prototipo para cada individuo:"
      ]
    },
    {
      "cell_type": "code",
      "metadata": {
        "colab": {
          "base_uri": "https://localhost:8080/"
        },
        "id": "7Vyu5YFvIgWZ",
        "outputId": "7fe304b6-8abe-4ebc-beec-15526d0ee3ec"
      },
      "source": [
        "bins,counts1 = np.unique(matrix[0,:], return_counts=True) # contando cuandtas\n",
        "counts1"
      ],
      "execution_count": 177,
      "outputs": [
        {
          "output_type": "execute_result",
          "data": {
            "text/plain": [
              "array([4610, 2995, 2795, 2293, 1538, 1131])"
            ]
          },
          "metadata": {},
          "execution_count": 177
        }
      ]
    },
    {
      "cell_type": "code",
      "metadata": {
        "colab": {
          "base_uri": "https://localhost:8080/"
        },
        "id": "_eUhG4meKPdZ",
        "outputId": "c9d2e14c-a5d7-4969-f77e-09e32a601ef0"
      },
      "source": [
        "bins,counts2 = np.unique(matrix[1,:], return_counts=True) # contando cuandtas\n",
        "counts2"
      ],
      "execution_count": 178,
      "outputs": [
        {
          "output_type": "execute_result",
          "data": {
            "text/plain": [
              "array([3362, 3526, 2842, 1221, 1616, 2795])"
            ]
          },
          "metadata": {},
          "execution_count": 178
        }
      ]
    },
    {
      "cell_type": "code",
      "metadata": {
        "colab": {
          "base_uri": "https://localhost:8080/"
        },
        "id": "Z-r-F769LgZ5",
        "outputId": "41965d1d-c531-4de5-e7d8-f5120564c353"
      },
      "source": [
        "bins,counts3 = np.unique(matrix[2,:], return_counts=True) # contando cuandtas\n",
        "counts1"
      ],
      "execution_count": 179,
      "outputs": [
        {
          "output_type": "execute_result",
          "data": {
            "text/plain": [
              "array([4610, 2995, 2795, 2293, 1538, 1131])"
            ]
          },
          "metadata": {},
          "execution_count": 179
        }
      ]
    },
    {
      "cell_type": "code",
      "metadata": {
        "colab": {
          "base_uri": "https://localhost:8080/"
        },
        "id": "kUgZjapdLhZh",
        "outputId": "76b6bedb-1e73-43a8-f0a1-2fc2ea23f95d"
      },
      "source": [
        "bins,counts4 = np.unique(matrix[3,:], return_counts=True) # contando cuandtas\n",
        "counts1"
      ],
      "execution_count": 180,
      "outputs": [
        {
          "output_type": "execute_result",
          "data": {
            "text/plain": [
              "array([4610, 2995, 2795, 2293, 1538, 1131])"
            ]
          },
          "metadata": {},
          "execution_count": 180
        }
      ]
    },
    {
      "cell_type": "code",
      "metadata": {
        "colab": {
          "base_uri": "https://localhost:8080/"
        },
        "id": "mYn-6AAnNF_H",
        "outputId": "1a4a0cce-b64e-41ec-9503-994c366be6d8"
      },
      "source": [
        "bins,counts5 = np.unique(matrix[4,:], return_counts=True) # contando cuandtas\n",
        "counts1"
      ],
      "execution_count": 181,
      "outputs": [
        {
          "output_type": "execute_result",
          "data": {
            "text/plain": [
              "array([4610, 2995, 2795, 2293, 1538, 1131])"
            ]
          },
          "metadata": {},
          "execution_count": 181
        }
      ]
    },
    {
      "cell_type": "code",
      "metadata": {
        "id": "IVQxSED-NI7n"
      },
      "source": [
        "tabla = pd.DataFrame(np.concatenate((counts1.reshape(6,-1),counts2.reshape(6,-1),counts3.reshape(6,-1),counts4.reshape(6,-1),counts5.reshape(6,-1)),axis=1),columns=['Ind_8','Ind_9','Ind_10','Ind_12','Ind_13'], \n",
        "             index=['A','B','C','D','E','F'], dtype = float)"
      ],
      "execution_count": 214,
      "outputs": []
    },
    {
      "cell_type": "code",
      "metadata": {
        "colab": {
          "base_uri": "https://localhost:8080/",
          "height": 238
        },
        "id": "sr__6J_bQYYm",
        "outputId": "e704d5ca-14bf-4b17-a3df-1d7d7fb34a19"
      },
      "source": [
        "tabla"
      ],
      "execution_count": 215,
      "outputs": [
        {
          "output_type": "execute_result",
          "data": {
            "text/html": [
              "<div>\n",
              "<style scoped>\n",
              "    .dataframe tbody tr th:only-of-type {\n",
              "        vertical-align: middle;\n",
              "    }\n",
              "\n",
              "    .dataframe tbody tr th {\n",
              "        vertical-align: top;\n",
              "    }\n",
              "\n",
              "    .dataframe thead th {\n",
              "        text-align: right;\n",
              "    }\n",
              "</style>\n",
              "<table border=\"1\" class=\"dataframe\">\n",
              "  <thead>\n",
              "    <tr style=\"text-align: right;\">\n",
              "      <th></th>\n",
              "      <th>Ind_8</th>\n",
              "      <th>Ind_9</th>\n",
              "      <th>Ind_10</th>\n",
              "      <th>Ind_12</th>\n",
              "      <th>Ind_13</th>\n",
              "    </tr>\n",
              "  </thead>\n",
              "  <tbody>\n",
              "    <tr>\n",
              "      <th>A</th>\n",
              "      <td>4610.0</td>\n",
              "      <td>3362.0</td>\n",
              "      <td>3065.0</td>\n",
              "      <td>3132.0</td>\n",
              "      <td>2828.0</td>\n",
              "    </tr>\n",
              "    <tr>\n",
              "      <th>B</th>\n",
              "      <td>2995.0</td>\n",
              "      <td>3526.0</td>\n",
              "      <td>3868.0</td>\n",
              "      <td>4769.0</td>\n",
              "      <td>3547.0</td>\n",
              "    </tr>\n",
              "    <tr>\n",
              "      <th>C</th>\n",
              "      <td>2795.0</td>\n",
              "      <td>2842.0</td>\n",
              "      <td>2412.0</td>\n",
              "      <td>2156.0</td>\n",
              "      <td>2441.0</td>\n",
              "    </tr>\n",
              "    <tr>\n",
              "      <th>D</th>\n",
              "      <td>2293.0</td>\n",
              "      <td>1221.0</td>\n",
              "      <td>1044.0</td>\n",
              "      <td>3885.0</td>\n",
              "      <td>1532.0</td>\n",
              "    </tr>\n",
              "    <tr>\n",
              "      <th>E</th>\n",
              "      <td>1538.0</td>\n",
              "      <td>1616.0</td>\n",
              "      <td>1902.0</td>\n",
              "      <td>742.0</td>\n",
              "      <td>2225.0</td>\n",
              "    </tr>\n",
              "    <tr>\n",
              "      <th>F</th>\n",
              "      <td>1131.0</td>\n",
              "      <td>2795.0</td>\n",
              "      <td>3071.0</td>\n",
              "      <td>678.0</td>\n",
              "      <td>2789.0</td>\n",
              "    </tr>\n",
              "  </tbody>\n",
              "</table>\n",
              "</div>"
            ],
            "text/plain": [
              "    Ind_8   Ind_9  Ind_10  Ind_12  Ind_13\n",
              "A  4610.0  3362.0  3065.0  3132.0  2828.0\n",
              "B  2995.0  3526.0  3868.0  4769.0  3547.0\n",
              "C  2795.0  2842.0  2412.0  2156.0  2441.0\n",
              "D  2293.0  1221.0  1044.0  3885.0  1532.0\n",
              "E  1538.0  1616.0  1902.0   742.0  2225.0\n",
              "F  1131.0  2795.0  3071.0   678.0  2789.0"
            ]
          },
          "metadata": {},
          "execution_count": 215
        }
      ]
    },
    {
      "cell_type": "markdown",
      "metadata": {
        "id": "wHv3cbccTEEV"
      },
      "source": [
        "Se puede observar que todos los individuos tienen mas o menos el mismo rango de frecuencia de aparicion de los prototipos, excepto un individuo que tiene una presencia muy distinta de dos de los prototipos en sus señales. Con esto podemos suponer que la frecuencia global de aparicion de los prototipos serviría para una primera discriminación entre individuos."
      ]
    },
    {
      "cell_type": "code",
      "metadata": {
        "id": "vMkrPU-KQgo5"
      },
      "source": [
        ""
      ],
      "execution_count": null,
      "outputs": []
    }
  ]
}