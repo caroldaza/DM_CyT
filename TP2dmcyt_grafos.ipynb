{
  "nbformat": 4,
  "nbformat_minor": 0,
  "metadata": {
    "colab": {
      "name": "TP2dmcyt_grafos.ipynb",
      "provenance": [],
      "collapsed_sections": [],
      "include_colab_link": true
    },
    "kernelspec": {
      "name": "python3",
      "display_name": "Python 3"
    },
    "language_info": {
      "name": "python"
    }
  },
  "cells": [
    {
      "cell_type": "markdown",
      "metadata": {
        "id": "view-in-github",
        "colab_type": "text"
      },
      "source": [
        "<a href=\"https://colab.research.google.com/github/caroldaza/DM_CyT/blob/Ayelen/TP2dmcyt_grafos.ipynb\" target=\"_parent\"><img src=\"https://colab.research.google.com/assets/colab-badge.svg\" alt=\"Open In Colab\"/></a>"
      ]
    },
    {
      "cell_type": "code",
      "metadata": {
        "colab": {
          "base_uri": "https://localhost:8080/"
        },
        "id": "HIr3XHUudtvh",
        "outputId": "9c8dc84e-ff15-4375-c801-1f63ca002167"
      },
      "source": [
        "!pip install networkx powerlaw community"
      ],
      "execution_count": 1,
      "outputs": [
        {
          "output_type": "stream",
          "name": "stdout",
          "text": [
            "Requirement already satisfied: networkx in /usr/local/lib/python3.7/dist-packages (2.6.3)\n",
            "Collecting powerlaw\n",
            "  Downloading powerlaw-1.5-py3-none-any.whl (24 kB)\n",
            "Requirement already satisfied: community in /usr/local/lib/python3.7/dist-packages (1.0.0b1)\n",
            "Requirement already satisfied: mpmath in /usr/local/lib/python3.7/dist-packages (from powerlaw) (1.2.1)\n",
            "Requirement already satisfied: matplotlib in /usr/local/lib/python3.7/dist-packages (from powerlaw) (3.2.2)\n",
            "Requirement already satisfied: numpy in /usr/local/lib/python3.7/dist-packages (from powerlaw) (1.19.5)\n",
            "Requirement already satisfied: scipy in /usr/local/lib/python3.7/dist-packages (from powerlaw) (1.4.1)\n",
            "Requirement already satisfied: Flask in /usr/local/lib/python3.7/dist-packages (from community) (1.1.4)\n",
            "Requirement already satisfied: requests in /usr/local/lib/python3.7/dist-packages (from community) (2.23.0)\n",
            "Requirement already satisfied: itsdangerous<2.0,>=0.24 in /usr/local/lib/python3.7/dist-packages (from Flask->community) (1.1.0)\n",
            "Requirement already satisfied: click<8.0,>=5.1 in /usr/local/lib/python3.7/dist-packages (from Flask->community) (7.1.2)\n",
            "Requirement already satisfied: Jinja2<3.0,>=2.10.1 in /usr/local/lib/python3.7/dist-packages (from Flask->community) (2.11.3)\n",
            "Requirement already satisfied: Werkzeug<2.0,>=0.15 in /usr/local/lib/python3.7/dist-packages (from Flask->community) (1.0.1)\n",
            "Requirement already satisfied: MarkupSafe>=0.23 in /usr/local/lib/python3.7/dist-packages (from Jinja2<3.0,>=2.10.1->Flask->community) (2.0.1)\n",
            "Requirement already satisfied: pyparsing!=2.0.4,!=2.1.2,!=2.1.6,>=2.0.1 in /usr/local/lib/python3.7/dist-packages (from matplotlib->powerlaw) (3.0.6)\n",
            "Requirement already satisfied: cycler>=0.10 in /usr/local/lib/python3.7/dist-packages (from matplotlib->powerlaw) (0.11.0)\n",
            "Requirement already satisfied: kiwisolver>=1.0.1 in /usr/local/lib/python3.7/dist-packages (from matplotlib->powerlaw) (1.3.2)\n",
            "Requirement already satisfied: python-dateutil>=2.1 in /usr/local/lib/python3.7/dist-packages (from matplotlib->powerlaw) (2.8.2)\n",
            "Requirement already satisfied: six>=1.5 in /usr/local/lib/python3.7/dist-packages (from python-dateutil>=2.1->matplotlib->powerlaw) (1.15.0)\n",
            "Requirement already satisfied: certifi>=2017.4.17 in /usr/local/lib/python3.7/dist-packages (from requests->community) (2021.10.8)\n",
            "Requirement already satisfied: chardet<4,>=3.0.2 in /usr/local/lib/python3.7/dist-packages (from requests->community) (3.0.4)\n",
            "Requirement already satisfied: idna<3,>=2.5 in /usr/local/lib/python3.7/dist-packages (from requests->community) (2.10)\n",
            "Requirement already satisfied: urllib3!=1.25.0,!=1.25.1,<1.26,>=1.21.1 in /usr/local/lib/python3.7/dist-packages (from requests->community) (1.24.3)\n",
            "Installing collected packages: powerlaw\n",
            "Successfully installed powerlaw-1.5\n"
          ]
        }
      ]
    },
    {
      "cell_type": "code",
      "metadata": {
        "id": "m7l7zJX45e6V",
        "colab": {
          "base_uri": "https://localhost:8080/"
        },
        "outputId": "ac7c748f-492f-4658-f54a-704517d35d0e"
      },
      "source": [
        "%matplotlib inline \n",
        "%load_ext autoreload\n",
        "%autoreload 2\n",
        "from collections import defaultdict\n",
        "import re\n",
        "import os\n",
        "import matplotlib.pyplot as plt\n",
        "import numpy as np\n",
        "import pandas as pd \n",
        "%matplotlib inline \n",
        "%load_ext autoreload\n",
        "%autoreload 2\n",
        "import time\n",
        "import matplotlib.pyplot as plt\n",
        "import numpy as np\n",
        "import pandas as pd   \n",
        "from gensim import corpora, models, similarities, matutils\n",
        "from gensim.models.word2vec import Word2Vec\n",
        "from gensim.models import KeyedVectors  \n",
        "# Para visuzalización en notebook\n",
        "import matplotlib as mpl\n",
        "import seaborn as sns\n",
        "sns.set_context('poster')\n",
        "mpl.rcParams['figure.figsize'] = (8,6)\n",
        "\n",
        "import networkx as nx\n",
        "# en R está igraph\n",
        "import community\n",
        "import powerlaw\n",
        "\n",
        "from sklearn.metrics import adjusted_rand_score\n"
      ],
      "execution_count": 2,
      "outputs": [
        {
          "output_type": "stream",
          "name": "stdout",
          "text": [
            "The autoreload extension is already loaded. To reload it, use:\n",
            "  %reload_ext autoreload\n"
          ]
        }
      ]
    },
    {
      "cell_type": "markdown",
      "metadata": {
        "id": "r2IAXqyj52nI"
      },
      "source": [
        "# Levanto los datos"
      ]
    },
    {
      "cell_type": "code",
      "metadata": {
        "colab": {
          "base_uri": "https://localhost:8080/"
        },
        "id": "2gFIgjKo51wq",
        "outputId": "9a725dc3-f344-452b-a3eb-7c1275a1608d"
      },
      "source": [
        "from google.colab import drive\n",
        "drive.mount('/content/drive')"
      ],
      "execution_count": 55,
      "outputs": [
        {
          "output_type": "stream",
          "name": "stdout",
          "text": [
            "Drive already mounted at /content/drive; to attempt to forcibly remount, call drive.mount(\"/content/drive\", force_remount=True).\n"
          ]
        }
      ]
    },
    {
      "cell_type": "code",
      "metadata": {
        "colab": {
          "base_uri": "https://localhost:8080/",
          "height": 206
        },
        "id": "JNx_yvMd6ODf",
        "outputId": "c6a62545-9664-4d5c-e88b-94aff0a673ba"
      },
      "source": [
        "df_firstrows = pd.read_csv('/content/drive/MyDrive/SWOW-EN.R100.csv', nrows=10000)\n",
        "df_firstrows.head()"
      ],
      "execution_count": 67,
      "outputs": [
        {
          "output_type": "execute_result",
          "data": {
            "text/html": [
              "<div>\n",
              "<style scoped>\n",
              "    .dataframe tbody tr th:only-of-type {\n",
              "        vertical-align: middle;\n",
              "    }\n",
              "\n",
              "    .dataframe tbody tr th {\n",
              "        vertical-align: top;\n",
              "    }\n",
              "\n",
              "    .dataframe thead th {\n",
              "        text-align: right;\n",
              "    }\n",
              "</style>\n",
              "<table border=\"1\" class=\"dataframe\">\n",
              "  <thead>\n",
              "    <tr style=\"text-align: right;\">\n",
              "      <th></th>\n",
              "      <th>Unnamed: 0</th>\n",
              "      <th>id</th>\n",
              "      <th>participantID</th>\n",
              "      <th>age</th>\n",
              "      <th>gender</th>\n",
              "      <th>nativeLanguage</th>\n",
              "      <th>country</th>\n",
              "      <th>education</th>\n",
              "      <th>created_at</th>\n",
              "      <th>cue</th>\n",
              "      <th>R1</th>\n",
              "      <th>R2</th>\n",
              "      <th>R3</th>\n",
              "    </tr>\n",
              "  </thead>\n",
              "  <tbody>\n",
              "    <tr>\n",
              "      <th>0</th>\n",
              "      <td>1</td>\n",
              "      <td>29</td>\n",
              "      <td>3</td>\n",
              "      <td>33</td>\n",
              "      <td>Fe</td>\n",
              "      <td>United States</td>\n",
              "      <td>Australia</td>\n",
              "      <td>NaN</td>\n",
              "      <td>2011-08-12 02:19:38</td>\n",
              "      <td>although</td>\n",
              "      <td>nevertheless</td>\n",
              "      <td>yet</td>\n",
              "      <td>but</td>\n",
              "    </tr>\n",
              "    <tr>\n",
              "      <th>1</th>\n",
              "      <td>2</td>\n",
              "      <td>30</td>\n",
              "      <td>3</td>\n",
              "      <td>33</td>\n",
              "      <td>Fe</td>\n",
              "      <td>United States</td>\n",
              "      <td>Australia</td>\n",
              "      <td>NaN</td>\n",
              "      <td>2011-08-12 02:19:38</td>\n",
              "      <td>deal</td>\n",
              "      <td>no</td>\n",
              "      <td>cards</td>\n",
              "      <td>shake</td>\n",
              "    </tr>\n",
              "    <tr>\n",
              "      <th>2</th>\n",
              "      <td>3</td>\n",
              "      <td>31</td>\n",
              "      <td>3</td>\n",
              "      <td>33</td>\n",
              "      <td>Fe</td>\n",
              "      <td>United States</td>\n",
              "      <td>Australia</td>\n",
              "      <td>NaN</td>\n",
              "      <td>2011-08-12 02:19:38</td>\n",
              "      <td>music</td>\n",
              "      <td>notes</td>\n",
              "      <td>band</td>\n",
              "      <td>rhythm</td>\n",
              "    </tr>\n",
              "    <tr>\n",
              "      <th>3</th>\n",
              "      <td>4</td>\n",
              "      <td>32</td>\n",
              "      <td>3</td>\n",
              "      <td>33</td>\n",
              "      <td>Fe</td>\n",
              "      <td>United States</td>\n",
              "      <td>Australia</td>\n",
              "      <td>NaN</td>\n",
              "      <td>2011-08-12 02:19:38</td>\n",
              "      <td>inform</td>\n",
              "      <td>tell</td>\n",
              "      <td>rat on</td>\n",
              "      <td>NaN</td>\n",
              "    </tr>\n",
              "    <tr>\n",
              "      <th>4</th>\n",
              "      <td>5</td>\n",
              "      <td>33</td>\n",
              "      <td>3</td>\n",
              "      <td>33</td>\n",
              "      <td>Fe</td>\n",
              "      <td>United States</td>\n",
              "      <td>Australia</td>\n",
              "      <td>NaN</td>\n",
              "      <td>2011-08-12 02:19:38</td>\n",
              "      <td>way</td>\n",
              "      <td>path</td>\n",
              "      <td>via</td>\n",
              "      <td>method</td>\n",
              "    </tr>\n",
              "  </tbody>\n",
              "</table>\n",
              "</div>"
            ],
            "text/plain": [
              "   Unnamed: 0  id  participantID  age  ...       cue            R1      R2      R3\n",
              "0           1  29              3   33  ...  although  nevertheless     yet     but\n",
              "1           2  30              3   33  ...      deal            no   cards   shake\n",
              "2           3  31              3   33  ...     music         notes    band  rhythm\n",
              "3           4  32              3   33  ...    inform          tell  rat on     NaN\n",
              "4           5  33              3   33  ...       way          path     via  method\n",
              "\n",
              "[5 rows x 13 columns]"
            ]
          },
          "metadata": {},
          "execution_count": 67
        }
      ]
    },
    {
      "cell_type": "markdown",
      "metadata": {
        "id": "uKpDFbutASSC"
      },
      "source": [
        "Me quedo solo con la columna de claves y primera respuesta"
      ]
    },
    {
      "cell_type": "code",
      "metadata": {
        "colab": {
          "base_uri": "https://localhost:8080/",
          "height": 206
        },
        "id": "Crc-Ey5M_g_2",
        "outputId": "17cd5137-c651-4552-de34-6af2da6042fb"
      },
      "source": [
        "df_firstrows = df_firstrows[['cue','R1']]\n",
        "df_firstrows.head()"
      ],
      "execution_count": 68,
      "outputs": [
        {
          "output_type": "execute_result",
          "data": {
            "text/html": [
              "<div>\n",
              "<style scoped>\n",
              "    .dataframe tbody tr th:only-of-type {\n",
              "        vertical-align: middle;\n",
              "    }\n",
              "\n",
              "    .dataframe tbody tr th {\n",
              "        vertical-align: top;\n",
              "    }\n",
              "\n",
              "    .dataframe thead th {\n",
              "        text-align: right;\n",
              "    }\n",
              "</style>\n",
              "<table border=\"1\" class=\"dataframe\">\n",
              "  <thead>\n",
              "    <tr style=\"text-align: right;\">\n",
              "      <th></th>\n",
              "      <th>cue</th>\n",
              "      <th>R1</th>\n",
              "    </tr>\n",
              "  </thead>\n",
              "  <tbody>\n",
              "    <tr>\n",
              "      <th>0</th>\n",
              "      <td>although</td>\n",
              "      <td>nevertheless</td>\n",
              "    </tr>\n",
              "    <tr>\n",
              "      <th>1</th>\n",
              "      <td>deal</td>\n",
              "      <td>no</td>\n",
              "    </tr>\n",
              "    <tr>\n",
              "      <th>2</th>\n",
              "      <td>music</td>\n",
              "      <td>notes</td>\n",
              "    </tr>\n",
              "    <tr>\n",
              "      <th>3</th>\n",
              "      <td>inform</td>\n",
              "      <td>tell</td>\n",
              "    </tr>\n",
              "    <tr>\n",
              "      <th>4</th>\n",
              "      <td>way</td>\n",
              "      <td>path</td>\n",
              "    </tr>\n",
              "  </tbody>\n",
              "</table>\n",
              "</div>"
            ],
            "text/plain": [
              "        cue            R1\n",
              "0  although  nevertheless\n",
              "1      deal            no\n",
              "2     music         notes\n",
              "3    inform          tell\n",
              "4       way          path"
            ]
          },
          "metadata": {},
          "execution_count": 68
        }
      ]
    },
    {
      "cell_type": "markdown",
      "metadata": {
        "id": "DinXhfj2AXh1"
      },
      "source": [
        "Le pido que me muestre los primeros N datos"
      ]
    },
    {
      "cell_type": "code",
      "metadata": {
        "colab": {
          "base_uri": "https://localhost:8080/",
          "height": 677
        },
        "id": "RGmFEueqAD08",
        "outputId": "4dc09a9b-feee-4892-b3f1-ff3dfdaef331"
      },
      "source": [
        "N=20\n",
        "df_firstrows.head(N)"
      ],
      "execution_count": 69,
      "outputs": [
        {
          "output_type": "execute_result",
          "data": {
            "text/html": [
              "<div>\n",
              "<style scoped>\n",
              "    .dataframe tbody tr th:only-of-type {\n",
              "        vertical-align: middle;\n",
              "    }\n",
              "\n",
              "    .dataframe tbody tr th {\n",
              "        vertical-align: top;\n",
              "    }\n",
              "\n",
              "    .dataframe thead th {\n",
              "        text-align: right;\n",
              "    }\n",
              "</style>\n",
              "<table border=\"1\" class=\"dataframe\">\n",
              "  <thead>\n",
              "    <tr style=\"text-align: right;\">\n",
              "      <th></th>\n",
              "      <th>cue</th>\n",
              "      <th>R1</th>\n",
              "    </tr>\n",
              "  </thead>\n",
              "  <tbody>\n",
              "    <tr>\n",
              "      <th>0</th>\n",
              "      <td>although</td>\n",
              "      <td>nevertheless</td>\n",
              "    </tr>\n",
              "    <tr>\n",
              "      <th>1</th>\n",
              "      <td>deal</td>\n",
              "      <td>no</td>\n",
              "    </tr>\n",
              "    <tr>\n",
              "      <th>2</th>\n",
              "      <td>music</td>\n",
              "      <td>notes</td>\n",
              "    </tr>\n",
              "    <tr>\n",
              "      <th>3</th>\n",
              "      <td>inform</td>\n",
              "      <td>tell</td>\n",
              "    </tr>\n",
              "    <tr>\n",
              "      <th>4</th>\n",
              "      <td>way</td>\n",
              "      <td>path</td>\n",
              "    </tr>\n",
              "    <tr>\n",
              "      <th>5</th>\n",
              "      <td>none</td>\n",
              "      <td>zilch</td>\n",
              "    </tr>\n",
              "    <tr>\n",
              "      <th>6</th>\n",
              "      <td>extra</td>\n",
              "      <td>plus</td>\n",
              "    </tr>\n",
              "    <tr>\n",
              "      <th>7</th>\n",
              "      <td>will</td>\n",
              "      <td>free</td>\n",
              "    </tr>\n",
              "    <tr>\n",
              "      <th>8</th>\n",
              "      <td>paper</td>\n",
              "      <td>book</td>\n",
              "    </tr>\n",
              "    <tr>\n",
              "      <th>9</th>\n",
              "      <td>w</td>\n",
              "      <td>v</td>\n",
              "    </tr>\n",
              "    <tr>\n",
              "      <th>10</th>\n",
              "      <td>contract</td>\n",
              "      <td>legality</td>\n",
              "    </tr>\n",
              "    <tr>\n",
              "      <th>11</th>\n",
              "      <td>concern</td>\n",
              "      <td>worry</td>\n",
              "    </tr>\n",
              "    <tr>\n",
              "      <th>12</th>\n",
              "      <td>town</td>\n",
              "      <td>village</td>\n",
              "    </tr>\n",
              "    <tr>\n",
              "      <th>13</th>\n",
              "      <td>couple</td>\n",
              "      <td>few</td>\n",
              "    </tr>\n",
              "    <tr>\n",
              "      <th>14</th>\n",
              "      <td>mind</td>\n",
              "      <td>brain</td>\n",
              "    </tr>\n",
              "    <tr>\n",
              "      <th>15</th>\n",
              "      <td>maybe</td>\n",
              "      <td>sometimes</td>\n",
              "    </tr>\n",
              "    <tr>\n",
              "      <th>16</th>\n",
              "      <td>read</td>\n",
              "      <td>write</td>\n",
              "    </tr>\n",
              "    <tr>\n",
              "      <th>17</th>\n",
              "      <td>board</td>\n",
              "      <td>plank</td>\n",
              "    </tr>\n",
              "    <tr>\n",
              "      <th>18</th>\n",
              "      <td>check</td>\n",
              "      <td>tick</td>\n",
              "    </tr>\n",
              "    <tr>\n",
              "      <th>19</th>\n",
              "      <td>v</td>\n",
              "      <td>letter</td>\n",
              "    </tr>\n",
              "  </tbody>\n",
              "</table>\n",
              "</div>"
            ],
            "text/plain": [
              "         cue            R1\n",
              "0   although  nevertheless\n",
              "1       deal            no\n",
              "2      music         notes\n",
              "3     inform          tell\n",
              "4        way          path\n",
              "5       none         zilch\n",
              "6      extra          plus\n",
              "7       will          free\n",
              "8      paper          book\n",
              "9          w             v\n",
              "10  contract      legality\n",
              "11   concern         worry\n",
              "12      town       village\n",
              "13    couple           few\n",
              "14      mind         brain\n",
              "15     maybe     sometimes\n",
              "16      read         write\n",
              "17     board         plank\n",
              "18     check          tick\n",
              "19         v        letter"
            ]
          },
          "metadata": {},
          "execution_count": 69
        }
      ]
    },
    {
      "cell_type": "markdown",
      "metadata": {
        "id": "PDZhXn85A8k5"
      },
      "source": [
        "Inspección de los datos"
      ]
    },
    {
      "cell_type": "code",
      "metadata": {
        "colab": {
          "base_uri": "https://localhost:8080/"
        },
        "id": "FOokhsVkBBbo",
        "outputId": "cdbda747-56ba-4ca8-ddb4-d28ead7dc48d"
      },
      "source": [
        "print(df_firstrows.shape[0])"
      ],
      "execution_count": 70,
      "outputs": [
        {
          "output_type": "stream",
          "name": "stdout",
          "text": [
            "10000\n"
          ]
        }
      ]
    },
    {
      "cell_type": "code",
      "metadata": {
        "colab": {
          "base_uri": "https://localhost:8080/"
        },
        "id": "o9e7njTvBJrr",
        "outputId": "37ef09c6-e58c-4ad9-d51b-218f95421657"
      },
      "source": [
        "# ¿Cuántas claves y respuestas son únicas?\n",
        "print(df_firstrows['cue'].unique().shape)\n",
        "print(df_firstrows['R1'].unique().shape)"
      ],
      "execution_count": 71,
      "outputs": [
        {
          "output_type": "stream",
          "name": "stdout",
          "text": [
            "(1000,)\n",
            "(3397,)\n"
          ]
        }
      ]
    },
    {
      "cell_type": "code",
      "metadata": {
        "colab": {
          "base_uri": "https://localhost:8080/"
        },
        "id": "OPfwY4sxCpSb",
        "outputId": "134c5371-4436-4815-f999-6b941677ce9c"
      },
      "source": [
        "# ¿cuántas palabras de R1 están en Cue? ¿alrevés?\n",
        "print(sum(df_firstrows['R1'].isin(df_firstrows['cue'].unique())))\n",
        "print(sum(df_firstrows['cue'].isin(df_firstrows['R1'].unique())))\n"
      ],
      "execution_count": 72,
      "outputs": [
        {
          "output_type": "stream",
          "name": "stdout",
          "text": [
            "5488\n",
            "8230\n"
          ]
        }
      ]
    },
    {
      "cell_type": "markdown",
      "metadata": {
        "id": "0JGKBn-tC8L0"
      },
      "source": [
        "Limpio un poco los datos"
      ]
    },
    {
      "cell_type": "code",
      "metadata": {
        "colab": {
          "base_uri": "https://localhost:8080/"
        },
        "id": "lxSEeLjwDbRY",
        "outputId": "09c28ced-fc69-4082-dcba-7cadc15bb4bc"
      },
      "source": [
        "# Sacar palabras de una letra\n",
        "df_firstrows.drop(df_firstrows[df_firstrows['cue'].str.len().lt(2)].index, inplace=True)\n",
        "print(df_firstrows.shape[0])\n",
        "df_firstrows.drop(df_firstrows[df_firstrows['R1'].str.len().lt(2)].index, inplace=True)\n",
        "print(df_firstrows.shape[0])\n",
        "\n",
        "# Sacar nan\n",
        "df_firstrows.dropna()\n",
        "print(df_firstrows.shape[0])"
      ],
      "execution_count": 73,
      "outputs": [
        {
          "output_type": "stream",
          "name": "stdout",
          "text": [
            "9783\n",
            "9764\n",
            "9764\n"
          ]
        }
      ]
    },
    {
      "cell_type": "code",
      "metadata": {
        "colab": {
          "base_uri": "https://localhost:8080/"
        },
        "id": "z5j1Nt60DkA_",
        "outputId": "50905d7d-bb2f-46f0-a98f-8e0f9f90bd8b"
      },
      "source": [
        "print(sum(df_firstrows['R1'].isin(df_firstrows['cue'].unique())==False))\n",
        "print(sum(df_firstrows['cue'].isin(df_firstrows['R1'].unique())==False))\n",
        "\n",
        "# Sacar palabras que no este en cue Y en R1\n",
        "df_firstrows.drop(df_firstrows[df_firstrows['R1'].isin(df_firstrows['cue'].unique())==False].index, inplace=True)\n",
        "df_firstrows.drop(df_firstrows[df_firstrows['cue'].isin(df_firstrows['R1'].unique())==False].index, inplace=True)"
      ],
      "execution_count": 74,
      "outputs": [
        {
          "output_type": "stream",
          "name": "stdout",
          "text": [
            "4396\n",
            "1729\n"
          ]
        }
      ]
    },
    {
      "cell_type": "code",
      "metadata": {
        "colab": {
          "base_uri": "https://localhost:8080/"
        },
        "id": "BIB1tFJ5EwJ3",
        "outputId": "56b762b6-9ac7-4236-a413-e78e0c84b516"
      },
      "source": [
        "print(df_firstrows.shape[0])"
      ],
      "execution_count": 75,
      "outputs": [
        {
          "output_type": "stream",
          "name": "stdout",
          "text": [
            "4528\n"
          ]
        }
      ]
    },
    {
      "cell_type": "code",
      "metadata": {
        "colab": {
          "base_uri": "https://localhost:8080/",
          "height": 206
        },
        "id": "BO4Z86QKPq3u",
        "outputId": "1d21b998-2ea9-4d7b-ee3a-b668d648d269"
      },
      "source": [
        "df_firstrows.head()"
      ],
      "execution_count": 76,
      "outputs": [
        {
          "output_type": "execute_result",
          "data": {
            "text/html": [
              "<div>\n",
              "<style scoped>\n",
              "    .dataframe tbody tr th:only-of-type {\n",
              "        vertical-align: middle;\n",
              "    }\n",
              "\n",
              "    .dataframe tbody tr th {\n",
              "        vertical-align: top;\n",
              "    }\n",
              "\n",
              "    .dataframe thead th {\n",
              "        text-align: right;\n",
              "    }\n",
              "</style>\n",
              "<table border=\"1\" class=\"dataframe\">\n",
              "  <thead>\n",
              "    <tr style=\"text-align: right;\">\n",
              "      <th></th>\n",
              "      <th>cue</th>\n",
              "      <th>R1</th>\n",
              "    </tr>\n",
              "  </thead>\n",
              "  <tbody>\n",
              "    <tr>\n",
              "      <th>1</th>\n",
              "      <td>deal</td>\n",
              "      <td>no</td>\n",
              "    </tr>\n",
              "    <tr>\n",
              "      <th>3</th>\n",
              "      <td>inform</td>\n",
              "      <td>tell</td>\n",
              "    </tr>\n",
              "    <tr>\n",
              "      <th>6</th>\n",
              "      <td>extra</td>\n",
              "      <td>plus</td>\n",
              "    </tr>\n",
              "    <tr>\n",
              "      <th>7</th>\n",
              "      <td>will</td>\n",
              "      <td>free</td>\n",
              "    </tr>\n",
              "    <tr>\n",
              "      <th>8</th>\n",
              "      <td>paper</td>\n",
              "      <td>book</td>\n",
              "    </tr>\n",
              "  </tbody>\n",
              "</table>\n",
              "</div>"
            ],
            "text/plain": [
              "      cue    R1\n",
              "1    deal    no\n",
              "3  inform  tell\n",
              "6   extra  plus\n",
              "7    will  free\n",
              "8   paper  book"
            ]
          },
          "metadata": {},
          "execution_count": 76
        }
      ]
    },
    {
      "cell_type": "markdown",
      "metadata": {
        "id": "Xj8kVw0FQkMx"
      },
      "source": [
        "Filtro las palabras que no esten en word2vec  FALTA"
      ]
    },
    {
      "cell_type": "code",
      "metadata": {
        "colab": {
          "base_uri": "https://localhost:8080/"
        },
        "id": "G913TjjWQpPn",
        "outputId": "0a2d248d-44ce-414e-bd44-96b9797fa158"
      },
      "source": [
        "!wget https://s3.amazonaws.com/dl4j-distribution/GoogleNews-vectors-negative300.bin.gz #obtengo los datos"
      ],
      "execution_count": 78,
      "outputs": [
        {
          "output_type": "stream",
          "name": "stdout",
          "text": [
            "--2021-11-21 17:58:15--  https://s3.amazonaws.com/dl4j-distribution/GoogleNews-vectors-negative300.bin.gz\n",
            "Resolving s3.amazonaws.com (s3.amazonaws.com)... 52.216.230.213\n",
            "Connecting to s3.amazonaws.com (s3.amazonaws.com)|52.216.230.213|:443... connected.\n",
            "HTTP request sent, awaiting response... 200 OK\n",
            "Length: 1647046227 (1.5G) [application/x-gzip]\n",
            "Saving to: ‘GoogleNews-vectors-negative300.bin.gz’\n",
            "\n",
            "GoogleNews-vectors- 100%[===================>]   1.53G  54.8MB/s    in 37s     \n",
            "\n",
            "2021-11-21 17:58:52 (42.3 MB/s) - ‘GoogleNews-vectors-negative300.bin.gz’ saved [1647046227/1647046227]\n",
            "\n"
          ]
        }
      ]
    },
    {
      "cell_type": "code",
      "metadata": {
        "id": "b3QPCJySvAR8"
      },
      "source": [
        "w2v_model2 = KeyedVectors.load_word2vec_format('./GoogleNews-vectors-negative300.bin.gz', binary=True)"
      ],
      "execution_count": 101,
      "outputs": []
    },
    {
      "cell_type": "markdown",
      "metadata": {
        "id": "8RUxT6DnYlkK"
      },
      "source": [
        "Construyo el grafo\n"
      ]
    },
    {
      "cell_type": "code",
      "metadata": {
        "id": "0YBK7s8Gf1ej"
      },
      "source": [
        "df_firstrows = pd.crosstab(df_firstrows.cue, df_firstrows.R1)\n",
        "idx = df_firstrows.columns.union(df_firstrows.index)\n",
        "matriz = df_firstrows.reindex(index = idx, columns=idx, fill_value=0) #armo la matriz de adyacencia"
      ],
      "execution_count": 81,
      "outputs": []
    },
    {
      "cell_type": "code",
      "metadata": {
        "colab": {
          "base_uri": "https://localhost:8080/"
        },
        "id": "XqVGUyqUlp1h",
        "outputId": "623f0602-76a5-4801-889f-e0c9088fffd9"
      },
      "source": [
        "matriz.shape\n"
      ],
      "execution_count": 82,
      "outputs": [
        {
          "output_type": "execute_result",
          "data": {
            "text/plain": [
              "(804, 804)"
            ]
          },
          "metadata": {},
          "execution_count": 82
        }
      ]
    },
    {
      "cell_type": "code",
      "metadata": {
        "colab": {
          "base_uri": "https://localhost:8080/",
          "height": 256
        },
        "id": "lEJnJjYPjb3V",
        "outputId": "85c39058-167a-41d5-94d5-c6a63dae6495"
      },
      "source": [
        "matriz.head() # vemos la matriz de adyacencia"
      ],
      "execution_count": 83,
      "outputs": [
        {
          "output_type": "execute_result",
          "data": {
            "text/html": [
              "<div>\n",
              "<style scoped>\n",
              "    .dataframe tbody tr th:only-of-type {\n",
              "        vertical-align: middle;\n",
              "    }\n",
              "\n",
              "    .dataframe tbody tr th {\n",
              "        vertical-align: top;\n",
              "    }\n",
              "\n",
              "    .dataframe thead th {\n",
              "        text-align: right;\n",
              "    }\n",
              "</style>\n",
              "<table border=\"1\" class=\"dataframe\">\n",
              "  <thead>\n",
              "    <tr style=\"text-align: right;\">\n",
              "      <th></th>\n",
              "      <th>America</th>\n",
              "      <th>Christ</th>\n",
              "      <th>Christmas</th>\n",
              "      <th>English</th>\n",
              "      <th>Europe</th>\n",
              "      <th>France</th>\n",
              "      <th>Friday</th>\n",
              "      <th>Germany</th>\n",
              "      <th>God</th>\n",
              "      <th>Jesus</th>\n",
              "      <th>Monday</th>\n",
              "      <th>Saturday</th>\n",
              "      <th>Sunday</th>\n",
              "      <th>Thursday</th>\n",
              "      <th>Tuesday</th>\n",
              "      <th>Wednesday</th>\n",
              "      <th>able</th>\n",
              "      <th>about</th>\n",
              "      <th>absolute</th>\n",
              "      <th>accept</th>\n",
              "      <th>act</th>\n",
              "      <th>active</th>\n",
              "      <th>actual</th>\n",
              "      <th>add</th>\n",
              "      <th>affect</th>\n",
              "      <th>after</th>\n",
              "      <th>afternoon</th>\n",
              "      <th>again</th>\n",
              "      <th>against</th>\n",
              "      <th>age</th>\n",
              "      <th>agree</th>\n",
              "      <th>air</th>\n",
              "      <th>all</th>\n",
              "      <th>allow</th>\n",
              "      <th>along</th>\n",
              "      <th>already</th>\n",
              "      <th>alright</th>\n",
              "      <th>also</th>\n",
              "      <th>although</th>\n",
              "      <th>always</th>\n",
              "      <th>...</th>\n",
              "      <th>week</th>\n",
              "      <th>weigh</th>\n",
              "      <th>well</th>\n",
              "      <th>west</th>\n",
              "      <th>what</th>\n",
              "      <th>when</th>\n",
              "      <th>where</th>\n",
              "      <th>whether</th>\n",
              "      <th>which</th>\n",
              "      <th>while</th>\n",
              "      <th>white</th>\n",
              "      <th>who</th>\n",
              "      <th>whole</th>\n",
              "      <th>why</th>\n",
              "      <th>wide</th>\n",
              "      <th>wife</th>\n",
              "      <th>will</th>\n",
              "      <th>win</th>\n",
              "      <th>wind</th>\n",
              "      <th>window</th>\n",
              "      <th>wish</th>\n",
              "      <th>with</th>\n",
              "      <th>without</th>\n",
              "      <th>woman</th>\n",
              "      <th>wonder</th>\n",
              "      <th>wood</th>\n",
              "      <th>word</th>\n",
              "      <th>work</th>\n",
              "      <th>world</th>\n",
              "      <th>worry</th>\n",
              "      <th>worth</th>\n",
              "      <th>would</th>\n",
              "      <th>write</th>\n",
              "      <th>wrong</th>\n",
              "      <th>year</th>\n",
              "      <th>yes</th>\n",
              "      <th>yesterday</th>\n",
              "      <th>yet</th>\n",
              "      <th>you</th>\n",
              "      <th>young</th>\n",
              "    </tr>\n",
              "  </thead>\n",
              "  <tbody>\n",
              "    <tr>\n",
              "      <th>America</th>\n",
              "      <td>0</td>\n",
              "      <td>0</td>\n",
              "      <td>0</td>\n",
              "      <td>0</td>\n",
              "      <td>0</td>\n",
              "      <td>0</td>\n",
              "      <td>0</td>\n",
              "      <td>0</td>\n",
              "      <td>0</td>\n",
              "      <td>0</td>\n",
              "      <td>0</td>\n",
              "      <td>0</td>\n",
              "      <td>0</td>\n",
              "      <td>0</td>\n",
              "      <td>0</td>\n",
              "      <td>0</td>\n",
              "      <td>0</td>\n",
              "      <td>0</td>\n",
              "      <td>0</td>\n",
              "      <td>0</td>\n",
              "      <td>0</td>\n",
              "      <td>0</td>\n",
              "      <td>0</td>\n",
              "      <td>0</td>\n",
              "      <td>0</td>\n",
              "      <td>0</td>\n",
              "      <td>0</td>\n",
              "      <td>0</td>\n",
              "      <td>0</td>\n",
              "      <td>0</td>\n",
              "      <td>0</td>\n",
              "      <td>0</td>\n",
              "      <td>0</td>\n",
              "      <td>0</td>\n",
              "      <td>0</td>\n",
              "      <td>0</td>\n",
              "      <td>0</td>\n",
              "      <td>0</td>\n",
              "      <td>0</td>\n",
              "      <td>0</td>\n",
              "      <td>...</td>\n",
              "      <td>0</td>\n",
              "      <td>0</td>\n",
              "      <td>0</td>\n",
              "      <td>0</td>\n",
              "      <td>0</td>\n",
              "      <td>0</td>\n",
              "      <td>0</td>\n",
              "      <td>0</td>\n",
              "      <td>0</td>\n",
              "      <td>0</td>\n",
              "      <td>0</td>\n",
              "      <td>0</td>\n",
              "      <td>0</td>\n",
              "      <td>0</td>\n",
              "      <td>0</td>\n",
              "      <td>0</td>\n",
              "      <td>0</td>\n",
              "      <td>0</td>\n",
              "      <td>0</td>\n",
              "      <td>0</td>\n",
              "      <td>0</td>\n",
              "      <td>0</td>\n",
              "      <td>0</td>\n",
              "      <td>0</td>\n",
              "      <td>0</td>\n",
              "      <td>0</td>\n",
              "      <td>0</td>\n",
              "      <td>0</td>\n",
              "      <td>0</td>\n",
              "      <td>0</td>\n",
              "      <td>0</td>\n",
              "      <td>0</td>\n",
              "      <td>0</td>\n",
              "      <td>0</td>\n",
              "      <td>0</td>\n",
              "      <td>0</td>\n",
              "      <td>0</td>\n",
              "      <td>0</td>\n",
              "      <td>0</td>\n",
              "      <td>0</td>\n",
              "    </tr>\n",
              "    <tr>\n",
              "      <th>Christ</th>\n",
              "      <td>0</td>\n",
              "      <td>0</td>\n",
              "      <td>0</td>\n",
              "      <td>0</td>\n",
              "      <td>0</td>\n",
              "      <td>0</td>\n",
              "      <td>0</td>\n",
              "      <td>0</td>\n",
              "      <td>0</td>\n",
              "      <td>7</td>\n",
              "      <td>0</td>\n",
              "      <td>0</td>\n",
              "      <td>0</td>\n",
              "      <td>0</td>\n",
              "      <td>0</td>\n",
              "      <td>0</td>\n",
              "      <td>0</td>\n",
              "      <td>0</td>\n",
              "      <td>0</td>\n",
              "      <td>0</td>\n",
              "      <td>0</td>\n",
              "      <td>0</td>\n",
              "      <td>0</td>\n",
              "      <td>0</td>\n",
              "      <td>0</td>\n",
              "      <td>0</td>\n",
              "      <td>0</td>\n",
              "      <td>0</td>\n",
              "      <td>0</td>\n",
              "      <td>0</td>\n",
              "      <td>0</td>\n",
              "      <td>0</td>\n",
              "      <td>0</td>\n",
              "      <td>0</td>\n",
              "      <td>0</td>\n",
              "      <td>0</td>\n",
              "      <td>0</td>\n",
              "      <td>0</td>\n",
              "      <td>0</td>\n",
              "      <td>0</td>\n",
              "      <td>...</td>\n",
              "      <td>0</td>\n",
              "      <td>0</td>\n",
              "      <td>0</td>\n",
              "      <td>0</td>\n",
              "      <td>0</td>\n",
              "      <td>0</td>\n",
              "      <td>0</td>\n",
              "      <td>0</td>\n",
              "      <td>0</td>\n",
              "      <td>0</td>\n",
              "      <td>0</td>\n",
              "      <td>0</td>\n",
              "      <td>0</td>\n",
              "      <td>0</td>\n",
              "      <td>0</td>\n",
              "      <td>0</td>\n",
              "      <td>0</td>\n",
              "      <td>0</td>\n",
              "      <td>0</td>\n",
              "      <td>0</td>\n",
              "      <td>0</td>\n",
              "      <td>0</td>\n",
              "      <td>0</td>\n",
              "      <td>0</td>\n",
              "      <td>0</td>\n",
              "      <td>0</td>\n",
              "      <td>0</td>\n",
              "      <td>0</td>\n",
              "      <td>0</td>\n",
              "      <td>0</td>\n",
              "      <td>0</td>\n",
              "      <td>0</td>\n",
              "      <td>0</td>\n",
              "      <td>0</td>\n",
              "      <td>0</td>\n",
              "      <td>0</td>\n",
              "      <td>0</td>\n",
              "      <td>0</td>\n",
              "      <td>0</td>\n",
              "      <td>0</td>\n",
              "    </tr>\n",
              "    <tr>\n",
              "      <th>Christmas</th>\n",
              "      <td>0</td>\n",
              "      <td>0</td>\n",
              "      <td>0</td>\n",
              "      <td>0</td>\n",
              "      <td>0</td>\n",
              "      <td>0</td>\n",
              "      <td>0</td>\n",
              "      <td>0</td>\n",
              "      <td>0</td>\n",
              "      <td>0</td>\n",
              "      <td>0</td>\n",
              "      <td>0</td>\n",
              "      <td>0</td>\n",
              "      <td>0</td>\n",
              "      <td>0</td>\n",
              "      <td>0</td>\n",
              "      <td>0</td>\n",
              "      <td>0</td>\n",
              "      <td>0</td>\n",
              "      <td>0</td>\n",
              "      <td>0</td>\n",
              "      <td>0</td>\n",
              "      <td>0</td>\n",
              "      <td>0</td>\n",
              "      <td>0</td>\n",
              "      <td>0</td>\n",
              "      <td>0</td>\n",
              "      <td>0</td>\n",
              "      <td>0</td>\n",
              "      <td>0</td>\n",
              "      <td>0</td>\n",
              "      <td>0</td>\n",
              "      <td>0</td>\n",
              "      <td>0</td>\n",
              "      <td>0</td>\n",
              "      <td>0</td>\n",
              "      <td>0</td>\n",
              "      <td>0</td>\n",
              "      <td>0</td>\n",
              "      <td>0</td>\n",
              "      <td>...</td>\n",
              "      <td>0</td>\n",
              "      <td>0</td>\n",
              "      <td>0</td>\n",
              "      <td>0</td>\n",
              "      <td>0</td>\n",
              "      <td>0</td>\n",
              "      <td>0</td>\n",
              "      <td>0</td>\n",
              "      <td>0</td>\n",
              "      <td>0</td>\n",
              "      <td>0</td>\n",
              "      <td>0</td>\n",
              "      <td>1</td>\n",
              "      <td>0</td>\n",
              "      <td>0</td>\n",
              "      <td>0</td>\n",
              "      <td>0</td>\n",
              "      <td>0</td>\n",
              "      <td>0</td>\n",
              "      <td>0</td>\n",
              "      <td>0</td>\n",
              "      <td>0</td>\n",
              "      <td>0</td>\n",
              "      <td>0</td>\n",
              "      <td>0</td>\n",
              "      <td>0</td>\n",
              "      <td>0</td>\n",
              "      <td>0</td>\n",
              "      <td>0</td>\n",
              "      <td>0</td>\n",
              "      <td>0</td>\n",
              "      <td>0</td>\n",
              "      <td>0</td>\n",
              "      <td>0</td>\n",
              "      <td>0</td>\n",
              "      <td>0</td>\n",
              "      <td>0</td>\n",
              "      <td>0</td>\n",
              "      <td>0</td>\n",
              "      <td>0</td>\n",
              "    </tr>\n",
              "    <tr>\n",
              "      <th>English</th>\n",
              "      <td>0</td>\n",
              "      <td>0</td>\n",
              "      <td>0</td>\n",
              "      <td>0</td>\n",
              "      <td>0</td>\n",
              "      <td>0</td>\n",
              "      <td>0</td>\n",
              "      <td>0</td>\n",
              "      <td>0</td>\n",
              "      <td>0</td>\n",
              "      <td>0</td>\n",
              "      <td>0</td>\n",
              "      <td>0</td>\n",
              "      <td>0</td>\n",
              "      <td>0</td>\n",
              "      <td>0</td>\n",
              "      <td>0</td>\n",
              "      <td>0</td>\n",
              "      <td>0</td>\n",
              "      <td>0</td>\n",
              "      <td>0</td>\n",
              "      <td>0</td>\n",
              "      <td>0</td>\n",
              "      <td>0</td>\n",
              "      <td>0</td>\n",
              "      <td>0</td>\n",
              "      <td>0</td>\n",
              "      <td>0</td>\n",
              "      <td>0</td>\n",
              "      <td>0</td>\n",
              "      <td>0</td>\n",
              "      <td>0</td>\n",
              "      <td>0</td>\n",
              "      <td>0</td>\n",
              "      <td>0</td>\n",
              "      <td>0</td>\n",
              "      <td>0</td>\n",
              "      <td>0</td>\n",
              "      <td>0</td>\n",
              "      <td>0</td>\n",
              "      <td>...</td>\n",
              "      <td>0</td>\n",
              "      <td>0</td>\n",
              "      <td>0</td>\n",
              "      <td>0</td>\n",
              "      <td>0</td>\n",
              "      <td>0</td>\n",
              "      <td>0</td>\n",
              "      <td>0</td>\n",
              "      <td>0</td>\n",
              "      <td>0</td>\n",
              "      <td>0</td>\n",
              "      <td>0</td>\n",
              "      <td>0</td>\n",
              "      <td>0</td>\n",
              "      <td>0</td>\n",
              "      <td>0</td>\n",
              "      <td>0</td>\n",
              "      <td>0</td>\n",
              "      <td>0</td>\n",
              "      <td>0</td>\n",
              "      <td>0</td>\n",
              "      <td>0</td>\n",
              "      <td>0</td>\n",
              "      <td>0</td>\n",
              "      <td>0</td>\n",
              "      <td>0</td>\n",
              "      <td>1</td>\n",
              "      <td>0</td>\n",
              "      <td>0</td>\n",
              "      <td>0</td>\n",
              "      <td>0</td>\n",
              "      <td>0</td>\n",
              "      <td>0</td>\n",
              "      <td>0</td>\n",
              "      <td>0</td>\n",
              "      <td>0</td>\n",
              "      <td>0</td>\n",
              "      <td>0</td>\n",
              "      <td>0</td>\n",
              "      <td>0</td>\n",
              "    </tr>\n",
              "    <tr>\n",
              "      <th>Europe</th>\n",
              "      <td>0</td>\n",
              "      <td>0</td>\n",
              "      <td>0</td>\n",
              "      <td>0</td>\n",
              "      <td>0</td>\n",
              "      <td>1</td>\n",
              "      <td>0</td>\n",
              "      <td>1</td>\n",
              "      <td>0</td>\n",
              "      <td>0</td>\n",
              "      <td>0</td>\n",
              "      <td>0</td>\n",
              "      <td>0</td>\n",
              "      <td>0</td>\n",
              "      <td>0</td>\n",
              "      <td>0</td>\n",
              "      <td>0</td>\n",
              "      <td>0</td>\n",
              "      <td>0</td>\n",
              "      <td>0</td>\n",
              "      <td>0</td>\n",
              "      <td>0</td>\n",
              "      <td>0</td>\n",
              "      <td>0</td>\n",
              "      <td>0</td>\n",
              "      <td>0</td>\n",
              "      <td>0</td>\n",
              "      <td>0</td>\n",
              "      <td>0</td>\n",
              "      <td>0</td>\n",
              "      <td>0</td>\n",
              "      <td>0</td>\n",
              "      <td>0</td>\n",
              "      <td>0</td>\n",
              "      <td>0</td>\n",
              "      <td>0</td>\n",
              "      <td>0</td>\n",
              "      <td>0</td>\n",
              "      <td>0</td>\n",
              "      <td>0</td>\n",
              "      <td>...</td>\n",
              "      <td>0</td>\n",
              "      <td>0</td>\n",
              "      <td>0</td>\n",
              "      <td>0</td>\n",
              "      <td>0</td>\n",
              "      <td>0</td>\n",
              "      <td>0</td>\n",
              "      <td>0</td>\n",
              "      <td>0</td>\n",
              "      <td>0</td>\n",
              "      <td>0</td>\n",
              "      <td>0</td>\n",
              "      <td>0</td>\n",
              "      <td>0</td>\n",
              "      <td>0</td>\n",
              "      <td>0</td>\n",
              "      <td>0</td>\n",
              "      <td>0</td>\n",
              "      <td>0</td>\n",
              "      <td>0</td>\n",
              "      <td>0</td>\n",
              "      <td>0</td>\n",
              "      <td>0</td>\n",
              "      <td>0</td>\n",
              "      <td>0</td>\n",
              "      <td>0</td>\n",
              "      <td>0</td>\n",
              "      <td>0</td>\n",
              "      <td>0</td>\n",
              "      <td>0</td>\n",
              "      <td>0</td>\n",
              "      <td>0</td>\n",
              "      <td>0</td>\n",
              "      <td>0</td>\n",
              "      <td>0</td>\n",
              "      <td>0</td>\n",
              "      <td>0</td>\n",
              "      <td>0</td>\n",
              "      <td>0</td>\n",
              "      <td>0</td>\n",
              "    </tr>\n",
              "  </tbody>\n",
              "</table>\n",
              "<p>5 rows × 804 columns</p>\n",
              "</div>"
            ],
            "text/plain": [
              "           America  Christ  Christmas  English  ...  yesterday  yet  you  young\n",
              "America          0       0          0        0  ...          0    0    0      0\n",
              "Christ           0       0          0        0  ...          0    0    0      0\n",
              "Christmas        0       0          0        0  ...          0    0    0      0\n",
              "English          0       0          0        0  ...          0    0    0      0\n",
              "Europe           0       0          0        0  ...          0    0    0      0\n",
              "\n",
              "[5 rows x 804 columns]"
            ]
          },
          "metadata": {},
          "execution_count": 83
        }
      ]
    },
    {
      "cell_type": "code",
      "metadata": {
        "id": "M0RtqjqUwChl"
      },
      "source": [
        "#construyo el grafo\n",
        "\n",
        "grafo= nx.from_pandas_adjacency(matriz) "
      ],
      "execution_count": 85,
      "outputs": []
    },
    {
      "cell_type": "code",
      "metadata": {
        "colab": {
          "base_uri": "https://localhost:8080/",
          "height": 273
        },
        "id": "rIYrONuxqiGz",
        "outputId": "e09ff26e-9e73-450a-a55d-472886011a72"
      },
      "source": [
        "plt.figure(figsize=(12,4))\n",
        "\n",
        "plt.subplot(131)\n",
        "nx.draw(grafo, with_labels=True, font_weight='bold')\n",
        "plt.title('spring')\n",
        "\n",
        "plt.subplot(132)\n",
        "layout=nx.fruchterman_reingold_layout(grafo)\n",
        "nx.draw(grafo,layout, with_labels=True, font_weight='bold')\n",
        "plt.title('fruchterman reingold')\n",
        "\n",
        "plt.subplot(133)\n",
        "layout=nx.circular_layout(grafo)\n",
        "nx.draw(grafo,layout, with_labels=True, font_weight='bold')\n",
        "plt.title('circular');"
      ],
      "execution_count": 89,
      "outputs": [
        {
          "output_type": "display_data",
          "data": {
            "image/png": "[encoded data removed]",
            "text/plain": [
              "<Figure size 864x288 with 3 Axes>"
            ]
          },
          "metadata": {}
        }
      ]
    },
    {
      "cell_type": "markdown",
      "metadata": {
        "id": "wgT5IDwtt1ai"
      },
      "source": [
        "Caracterización del grafo"
      ]
    },
    {
      "cell_type": "code",
      "metadata": {
        "colab": {
          "base_uri": "https://localhost:8080/"
        },
        "id": "h4c-yrWlmun8",
        "outputId": "05d10560-07f4-4ad8-b35c-cd14d31873d0"
      },
      "source": [
        "## Número de nodos y de aristas\n",
        "\n",
        "print(nx.info(grafo))\n",
        "print('Is weigthed:',nx.is_weighted(grafo))\n",
        "\n",
        "grafo.number_of_nodes(), grafo.number_of_edges()"
      ],
      "execution_count": 94,
      "outputs": [
        {
          "output_type": "stream",
          "name": "stdout",
          "text": [
            "Graph with 804 nodes and 2670 edges\n",
            "Is weigthed: True\n"
          ]
        },
        {
          "output_type": "execute_result",
          "data": {
            "text/plain": [
              "(804, 2670)"
            ]
          },
          "metadata": {},
          "execution_count": 94
        }
      ]
    },
    {
      "cell_type": "code",
      "metadata": {
        "colab": {
          "base_uri": "https://localhost:8080/",
          "height": 161
        },
        "id": "n0-E6pGftO-1",
        "outputId": "1a118c54-87e8-4116-b3d7-ac10713e883d"
      },
      "source": [
        "# Para ver una lista de aristas o nodos\n",
        "pd.DataFrame.from_dict(grafo.edges).rename(columns={0:'from',1:'to'}).T"
      ],
      "execution_count": 95,
      "outputs": [
        {
          "output_type": "execute_result",
          "data": {
            "text/html": [
              "<div>\n",
              "<style scoped>\n",
              "    .dataframe tbody tr th:only-of-type {\n",
              "        vertical-align: middle;\n",
              "    }\n",
              "\n",
              "    .dataframe tbody tr th {\n",
              "        vertical-align: top;\n",
              "    }\n",
              "\n",
              "    .dataframe thead th {\n",
              "        text-align: right;\n",
              "    }\n",
              "</style>\n",
              "<table border=\"1\" class=\"dataframe\">\n",
              "  <thead>\n",
              "    <tr style=\"text-align: right;\">\n",
              "      <th></th>\n",
              "      <th>0</th>\n",
              "      <th>1</th>\n",
              "      <th>2</th>\n",
              "      <th>3</th>\n",
              "      <th>4</th>\n",
              "      <th>5</th>\n",
              "      <th>6</th>\n",
              "      <th>7</th>\n",
              "      <th>8</th>\n",
              "      <th>9</th>\n",
              "      <th>10</th>\n",
              "      <th>11</th>\n",
              "      <th>12</th>\n",
              "      <th>13</th>\n",
              "      <th>14</th>\n",
              "      <th>15</th>\n",
              "      <th>16</th>\n",
              "      <th>17</th>\n",
              "      <th>18</th>\n",
              "      <th>19</th>\n",
              "      <th>20</th>\n",
              "      <th>21</th>\n",
              "      <th>22</th>\n",
              "      <th>23</th>\n",
              "      <th>24</th>\n",
              "      <th>25</th>\n",
              "      <th>26</th>\n",
              "      <th>27</th>\n",
              "      <th>28</th>\n",
              "      <th>29</th>\n",
              "      <th>30</th>\n",
              "      <th>31</th>\n",
              "      <th>32</th>\n",
              "      <th>33</th>\n",
              "      <th>34</th>\n",
              "      <th>35</th>\n",
              "      <th>36</th>\n",
              "      <th>37</th>\n",
              "      <th>38</th>\n",
              "      <th>39</th>\n",
              "      <th>...</th>\n",
              "      <th>2630</th>\n",
              "      <th>2631</th>\n",
              "      <th>2632</th>\n",
              "      <th>2633</th>\n",
              "      <th>2634</th>\n",
              "      <th>2635</th>\n",
              "      <th>2636</th>\n",
              "      <th>2637</th>\n",
              "      <th>2638</th>\n",
              "      <th>2639</th>\n",
              "      <th>2640</th>\n",
              "      <th>2641</th>\n",
              "      <th>2642</th>\n",
              "      <th>2643</th>\n",
              "      <th>2644</th>\n",
              "      <th>2645</th>\n",
              "      <th>2646</th>\n",
              "      <th>2647</th>\n",
              "      <th>2648</th>\n",
              "      <th>2649</th>\n",
              "      <th>2650</th>\n",
              "      <th>2651</th>\n",
              "      <th>2652</th>\n",
              "      <th>2653</th>\n",
              "      <th>2654</th>\n",
              "      <th>2655</th>\n",
              "      <th>2656</th>\n",
              "      <th>2657</th>\n",
              "      <th>2658</th>\n",
              "      <th>2659</th>\n",
              "      <th>2660</th>\n",
              "      <th>2661</th>\n",
              "      <th>2662</th>\n",
              "      <th>2663</th>\n",
              "      <th>2664</th>\n",
              "      <th>2665</th>\n",
              "      <th>2666</th>\n",
              "      <th>2667</th>\n",
              "      <th>2668</th>\n",
              "      <th>2669</th>\n",
              "    </tr>\n",
              "  </thead>\n",
              "  <tbody>\n",
              "    <tr>\n",
              "      <th>from</th>\n",
              "      <td>America</td>\n",
              "      <td>America</td>\n",
              "      <td>America</td>\n",
              "      <td>America</td>\n",
              "      <td>Christ</td>\n",
              "      <td>Christmas</td>\n",
              "      <td>Christmas</td>\n",
              "      <td>Christmas</td>\n",
              "      <td>Christmas</td>\n",
              "      <td>English</td>\n",
              "      <td>English</td>\n",
              "      <td>English</td>\n",
              "      <td>English</td>\n",
              "      <td>Europe</td>\n",
              "      <td>Europe</td>\n",
              "      <td>Europe</td>\n",
              "      <td>France</td>\n",
              "      <td>Friday</td>\n",
              "      <td>Friday</td>\n",
              "      <td>Friday</td>\n",
              "      <td>Friday</td>\n",
              "      <td>Friday</td>\n",
              "      <td>Friday</td>\n",
              "      <td>Germany</td>\n",
              "      <td>God</td>\n",
              "      <td>God</td>\n",
              "      <td>God</td>\n",
              "      <td>God</td>\n",
              "      <td>God</td>\n",
              "      <td>God</td>\n",
              "      <td>God</td>\n",
              "      <td>Jesus</td>\n",
              "      <td>Jesus</td>\n",
              "      <td>Monday</td>\n",
              "      <td>Monday</td>\n",
              "      <td>Monday</td>\n",
              "      <td>Monday</td>\n",
              "      <td>Monday</td>\n",
              "      <td>Monday</td>\n",
              "      <td>Monday</td>\n",
              "      <td>...</td>\n",
              "      <td>transport</td>\n",
              "      <td>travel</td>\n",
              "      <td>tree</td>\n",
              "      <td>trouble</td>\n",
              "      <td>trouble</td>\n",
              "      <td>true</td>\n",
              "      <td>try</td>\n",
              "      <td>try</td>\n",
              "      <td>type</td>\n",
              "      <td>unless</td>\n",
              "      <td>unless</td>\n",
              "      <td>until</td>\n",
              "      <td>up</td>\n",
              "      <td>up</td>\n",
              "      <td>value</td>\n",
              "      <td>view</td>\n",
              "      <td>view</td>\n",
              "      <td>vote</td>\n",
              "      <td>want</td>\n",
              "      <td>war</td>\n",
              "      <td>water</td>\n",
              "      <td>water</td>\n",
              "      <td>we</td>\n",
              "      <td>what</td>\n",
              "      <td>what</td>\n",
              "      <td>what</td>\n",
              "      <td>what</td>\n",
              "      <td>what</td>\n",
              "      <td>what</td>\n",
              "      <td>when</td>\n",
              "      <td>when</td>\n",
              "      <td>whether</td>\n",
              "      <td>why</td>\n",
              "      <td>wife</td>\n",
              "      <td>will</td>\n",
              "      <td>will</td>\n",
              "      <td>with</td>\n",
              "      <td>without</td>\n",
              "      <td>woman</td>\n",
              "      <td>would</td>\n",
              "    </tr>\n",
              "    <tr>\n",
              "      <th>to</th>\n",
              "      <td>college</td>\n",
              "      <td>country</td>\n",
              "      <td>free</td>\n",
              "      <td>state</td>\n",
              "      <td>Jesus</td>\n",
              "      <td>holiday</td>\n",
              "      <td>tree</td>\n",
              "      <td>whole</td>\n",
              "      <td>wish</td>\n",
              "      <td>language</td>\n",
              "      <td>subject</td>\n",
              "      <td>tea</td>\n",
              "      <td>word</td>\n",
              "      <td>France</td>\n",
              "      <td>Germany</td>\n",
              "      <td>travel</td>\n",
              "      <td>Germany</td>\n",
              "      <td>Monday</td>\n",
              "      <td>Saturday</td>\n",
              "      <td>Thursday</td>\n",
              "      <td>day</td>\n",
              "      <td>happy</td>\n",
              "      <td>pay</td>\n",
              "      <td>family</td>\n",
              "      <td>Jesus</td>\n",
              "      <td>believe</td>\n",
              "      <td>big</td>\n",
              "      <td>church</td>\n",
              "      <td>create</td>\n",
              "      <td>good</td>\n",
              "      <td>one</td>\n",
              "      <td>church</td>\n",
              "      <td>stupid</td>\n",
              "      <td>Sunday</td>\n",
              "      <td>Thursday</td>\n",
              "      <td>Tuesday</td>\n",
              "      <td>Wednesday</td>\n",
              "      <td>first</td>\n",
              "      <td>morning</td>\n",
              "      <td>today</td>\n",
              "      <td>...</td>\n",
              "      <td>wrong</td>\n",
              "      <td>world</td>\n",
              "      <td>wood</td>\n",
              "      <td>war</td>\n",
              "      <td>yesterday</td>\n",
              "      <td>trust</td>\n",
              "      <td>use</td>\n",
              "      <td>work</td>\n",
              "      <td>write</td>\n",
              "      <td>until</td>\n",
              "      <td>you</td>\n",
              "      <td>when</td>\n",
              "      <td>use</td>\n",
              "      <td>weigh</td>\n",
              "      <td>worth</td>\n",
              "      <td>watch</td>\n",
              "      <td>world</td>\n",
              "      <td>vote</td>\n",
              "      <td>wish</td>\n",
              "      <td>world</td>\n",
              "      <td>well</td>\n",
              "      <td>wind</td>\n",
              "      <td>you</td>\n",
              "      <td>when</td>\n",
              "      <td>where</td>\n",
              "      <td>which</td>\n",
              "      <td>who</td>\n",
              "      <td>why</td>\n",
              "      <td>world</td>\n",
              "      <td>where</td>\n",
              "      <td>why</td>\n",
              "      <td>why</td>\n",
              "      <td>wonder</td>\n",
              "      <td>woman</td>\n",
              "      <td>would</td>\n",
              "      <td>you</td>\n",
              "      <td>without</td>\n",
              "      <td>you</td>\n",
              "      <td>wonder</td>\n",
              "      <td>you</td>\n",
              "    </tr>\n",
              "  </tbody>\n",
              "</table>\n",
              "<p>2 rows × 2670 columns</p>\n",
              "</div>"
            ],
            "text/plain": [
              "         0        1        2        3     ...     2666     2667    2668   2669\n",
              "from  America  America  America  America  ...     with  without   woman  would\n",
              "to    college  country     free    state  ...  without      you  wonder    you\n",
              "\n",
              "[2 rows x 2670 columns]"
            ]
          },
          "metadata": {},
          "execution_count": 95
        }
      ]
    },
    {
      "cell_type": "code",
      "metadata": {
        "colab": {
          "base_uri": "https://localhost:8080/"
        },
        "id": "MBGkoNLhtdgd",
        "outputId": "8680bbf5-bfb0-40fb-def3-3e836edd6431"
      },
      "source": [
        "# Tiene multiples aristas o loops\n",
        "grafo.is_multigraph()"
      ],
      "execution_count": 96,
      "outputs": [
        {
          "output_type": "execute_result",
          "data": {
            "text/plain": [
              "False"
            ]
          },
          "metadata": {},
          "execution_count": 96
        }
      ]
    },
    {
      "cell_type": "code",
      "metadata": {
        "colab": {
          "base_uri": "https://localhost:8080/"
        },
        "id": "OSHFaEbKtkUN",
        "outputId": "fd79babb-9616-4e20-87bf-5d8e6516cec1"
      },
      "source": [
        "# Están conectados?\n",
        "nx.is_connected(grafo)"
      ],
      "execution_count": 97,
      "outputs": [
        {
          "output_type": "execute_result",
          "data": {
            "text/plain": [
              "True"
            ]
          },
          "metadata": {},
          "execution_count": 97
        }
      ]
    },
    {
      "cell_type": "code",
      "metadata": {
        "colab": {
          "base_uri": "https://localhost:8080/"
        },
        "id": "-qZm7VR5tqC1",
        "outputId": "a091f8d3-f4c4-4845-8456-d5eeb67a5d12"
      },
      "source": [
        "# diámetro de la red\n",
        "\n",
        "nx.diameter(grafo)"
      ],
      "execution_count": 98,
      "outputs": [
        {
          "output_type": "execute_result",
          "data": {
            "text/plain": [
              "8"
            ]
          },
          "metadata": {},
          "execution_count": 98
        }
      ]
    },
    {
      "cell_type": "code",
      "metadata": {
        "colab": {
          "base_uri": "https://localhost:8080/"
        },
        "id": "pcTc36CbtxcB",
        "outputId": "8efcd543-7fb6-42fb-d438-1c39afa5e0b7"
      },
      "source": [
        "# densidad\n",
        "\n",
        "nx.density(grafo)"
      ],
      "execution_count": 99,
      "outputs": [
        {
          "output_type": "execute_result",
          "data": {
            "text/plain": [
              "0.008271221724503262"
            ]
          },
          "metadata": {},
          "execution_count": 99
        }
      ]
    },
    {
      "cell_type": "code",
      "metadata": {
        "colab": {
          "base_uri": "https://localhost:8080/"
        },
        "id": "VYUFofh1t-KA",
        "outputId": "471dcc11-ff64-49e9-9455-2013a213ae4f"
      },
      "source": [
        "#coeficiente de clustering\n",
        "\n",
        "nx.average_clustering(grafo)"
      ],
      "execution_count": 100,
      "outputs": [
        {
          "output_type": "execute_result",
          "data": {
            "text/plain": [
              "0.08850726922631985"
            ]
          },
          "metadata": {},
          "execution_count": 100
        }
      ]
    }
  ]
}