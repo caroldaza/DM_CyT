{
  "cells": [
    {
      "cell_type": "markdown",
      "metadata": {
        "id": "view-in-github",
        "colab_type": "text"
      },
      "source": [
        "<a href=\"https://colab.research.google.com/github/caroldaza/DM_CyT/blob/main/smallworldofwords_v0.ipynb\" target=\"_parent\"><img src=\"https://colab.research.google.com/assets/colab-badge.svg\" alt=\"Open In Colab\"/></a>"
      ]
    },
    {
      "cell_type": "code",
      "execution_count": null,
      "metadata": {
        "colab": {
          "base_uri": "https://localhost:8080/"
        },
        "id": "wVD57AEt99dT",
        "outputId": "bb28b998-e205-47ba-ea84-8bc4900c8bc5"
      },
      "outputs": [
        {
          "name": "stdout",
          "output_type": "stream",
          "text": [
            "Mounted at /content/drive\n"
          ]
        }
      ],
      "source": [
        "from google.colab import drive\n",
        "drive.mount('/content/drive')"
      ]
    },
    {
      "cell_type": "code",
      "execution_count": null,
      "metadata": {
        "id": "B6nE0fEU-VcN"
      },
      "outputs": [],
      "source": [
        "import sys\n",
        "sys.path.append('/content/drive/MyDrive/')"
      ]
    },
    {
      "cell_type": "code",
      "execution_count": null,
      "metadata": {
        "id": "QKAeAB7L_WZL"
      },
      "outputs": [],
      "source": [
        "import time\n",
        "import matplotlib.pyplot as plt\n",
        "import matplotlib as mpl\n",
        "import seaborn as sns\n",
        "sns.set_context('poster')\n",
        "mpl.rcParams['figure.figsize'] = (8,6)\n",
        "\n",
        "import numpy as np\n",
        "import pandas as pd   \n",
        "\n",
        "!pip install networkx powerlaw community\n",
        "\n",
        "import networkx as nx\n",
        "import community\n",
        "import powerlaw\n",
        "from gensim import corpora, models, similarities, matutils\n",
        "from gensim.models.word2vec import Word2Vec\n",
        "from gensim.models import KeyedVectors\n",
        "\n",
        "from sklearn.metrics import adjusted_rand_score"
      ]
    },
    {
      "cell_type": "code",
      "execution_count": null,
      "metadata": {
        "colab": {
          "base_uri": "https://localhost:8080/",
          "height": 206
        },
        "id": "K0ipWKJ0_zFx",
        "outputId": "3515644f-6f19-489a-c2f7-bb0aa8a72088"
      },
      "outputs": [
        {
          "data": {
            "text/html": [
              "<div>\n",
              "<style scoped>\n",
              "    .dataframe tbody tr th:only-of-type {\n",
              "        vertical-align: middle;\n",
              "    }\n",
              "\n",
              "    .dataframe tbody tr th {\n",
              "        vertical-align: top;\n",
              "    }\n",
              "\n",
              "    .dataframe thead th {\n",
              "        text-align: right;\n",
              "    }\n",
              "</style>\n",
              "<table border=\"1\" class=\"dataframe\">\n",
              "  <thead>\n",
              "    <tr style=\"text-align: right;\">\n",
              "      <th></th>\n",
              "      <th>Unnamed: 0</th>\n",
              "      <th>id</th>\n",
              "      <th>participantID</th>\n",
              "      <th>age</th>\n",
              "      <th>gender</th>\n",
              "      <th>nativeLanguage</th>\n",
              "      <th>country</th>\n",
              "      <th>education</th>\n",
              "      <th>created_at</th>\n",
              "      <th>cue</th>\n",
              "      <th>R1</th>\n",
              "      <th>R2</th>\n",
              "      <th>R3</th>\n",
              "    </tr>\n",
              "  </thead>\n",
              "  <tbody>\n",
              "    <tr>\n",
              "      <th>0</th>\n",
              "      <td>1</td>\n",
              "      <td>29</td>\n",
              "      <td>3</td>\n",
              "      <td>33</td>\n",
              "      <td>Fe</td>\n",
              "      <td>United States</td>\n",
              "      <td>Australia</td>\n",
              "      <td>NaN</td>\n",
              "      <td>2011-08-12 02:19:38</td>\n",
              "      <td>although</td>\n",
              "      <td>nevertheless</td>\n",
              "      <td>yet</td>\n",
              "      <td>but</td>\n",
              "    </tr>\n",
              "    <tr>\n",
              "      <th>1</th>\n",
              "      <td>2</td>\n",
              "      <td>30</td>\n",
              "      <td>3</td>\n",
              "      <td>33</td>\n",
              "      <td>Fe</td>\n",
              "      <td>United States</td>\n",
              "      <td>Australia</td>\n",
              "      <td>NaN</td>\n",
              "      <td>2011-08-12 02:19:38</td>\n",
              "      <td>deal</td>\n",
              "      <td>no</td>\n",
              "      <td>cards</td>\n",
              "      <td>shake</td>\n",
              "    </tr>\n",
              "    <tr>\n",
              "      <th>2</th>\n",
              "      <td>3</td>\n",
              "      <td>31</td>\n",
              "      <td>3</td>\n",
              "      <td>33</td>\n",
              "      <td>Fe</td>\n",
              "      <td>United States</td>\n",
              "      <td>Australia</td>\n",
              "      <td>NaN</td>\n",
              "      <td>2011-08-12 02:19:38</td>\n",
              "      <td>music</td>\n",
              "      <td>notes</td>\n",
              "      <td>band</td>\n",
              "      <td>rhythm</td>\n",
              "    </tr>\n",
              "    <tr>\n",
              "      <th>3</th>\n",
              "      <td>4</td>\n",
              "      <td>32</td>\n",
              "      <td>3</td>\n",
              "      <td>33</td>\n",
              "      <td>Fe</td>\n",
              "      <td>United States</td>\n",
              "      <td>Australia</td>\n",
              "      <td>NaN</td>\n",
              "      <td>2011-08-12 02:19:38</td>\n",
              "      <td>inform</td>\n",
              "      <td>tell</td>\n",
              "      <td>rat on</td>\n",
              "      <td>NaN</td>\n",
              "    </tr>\n",
              "    <tr>\n",
              "      <th>4</th>\n",
              "      <td>5</td>\n",
              "      <td>33</td>\n",
              "      <td>3</td>\n",
              "      <td>33</td>\n",
              "      <td>Fe</td>\n",
              "      <td>United States</td>\n",
              "      <td>Australia</td>\n",
              "      <td>NaN</td>\n",
              "      <td>2011-08-12 02:19:38</td>\n",
              "      <td>way</td>\n",
              "      <td>path</td>\n",
              "      <td>via</td>\n",
              "      <td>method</td>\n",
              "    </tr>\n",
              "  </tbody>\n",
              "</table>\n",
              "</div>"
            ],
            "text/plain": [
              "   Unnamed: 0  id  participantID  age  ...       cue            R1      R2      R3\n",
              "0           1  29              3   33  ...  although  nevertheless     yet     but\n",
              "1           2  30              3   33  ...      deal            no   cards   shake\n",
              "2           3  31              3   33  ...     music         notes    band  rhythm\n",
              "3           4  32              3   33  ...    inform          tell  rat on     NaN\n",
              "4           5  33              3   33  ...       way          path     via  method\n",
              "\n",
              "[5 rows x 13 columns]"
            ]
          },
          "execution_count": 9,
          "metadata": {},
          "output_type": "execute_result"
        }
      ],
      "source": [
        "filename = '/content/drive/MyDrive/SWOW-EN.R100.csv.zip'\n",
        "datos = pd.read_csv(filename, sep=',')\n",
        "datos.head()"
      ]
    },
    {
      "cell_type": "code",
      "execution_count": null,
      "metadata": {
        "colab": {
          "base_uri": "https://localhost:8080/",
          "height": 206
        },
        "id": "nOAgC5PR_ZA1",
        "outputId": "aa18fcf5-aea9-438e-f503-eae4913efa27"
      },
      "outputs": [
        {
          "data": {
            "text/html": [
              "<div>\n",
              "<style scoped>\n",
              "    .dataframe tbody tr th:only-of-type {\n",
              "        vertical-align: middle;\n",
              "    }\n",
              "\n",
              "    .dataframe tbody tr th {\n",
              "        vertical-align: top;\n",
              "    }\n",
              "\n",
              "    .dataframe thead th {\n",
              "        text-align: right;\n",
              "    }\n",
              "</style>\n",
              "<table border=\"1\" class=\"dataframe\">\n",
              "  <thead>\n",
              "    <tr style=\"text-align: right;\">\n",
              "      <th></th>\n",
              "      <th>cue</th>\n",
              "      <th>R1</th>\n",
              "    </tr>\n",
              "  </thead>\n",
              "  <tbody>\n",
              "    <tr>\n",
              "      <th>0</th>\n",
              "      <td>although</td>\n",
              "      <td>nevertheless</td>\n",
              "    </tr>\n",
              "    <tr>\n",
              "      <th>1</th>\n",
              "      <td>deal</td>\n",
              "      <td>no</td>\n",
              "    </tr>\n",
              "    <tr>\n",
              "      <th>2</th>\n",
              "      <td>music</td>\n",
              "      <td>notes</td>\n",
              "    </tr>\n",
              "    <tr>\n",
              "      <th>3</th>\n",
              "      <td>inform</td>\n",
              "      <td>tell</td>\n",
              "    </tr>\n",
              "    <tr>\n",
              "      <th>4</th>\n",
              "      <td>way</td>\n",
              "      <td>path</td>\n",
              "    </tr>\n",
              "  </tbody>\n",
              "</table>\n",
              "</div>"
            ],
            "text/plain": [
              "        cue            R1\n",
              "0  although  nevertheless\n",
              "1      deal            no\n",
              "2     music         notes\n",
              "3    inform          tell\n",
              "4       way          path"
            ]
          },
          "execution_count": 10,
          "metadata": {},
          "output_type": "execute_result"
        }
      ],
      "source": [
        "# Nos quedamos solo con la cue y la primera palabra. Tambien botamos Nans\n",
        "data = datos.loc[:,['cue','R1']]\n",
        "data = data.dropna(how='any')\n",
        "\n",
        "# Sacar palabras de una letra\n",
        "data.drop(data[data['cue'].str.len().lt(2)].index, inplace=True)\n",
        "data.drop(data[data['R1'].str.len().lt(2)].index, inplace=True)\n",
        "\n",
        "data.head()"
      ]
    },
    {
      "cell_type": "code",
      "execution_count": null,
      "metadata": {
        "colab": {
          "base_uri": "https://localhost:8080/"
        },
        "id": "Xcc68n59RkwS",
        "outputId": "597bafbc-ad1f-4d3a-d15b-414951f305a5"
      },
      "outputs": [
        {
          "data": {
            "text/plain": [
              "1194119"
            ]
          },
          "execution_count": 61,
          "metadata": {},
          "output_type": "execute_result"
        }
      ],
      "source": [
        "data.shape[0]"
      ]
    },
    {
      "cell_type": "code",
      "execution_count": null,
      "metadata": {
        "colab": {
          "base_uri": "https://localhost:8080/"
        },
        "id": "Eqfj1GNCXR9D",
        "outputId": "2494a92f-ec4d-4c91-b606-e27b46e5a7e9"
      },
      "outputs": [
        {
          "name": "stdout",
          "output_type": "stream",
          "text": [
            "(12258,)\n",
            "(64663,)\n"
          ]
        }
      ],
      "source": [
        "# ¿Cuántas claves y respuestas son únicas?\n",
        "print(data['cue'].unique().shape)\n",
        "print(data['R1'].unique().shape)"
      ]
    },
    {
      "cell_type": "code",
      "execution_count": null,
      "metadata": {
        "colab": {
          "base_uri": "https://localhost:8080/"
        },
        "id": "BWVqQSOG5-5d",
        "outputId": "3a633e14-55fb-465d-829e-df1c893fe1a9"
      },
      "outputs": [
        {
          "name": "stdout",
          "output_type": "stream",
          "text": [
            "1067977\n",
            "1185365\n"
          ]
        }
      ],
      "source": [
        "# ¿cuántas palabras de R1 están en Cue? ¿alrevés?\n",
        "print(sum(data['R1'].isin(data['cue'].unique())))\n",
        "print(sum(data['cue'].isin(data['R1'].unique())))"
      ]
    },
    {
      "cell_type": "code",
      "execution_count": null,
      "metadata": {
        "id": "4bL0BAER6ONo"
      },
      "outputs": [],
      "source": [
        "# Sacar palabras que no este en cue Y en R1\n",
        "data.drop(data[data['R1'].isin(data['cue'].unique())==False].index, inplace=True)\n",
        "data.drop(data[data['cue'].isin(data['R1'].unique())==False].index, inplace=True)"
      ]
    },
    {
      "cell_type": "code",
      "execution_count": null,
      "metadata": {
        "colab": {
          "base_uri": "https://localhost:8080/"
        },
        "id": "q6tgD1sAGA5r",
        "outputId": "e0110655-9850-4455-896b-3553115031b9"
      },
      "outputs": [
        {
          "data": {
            "text/plain": [
              "1060109"
            ]
          },
          "execution_count": 26,
          "metadata": {},
          "output_type": "execute_result"
        }
      ],
      "source": [
        "data.shape[0]"
      ]
    },
    {
      "cell_type": "code",
      "execution_count": null,
      "metadata": {
        "id": "HLqWXq2FQ3_N"
      },
      "outputs": [],
      "source": [
        "new_df = data['cue'].str.split(expand=True).stack().value_counts().reset_index()\n",
        "new_df.columns = ['Word', 'Frequency'] "
      ]
    },
    {
      "cell_type": "code",
      "execution_count": null,
      "metadata": {
        "colab": {
          "base_uri": "https://localhost:8080/",
          "height": 424
        },
        "id": "TJGHnJ-xRLG1",
        "outputId": "c43d6921-bd42-4851-cd08-22834d3f6452"
      },
      "outputs": [
        {
          "data": {
            "text/html": [
              "<div>\n",
              "<style scoped>\n",
              "    .dataframe tbody tr th:only-of-type {\n",
              "        vertical-align: middle;\n",
              "    }\n",
              "\n",
              "    .dataframe tbody tr th {\n",
              "        vertical-align: top;\n",
              "    }\n",
              "\n",
              "    .dataframe thead th {\n",
              "        text-align: right;\n",
              "    }\n",
              "</style>\n",
              "<table border=\"1\" class=\"dataframe\">\n",
              "  <thead>\n",
              "    <tr style=\"text-align: right;\">\n",
              "      <th></th>\n",
              "      <th>Word</th>\n",
              "      <th>Frequency</th>\n",
              "    </tr>\n",
              "  </thead>\n",
              "  <tbody>\n",
              "    <tr>\n",
              "      <th>0</th>\n",
              "      <td>up</td>\n",
              "      <td>2021</td>\n",
              "    </tr>\n",
              "    <tr>\n",
              "      <th>1</th>\n",
              "      <td>not</td>\n",
              "      <td>1167</td>\n",
              "    </tr>\n",
              "    <tr>\n",
              "      <th>2</th>\n",
              "      <td>out</td>\n",
              "      <td>1061</td>\n",
              "    </tr>\n",
              "    <tr>\n",
              "      <th>3</th>\n",
              "      <td>on</td>\n",
              "      <td>961</td>\n",
              "    </tr>\n",
              "    <tr>\n",
              "      <th>4</th>\n",
              "      <td>down</td>\n",
              "      <td>830</td>\n",
              "    </tr>\n",
              "    <tr>\n",
              "      <th>...</th>\n",
              "      <td>...</td>\n",
              "      <td>...</td>\n",
              "    </tr>\n",
              "    <tr>\n",
              "      <th>11868</th>\n",
              "      <td>ping</td>\n",
              "      <td>33</td>\n",
              "    </tr>\n",
              "    <tr>\n",
              "      <th>11869</th>\n",
              "      <td>Homer</td>\n",
              "      <td>29</td>\n",
              "    </tr>\n",
              "    <tr>\n",
              "      <th>11870</th>\n",
              "      <td>adrenal</td>\n",
              "      <td>26</td>\n",
              "    </tr>\n",
              "    <tr>\n",
              "      <th>11871</th>\n",
              "      <td>Sherlock</td>\n",
              "      <td>23</td>\n",
              "    </tr>\n",
              "    <tr>\n",
              "      <th>11872</th>\n",
              "      <td>pituitary</td>\n",
              "      <td>9</td>\n",
              "    </tr>\n",
              "  </tbody>\n",
              "</table>\n",
              "<p>11873 rows × 2 columns</p>\n",
              "</div>"
            ],
            "text/plain": [
              "            Word  Frequency\n",
              "0             up       2021\n",
              "1            not       1167\n",
              "2            out       1061\n",
              "3             on        961\n",
              "4           down        830\n",
              "...          ...        ...\n",
              "11868       ping         33\n",
              "11869      Homer         29\n",
              "11870    adrenal         26\n",
              "11871   Sherlock         23\n",
              "11872  pituitary          9\n",
              "\n",
              "[11873 rows x 2 columns]"
            ]
          },
          "execution_count": 28,
          "metadata": {},
          "output_type": "execute_result"
        }
      ],
      "source": [
        "new_df"
      ]
    },
    {
      "cell_type": "code",
      "execution_count": null,
      "metadata": {
        "colab": {
          "base_uri": "https://localhost:8080/",
          "height": 282
        },
        "id": "8t8X86pNnQBi",
        "outputId": "ebb51eb8-fcd5-44a9-faaa-3eafdbea9970"
      },
      "outputs": [
        {
          "data": {
            "text/plain": [
              "[<matplotlib.lines.Line2D at 0x7f7c8b453410>]"
            ]
          },
          "execution_count": 103,
          "metadata": {},
          "output_type": "execute_result"
        },
        {
          "data": {
            "image/png": "[encoded data removed]",
            "text/plain": [
              "<Figure size 432x288 with 1 Axes>"
            ]
          },
          "metadata": {},
          "output_type": "display_data"
        }
      ],
      "source": [
        "\n",
        "plt.plot(new_df['Frequency'],'ro')"
      ]
    },
    {
      "cell_type": "code",
      "execution_count": null,
      "metadata": {
        "colab": {
          "base_uri": "https://localhost:8080/",
          "height": 309
        },
        "id": "fwz2QtAfiDvP",
        "outputId": "bb0b0f6f-5c10-41e4-bb33-724d76021eb1"
      },
      "outputs": [
        {
          "data": {
            "text/plain": [
              "Text(0, 0.5, 'frequency')"
            ]
          },
          "execution_count": 104,
          "metadata": {},
          "output_type": "execute_result"
        },
        {
          "data": {
            "image/png": "[encoded data removed]",
            "text/plain": [
              "<Figure size 432x288 with 1 Axes>"
            ]
          },
          "metadata": {},
          "output_type": "display_data"
        }
      ],
      "source": [
        "\n",
        "#plt.loglog(np.linspace(1, len(new_df['Frequency']),len(new_df['Frequency'])),new_df['Frequency'].to_numpy())\n",
        "pyplot.yscale('log')\n",
        "pyplot.xscale('log')\n",
        "plt.plot(new_df['Frequency'],'ro')\n",
        "plt.xlabel(\"cue\",fontsize=20)\n",
        "plt.ylabel(\"frequency\",fontsize=20)"
      ]
    },
    {
      "cell_type": "code",
      "execution_count": null,
      "metadata": {
        "id": "dAfhg2AUmxax"
      },
      "outputs": [],
      "source": [
        "new_df_R1 = df['R1'].str.split(expand=True).stack().value_counts().reset_index()\n",
        "new_df_R1.columns = ['Word', 'Frequency'] "
      ]
    },
    {
      "cell_type": "code",
      "execution_count": null,
      "metadata": {
        "colab": {
          "base_uri": "https://localhost:8080/",
          "height": 282
        },
        "id": "ADIhHknhmquZ",
        "outputId": "71518517-3204-494b-9968-9eb7b3c1ab63"
      },
      "outputs": [
        {
          "data": {
            "text/plain": [
              "[<matplotlib.lines.Line2D at 0x7f7c867206d0>]"
            ]
          },
          "execution_count": 106,
          "metadata": {},
          "output_type": "execute_result"
        },
        {
          "data": {
            "image/png": "[encoded data removed]",
            "text/plain": [
              "<Figure size 432x288 with 1 Axes>"
            ]
          },
          "metadata": {},
          "output_type": "display_data"
        }
      ],
      "source": [
        "plt.plot(new_df_R1['Frequency'],'bo')"
      ]
    },
    {
      "cell_type": "code",
      "execution_count": null,
      "metadata": {
        "colab": {
          "base_uri": "https://localhost:8080/",
          "height": 309
        },
        "id": "L974eeRMmqIk",
        "outputId": "bc26e98d-4b59-46e1-8201-058776864a0e"
      },
      "outputs": [
        {
          "data": {
            "text/plain": [
              "Text(0, 0.5, 'frequency')"
            ]
          },
          "execution_count": 107,
          "metadata": {},
          "output_type": "execute_result"
        },
        {
          "data": {
            "image/png": "[encoded data removed]",
            "text/plain": [
              "<Figure size 432x288 with 1 Axes>"
            ]
          },
          "metadata": {},
          "output_type": "display_data"
        }
      ],
      "source": [
        "pyplot.yscale('log')\n",
        "pyplot.xscale('log')\n",
        "plt.plot(new_df_R1['Frequency'],'bo')\n",
        "plt.xlabel(\"R1\",fontsize=20)\n",
        "plt.ylabel(\"frequency\",fontsize=20)"
      ]
    },
    {
      "cell_type": "code",
      "execution_count": null,
      "metadata": {
        "colab": {
          "base_uri": "https://localhost:8080/"
        },
        "id": "gb8ahqwbbeuu",
        "outputId": "749ec7c3-a876-4961-c349-3a6cc9e8d591"
      },
      "outputs": [
        {
          "data": {
            "text/plain": [
              "(('although', 'nevertheless'),\n",
              " ('deal', 'no'),\n",
              " ('music', 'notes'),\n",
              " ('inform', 'tell'),\n",
              " ('way', 'path'))"
            ]
          },
          "execution_count": 29,
          "metadata": {},
          "output_type": "execute_result"
        }
      ],
      "source": [
        "# Creando una lista de tuplas para calcular la frecuencia de pares\n",
        "lista = np.array(data)\n",
        "lista_tuplas = tuple(map(tuple, lista))\n",
        "lista_tuplas[0:5]"
      ]
    },
    {
      "cell_type": "code",
      "execution_count": null,
      "metadata": {
        "colab": {
          "base_uri": "https://localhost:8080/"
        },
        "id": "06WNjt_hdWv-",
        "outputId": "2e0c21d5-b4f6-4f83-ccec-e25366abee0b"
      },
      "outputs": [
        {
          "data": {
            "text/plain": [
              "1060109"
            ]
          },
          "execution_count": 30,
          "metadata": {},
          "output_type": "execute_result"
        }
      ],
      "source": [
        "len(lista_tuplas)"
      ]
    },
    {
      "cell_type": "code",
      "execution_count": null,
      "metadata": {
        "colab": {
          "base_uri": "https://localhost:8080/"
        },
        "id": "nzgCQI7qBNMv",
        "outputId": "e55ab9ba-a2d4-447e-c499-184f460c2bc1"
      },
      "outputs": [
        {
          "name": "stdout",
          "output_type": "stream",
          "text": [
            "defaultdict(<class 'int'>, {'although': 89, 'deal': 89, 'music': 92, 'inform': 97, 'way': 88, 'extra': 97, 'will': 89, 'paper': 94, 'contract': 93, 'concern': 97, 'town': 88, 'couple': 90, 'mind': 98, 'maybe': 94, 'read': 92, 'board': 89, 'check': 92, 'occasion': 97, 'real': 94, 'seat': 95, 'chair': 94, 'provide': 90, 'budget': 94, 'land': 91, 'village': 90, 'feed': 95, 'exist': 98, 'Sunday': 93, 'wee': 94, 'glass': 95, 'sister': 83, 'know': 89, 'claim': 91, 'stairs': 93, 'dog': 92, 'key': 97, 'all': 90, 'grand': 94, 'carry': 96, 'recent': 85, 'simple': 92, 'set': 92, 'across': 83, 'parent': 98, 'Mrs': 80, 'plus': 94, 'wrong': 97, 'go': 96, 'assume': 83, 'pay': 98, 'possible': 88, 'pardon': 91, 'sheet': 97, 'industrialize': 77, 'act': 93, 'choice': 95, 'understand': 90, 'example': 78, 'space': 92, 'sleep': 94, 'cook': 95, 'waste': 96, 'well': 92, 'month': 93, 'tie': 92, 'advertise': 90, 'guess': 92, 'science': 92, 'reckon': 89, 'radio': 80, 'nation': 88, 'good': 96, 'part': 95, 'feel': 99, 'they': 93, 'other': 81, 'rate': 92, 'between': 79, 'very': 94, 'happen': 91, 'drop': 97, 'father': 95, 'except': 75, 'like': 96, 'stop': 94, 'hold': 97, 'supply': 90, 'decision': 98, 'brief': 98, 'sort': 89, 'quiet': 85, 'throw': 97, 'wish': 96, 'debate': 95, 'hospital': 89, 'deep': 90, 'miss': 85, 'beat': 94, 'much': 87, 'match': 90, 'open': 93, 'fill': 87, 'sorry': 83, 'resource': 84, 'road': 93, 'television': 71, 'square': 92, 'once': 81, 'recommend': 89, 'offer': 96, 'add': 96, 'definite': 91, 'client': 93, 'age': 87, 'card': 95, 'cut': 92, 'fund': 90, 'necessary': 85, 'language': 94, 'say': 95, 'get': 95, 'rule': 95, 'telephone': 92, 'cross': 88, 'note': 94, 'finish': 98, 'answer': 99, 'engine': 93, 'apparent': 84, 'switch': 89, 'office': 96, 'area': 92, 'lunch': 93, 'or': 96, 'lad': 90, 'money': 89, 'cover': 98, 'previous': 99, 'sign': 90, 'tonight': 84, 'depend': 92, 'hullo': 86, 'laugh': 89, 'coffee': 91, 'okay': 74, 'every': 97, 'force': 90, 'stage': 90, 'around': 86, 'same': 95, 'travel': 95, 'honest': 84, 'grow': 97, 'child': 92, 'state': 76, 'secure': 96, 'year': 83, 'odd': 97, 'wait': 89, 'buy': 96, 'attend': 85, 'press': 96, 'always': 89, 'cent': 94, 'story': 99, 'present': 100, 'than': 89, 'whether': 73, 'policy': 87, 'some': 99, 'box': 91, 'comment': 96, 'lie': 93, 'ask': 97, 'never': 90, 'history': 88, 'already': 90, 'paint': 93, 'sense': 96, 'help': 93, 'first': 89, 'meet': 90, 'agree': 84, 'morning': 88, 'probable': 95, 'detail': 82, 'mother': 91, 'cheap': 82, 'most': 95, 'mark': 78, 'active': 92, 'doctor': 97, 'succeed': 98, 'improve': 87, 'heat': 93, 'there': 87, 'head': 94, 'take': 94, 'two': 88, 'try': 95, 'sale': 90, 'process': 94, 'news': 97, 'own': 96, 'hard': 97, 'family': 98, 'lay': 87, 'build': 99, 'number': 85, 'subject': 97, 'blow': 97, 'further': 92, 'day': 94, 'lead': 92, 'bar': 91, 'knock': 88, 'position': 95, 'company': 83, 'fire': 95, 'few': 84, 'place': 97, 'shop': 91, 'matter': 85, 'council': 78, 'insure': 81, 'file': 91, 'party': 86, 'danger': 90, 'rid': 84, 'rather': 90, 'save': 85, 'worry': 93, 'king': 92, 'who': 80, 'actual': 96, 'either': 95, 'figure': 94, 'course': 97, 'order': 90, 'four': 92, 'free': 67, 'form': 94, 'hope': 94, 'woman': 97, 'absolute': 95, 'organize': 91, 'case': 94, 'ever': 96, 'low': 94, 'France': 86, 'horse': 82, 'write': 95, 'on': 89, 'with': 89, 'near': 95, 'recognize': 91, 'girl': 98, 'walk': 93, 'original': 94, 'fight': 94, 'sun': 97, 'door': 97, 'apply': 89, 'sit': 96, 'shoe': 89, 'it': 91, 'together': 88, 'Wednesday': 74, 'during': 80, 'eat': 93, 'perhaps': 97, 'can': 90, 'dress': 91, 'letter': 94, 'face': 94, 'life': 93, 'responsible': 95, 'welcome': 91, 'hair': 92, 'wonder': 89, 'ago': 92, 'should': 90, 'far': 93, 'in': 99, 'cup': 95, 'cold': 95, 'stand': 88, 'nature': 99, 'committee': 95, 'mean': 94, 'member': 91, 'bother': 81, 'again': 88, 'pension': 95, 'end': 95, 'oppose': 94, 'college': 95, 'site': 95, 'standard': 90, 'forward': 86, 'many': 99, 'more': 94, 'service': 94, 'high': 97, 'current': 96, 'work': 95, 'less': 95, 'baby': 96, 'strong': 90, 'consult': 90, 'country': 85, 'fall': 96, 'best': 87, 'kitchen': 94, 'begin': 91, 'city': 86, 'view': 96, 'give': 96, 'price': 96, 'so': 88, 'proper': 94, 'structure': 93, 'field': 89, 'husband': 98, 'start': 99, 'enough': 80, 'shall': 87, 'short': 91, 'evening': 89, 'each': 96, 'individual': 95, 'identify': 94, 'eight': 83, 'really': 90, 'presume': 90, 'society': 90, 'yesterday': 96, 'six': 87, 'bed': 94, 'report': 90, 'leave': 92, 'exact': 96, 'apart': 92, 'control': 93, 'thirty': 88, 'obvious': 83, 'heavy': 95, 'range': 86, 'excuse': 95, 'clear': 91, 'Thursday': 82, 'old': 98, 'copy': 97, 'hit': 90, 'true': 91, 'middle': 93, 'relation': 98, 'lose': 96, 'what': 94, 'friend': 91, 'hate': 98, 'size': 90, 'to': 96, 'Friday': 82, 'unless': 90, 'minister': 92, 'look': 97, 'term': 91, 'three': 80, 'back': 90, 'light': 90, 'involve': 87, 'compare': 84, 'bag': 92, 'dead': 87, 'argue': 97, 'difficult': 96, 'watch': 93, 'become': 81, 'staff': 79, 'night': 95, 'elect': 96, 'quid': 71, 'bus': 91, 'no': 96, 'leg': 94, 'exercise': 90, 'surprise': 83, 'social': 94, 'early': 90, 'hell': 90, 'paragraph': 93, 'photograph': 91, 'law': 83, 'balance': 89, 'department': 91, 'big': 98, 'value': 97, 'right': 95, 'consider': 88, 'twelve': 81, 'equal': 93, 'play': 98, 'thank': 97, 'half': 85, 'catch': 91, 'lord': 86, 'Jesus': 83, 'manage': 84, 'operate': 96, 'idea': 98, 'quick': 96, 'wash': 95, 'train': 86, 'quality': 89, 'meaning': 85, 'house': 97, 'transport': 94, 'moment': 93, 'protect': 94, 'young': 96, 'next': 89, 'guy': 98, 'fair': 87, 'fish': 87, 'aware': 85, 'second': 92, 'interest': 89, 'another': 90, 'cake': 94, 'health': 93, 'full': 81, 'could': 95, 'express': 91, 'both': 89, 'positive': 93, 'spell': 92, 'correct': 97, 'able': 78, 'function': 93, 'fortune': 90, 'receive': 95, 'enjoy': 96, 'from': 89, 'appear': 93, 'nice': 95, 'let': 98, 'thousand': 80, 'sick': 96, 'just': 91, 'minute': 86, 'red': 92, 'arm': 94, 'chance': 95, 'hundred': 86, 'slight': 91, 'game': 95, 'easy': 86, 'test': 97, 'create': 95, 'secretary': 92, 'sudden': 90, 'wind': 86, 'heart': 93, 'blood': 83, 'inside': 93, 'English': 97, 'talk': 91, 'regard': 92, 'one': 90, 'authority': 90, 'quite': 93, 'list': 84, 'under': 94, 'tend': 86, 'count': 83, 'step': 97, 'find': 92, 'use': 87, 'table': 83, 'touch': 97, 'remember': 89, 'awful': 99, 'jump': 95, 'community': 97, 'measure': 93, 'alright': 93, 'she': 96, 'new': 93, 'kid': 93, 'but': 98, 'street': 98, 'though': 80, 'against': 93, 'thirteen': 91, 'pick': 92, 'common': 93, 'time': 91, 'name': 79, 'teach': 93, 'have': 85, 'warm': 95, 'listen': 96, 'of': 85, 'certain': 96, 'busy': 91, 'hand': 96, 'where': 88, 'govern': 93, 'ready': 84, 'little': 96, 'hour': 93, 'garden': 96, 'smoke': 89, 'then': 88, 'especial': 74, 'market': 91, 'limit': 84, 'university': 89, 'Monday': 94, 'finance': 94, 'private': 92, 'turn': 88, 'food': 96, 'off': 97, 'ground': 98, 'item': 94, 'clock': 93, 'kind': 96, 'might': 93, 'job': 95, 'keep': 94, 'luck': 96, 'stuff': 94, 'rest': 93, 'the': 69, 'contact': 98, 'think': 87, 'when': 92, 'serve': 93, 'income': 92, 'pretty': 96, 'suppose': 89, 'die': 92, 'egg': 86, 'afternoon': 91, 'future': 89, 'side': 87, 'down': 99, 'poor': 89, 'approach': 84, 'indeed': 88, 'change': 93, 'cost': 98, 'follow': 96, 'section': 92, 'colleague': 82, 'put': 93, 'arrange': 93, 'evidence': 94, 'continue': 91, 'whole': 91, 'small': 97, 'special': 86, 'floor': 94, 'Britain': 96, 'eye': 95, 'upon': 84, 'before': 84, 'major': 94, 'page': 82, 'print': 97, 'project': 90, 'tell': 92, 'industry': 94, 'Christ': 90, 'would': 93, 'out': 87, 'likely': 97, 'fast': 95, 'important': 92, 'not': 89, 'charge': 85, 'along': 95, 'divide': 89, 'describe': 87, 'expense': 98, 'worth': 97, 'be': 95, 'park': 94, 'final': 98, 'great': 91, 'we': 96, 'about': 92, 'develop': 94, 'allow': 97, 'amount': 95, 'encourage': 91, 'invest': 93, 'east': 87, 'yet': 85, 'public': 91, 'per': 71, 'care': 95, 'push': 99, 'base': 92, 'raise': 97, 'shut': 98, 'doubt': 86, 'expect': 89, 'serious': 85, 'God': 89, 'percent': 76, 'plan': 86, 'Germany': 66, 'call': 95, 'over': 92, 'join': 89, 'round': 96, 'bad': 97, 'draw': 95, 'produce': 96, 'gas': 86, 'north': 98, 'long': 94, 'unit': 95, 'account': 93, 'too': 98, 'pass': 90, 'increase': 91, 'may': 89, 'fun': 94, 'rise': 87, 'enter': 87, 'forget': 80, 'type': 89, 'wife': 96, 'normal': 94, 'self': 96, 'trade': 95, 'through': 86, 'America': 66, 'hot': 92, 'stay': 94, 'film': 93, 'result': 94, 'various': 84, 'million': 89, 'support': 91, 'level': 90, 'beauty': 87, 'hear': 95, 'benefit': 96, 'date': 93, 'for': 90, 'reason': 94, 'associate': 90, 'terrible': 93, 'black': 94, 'sex': 93, 'sure': 95, 'student': 96, 'bear': 92, 'people': 85, 'speed': 92, 'purpose': 95, 'separate': 84, 'bank': 91, 'politic': 87, 'direct': 88, 'away': 91, 'farm': 88, 'economy': 95, 'general': 85, 'stick': 92, 'point': 96, 'bloke': 92, 'trust': 90, 'week': 83, 'after': 95, 'which': 96, 'today': 95, 'thing': 89, 'question': 98, 'at': 93, 'affect': 91, 'because': 82, 'twenty': 91, 'church': 93, 'strike': 97, 'ten': 83, 'lock': 95, 'traffic': 94, 'bet': 95, 'afford': 93, 'appropriate': 94, 'sell': 87, 'shoot': 95, 'character': 93, 'believe': 90, 'wall': 90, 'worse': 92, 'boat': 98, 'ought': 95, 'wage': 95, 'air': 98, 'break': 98, 'eleven': 84, 'system': 89, 'run': 96, 'ring': 96, 'document': 93, 'clean': 92, 'want': 91, 'drive': 95, 'confer': 78, 'wear': 91, 'hall': 92, 'up': 99, 'school': 95, 'bring': 87, 'sing': 88, 'pressure': 93, 'introduce': 94, 'unite': 94, 'team': 88, 'business': 90, 'explain': 96, 'difference': 87, 'basis': 85, 'clothe': 89, 'share': 87, 'fine': 96, 'record': 85, 'slow': 91, 'Christmas': 91, 'war': 95, 'flat': 94, 'court': 91, 'condition': 89, 'almost': 91, 'within': 98, 'safe': 89, 'commit': 90, 'scheme': 92, 'converse': 92, 'complete': 97, 'dry': 90, 'district': 89, 'learn': 94, 'brilliant': 98, 'educate': 95, 'agent': 88, 'green': 91, 'brother': 94, 'soon': 77, 'employ': 96, 'need': 97, 'late': 93, 'link': 94, 'hang': 93, 'compute': 87, 'club': 95, 'and': 93, 'bill': 91, 'large': 96, 'do': 94, 'main': 91, 'particular': 93, 'fact': 87, 'also': 89, 'how': 91, 'you': 86, 'bit': 86, 'white': 90, 'proceed': 92, 'Tuesday': 84, 'milk': 92, 'see': 98, 'mile': 92, 'dear': 90, 'however': 86, 'here': 92, 'piece': 92, 'straight': 95, 'vote': 86, 'behind': 77, 'strategy': 96, 'period': 87, 'load': 93, 'appoint': 91, 'as': 91, 'Saturday': 95, 'class': 96, 'fit': 82, 'this': 93, 'wood': 93, 'notice': 91, 'since': 91, 'bottom': 94, 'suggest': 96, 'instead': 83, 'total': 96, 'accept': 95, 'stupid': 91, 'chap': 91, 'word': 90, 'dinner': 95, 'water': 88, 'left': 96, 'sir': 83, 'London': 91, 'visit': 91, 'picture': 98, 'opportunity': 82, 'show': 91, 'minus': 91, 'suit': 91, 'seven': 86, 'collect': 90, 'reduce': 91, 'dad': 93, 'lady': 90, 'role': 92, 'return': 73, 'group': 95, 'please': 88, 'corner': 86, 'nine': 87, 'represent': 77, 'birth': 95, 'boy': 96, 'top': 96, 'happy': 95, 'last': 91, 'mister': 71, 'study': 97, 'therefore': 77, 'power': 88, 'rail': 98, 'prepare': 91, 'kill': 97, 'otherwise': 81, 'available': 94, 'even': 84, 'mention': 93, 'until': 84, 'bottle': 95, 'perfect': 83, 'must': 92, 'similar': 94, 'effect': 94, 'holiday': 94, 'experience': 87, 'single': 97, 'ball': 97, 'admit': 89, 'respect': 87, 'still': 93, 'only': 92, 'tape': 94, 'cat': 93, 'seem': 87, 'move': 95, 'else': 89, 'goodbye': 80, 'double': 92, 'now': 86, 'score': 93, 'specific': 88, 'settle': 86, 'judge': 88, 'book': 90, 'pull': 97, 'electric': 94, 'usual': 86, 'station': 94, 'environment': 93, 'close': 97, 'five': 93, 'west': 92, 'summer': 96, 'research': 91, 'win': 92, 'region': 94, 'if': 89, 'fly': 92, 'often': 88, 'grant': 85, 'local': 89, 'product': 93, 'make': 99, 'refer': 83, 'imagine': 87, 'past': 95, 'tree': 95, 'none': 89, 'machine': 92, 'love': 90, 'room': 93, 'front': 98, 'post': 93, 'design': 95, 'thou': 81, 'tomorrow': 90, 'any': 93, 'tax': 86, 'due': 91, 'home': 95, 'quarter': 81, 'address': 92, 'wide': 95, 'tea': 93, 'come': 92, 'motion': 94, 'south': 95, 'yes': 88, 'pence': 88, 'art': 92, 'include': 90, 'police': 87, 'Europe': 92, 'body': 87, 'toward': 89, 'trouble': 88, 'chairman': 81, 'pair': 90, 'county': 85, 'pack': 94, 'propose': 95, 'car': 95, 'son': 90, 'speak': 95, 'Scotland': 74, 'sound': 92, 'discuss': 96, 'weigh': 97, 'world': 98, 'decide': 95, 'blue': 92, 'issue': 95, 'pound': 89, 'why': 91, 'man': 95, 'lot': 84, 'cause': 90, 'problem': 89, 'without': 93, 'drink': 85, 'foot': 90, 'spend': 99, 'union': 90, 'degree': 90, 'roll': 88, 'achieve': 92, 'window': 95, 'by': 89, 'choose': 93, 'video': 91, 'non': 67, 'while': 86, 'he': 91, 'such': 81, 'live': 93, 'require': 91, 'person': 91, 'marry': 95, 'into': 82, 'send': 90, 'treat': 91, 'line': 91, 'disorder': 92, 'ballroom': 97, 'earth': 94, 'building': 93, 'uncertain': 92, 'designate': 88, 'whale': 83, 'tower': 87, 'servant': 94, 'plate': 96, 'owe': 94, 'prize': 92, 'invitation': 90, 'delicate': 91, 'fasten': 95, 'smooth': 94, 'seize': 90, 'frame': 96, 'bigger': 93, 'kin': 86, 'dumb': 91, 'nearly': 94, 'oops': 88, 'restrict': 85, 'blog': 83, 'disc': 98, 'urgent': 97, 'constant': 86, 'facing': 83, 'costume': 94, 'hood': 86, 'bake': 96, 'soldier': 96, 'spoon': 92, 'completely': 92, 'furry': 96, 'bounce': 91, 'chess': 96, 'bound': 71, 'construction': 94, 'swap': 92, 'soap': 98, 'commitment': 91, 'hungry': 91, 'bum': 82, 'cure': 99, 'sensation': 92, 'entrance': 96, 'cork': 95, 'sequence': 89, 'domain': 86, 'prove': 92, 'cry': 98, 'tab': 82, 'stance': 96, 'daytime': 97, 'groom': 93, 'beware': 91, 'boss': 90, 'mystery': 94, 'abstract': 87, 'dish': 96, 'ant': 95, 'chat': 91, 'knee': 95, 'gift': 97, 'petrol': 98, 'foreign': 95, 'inquiry': 95, 'female': 99, 'partition': 81, 'liar': 82, 'coal': 96, 'vital': 100, 'waiting': 87, 'linen': 92, 'unhappy': 90, 'clip': 90, 'sticky': 96, 'heal': 89, 'smart': 99, 'thief': 93, 'duck': 95, 'feathers': 96, 'posh': 82, 'target': 92, 'manipulate': 87, 'mill': 95, 'weekly': 81, 'attachment': 87, 'existential': 75, 'shiny': 93, 'far away': 91, 'drag': 92, 'frequent': 90, 'presentation': 92, 'clutter': 95, 'tense': 97, 'soccer': 96, 'chuckle': 92, 'aged': 98, 'description': 89, 'consumer': 91, 'algebra': 93, 'central': 91, 'apologize': 90, 'horizon': 100, 'conclusion': 96, 'rough': 94, 'mate': 93, 'significant': 93, 'unable': 91, 'scare': 94, 'exam': 96, 'solve': 95, 'bureau': 87, 'wound': 94, 'gone': 89, 'dishonest': 99, 'sum': 94, 'marketing': 82, 'giggle': 95, 'pollution': 90, 'compromise': 89, 'compel': 82, 'lecture': 95, 'psychology': 94, 'gym': 89, 'rhythm': 94, 'partner': 94, 'notion': 96, 'snap': 92, 'broadcast': 76, 'deck': 91, 'button': 91, 'tension': 89, 'frosting': 96, 'exchange': 98, 'bunny': 96, 'propel': 93, 'launch': 92, 'upset': 93, 'friendly': 93, 'crazy': 86, 'conclude': 94, 'tote': 85, 'set up': 86, 'alibi': 89, 'companion': 95, 'supervise': 89, 'sufficient': 92, 'erect': 96, 'laboratory': 85, 'helper': 90, 'spice': 94, 'wallet': 92, 'discrete': 85, 'style': 92, 'incline': 97, 'buddy': 95, 'ton': 87, 'cage': 93, 'bold': 91, 'smog': 95, 'congress': 81, 'disclose': 88, 'knowledge': 98, 'nut': 97, 'disappointment': 91, 'drawer': 94, 'theory': 92, 'pose': 87, 'farmer': 84, 'dual': 89, 'cruel': 92, 'construct': 94, 'visualize': 92, 'device': 92, 'pregnant': 89, 'hi': 96, 'earner': 90, 'traverse': 85, 'certainty': 86, 'lucky': 90, 'stake': 95, 'indent': 81, 'basket': 95, 'chalk': 97, 'bowl': 98, 'hypothesis': 91, 'hesitant': 88, 'deliver': 86, 'hallway': 97, 'diet': 95, 'garment': 93, 'column': 86, 'meticulous': 88, 'robe': 79, 'narrow': 97, 'appliance': 94, 'additionally': 91, 'conscious': 96, 'arrangement': 94, 'blond': 91, 'owl': 93, 'basketball': 88, 'erase': 91, 'fence': 91, 'eager': 95, 'mud': 93, 'cough': 94, 'cohort': 69, 'tent': 95, 'lies': 80, 'encounter': 91, 'alternatively': 78, 'airport': 91, 'mop': 96, 'shout': 90, 'gap': 93, 'massage': 87, 'abode': 85, 'debit': 97, 'angry': 92, 'mammal': 92, 'horrid': 90, 'duplicate': 94, 'locate': 89, 'sensitive': 90, 'theater': 94, 'golf': 90, 'surround': 87, 'pocket': 92, 'myth': 93, 'payment': 92, 'auto': 96, 'disaster': 94, 'romantic': 97, 'shove': 95, 'library': 98, 'elderly': 96, 'source': 90, 'dice': 91, 'bike': 86, 'tall': 95, 'hen': 91, 'fever': 94, 'paid': 91, 'uniform': 91, 'philosophy': 79, 'sunshine': 88, 'compartment': 89, 'trail': 93, 'wander': 90, 'government': 93, 'accumulate': 95, 'among': 89, 'triple': 80, 'leaving': 83, 'inexpensive': 96, 'reign': 94, 'airplane': 91, 'nose': 95, 'gamble': 96, 'reflect': 92, 'bid': 85, 'rapid': 90, 'soil': 97, 'amazement': 89, 'trying': 74, 'crook': 92, 'unexpected': 92, 'overcome': 85, 'mold': 89, 'Africa': 86, 'inch': 96, 'sharp': 97, 'dismiss': 84, 'surroundings': 82, 'nil': 89, 'yell': 93, 'disbelief': 85, 'engage': 91, 'lamp': 97, 'thank you': 69, 'practice': 90, 'category': 87, 'cane': 95, 'nerve': 82, 'ally': 92, 'loyalty': 96, 'rely': 91, 'deceive': 91, 'eliminate': 95, 'architect': 89, 'random': 80, 'peculiar': 93, 'different': 92, 'folder': 87, 'exclusive': 81, 'loyal': 96, 'confidant': 91, 'uncomfortable': 91, 'lazy': 86, 'bedtime': 96, 'rigid': 90, 'fellow': 95, 'fate': 86, 'acquire': 97, 'halo': 94, 'football': 92, 'cot': 90, 'palm': 96, 'fitness': 92, 'meter': 92, 'wet': 96, 'homeland': 91, 'dollar': 98, 'escape': 89, 'bass': 93, 'rural': 90, 'canoe': 92, 'landscape': 90, 'dispute': 97, 'farewell': 96, 'rabbit': 90, 'endless': 92, 'kingdom': 87, 'define': 94, 'countryside': 86, 'billion': 91, 'cope': 88, 'weather': 94, 'adult': 92, 'accompany': 83, 'deny': 95, 'walking': 83, 'season': 95, 'vessel': 96, 'etiquette': 90, 'lone': 94, 'maiden': 90, 'keyboard': 96, 'woo': 74, 'scarce': 89, 'jail': 90, 'concise': 91, 'winning': 79, 'track': 95, 'cartoon': 78, 'stove': 96, 'excellent': 92, 'trustworthy': 97, 'aspect': 88, 'delay': 96, 'pastry': 87, 'tennis': 91, 'cheat': 94, 'comrade': 95, 'rock': 90, 'nuisance': 91, 'inevitable': 77, 'vacation': 93, 'puzzle': 88, 'noise': 88, 'sway': 84, 'fright': 95, 'practical': 86, 'diagram': 85, 'holder': 84, 'sibling': 97, 'labor': 96, 'espresso': 97, 'vocal': 91, 'curve': 93, 'dwarf': 90, 'flow': 89, 'pilgrim': 82, 'audio': 95, 'core': 96, 'quad': 77, 'clown': 93, 'gathering': 91, 'surface': 93, 'cathedral': 88, 'deadline': 87, 'arithmetic': 96, 'lane': 81, 'invite': 92, 'culture': 97, 'twin': 92, 'learner': 91, 'banana': 99, 'pavement': 95, 'barn': 96, 'cash': 94, 'celebration': 94, 'copper': 88, 'calendar': 97, 'broken': 87, 'solo': 89, 'pal': 96, 'dominant': 89, 'perceive': 95, 'persevere': 82, 'communicate': 95, 'poll': 88, 'tactile': 79, 'approximate': 93, 'orchestra': 92, 'dig': 94, 'teacher': 98, 'ease': 91, 'clinic': 99, 'ancient': 91, 'coffin': 92, 'penalty': 94, 'childhood': 94, 'slipper': 95, 'choir': 97, 'united': 84, 'tiger': 88, 'spouse': 98, 'ride': 93, 'visual': 89, 'cheerful': 97, 'damn': 86, 'concept': 96, 'fifty': 84, 'evasion': 88, 'query': 93, 'ink': 97, 'payday': 94, 'album': 96, 'tough': 96, 'instant': 88, 'cannot': 81, 'critical': 91, 'disgusting': 95, 'tunnel': 94, 'heaps': 85, 'towel': 91, 'greeting': 97, 'annoying': 88, 'schedule': 94, 'umbrella': 90, 'satisfied': 85, 'DVD': 83, 'insect': 90, 'bride': 93, 'hurdle': 91, 'axe': 93, 'glee': 91, 'beneath': 99, 'fake': 88, 'boyfriend': 96, 'lug': 89, 'jeans': 96, 'chew': 75, 'tone': 93, 'burn': 91, 'separation': 91, 'get up': 84, 'testament': 62, 'scrabble': 91, 'title': 88, 'inbetween': 79, 'filter': 92, 'shock': 88, 'proximity': 89, 'throne': 95, 'conference': 91, 'republican': 88, 'intelligent': 95, 'distinct': 91, 'sport': 99, 'secret': 84, 'fraternity': 89, 'menu': 95, 'mix': 93, 'pile': 90, 'personal': 90, 'biology': 84, 'operation': 90, 'serendipity': 68, 'presidential': 94, 'camping': 92, 'location': 93, 'quickly': 95, 'values': 91, 'revenue': 94, 'smelly': 94, 'row': 96, 'grim': 91, 'devil': 95, 'executive': 90, 'captain': 86, 'procedure': 95, 'contain': 93, 'tiny': 93, 'shatter': 96, 'proportion': 94, 'engagement': 90, 'healthy': 95, 'knob': 93, 'revolution': 92, 'barrier': 91, 'religion': 97, 'pupil': 94, 'moist': 95, 'cleaner': 77, 'recall': 91, 'thinking': 86, 'weird': 93, 'puberty': 94, 'seasons': 95, 'missing': 97, 'USA': 88, 'infant': 97, 'brand': 87, 'jug': 94, 'twitter': 89, 'jewelry': 97, 'lighter': 80, 'bunch': 86, 'picnic': 95, 'impossible': 87, 'unusual': 92, 'pony': 93, 'mum': 92, 'approval': 89, 'signature': 82, 'studies': 88, 'mountains': 69, 'has': 77, 'gay': 94, 'rod': 92, 'moon': 92, 'prime': 94, 'wake': 98, 'truck': 91, 'melody': 98, 'promote': 91, 'principle': 89, 'jam': 96, 'plaster': 92, 'development': 91, 'bolster': 75, 'placement': 80, 'emotional': 85, 'professor': 94, 'paste': 96, 'trout': 92, 'scientific': 91, 'thin': 95, 'headache': 95, 'exactly': 91, 'adjective': 88, 'spark': 90, 'linear': 92, 'anniversary': 95, 'socialize': 92, 'bagpipes': 70, 'apple': 94, 'belief': 97, 'vinyl': 88, 'smell': 97, 'employment': 98, 'dreadful': 91, 'unity': 85, 'salmon': 96, 'cereal': 94, 'joker': 91, 'borrow': 100, 'prince': 88, 'meat': 89, 'cowboy': 85, 'offense': 93, 'ocean': 94, 'calculate': 92, 'shower': 99, 'bored': 85, 'women': 97, 'circa': 85, 'lottery': 94, 'tool': 94, 'flour': 97, 'crap': 92, 'impatience': 87, 'worst': 93, 'classic': 93, 'arrive': 92, 'pieces': 76, 'former': 97, 'minor': 98, 'chain': 92, 'whiz': 83, 'bicycle': 86, 'cabinet': 93, 'expectations': 80, 'electrical': 89, 'minuscule': 92, 'hearth': 88, 'alarm': 96, 'corridor': 94, 'assistance': 100, 'wig': 82, 'cruise': 98, 'dull': 88, 'resist': 91, 'beam': 94, 'appendage': 83, 'hurl': 92, 'assemble': 89, 'tale': 95, 'indefinite': 84, 'explanation': 81, 'intimate': 98, 'yearn': 94, 'hay': 95, 'exhaust': 89, 'pear': 98, 'porch': 87, 'embrace': 96, 'wild': 91, 'cookies': 85, 'army': 90, 'Celsius': 94, 'negative': 99, 'honey': 98, 'contemporary': 89, 'Canada': 79, 'absent': 91, 'obey': 94, 'angel': 90, 'precious': 89, 'bonus': 96, 'baseball': 89, 'maker': 90, 'instruct': 95, 'prompt': 92, 'sinister': 92, 'lemonade': 91, 'youngster': 95, 'greenery': 90, 'cycle': 93, 'tumble': 93, 'seek': 94, 'coordinate': 89, 'furniture': 95, 'convey': 83, 'darn': 83, 'learning': 97, 'vendetta': 78, 'illness': 98, 'intellectual': 93, 'running': 90, 'wheel': 85, 'signal': 92, 'drill': 89, 'breathe': 93, 'felt': 82, 'counting': 87, 'healing': 90, 'pro': 93, 'shit': 82, 'crucifix': 99, 'mad': 86, 'edge': 90, 'effort': 94, 'saucer': 97, 'opt': 94, 'slang': 81, 'wart': 87, 'light bulb': 91, 'existence': 96, 'feline': 93, 'possess': 94, 'settlement': 84, 'lap': 95, 'stack': 93, 'pea': 95, 'evolution': 90, 'gray': 93, 'vegetables': 95, 'insist': 86, 'solid': 98, 'pole': 93, 'fault': 91, 'gender': 96, 'endeavor': 89, 'prop': 88, 'duration': 96, 'chapter': 97, 'hush': 90, 'population': 89, 'exploit': 84, 'funeral': 91, 'dishes': 92, 'proposition': 93, 'consistent': 88, 'hill': 86, 'habitat': 90, 'split': 92, 'fuss': 77, 'absolutely': 94, 'sake': 81, 'relative': 94, 'surgery': 89, 'lightning': 92, 'stone': 99, 'catholic': 96, 'percentage': 87, 'intention': 92, 'acceptance': 90, 'passive': 94, 'independent': 86, 'dancing': 79, 'bye': 86, 'acceptable': 84, 'license': 85, 'exclamation': 93, 'rainbow': 90, 'director': 92, 'bedroom': 94, 'garbage': 91, 'needed': 93, 'challenge': 91, 'continuous': 85, 'grandparents': 87, 'urge': 91, 'working': 92, 'bug': 94, 'groceries': 96, 'went': 88, 'warning': 94, 'hands': 92, 'farther': 91, 'scent': 98, 'dentist': 94, 'craft': 92, 'proof': 89, 'esteem': 83, 'gun': 98, 'carrier': 93, 'favor': 91, 'sausage': 75, 'action': 86, 'brought': 85, 'fantasy': 92, 'photo': 93, 'uncle': 81, 'contribute': 96, 'triangle': 89, 'cliff': 91, 'several': 98, 'circular': 94, 'rare': 92, 'index': 82, 'shade': 96, 'chase': 92, 'reuse': 94, 'interview': 96, 'scenery': 92, 'ghost': 88, 'retire': 91, 'tune': 96, 'arrest': 95, 'appreciate': 91, 'snake': 87, 'usually': 89, 'abundance': 91, 'prison': 91, 'steeple': 92, 'effective': 87, 'calories': 95, 'poster': 94, 'medicine': 93, 'contrary': 85, 'above': 99, 'sunrise': 98, 'necessity': 90, 'exhibit': 86, 'ears': 89, 'diamond': 90, 'basic': 88, 'mice': 94, 'priest': 84, 'smoking': 90, 'lips': 94, 'oak': 98, 'border': 93, 'opener': 97, 'goat': 86, 'float': 85, 'pirate': 79, 'petite': 97, 'pitch': 94, 'biscuit': 92, 'sack': 87, 'zero': 90, 'scientist': 91, 'anticipate': 87, 'demon': 91, 'command': 92, 'virtue': 93, 'faithful': 96, 'cafe': 93, 'below': 98, 'teaching': 93, 'marriage': 90, 'finally': 70, 'grasp': 92, 'suicide': 94, 'railroad': 93, 'maximum': 95, 'instance': 83, 'tag': 82, 'meadow': 87, 'sailing': 95, 'going': 98, 'defense': 93, 'responsibility': 87, 'discipline': 91, 'heaven': 94, 'fore': 78, 'wheat': 90, 'manner': 92, 'spicy': 91, 'irritate': 94, 'lumber': 89, 'expression': 91, 'swim': 98, 'museum': 84, 'map': 90, 'stain': 94, 'dictate': 86, 'string': 95, 'shoulders': 93, 'curiosity': 84, 'mistake': 84, 'romance': 98, 'inquire': 95, 'binding': 82, 'meow': 93, 'steep': 94, 'dubious': 80, 'empathy': 87, 'messy': 91, 'particle': 90, 'tissue': 96, 'relaxed': 87, 'broad': 97, 'hue': 91, 'commercial': 85, 'thick': 94, 'powder': 92, 'wave': 93, 'useless': 83, 'neck': 92, 'octopus': 83, 'pen': 96, 'picky': 85, 'reach': 98, 'subtraction': 92, 'utter': 95, 'ill': 94, 'masculine': 98, 'corruption': 97, 'desire': 98, 'honesty': 88, 'worthy': 86, 'anxiety': 96, 'disappear': 96, 'ran': 84, 'swell': 94, 'bitch': 90, 'limb': 89, 'counter': 94, 'thumb': 97, 'attractive': 96, 'temporary': 68, 'status': 89, 'jacket': 93, 'lately': 88, 'activity': 91, 'execute': 91, 'concert': 90, 'exception': 85, 'consideration': 85, 'beard': 95, 'lease': 98, 'accomplish': 96, 'gentle': 93, 'variety': 92, 'relocate': 93, 'nudge': 87, 'thirst': 97, 'portal': 93, 'coat': 91, 'despite': 80, 'code': 85, 'enhance': 88, 'auction': 93, 'cherish': 83, 'recipe': 97, 'judgement': 93, 'devious': 88, 'repair': 96, 'yolk': 90, 'cricket': 98, 'tender': 96, 'hunt': 93, 'bureaucracy': 89, 'drug': 90, 'ruler': 86, 'production': 96, 'excess': 86, 'acknowledge': 92, 'tired': 91, 'inspiration': 92, 'novel': 99, 'accent': 84, 'rover': 89, 'image': 91, 'fuck': 89, 'plenty': 97, 'illuminate': 91, 'impact': 94, 'crisp': 88, 'corrupt': 95, 'outcome': 90, 'parchment': 89, 'physics': 94, 'pause': 93, 'spot': 96, 'possibly': 91, 'spray': 90, 'attempt': 98, 'dwelling': 95, 'differ': 86, 'branch': 96, 'booth': 97, 'seam': 87, 'tide': 91, 'negotiate': 86, 'pursue': 96, 'distribute': 73, 'species': 96, 'alive': 90, 'solar': 93, 'fifth': 85, 'barely': 84, 'deed': 95, 'comprehend': 98, 'silence': 92, 'grateful': 94, 'regulate': 88, 'soul': 89, 'stool': 92, 'achievement': 95, 'brunch': 95, 'kangaroo': 90, 'wise': 97, 'flu': 95, 'unsure': 90, 'lover': 91, 'steam': 98, 'message': 97, 'joy': 97, 'naked': 92, 'hunger': 94, 'entertainment': 87, 'haven': 92, 'donkey': 92, 'stare': 93, 'enemy': 96, 'detector': 92, 'canal': 86, 'bacon': 89, 'butter': 92, 'gain': 97, 'breeze': 95, 'yourself': 91, 'crooked': 84, 'eggs': 87, 'electricity': 91, 'rain': 92, 'monster': 87, 'damage': 89, 'queue': 90, 'cool': 94, 'karma': 82, 'treasure': 93, 'destitute': 85, 'sustain': 88, 'untruth': 89, 'ticket': 91, 'disease': 95, 'bust': 96, 'utilize': 93, 'energy': 93, 'medium': 94, 'ugly': 88, 'amid': 81, 'burden': 87, 'toe': 95, 'actor': 83, 'golden': 84, 'reaction': 90, 'object': 92, 'governor': 81, 'engaged': 95, 'restroom': 94, 'medical': 100, 'mess': 94, 'fable': 91, 'hanging': 86, 'chocolate': 94, 'miracle': 87, 'adolescent': 93, 'leaf': 97, 'retail': 90, 'fart': 90, 'naturally': 82, 'replace': 83, 'shampoo': 98, 'earnings': 97, 'lonely': 92, 'stink': 91, 'reality': 84, 'content': 89, 'grab': 96, 'ballot': 99, 'pathetic': 86, 'born': 86, 'vague': 81, 'bird': 90, 'savior': 89, 'boxing': 89, 'smash': 95, 'abrupt': 93, 'occupation': 97, 'chasm': 80, 'lotion': 95, 'distant': 92, 'nothing': 89, 'recreation': 92, 'newspaper': 89, 'invoice': 91, 'unlucky': 91, 'kilo': 95, 'faith': 95, 'innocent': 95, 'writing': 91, 'unfair': 91, 'reading': 93, 'property': 98, 'interesting': 84, 'ankle': 91, 'seldom': 91, 'buggy': 90, 'objective': 89, 'exciting': 88, 'tile': 90, 'tardy': 92, 'trial': 86, 'factory': 91, 'slave': 84, 'witness': 94, 'looks': 74, 'slash': 87, 'wit': 91, 'dislike': 93, 'extraordinary': 95, 'sexy': 90, 'primary': 96, 'hazard': 95, 'peaceful': 91, 'player': 88, 'nog': 82, 'liberal': 91, 'laundry': 94, 'cozy': 97, 'citizen': 84, 'lines': 81, 'cushion': 93, 'affirm': 75, 'adventure': 94, 'grizzly': 94, 'got': 85, 'reply': 98, 'upper': 93, 'kitten': 94, 'falling': 96, 'import': 94, 'stipend': 78, 'remark': 86, 'falsehood': 96, 'tin': 99, 'technique': 86, 'ledge': 88, 'peasy': 68, 'royal': 96, 'talent': 93, 'reliable': 93, 'dye': 95, 'tire': 91, 'calculus': 94, 'goals': 68, 'manure': 86, 'bruise': 96, 'disk': 87, 'locale': 88, 'corn': 89, 'growth': 96, 'intent': 92, 'swallow': 94, 'fuzz': 94, 'ounce': 94, 'chemistry': 90, 'grey': 94, 'model': 94, 'log': 90, 'smack': 91, 'parcel': 90, 'cottage': 93, 'storm': 90, 'affairs': 77, 'toilet': 94, 'fresh': 95, 'sperm': 90, 'homework': 90, 'protected': 76, 'spine': 93, 'bridge': 87, 'sterling': 88, 'boundary': 95, 'humble': 86, 'giving': 94, 'dessert': 97, 'sunlight': 94, 'pledge': 92, 'graduate': 90, 'gold': 90, 'carpet': 92, 'rose': 96, 'evil': 85, 'liquor': 98, 'oneself': 96, 'velocity': 93, 'moral': 94, 'temperature': 97, 'brick': 94, 'suck': 94, 'conjunction': 81, 'tail': 95, 'anger': 93, 'tracks': 86, 'divorce': 92, 'sugar': 93, 'hug': 98, 'aid': 97, 'singular': 97, 'affirmative': 93, 'interior': 91, 'pet': 96, 'capital': 88, 'cupboard': 93, 'dinosaur': 73, 'armor': 87, 'weight': 92, 'prayer': 90, 'patient': 93, 'midnight': 94, 'mountain': 92, 'plastic': 93, 'girls': 92, 'extend': 91, 'capable': 93, 'assurance': 85, 'restrain': 88, 'our': 85, 'loud': 93, 'coin': 96, 'ceremony': 88, 'numerous': 96, 'script': 82, 'safeguard': 85, 'assist': 97, 'plain': 92, 'thanks': 80, 'prefer': 89, 'mouth': 94, 'banking': 88, 'sentence': 93, 'bargain': 95, 'fog': 91, 'tooth': 93, 'norm': 87, 'calender': 95, 'adore': 97, 'bush': 92, 'singer': 78, 'preference': 87, 'cooker': 85, 'guilt': 88, 'promise': 93, 'static': 92, 'realize': 93, 'donation': 99, 'brow': 89, 'UK': 87, 'movement': 89, 'neat': 96, 'essential': 90, 'chore': 94, 'height': 92, 'lame': 90, 'speaker': 81, 'setting': 89, 'daughter': 95, 'management': 90, 'feminine': 94, 'surely': 79, 'days': 98, 'couch': 96, 'items': 93, 'affection': 98, 'uncertainty': 92, 'honorable': 89, 'quilt': 88, 'baking': 94, 'stock': 93, 'dark': 99, 'sideways': 76, 'hat': 91, 'concur': 91, 'weak': 87, 'mule': 93, 'socks': 94, 'cable': 70, 'repeat': 77, 'remind': 92, 'advice': 92, 'organ': 98, 'machinery': 88, 'trap': 76, 'dial': 97, 'horn': 96, 'juice': 93, 'exit': 88, 'bestow': 92, 'resume': 78, 'fabulous': 93, 'detective': 86, 'personnel': 84, 'charity': 91, 'permission': 90, 'official': 85, 'willing': 90, 'hopefully': 79, 'disagreement': 94, 'grain': 98, 'waves': 93, 'outdoors': 99, 'natural': 90, 'supermarket': 84, 'darkness': 88, 'climb': 94, 'modern': 85, 'security': 91, 'cub': 99, 'lesson': 99, 'fabric': 93, 'roast': 97, 'solemn': 86, 'faculty': 90, 'aspire': 94, 'sewing': 91, 'coach': 96, 'gallery': 98, 'lust': 97, 'stress': 90, 'taken': 70, 'worthless': 81, 'freak': 93, 'slip': 90, 'sexual': 89, 'complicated': 84, 'inner': 91, 'wed': 92, 'painting': 85, 'male': 93, 'geography': 90, 'depart': 93, 'favorite': 84, 'defend': 93, 'movie': 89, 'meaningful': 90, 'yummy': 96, 'married': 92, 'mall': 92, 'breakfast': 92, 'vacant': 98, 'feather': 97, 'interaction': 89, 'reflection': 94, 'optimistic': 96, 'stocks': 96, 'thrift': 84, 'bond': 94, 'perfection': 87, 'manager': 88, 'gang': 91, 'user': 89, 'weapon': 93, 'cone': 95, 'epic': 90, 'attain': 92, 'plural': 87, 'contradict': 88, 'risk': 93, 'assert': 86, 'cease': 71, 'emotion': 93, 'washer': 95, 'stroll': 90, 'somebody': 95, 'cigarettes': 92, 'cart': 88, 'used': 78, 'agreement': 86, 'magazine': 86, 'mental': 91, 'laws': 82, 'toss': 97, 'apology': 96, 'grocery': 95, 'combustion': 99, 'gravity': 90, 'planning': 79, 'scam': 84, 'blocks': 88, 'comb': 93, 'visible': 89, 'internet': 88, 'computer': 92, 'nationality': 92, 'destroy': 84, 'cord': 92, 'fraud': 93, 'approve': 95, 'monopoly': 92, 'orange': 90, 'mass': 89, 'bread': 97, 'carpenter': 96, 'insurance': 94, 'rescue': 94, 'nasty': 91, 'lid': 97, 'amazing': 95, 'host': 90, 'fluid': 93, 'elaborate': 87, 'website': 85, 'attract': 88, 'sheriff': 85, 'pop': 95, 'handbag': 93, 'shot': 97, 'nail': 93, 'hospitality': 91, 'cream': 97, 'fraction': 95, 'that': 93, 'rhyme': 93, 'logic': 89, 'concentrate': 89, 'orgasm': 94, 'port': 92, 'recorder': 91, 'vomit': 94, 'national': 90, 'distance': 95, 'torture': 88, 'routine': 94, 'capita': 85, 'earl': 84, 'sheep': 85, 'snail': 97, 'military': 92, 'torso': 90, 'assembly': 93, 'diaper': 97, 'haste': 91, 'definitely': 89, 'shrink': 89, 'suggestion': 94, 'scrub': 85, 'application': 93, 'beginning': 96, 'annual': 95, 'expensive': 92, 'shrub': 92, 'telling': 88, 'lion': 89, 'making': 89, 'volunteer': 86, 'stubborn': 73, 'conquer': 86, 'cooperation': 86, 'locomotive': 94, 'vase': 94, 'prevent': 86, 'useful': 86, 'smile': 100, 'turtle': 94, 'skinny': 91, 'forceful': 94, 'considerate': 96, 'sweet': 98, 'path': 94, 'pad': 83, 'guilty': 83, 'event': 92, 'professional': 90, 'acting': 90, 'sail': 97, 'whenever': 88, 'profession': 97, 'crystal': 97, 'dirt': 97, 'historical': 90, 'attorney': 96, 'camp': 86, 'fuzzy': 89, 'merit': 92, 'idiotic': 98, 'elevator': 92, 'Paris': 80, 'vision': 97, 'hint': 96, 'bitter': 95, 'lice': 94, 'lens': 89, 'recognition': 90, 'enjoyment': 98, 'ace': 88, 'pee': 91, 'ample': 93, 'underwear': 89, 'lash': 97, 'representation': 85, 'honor': 91, 'diversity': 88, 'mathematics': 89, 'sink': 93, 'stab': 91, 'zone': 91, 'daddy': 93, 'outside': 95, 'sorrow': 99, 'opaque': 86, 'trinity': 86, 'rarely': 89, 'improvement': 89, 'kindness': 89, 'animals': 91, 'pepper': 97, 'platter': 86, 'yard': 96, 'earlier': 98, 'possibility': 95, 'twist': 86, 'mask': 89, 'warmth': 99, 'memorize': 89, 'thought': 96, 'squeal': 88, 'flood': 83, 'mood': 92, 'typewriter': 89, 'manners': 96, 'regret': 93, 'hugs': 86, 'satisfaction': 84, 'batter': 89, 'additional': 93, 'jog': 97, 'nurture': 95, 'coming': 95, 'scribe': 86, 'reproduce': 88, 'nest': 94, 'soft': 92, 'entropy': 71, 'enforce': 92, 'faster': 60, 'facts': 84, 'intense': 94, 'capture': 95, 'wrap': 79, 'driver': 92, 'conflict': 96, 'ear': 95, 'camera': 94, 'dictionary': 93, 'rush': 94, 'gallop': 93, 'fewer': 90, 'glasses': 87, 'seeing': 93, 'passion': 98, 'regular': 95, 'cleaning': 89, 'shame': 88, 'frequently': 93, 'sole': 98, 'politician': 91, 'pumpkin': 93, 'mighty': 91, 'partnership': 95, 'unpleasant': 96, 'luxury': 90, 'elder': 86, 'digital': 92, 'hopeful': 93, 'careful': 93, 'extreme': 85, 'literature': 95, 'context': 88, 'valid': 91, 'compose': 99, 'discovery': 92, 'previously': 93, 'comfortable': 97, 'progress': 83, 'fear': 91, 'cassette': 99, 'feeling': 98, 'attention': 85, 'adhere': 88, 'inappropriate': 86, 'aunt': 89, 'relaxation': 93, 'infinity': 89, 'earn': 100, 'efficient': 88, 'somber': 89, 'narrative': 99, 'pancake': 94, 'evident': 90, 'struggle': 90, 'baggage': 93, 'carriage': 95, 'canyon': 94, 'legal': 93, 'eating': 89, 'duty': 87, 'bump': 93, 'manor': 92, 'purse': 93, 'neighbor': 83, 'least': 85, 'noisy': 93, 'alone': 95, 'deem': 79, 'pray': 92, 'oven': 89, 'bra': 87, 'famous': 83, 'worn': 90, 'foe': 96, 'pillow': 96, 'echo': 85, 'irregular': 81, 'scratch': 96, 'orb': 96, 'via': 83, 'shadow': 91, 'alternate': 92, 'gossip': 87, 'ouch': 90, 'flower': 97, 'yield': 89, 'knowing': 91, 'framework': 83, 'dictator': 57, 'diligence': 85, 'memo': 95, 'pleasant': 95, 'marker': 88, 'competent': 94, 'blend': 90, 'chest': 93, 'brake': 96, 'pain': 93, 'accurate': 98, 'obtain': 94, 'superior': 90, 'hike': 96, 'mom': 95, 'butt': 90, 'bare': 93, 'cotton': 88, 'purchase': 97, 'knife': 91, 'habitual': 80, 'fib': 85, 'multitude': 88, 'fix': 94, 'quit': 95, 'princess': 90, 'enlighten': 88, 'teller': 89, 'imaginary': 94, 'theft': 93, 'delicious': 95, 'accountant': 90, 'quaint': 89, 'leap': 98, 'caution': 91, 'factual': 93, 'stair': 94, 'pie': 96, 'pond': 87, 'hide': 94, 'stow': 85, 'font': 83, 'defeat': 95, 'glory': 90, 'approximately': 88, 'dine': 93, 'compassion': 97, 'infer': 86, 'chorus': 92, 'letters': 84, 'contra': 67, 'acquaintance': 89, 'charm': 91, 'determination': 86, 'noble': 90, 'response': 89, 'estimate': 94, 'gratitude': 88, 'whip': 89, 'desk': 97, 'respond': 94, 'crude': 94, 'grammar': 86, 'creativity': 90, 'chill': 96, 'discussion': 94, 'rank': 94, 'ponder': 89, 'online': 98, 'clothes': 91, 'silent': 97, 'triumph': 98, 'vibrant': 94, 'high school': 81, 'heroin': 97, 'horizontal': 92, 'program': 87, 'attach': 92, 'birds': 82, 'phrase': 94, 'pane': 94, 'sketch': 92, 'expert': 93, 'century': 72, 'reveal': 87, 'remainder': 94, 'comma': 88, 'immediately': 90, 'deity': 88, 'confidence': 84, 'oil': 91, 'whisper': 89, 'complex': 94, 'lung': 91, 'icy': 99, 'adultery': 91, 'gasoline': 97, 'imagination': 88, 'ordinary': 96, 'rotate': 91, 'perfume': 97, 'lift': 96, 'awake': 95, 'gross': 94, 'steel': 86, 'potential': 87, 'animal': 93, 'trend': 89, 'challenging': 98, 'powerful': 97, 'duct': 91, 'elbow': 94, 'marathon': 91, 'merchandise': 93, 'band': 96, 'bubble': 93, 'peg': 85, 'mentor': 93, 'caring': 99, 'probably': 89, 'mission': 94, 'initiate': 94, 'fussy': 81, 'puff': 90, 'sesame': 95, 'vodka': 96, 'required': 87, 'jet': 94, 'wager': 89, 'acid': 85, 'exclude': 88, 'crisis': 85, 'mine': 87, 'birthday': 96, 'center': 95, 'commission': 94, 'advise': 95, 'pussy': 96, 'channel': 82, 'strict': 90, 'beloved': 86, 'competition': 91, 'gate': 93, 'cradle': 97, 'mundane': 94, 'puppy': 96, 'punish': 90, 'nickel': 88, 'ice': 94, 'outstanding': 92, 'chamber': 94, 'dawn': 93, 'booze': 96, 'rug': 96, 'needy': 90, 'adjacent': 92, 'isolated': 93, 'wine': 88, 'frigid': 96, 'protest': 83, 'rocket': 94, 'patriotism': 84, 'abroad': 96, 'breast': 92, 'search': 97, 'reserve': 93, 'trash': 94, 'delivery': 86, 'her': 97, 'maintain': 96, 'truth': 94, 'protection': 94, 'girth': 94, 'profit': 97, 'spread': 94, 'currency': 97, 'abnormal': 92, 'calm': 93, 'hook': 92, 'miniature': 96, 'whiskey': 93, 'alert': 95, 'shopping': 90, 'clue': 91, 'toil': 85, 'harder': 82, 'gloves': 96, 'hole': 84, 'preposition': 82, 'lamb': 92, 'bat': 95, 'third': 85, 'greedy': 78, 'select': 91, 'knot': 96, 'eternal': 92, 'beverage': 100, 'cap': 94, 'release': 91, 'decline': 84, 'is': 85, 'collection': 89, 'arid': 91, 'curtain': 93, 'Nazi': 68, 'hop': 94, 'statement': 93, 'institution': 98, 'text': 90, 'shell': 89, 'bean': 82, 'polite': 94, 'neuter': 81, 'fret': 94, 'sidewalk': 93, 'concrete': 95, 'occur': 88, 'breaker': 88, 'worship': 96, 'goal': 94, 'wool': 92, 'proud': 95, 'cute': 96, 'snuggle': 90, 'angle': 95, 'tug': 86, 'helping': 85, 'teenager': 94, 'alternative': 92, 'luggage': 96, 'stretch': 88, 'lab': 95, 'compass': 95, 'situation': 79, 'architecture': 91, 'pale': 88, 'infinite': 89, 'poverty': 83, 'pest': 93, 'entity': 91, 'uneven': 84, 'probability': 94, 'snug': 93, 'corporate': 93, 'lettuce': 96, 'belong': 88, 'studio': 96, 'shape': 89, 'ambulance': 87, 'cloth': 90, 'hero': 92, 'envelope': 97, 'volume': 91, 'imbibe': 67, 'knight': 86, 'spirit': 92, 'remote': 92, 'snapshot': 98, 'insight': 95, 'bind': 92, 'native': 93, 'durable': 79, 'musical': 92, 'criminal': 89, 'elementary': 94, 'difficulty': 93, 'avenue': 87, 'afterwards': 88, 'reference': 93, 'impose': 75, 'influence': 88, 'appointment': 87, 'breathing': 89, 'surplus': 93, 'adequate': 92, 'dew': 93, 'loose': 93, 'portion': 99, 'cancer': 84, 'tear': 99, 'drunk': 87, 'authentic': 100, 'guest': 93, 'cattle': 80, 'freezing': 98, 'stingy': 83, 'upright': 91, 'conductor': 88, 'apathy': 70, 'steal': 92, 'diplomatic': 83, 'shallow': 93, 'fox': 92, 'journalist': 91, 'laughter': 91, 'inn': 91, 'tease': 96, 'scan': 91, 'request': 92, 'mug': 96, 'curious': 94, 'identical': 94, 'certificate': 91, 'broke': 95, 'beer': 87, 'comic': 94, 'demand': 93, 'motor': 96, 'refuse': 92, 'jelly': 96, 'fee': 96, 'campus': 94, 'surgeon': 93, 'bucket': 95, 'rectangle': 94, 'bench': 96, 'chaos': 93, 'railway': 97, 'spontaneous': 88, 'alike': 93, 'nearby': 92, 'taxi': 97, 'flame': 92, 'garage': 88, 'compete': 91, 'transportation': 94, 'rude': 88, 'campaign': 92, 'ascertain': 84, 'sew': 93, 'manufacturing': 98, 'slim': 89, 'classify': 87, 'cigarette': 98, 'ass': 97, 'belt': 88, 'Orient': 96, 'jazz': 95, 'profound': 88, 'bay': 87, 'semester': 86, 'innocence': 95, 'cloud': 83, 'nevertheless': 74, 'papa': 85, 'focus': 93, 'harmony': 88, 'stall': 91, 'till': 85, 'lovely': 97, 'Facebook': 83, 'contrast': 94, 'finances': 95, 'coarse': 96, 'understandable': 74, 'attack': 91, 'defer': 76, 'excessive': 80, 'bow': 85, 'suitcase': 89, 'prior': 95, 'relax': 90, 'span': 90, 'blank': 95, 'parking': 96, 'physical': 91, 'stamp': 94, 'frontier': 87, 'aeroplane': 84, 'toy': 92, 'nourish': 94, 'permit': 95, 'element': 91, 'mingle': 90, 'chop': 83, 'rope': 92, 'alien': 81, 'blues': 97, 'addition': 92, 'organization': 92, 'plant': 98, 'assumption': 85, 'academia': 90, 'pump': 94, 'enclosed': 76, 'athletic': 96, 'ion': 83, 'occupied': 92, 'forbid': 89, 'midget': 90, 'burger': 96, 'rules': 92, 'bee': 99, 'justify': 89, 'material': 94, 'furthermore': 69, 'butterfly': 93, 'tight': 91, 'guns': 83, 'argument': 91, 'convince': 91, 'dating': 85, 'optimism': 81, 'capacity': 90, 'tube': 83, 'decrease': 94, 'excitement': 91, 'Cain': 68, 'swear': 95, 'sitting': 88, 'plumb': 84, 'deceased': 92, 'agency': 91, 'ecosystem': 91, 'students': 86, 'multiple': 87, 'prejudice': 90, 'dust': 86, 'fashion': 91, 'loathe': 90, 'avoid': 80, 'places': 71, 'pink': 92, 'glow': 90, 'hello': 96, 'global': 94, 'flip': 88, 'liberty': 96, 'loan': 96, 'victory': 91, 'persuade': 79, 'squander': 81, 'mechanical': 90, 'persist': 89, 'loved': 77, 'parts': 93, 'conservative': 87, 'trot': 86, 'chunk': 90, 'portrait': 90, 'ensemble': 98, 'sturdy': 93, 'steady': 90, 'compile': 91, 'byte': 81, 'thoughtful': 88, 'hatred': 87, 'overdue': 94, 'confront': 91, 'battery': 90, 'definition': 95, 'metric': 88, 'coast': 89, 'tank': 89, 'hurry': 96, 'sanity': 83, 'ache': 98, 'lend': 96, 'backward': 89, 'crouch': 83, 'wonderful': 92, 'gentleman': 88, 'drawing': 95, 'autumn': 97, 'statue': 80, 'blonde': 87, 'vehicle': 95, 'suitable': 85, 'sushi': 97, 'mistress': 87, 'cubicle': 95, 'vista': 86, 'bone': 89, 'briefcase': 98, 'visitor': 96, 'hidden': 92, 'bath': 96, 'higher': 96, 'cube': 87, 'fetch': 94, 'a few': 80, 'aristocrat': 83, 'corporation': 93, 'guitar': 91, 'jar': 90, 'statistics': 89, 'ownership': 93, 'forgot': 78, 'accounting': 93, 'dream': 90, 'erection': 91, 'root': 92, 'ignorant': 87, 'memories': 87, 'Berlin': 94, 'lawyer': 87, 'fool': 90, 'evaluate': 92, 'van': 91, 'joke': 94, 'slap': 96, 'destination': 97, 'bathroom': 96, 'session': 85, 'boring': 84, 'communication': 97, 'software': 88, 'measurement': 79, 'entry': 98, 'ledger': 80, 'academic': 96, 'damnation': 90, 'slaughter': 91, 'urine': 95, 'waitress': 94, 'decade': 78, 'gregarious': 67, 'candy': 93, 'technology': 78, 'combine': 88, 'enjoyable': 95, 'dance': 87, 'stroke': 89, 'variable': 83, 'piano': 88, 'determine': 90, 'dense': 94, 'beg': 91, 'daily': 92, 'guide': 89, 'sans': 74, 'vocabulary': 93, 'injury': 99, 'playground': 90, 'forty': 82, 'stern': 83, 'forth': 87, 'turkey': 93, 'cooking': 94, 'looking': 92, 'forest': 96, 'monkey': 97, 'tricky': 84, 'alongside': 93, 'carefully': 80, 'discount': 95, 'ward': 82, 'herd': 88, 'us': 92, 'pant': 83, 'salad': 92, 'phone': 96, 'habit': 90, 'motivation': 92, 'horrible': 93, 'investigate': 94, 'fare': 94, 'jobs': 94, 'actually': 78, 'swimming': 90, 'vitality': 85, 'rental': 92, 'related': 85, 'obligation': 89, 'discover': 94, 'connection': 87, 'shooting': 92, 'math': 92, 'cardboard': 89, 'importance': 75, 'truly': 87, 'truthful': 99, 'display': 91, 'children': 97, 'flawless': 96, 'nobody': 85, 'assistant': 94, 'selfish': 88, 'skin': 85, 'paperwork': 91, 'senior': 93, 'kindergarten': 96, 'comforter': 93, 'expand': 81, 'observe': 96, 'internal': 98, 'consequence': 87, 'opposite': 86, 'clover': 82, 'bullet': 93, 'wealth': 97, 'rap': 91, 'meeting': 95, 'texture': 95, 'bite': 92, 'confidential': 94, 'sandwich': 94, 'blame': 92, 'label': 92, 'critique': 92, 'deer': 82, 'sweets': 85, 'sacrifice': 97, 'enable': 88, 'guard': 93, 'dash': 88, 'stranger': 88, 'preserve': 92, 'awesome': 92, 'hurt': 93, 'option': 93, 'quest': 95, 'hammer': 93, 'precision': 82, 'disciples': 72, 'relief': 85, 'symbol': 83, 'den': 82, 'snow': 94, 'international': 82, 'toddler': 95, 'holy': 89, 'clothing': 86, 'restaurant': 92, 'fourteen': 91, 'sofa': 95, 'sweat': 98, 'lively': 89, 'them': 84, 'irritating': 90, 'haircut': 90, 'void': 82, 'credit': 97, 'failure': 93, 'confess': 89, 'grass': 97, 'swing': 90, 'affair': 92, 'elevate': 94, 'paycheck': 97, 'naive': 91, 'found': 92, 'absorb': 79, 'behavior': 93, 'flight': 96, 'investment': 95, 'elephant': 94, 'teeth': 91, 'finite': 95, 'rent': 94, 'March': 91, 'shave': 92, 'heritage': 95, 'murder': 91, 'blind': 77, 'somewhat': 74, 'hut': 81, 'await': 81, 'drum': 92, 'magnetic': 81, 'formal': 89, 'sharing': 93, 'detailed': 84, 'older': 93, 'survive': 92, 'peace': 90, 'muscle': 87, 'economics': 91, 'teddy': 94, 'complain': 90, 'others': 86, 'punch': 91, 'panel': 88, 'seal': 80, 'onto': 76, 'something': 91, 'games': 93, 'instructions': 88, 'pin': 87, 'scrap': 95, 'whatever': 66, 'vampire': 84, 'grip': 93, 'enterprise': 72, 'opening': 89, 'destruction': 91, 'principal': 92, 'skill': 95, 'monitor': 93, 'chairwoman': 85, 'pope': 84, 'invent': 92, 'storage': 97, 'chief': 91, 'quarrel': 93, 'loving': 97, 'frail': 96, 'nap': 96, 'formula': 91, 'preacher': 84, 'spin': 90, 'seconds': 89, 'penis': 89, 'advertisement': 87, 'dusk': 95, 'attribute': 79, 'comparison': 84, 'hobby': 91, 'ultimate': 89, 'banquet': 91, 'ergo': 71, 'click': 87, 'shelter': 96, 'confirm': 91, 'carton': 93, 'gigantic': 94, 'shoulder': 91, 'flesh': 96, 'enlarge': 82, 'Euro': 95, 'soda': 94, 'delete': 87, 'nurse': 90, 'identification': 88, 'poke': 94, 'everyone': 91, 'goodness': 96, 'plaza': 80, 'partial': 86, 'color': 94, 'roof': 98, 'cop': 98, 'media': 83, 'hierarchy': 86, 'dude': 87, 'deaf': 90, 'their': 76, 'festive': 92, 'song': 86, 'seriously': 72, 'disagree': 90, 'kite': 97, 'essence': 87, 'analysis': 89, 'tasty': 96, 'conditional': 78, 'chef': 92, 'alphabet': 82, 'lives': 70, 'visage': 75, 'countries': 73, 'pretend': 89, 'spy': 84, 'electron': 90, 'handshake': 96, 'deprived': 84, 'automatic': 87, 'retirement': 91, 'notify': 95, 'popular': 84, 'lemon': 94, 'ceiling': 95, 'flag': 91, 'brain': 91, 'jury': 86, 'island': 84, 'plaid': 74, 'mat': 87, 'beef': 93, 'navy': 91, 'fixed': 74, 'prosper': 89, 'beside': 90, 'means': 83, 'pasture': 77, 'debt': 93, 'nerd': 93, 'supper': 98, 'madam': 80, 'blanket': 93, 'obstacle': 91, 'conversation': 90, 'invisible': 78, 'chart': 90, 'connect': 95, 'sincere': 92, 'downhill': 89, 'rice': 96, 'bully': 89, 'joint': 92, 'hoard': 85, 'leash': 93, 'estate': 96, 'summary': 84, 'feast': 95, 'was': 80, 'everywhere': 79, 'deposit': 92, 'superlative': 63, 'ability': 88, 'advance': 90, 'trillion': 88, 'blueprint': 91, 'initial': 94, 'lean': 92, 'riot': 88, 'screen': 87, 'collaborate': 76, 'resemble': 70, 'trick': 90, 'decimal': 90, 'capitalism': 85, 'provider': 84, 'notes': 83, 'chicken': 90, 'ribbon': 92, 'driving': 93, 'yum': 90, 'calling': 84, 'bulb': 95, 'sensibility': 83, 'praise': 88, 'fame': 82, 'anxious': 93, 'continent': 80, 'sober': 89, 'jerk': 86, 'expected': 70, 'kilometer': 93, 'cite': 81, 'scale': 96, 'sight': 93, 'ahead': 88, 'success': 95, 'lots': 89, 'queen': 91, 'neither': 94, 'sea': 97, 'store': 96, 'false': 94, 'huge': 98, 'meal': 96, 'length': 94, 'fruit': 99, 'sky': 94, 'opinion': 89, 'human': 93, 'me': 78, 'winter': 95, 'cow': 93, 'weekend': 90, 'direction': 98, 'multiply': 93, 'empty': 95, 'mouse': 93, 'submit': 87, 'closed': 93, 'information': 93, 'politics': 83, 'loss': 97, 'precise': 93, 'article': 95, 'freedom': 91, 'ship': 90, 'sad': 95, 'star': 89, 'slice': 95, 'email': 93, 'quantity': 92, 'shirt': 88, 'globe': 87, 'metal': 97, 'fat': 91, 'pleasure': 96, 'task': 96, 'election': 92, 'living': 91, 'strength': 95, 'better': 89, 'relate': 90, 'memory': 89, 'pencil': 92, 'men': 91, 'fail': 91, 'happening': 79, 'topic': 96, 'trip': 96, 'immediate': 92, 'subtract': 99, 'sports': 94, 'pants': 94, 'comfort': 94, 'mail': 96, 'data': 92, 'customer': 89, 'my': 90, 'him': 98, 'England': 84, 'crowd': 91, 'wedding': 94, 'container': 93, 'grade': 77, 'youth': 96, 'strange': 97, 'things': 89, 'friends': 67, 'later': 88, 'race': 95, 'halt': 91, 'plane': 94, 'arrow': 94, 'finger': 83, 'shine': 98, 'witch': 76, 'being': 99, 'someone': 98, 'anti': 83, 'weekday': 90, 'taste': 88, 'education': 98, 'speech': 90, 'moving': 89, 'entire': 96, 'lower': 92, 'foundation': 91, 'identity': 92, 'network': 84, 'tv': 83, 'greet': 96, 'desert': 93, 'forgive': 87, 'lost': 89, 'worker': 91, 'method': 91, 'death': 91, 'liquid': 96, 'nor': 90, 'yellow': 89, 'average': 90, 'circle': 95, 'mature': 90, 'annoy': 92, 'bible': 93, 'spring': 91, 'master': 89, 'shoes': 92, 'gather': 89, 'leader': 92, 'web': 95, 'remove': 95, 'river': 87, 'salary': 96, 'forever': 93, 'bell': 96, 'hire': 96, 'thus': 81, 'twice': 63, 'toes': 91, 'iron': 90, 'voice': 94, 'unique': 89, 'dirty': 90, 'apartment': 93, 'ego': 83, 'justice': 92, 'tidy': 97, 'duo': 95, 'relationship': 94, 'crime': 94, 'cheese': 88, 'myself': 83, 'alcohol': 94, 'given': 89, 'imply': 84, 'pastor': 87, 'access': 79, 'awe': 88, 'lasting': 89, 'edit': 94, 'verify': 90, 'feet': 85, 'brush': 97, 'quiz': 93, 'dozen': 88, 'threat': 91, 'bark': 97, 'junk': 99, 'did': 87, 'similarity': 86, 'crown': 97, 'elegant': 94, 'utility': 92, 'hey': 91, 'inclusive': 85, 'horror': 94, 'pace': 93, 'girlfriend': 91, 'writer': 90, 'purr': 98, 'hearty': 92, 'Halloween': 83, 'pub': 99, 'fragile': 96, 'dispose': 94, 'universal': 83, 'consume': 97, 'suburb': 81, 'repetition': 84, 'con': 88, 'rich': 95, 'safety': 88, 'sand': 96, 'transfer': 89, 'essay': 95, 'shake': 86, 'rubbish': 97, 'sphere': 97, 'destiny': 93, 'champion': 95, 'collective': 81, 'award': 91, 'battle': 87, 'crash': 99, 'monarch': 94, 'abundant': 92, 'fold': 88, 'manufacture': 94, 'parliament': 86, 'indicate': 84, 'behave': 92, 'cram': 94, 'timber': 96, 'stories': 82, 'regulation': 92, 'kiss': 95, 'fist': 91, 'attitude': 93, 'block': 93, 'grave': 99, 'squid': 92, 'stomach': 88, 'whistle': 86, 'hotel': 96, 'greetings': 93, 'fuel': 98, 'appearance': 90, 'thirsty': 97, 'admire': 88, 'accident': 93, 'everyday': 85, 'pure': 92, 'pig': 91, 'frog': 88, 'maid': 90, 'rugby': 88, 'violence': 92, 'magic': 86, 'leather': 92, 'royalty': 95, 'gesture': 95, 'frugal': 86, 'median': 96, 'concerning': 84, 'creative': 92, 'greed': 83, 'grandmother': 91, 'connected': 87, 'tramp': 89, 'route': 84, 'kettle': 92, 'kick': 93, 'chemical': 90, 'insult': 88, 'scene': 92, 'recycle': 95, 'glad': 94, 'atmosphere': 94, 'rat': 91, 'Christian': 89, 'transmit': 91, 'dough': 92, 'pregnancy': 87, 'transparent': 84, 'absence': 83, 'printer': 89, 'doing': 94, 'spare': 97, 'omit': 90, 'cement': 95, 'fishing': 94, 'giant': 91, 'waiter': 98, 'abuse': 95, 'weighty': 94, 'wow': 82, 'rage': 96, 'analyze': 93, 'sickness': 96, 'equality': 90, 'commerce': 94, 'noon': 89, 'friendship': 84, 'geometry': 88, 'adjust': 91, 'poker': 96, 'ratio': 89, 'stable': 96, 'urban': 91, 'mirror': 87, 'stiff': 90, 'examine': 94, 'pour': 92, 'beyond': 90, 'gal': 87, 'idiot': 83, 'castle': 91, 'shelf': 93, 'wing': 97, 'journey': 94, 'incorrect': 98, 'wire': 89, 'made': 67, 'bright': 98, 'weary': 95, 'treatment': 92, 'neighborhood': 85, 'lake': 89, 'resolve': 88, 'bull': 92, 'rear': 98, 'bend': 93, 'representative': 83, 'saddle': 96, 'platform': 89, 'pint': 92, 'boot': 98, 'performance': 89, 'dairy': 93, 'comply': 84, 'financial': 99, 'crayon': 95, 'trio': 84, 'graph': 90, 'intercourse': 94, 'teen': 91, 'dependable': 99, 'participate': 96, 'pronoun': 84, 'balloon': 90, 'scissors': 88, 'beach': 97, 'serene': 96, 'pride': 83, 'clever': 92, 'heir': 87, 'background': 93, 'genuine': 95, 'reverse': 92, 'sunny': 90, 'division': 96, 'leisure': 95, 'explore': 90, 'retreat': 86, 'sunset': 93, 'cinema': 94, 'tactic': 88, 'twilight': 93, 'barter': 90, 'understanding': 88, 'sneeze': 73, 'classroom': 98, 'swift': 89, 'opera': 88, 'possession': 89, 'remain': 94, 'shining': 87, 'package': 88, 'rotten': 91, 'planet': 95, 'wagon': 95, 'energetic': 79, 'donate': 97, 'career': 95, 'menstruation': 98, 'dialogue': 96, 'known': 92, 'intersection': 83, 'trunk': 93, 'dime': 92, 'yeah': 88, 'territory': 91, 'artist': 93, 'strive': 96, 'flavor': 95, 'assess': 86, 'oval': 82, 'closer': 72, 'speedy': 78, 'belonging': 89, 'depressed': 97, 'political': 77, 'fry': 86, 'cell': 95, 'error': 90, 'odds': 73, 'creation': 89, 'costly': 98, 'residence': 98, 'breath': 95, 'valuable': 95, 'wrist': 92, 'purple': 90, 'tedious': 92, 'snore': 97, 'waist': 93, 'delight': 86, 'worm': 90, 'endure': 83, 'scary': 87, 'silver': 96, 'advantage': 89, 'verb': 91, 'vegetable': 96, 'candle': 94, 'slam': 99, 'salt': 88, 'cookie': 83, 'reward': 93, 'experiment': 95, 'antique': 95, 'net': 94, 'highway': 88, 'equation': 86, 'saw': 89, 'shield': 92, 'passage': 92, 'mandatory': 91, 'thesis': 89, 'assignment': 97, 'frown': 94, 'offspring': 95, 'terminate': 95, 'soar': 96, 'depth': 94, 'review': 88, 'western': 95, 'beast': 98, 'glove': 92, 'sock': 93, 'pool': 96, 'glue': 89, 'decorate': 89, 'gown': 95, 'ending': 93, 'naughty': 98, 'super': 81, 'agenda': 94, 'fancy': 89, 'China': 84, 'Asia': 89, 'familiar': 90, 'civil': 90, 'perform': 97, 'relaxing': 88, 'enormous': 98, 'organise': 93, 'universe': 90, 'selection': 91, 'commence': 92, 'versus': 89, 'skirt': 93, 'origin': 88, 'soup': 90, 'employee': 96, 'fantastic': 97, 'sadness': 97, 'officer': 93, 'suspend': 91, 'oxygen': 93, 'caffeine': 91, 'certainly': 91, 'sample': 89, 'pipe': 93, 'peer': 92, 'automobile': 97, 'requirement': 85, 'width': 94, 'coins': 93, 'proposal': 98, 'oversee': 84, 'punctuation': 89, 'integrity': 86, 'yoga': 94, 'generous': 93, 'substance': 97, 'twins': 84, 'growing': 92, 'courage': 94, 'lace': 85, 'winner': 85, 'engineer': 89, 'drama': 90, 'beak': 92, 'Xerox': 91, 'personality': 94, 'occupy': 81, 'articulate': 87, 'circus': 94, 'retain': 95, 'server': 97, 'digit': 94, 'deficit': 92, 'tongue': 96, 'dangerous': 87, 'closet': 94, 'firm': 97, 'backpack': 91, 'gambling': 89, 'cast': 86, 'haul': 90, 'wolf': 96, 'shift': 92, 'expectation': 86, 'clarity': 87, 'longing': 91, 'era': 89, 'demonstrate': 97, 'alter': 94, 'squeeze': 93, 'dot': 82, 'punishment': 93, 'ray': 85, 'evolve': 90, 'Ireland': 83, 'intelligence': 90, 'vowel': 72, 'attire': 92, 'hence': 82, 'muscular': 87, 'stream': 94, 'tobacco': 97, 'skip': 88, 'pizza': 91, 'keeper': 86, 'participant': 92, 'celebrate': 90, 'president': 86, 'silly': 86, 'grace': 86, 'tap': 98, 'solution': 96, 'acre': 86, 'aim': 94, 'cousin': 90, 'sin': 86, 'vast': 94, 'besides': 76, 'lack': 78, 'suddenly': 67, 'tip': 95, 'darling': 90, 'recline': 85, 'carnival': 82, 'suspect': 90, 'tint': 94, 'pattern': 85, 'majority': 92, 'skate': 90, 'pot': 95, 'ladder': 88, 'hairy': 78, 'Australia': 73, 'OK': 82, 'happiness': 87, 'eternity': 94, 'omen': 80, 'funny': 81, 'kilt': 69, 'talking': 91, 'democracy': 81, 'welfare': 88, 'beautiful': 98, 'snack': 97, 'wisdom': 94, 'patience': 93, 'handle': 91, 'cheer': 88, 'plot': 84, 'sculpture': 87, 'confident': 93, 'fiction': 96, 'genius': 94, 'sometimes': 87, 'author': 96, 'nun': 89, 'dump': 94, 'robot': 72, 'satisfy': 85, 'coworker': 94, 'done': 74, 'legislature': 91, 'toffee': 91, 'notepad': 89, 'cabbage': 84, 'playful': 97, 'asylum': 86, 'stroller': 85, 'revenge': 83, 'vest': 81, 'entertain': 89, 'sexuality': 86, 'condo': 88, 'fickle': 87, 'gifted': 94, 'informative': 94, 'moonlight': 80, 'daydream': 91, 'spanner': 65, 'therapist': 85, 'marshmallow': 88, 'export': 91, 'multiplication': 96, 'kinetic': 94, 'buff': 89, 'absurd': 89, 'moody': 84, 'incentive': 95, 'monocle': 78, 'puddle': 94, 'kissing': 82, 'clarify': 88, 'locker': 95, 'papers': 89, 'stench': 93, 'excited': 86, 'Zen': 88, 'salutation': 92, 'emergency': 83, 'fairytale': 87, 'needles': 88, 'flap': 88, 'almond': 92, 'density': 91, 'disable': 81, 'ammo': 89, 'drab': 90, 'tolerance': 86, 'pottery': 94, 'hail': 92, 'gruesome': 93, 'breed': 90, 'coyote': 88, 'stewardess': 92, 'ecology': 90, 'auditorium': 88, 'corpse': 96, 'conceive': 84, 'pistol': 97, 'perception': 88, 'nutrition': 97, 'scar': 93, 'attic': 92, 'decay': 96, 'bandit': 94, 'secondary': 77, 'brighten': 96, 'chubby': 94, 'rival': 95, 'extension': 87, 'anthem': 92, 'plank': 86, 'vain': 80, 'arousal': 93, 'retrieve': 91, 'abs': 82, 'buyer': 90, 'turf': 88, 'tuition': 95, 'patio': 87, 'singing': 83, 'fighting': 80, 'merge': 89, 'monarchy': 95, 'input': 95, 'hostile': 97, 'foreground': 89, 'tortoise': 97, 'viper': 90, 'rifle': 90, 'fees': 82, 'problematic': 89, 'inefficient': 90, 'shawl': 88, 'sugary': 95, 'spurt': 88, 'scandal': 76, 'prod': 82, 'clap': 87, 'fragrant': 91, 'watercress': 88, 'urn': 91, 'cerebral': 90, 'serving': 92, 'blackberries': 92, 'embark': 91, 'cling': 88, 'strawberry': 99, 'ingredient': 95, 'divorced': 79, 'gum': 96, 'weed': 95, 'excite': 87, 'thaw': 94, 'weakness': 88, 'told': 87, 'gamer': 88, 'boundaries': 67, 'grater': 91, 'fascinating': 94, 'bacteria': 94, 'responsive': 83, 'pine': 95, 'spoil': 96, 'ongoing': 88, 'breakup': 95, 'potato': 89, 'ale': 94, 'disguise': 94, 'surrounding': 89, 'barrel': 89, 'paper clip': 93, 'optical': 91, 'soy': 95, 'chivalry': 87, 'infamous': 82, 'complaint': 84, 'bossy': 85, 'propaganda': 83, 'roller coaster': 79, 'glare': 96, 'tub': 93, 'remarkable': 91, 'walrus': 87, 'wrestle': 86, 'jigsaw': 94, 'reception': 93, 'sleeve': 97, 'joined': 87, 'primitive': 85, 'goldfish': 95, 'citation': 91, 'dungarees': 80, 'irresponsible': 93, 'binder': 81, 'mound': 87, 'diesel': 97, 'venom': 97, 'whisk': 97, 'brigade': 89, 'respectful': 93, 'moan': 93, 'suffer': 92, 'improper': 89, 'afraid': 98, 'workplace': 93, 'faint': 81, 'radius': 93, 'escalator': 92, 'chameleon': 93, 'ascend': 91, 'melon': 96, 'resident': 88, 'trauma': 92, 'navel': 96, 'preparation': 83, 'whack': 95, 'theorem': 77, 'satisfactory': 91, 'periodic': 92, 'thesaurus': 93, 'epoch': 74, 'flute': 93, 'stationary': 87, 'bagel': 85, 'wrath': 83, 'apricot': 94, 'warn': 91, 'papyrus': 85, 'fork': 92, 'mirage': 94, 'splendid': 98, 'adept': 83, 'pristine': 95, 'ripe': 98, 'nope': 70, 'ignore': 83, 'expose': 88, 'potent': 86, 'drinking': 92, 'snot': 90, 'mama': 90, 'phantom': 93, 'ancestry': 85, 'regulations': 94, 'stride': 91, 'unequal': 84, 'upside': 96, 'systematic': 80, 'rape': 95, 'betray': 86, 'tumor': 95, 'crowded': 93, 'replacement': 90, 'clutch': 94, 'unkind': 95, 'glimpse': 96, 'deduce': 88, 'password': 93, 'racism': 92, 'handsome': 94, 'smirk': 88, 'conscience': 94, 'wardrobe': 85, 'pointless': 82, 'leak': 95, 'polygon': 73, 'networking': 81, 'immobile': 83, 'papaya': 94, 'substitute': 94, 'max': 65, 'lumberjack': 88, 'tablet': 90, 'handwriting': 84, 'intern': 87, 'soot': 91, 'conserve': 95, 'lag': 88, 'pricey': 96, 'Superman': 70, 'detention': 89, 'coward': 85, 'smooch': 95, 'calculator': 96, 'medal': 97, 'cocktail': 94, 'obligatory': 89, 'homeless': 90, 'adoration': 89, 'boots': 91, 'mobile': 91, 'respiration': 96, 'textbook': 89, 'valley': 82, 'iffy': 65, 'flaw': 97, 'hot dog': 81, 'stork': 90, 'lawn': 99, 'holding': 84, 'collector': 88, 'sloppy': 88, 'suite': 91, 'mandate': 85, 'housing': 85, 'kneel': 92, 'blinds': 80, 'creepy': 86, 'plaice': 47, 'chick': 92, 'cautious': 93, 'beginner': 91, 'crab': 84, 'forbidden': 82, 'teachers': 73, 'spaceship': 91, 'miserable': 93, 'allegiance': 91, 'hamster': 95, 'satchel': 87, 'swerve': 90, 'flop': 88, 'atlas': 84, 'drawback': 91, 'daisy': 95, 'medieval': 92, 'syrup': 96, 'aggression': 97, 'siesta': 96, 'knit': 88, 'stash': 93, 'shaft': 91, 'petal': 99, 'shortage': 93, 'germs': 87, 'apprehend': 93, 'galaxy': 96, 'extrovert': 91, 'comprehensive': 89, 'pan': 90, 'revolve': 93, 'wiggle': 86, 'barbecue': 93, 'saliva': 94, 'medic': 91, 'dent': 90, 'proactive': 82, 'cultural': 78, 'arch': 83, 'empower': 83, 'flourish': 87, 'candidate': 89, 'yearly': 91, 'herring': 95, 'resilient': 91, 'interpret': 93, 'strife': 84, 'investigator': 85, 'electronics': 76, 'ambiguous': 79, 'vintage': 93, 'adversity': 88, 'berries': 96, 'martini': 97, 'crossing': 91, 'coil': 94, 'are': 91, 'stumble': 98, 'ninja': 93, 'adverb': 91, 'Italy': 92, 'mummy': 85, 'companionship': 96, 'adobe': 79, 'Sweden': 78, 'go-cart': 86, 'superiority': 81, 'tuxedo': 91, 'fearless': 89, 'chuck': 83, 'robbery': 93, 'crutch': 95, 'rubber': 93, 'flash': 88, 'nostril': 94, 'leech': 88, 'leopard': 95, 'upgrade': 82, 'courtesy': 96, 'gust': 95, 'numb': 80, 'origami': 96, 'bachelor': 89, 'ethics': 86, 'hardly': 84, 'detergent': 98, 'anticipation': 90, 'stripes': 94, 'misunderstood': 82, 'prone': 81, 'unconscious': 88, 'trek': 90, 'protector': 94, 'aspirin': 90, 'quirky': 87, 'nitrogen': 95, 'contest': 90, 'intricate': 91, 'clan': 80, 'leek': 91, 'tomato': 98, 'centipede': 79, 'fiddle': 79, 'boxer': 86, 'timid': 96, 'terrain': 87, 'survey': 94, 'trumpet': 92, 'mustache': 85, 'cheesy': 76, 'chapel': 94, 'rib': 90, 'illusion': 93, 'predict': 85, 'insinuate': 81, 'nostalgia': 79, 'snout': 95, 'devotion': 96, 'shouting': 98, 'sensory': 93, 'pigment': 92, 'brim': 92, 'wand': 95, 'vegetarian': 86, 'avoidance': 80, 'armchair': 91, 'baguette': 93, 'mumble': 90, 'potatoes': 86, 'barley': 93, 'intuitive': 88, 'battlefield': 84, 'stability': 92, 'overweight': 98, 'mild': 90, 'perky': 95, 'watching': 80, 'finished': 93, 'vapor': 90, 'dome': 77, 'Irish': 85, 'mimic': 93, 'nominate': 91, 'volcano': 95, 'facility': 93, 'portfolio': 92, 'anything': 91, 'tweet': 93, 'anime': 76, 'gait': 94, 'hardship': 93, 'reduction': 91, 'unwell': 100, 'breakable': 95, 'palindrome': 63, 'temptation': 94, 'diploma': 95, 'cue': 95, 'lobster': 90, 'limp': 82, 'teapot': 91, 'antecedent': 63, 'creature': 87, 'radiation': 75, 'strings': 88, 'resistance': 86, 'cola': 79, 'bishop': 87, 'bronze': 94, 'timing': 91, 'bumper': 90, 'dramatic': 75, 'retainer': 88, 'stealth': 89, 'incident': 94, 'fungus': 95, 'hobo': 92, 'update': 90, 'submarine': 93, 'electronic': 87, 'tempo': 96, 'leading': 80, 'illustrate': 96, 'locked': 90, 'babe': 84, 'zombie': 91, 'diagonal': 85, 'diary': 93, 'unmarried': 90, 'recycling': 92, 'landfill': 94, 'maple': 97, 'irrational': 85, 'surf': 96, 'fingers': 86, 'integer': 88, 'unfortunate': 93, 'dusty': 83, 'caught': 84, 'curse': 93, 'largest': 94, 'node': 71, 'unbelievable': 82, 'faulty': 82, 'jock': 88, 'armpit': 94, 'washing': 92, 'eccentric': 91, 'ham': 96, 'adieu': 84, 'selective': 88, 'misty': 90, 'accessory': 88, 'predator': 94, 'chin': 90, 'orientation': 93, 'Olympics': 89, 'doll': 91, 'virus': 91, 'lingerie': 83, 'kitty': 95, 'interrogate': 92, 'photographer': 92, 'skim': 91, 'exhausted': 98, 'disapprove': 93, 'grapefruit': 94, 'contractor': 89, 'alley': 90, 'crevice': 93, 'psychiatry': 95, 'knowledgeable': 91, 'confine': 87, 'colors': 89, 'chili': 93, 'crimson': 92, 'carp': 81, 'contacts': 88, 'pioneer': 84, 'inhabit': 82, 'classical': 98, 'migraine': 99, 'nobility': 90, 'persuasive': 82, 'spectacle': 86, 'gradient': 84, 'mourning': 97, 'cutlery': 88, 'validate': 86, 'crumble': 94, 'badge': 87, 'committed': 87, 'moose': 95, 'risky': 90, 'encyclopedia': 95, 'donut': 92, 'astronaut': 90, 'inanimate': 86, 'altar': 95, 'traditional': 86, 'sickly': 89, 'brew': 98, 'digger': 90, 'assessment': 96, 'debut': 83, 'assign': 91, 'likelihood': 89, 'cherry': 90, 'wreck': 94, 'itch': 94, 'faucet': 89, 'anytime': 89, 'endearment': 83, 'maneuver': 94, 'rhinoceros': 95, 'nausea': 90, 'worrying': 88, 'glide': 94, 'sleeping': 85, 'infidelity': 86, 'panda': 98, 'floppy': 88, 'dim': 88, 'billiards': 90, 'cuddle': 93, 'camouflage': 92, 'robber': 82, 'staircase': 91, 'wireless': 87, 'hacker': 91, 'telegraph': 94, 'tangible': 85, 'patch': 92, 'hearing': 94, 'scrumptious': 96, 'rider': 94, 'ceramic': 96, 'mosquito': 94, 'academy': 85, 'sane': 90, 'eyeball': 95, 'obsessive': 93, 'irritated': 93, 'organizer': 93, 'sandy': 97, 'productive': 95, 'instruments': 92, 'thunder': 95, 'synthetic': 91, 'prank': 88, 'seaside': 89, 'discomfort': 91, 'jolly': 90, 'postman': 90, 'shady': 93, 'hum': 92, 'meditation': 92, 'cursive': 79, 'symphony': 99, 'twisted': 72, 'nephew': 95, 'hemisphere': 95, 'cheek': 82, 'pursuit': 96, 'nowhere': 84, 'boar': 93, 'colony': 80, 'poet': 71, 'freeway': 95, 'carrion': 73, 'ruin': 85, 'jewel': 93, 'instruction': 96, 'junction': 78, 'jaw': 89, 'photosynthesis': 89, 'pork': 91, 'disco': 90, 'reader': 93, 'marks': 82, 'reflective': 89, 'adorable': 96, 'reporter': 94, 'eyebrow': 93, 'fireplace': 97, 'wealthy': 98, 'policeman': 90, 'raid': 89, 'foggy': 91, 'alpha': 96, 'merry': 94, 'dug': 93, 'tuna': 94, 'equilibrium': 94, 'British': 85, 'platypus': 71, 'anarchy': 85, 'technical': 87, 'ketchup': 94, 'canary': 92, 'cannon': 96, 'consent': 96, 'roommate': 79, 'sorority': 85, 'spreadsheet': 93, 'sympathy': 97, 'reed': 88, 'gaze': 97, 'expanse': 83, 'woods': 88, 'unavailable': 84, 'ditch': 87, 'bills': 90, 'damp': 96, 'ladle': 90, 'temper': 92, 'swine': 91, 'elastic': 87, 'artifact': 82, 'intimidate': 93, 'philanthropy': 86, 'jeep': 76, 'wallpaper': 93, 'carrot': 96, 'blouse': 96, 'reputation': 91, 'anybody': 95, 'chaotic': 88, 'packet': 94, 'lesbian': 95, 'attendance': 86, 'component': 97, 'pigeon': 89, 'windy': 90, 'autograph': 93, 'psychiatrist': 92, 'standing': 94, 'radish': 94, 'priority': 87, 'peasant': 85, 'metallic': 88, 'pulse': 96, 'hefty': 91, 'empire': 83, 'aristocracy': 71, 'implement': 83, 'buttocks': 91, 'spiral': 88, 'troubled': 86, 'organic': 96, 'forge': 91, 'citrus': 97, 'understood': 84, 'database': 84, 'fetish': 90, 'flea': 93, 'agony': 97, 'goalie': 90, 'bondage': 80, 'suits': 75, 'hose': 95, 'facet': 87, 'influential': 93, 'enigma': 90, 'collision': 95, 'medication': 90, 'colander': 84, 'creek': 89, 'platinum': 94, 'testify': 92, 'jot': 78, 'sine': 75, 'whore': 89, 'forecast': 97, 'sodium': 75, 'pod': 89, 'bait': 93, 'burp': 91, 'peas': 92, 'studios': 79, 'cod': 86, 'hawk': 90, 'grimace': 94, 'archeology': 86, 'shipping': 77, 'accord': 75, 'greatest': 86, 'harmonica': 75, 'gin': 96, 'pat': 88, 'indulge': 84, 'mayor': 80, 'heap': 96, 'grasshopper': 89, 'format': 95, 'crib': 95, 'commute': 96, 'frustrating': 86, 'flatfish': 76, 'claw': 85, 'archive': 94, 'depression': 97, 'agriculture': 95, 'plague': 88, 'productivity': 95, 'sucker': 91, 'limbo': 87, 'melancholy': 92, 'monk': 82, 'volt': 93, 'fade': 85, 'mend': 91, 'inverse': 78, 'applaud': 94, 'speculate': 90, 'stockings': 90, 'inertia': 89, 'goose': 90, 'sweating': 76, 'nervous': 86, 'optimist': 88, 'burrow': 88, 'cobra': 96, 'creator': 95, 'taxation': 88, 'firefighter': 94, 'hedge': 89, 'millennium': 72, 'hallmark': 87, 'brevity': 78, 'geology': 96, 'heath': 75, 'riding': 94, 'generally': 78, 'photography': 91, 'tied': 90, 'coverage': 89, 'industrious': 88, 'tavern': 97, 'jealousy': 96, 'spinach': 95, 'insufficient': 95, 'pyramid': 88, 'juicy': 89, 'rite': 89, 'hilarious': 95, 'operator': 93, 'plausible': 85, 'molecule': 97, 'cyborg': 81, 'minority': 89, 'alcoholic': 88, 'gloss': 95, 'accuracy': 89, 'laser': 91, 'veterinarian': 92, 'granted': 83, 'amoeba': 79, 'nightmare': 86, 'flowing': 96, 'skiing': 93, 'chilly': 94, 'tongs': 73, 'inflation': 91, 'sword': 87, 'bohemian': 82, 'angelic': 88, 'bald': 89, 'foam': 91, 'distress': 93, 'hovercraft': 82, 'hyper': 86, 'wicked': 94, 'evaluation': 94, 'devour': 93, 'perimeter': 97, 'rum': 82, 'flint': 79, 'twitch': 84, 'tribal': 89, 'onions': 81, 'fury': 90, 'diner': 83, 'notebook': 93, 'yawn': 99, 'entice': 85, 'chip': 96, 'tambourine': 95, 'tragic': 94, 'agile': 90, 'translucent': 81, 'contentment': 97, 'aroma': 99, 'hesitation': 90, 'clam': 98, 'engineering': 89, 'pollen': 95, 'withdraw': 88, 'April': 94, 'angst': 89, 'advanced': 89, 'Cinderella': 90, 'trendy': 91, 'fir': 91, 'handball': 85, 'slender': 92, 'stamps': 93, 'subjective': 88, 'slingshot': 89, 'frenzy': 90, 'nada': 85, 'litter': 94, 'gratuity': 89, 'trailer': 96, 'frequency': 82, 'trigonometry': 96, 'concede': 91, 'swollen': 80, 'haggle': 86, 'garlic': 95, 'duel': 91, 'sub': 87, 'terror': 95, 'casket': 92, 'broccoli': 96, 'bent': 87, 'capability': 93, 'overflow': 87, 'sincerity': 91, 'circumstance': 87, 'crops': 98, 'loft': 95, 'revise': 83, 'mammoth': 89, 'obesity': 97, 'gadget': 85, 'lawful': 93, 'python': 85, 'affectionate': 96, 'condom': 93, 'Satan': 89, 'coma': 91, 'gecko': 82, 'phony': 91, 'bunk': 93, 'ginger': 95, 'conform': 80, 'hive': 92, 'strain': 90, 'trophy': 98, 'saloon': 93, 'eloquent': 85, 'atom': 96, 'calamari': 94, 'luxurious': 84, 'manipulation': 79, 'artwork': 88, 'intervene': 80, 'heartfelt': 93, 'librarian': 93, 'secretive': 88, 'issues': 76, 'organism': 98, 'unrealistic': 82, 'pimple': 97, 'smoker': 93, 'headphones': 82, 'siren': 94, 'graceful': 91, 'intrigue': 87, 'blubber': 91, 'venture': 85, 'northern': 95, 'concentration': 91, 'immunity': 88, 'alligator': 95, 'feeble': 91, 'tutor': 95, 'ozone': 89, 'helium': 95, 'projector': 89, 'flora': 97, 'tattoo': 92, 'shrimp': 87, 'glucose': 89, 'harvest': 93, 'outlet': 96, 'fatigue': 94, 'jogging': 91, 'groove': 93, 'gently': 91, 'apt': 86, 'rip': 97, 'equipment': 91, 'sieve': 76, 'tyrant': 73, 'majestic': 96, 'transaction': 94, 'hangover': 93, 'January': 93, 'lasso': 89, 'laptop': 96, 'segregation': 80, 'warp': 87, 'toaster': 92, 'terminal': 98, 'tour': 85, 'poo': 83, 'precisely': 91, 'nude': 92, 'nylon': 86, 'suspicious': 88, 'shy': 92, 'expansion': 87, 'hack': 89, 'rogue': 76, 'bland': 99, 'woodpecker': 80, 'fries': 95, 'seating': 72, 'diminish': 85, 'crass': 82, 'pineapple': 86, 'assassin': 93, 'greasy': 96, 'unlikely': 83, 'slightly': 79, 'informal': 92, 'tepid': 81, 'giddy': 96, 'Wi-Fi': 92, 'symmetry': 83, 'receipt': 95, 'modest': 84, 'touching': 89, 'arcade': 94, 'league': 90, 'dromedary': 72, 'bags': 86, 'compact': 98, 'crave': 93, 'malt': 95, 'default': 89, 'invalid': 86, 'braces': 86, 'rocky': 86, 'skilled': 92, 'blur': 92, 'woof': 96, 'lobby': 90, 'grill': 88, 'brutality': 91, 'fudge': 89, 'outer': 95, 'mutual': 86, 'chips': 94, 'margarine': 94, 'sublime': 82, 'billboard': 87, 'fuse': 90, 'stalk': 93, 'walnut': 96, 'bin': 91, 'rumor': 81, 'berry': 94, 'thrill': 94, 'sentient': 71, 'laces': 98, 'yen': 82, 'drift': 86, 'subway': 89, 'peak': 93, 'karate': 81, 'gymnastics': 88, 'allergy': 81, 'jargon': 76, 'sled': 88, 'pilot': 97, 'paprika': 87, 'retarded': 94, 'adrenaline': 87, 'gloom': 90, 'latch': 93, 'pouch': 91, 'parallel': 89, 'composer': 83, 'impressive': 88, 'breadth': 94, 'noodles': 88, 'sarcasm': 77, 'steak': 97, 'bowling': 91, 'vigor': 70, 'transform': 83, 'overdose': 96, 'aircraft': 96, 'apparition': 90, 'scarf': 97, 'landing': 92, 'banker': 95, 'tame': 92, 'burst': 94, 'fencing': 84, 'preach': 93, 'cracker': 85, 'smashed': 87, 'betting': 85, 'survivor': 81, 'wings': 100, 'macho': 94, 'ski': 88, 'bazooka': 90, 'igloo': 70, 'sweetheart': 86, 'enthusiasm': 90, 'strip': 90, 'onion': 85, 'pressing': 85, 'crest': 93, 'antelope': 95, 'smear': 89, 'prevention': 90, 'deserve': 93, 'voyage': 90, 'scooter': 79, 'snare': 91, 'linger': 83, 'replicate': 90, 'textile': 92, 'intrinsic': 74, 'stitch': 93, 'cauliflower': 91, 'bomb': 94, 'deliberate': 77, 'stupendous': 85, 'collide': 84, 'restraint': 76, 'shin': 86, 'fragrance': 98, 'blazer': 90, 'rooster': 85, 'glance': 94, 'rodent': 96, 'magician': 81, 'muck': 90, 'burning': 93, 'reunion': 91, 'mortgage': 96, 'jive': 80, 'moonshine': 90, 'tweak': 88, 'backwards': 86, 'riches': 76, 'facade': 90, 'brothel': 73, 'gag': 89, 'propeller': 94, 'joyful': 94, 'events': 68, 'luscious': 88, 'funk': 85, 'wheelchair': 89, 'alliance': 93, 'crater': 96, 'demanding': 87, 'balls': 83, 'demeanor': 79, 'outline': 88, 'activate': 87, 'rack': 87, 'unclear': 91, 'recess': 84, 'viking': 75, 'gut': 89, 'religious': 89, 'chickadee': 77, 'panorama': 90, 'mellow': 95, 'rivalry': 88, 'biblical': 81, 'republic': 85, 'microphone': 84, 'perk': 86, 'spotless': 97, 'sparse': 91, 'freezer': 91, 'celery': 96, 'tiring': 92, 'untrue': 97, 'asparagus': 95, 'groan': 93, 'gospel': 86, 'lip': 97, 'moo': 100, 'taught': 85, 'gorilla': 92, 'gracious': 92, 'margin': 93, 'reef': 90, 'tan': 94, 'producer': 90, 'generic': 87, 'thermometer': 93, 'harsh': 91, 'variant': 91, 'detect': 97, 'immigrant': 84, 'gem': 90, 'beggar': 79, 'silk': 99, 'kidney': 95, 'spectacular': 91, 'koala': 100, 'unstable': 85, 'hyphen': 82, 'annihilate': 90, 'racket': 95, 'trigger': 93, 'brown': 96, 'artistic': 89, 'reproduction': 94, 'hurricane': 79, 'comparative': 83, 'adapt': 92, 'reasonable': 90, 'gear': 90, 'distinguish': 81, 'coconut': 93, 'buckle': 96, 'meander': 86, 'delve': 78, 'refrain': 93, 'obliterate': 95, 'filthy': 97, 'neon': 100, 'fireman': 91, 'trace': 90, 'sloth': 88, 'skeleton': 93, 'pinch': 91, 'aloof': 78, 'realm': 86, 'banks': 87, 'gaudy': 72, 'legitimate': 88, 'nook': 89, 'cluster': 90, 'intimacy': 96, 'gravy': 88, 'mushroom': 91, 'generation': 76, 'effortless': 94, 'yarn': 93, 'influenza': 98, 'uncover': 87, 'maniac': 91, 'stinky': 89, 'swan': 97, 'tomb': 93, 'teaspoon': 96, 'lever': 79, 'shopper': 88, 'movies': 88, 'crew': 95, 'maturity': 91, 'ruby': 96, 'frat': 88, 'tranquil': 95, 'idol': 90, 'chisel': 88, 'robust': 93, 'leadership': 90, 'monthly': 92, 'mesh': 85, 'pluck': 92, 'doubtless': 86, 'asphalt': 87, 'sewer': 90, 'worried': 97, 'lengthy': 94, 'creamy': 98, 'leprechaun': 89, 'anyway': 72, 'diving': 94, 'relativity': 89, 'vow': 94, 'flutter': 88, 'marsupial': 85, 'regal': 91, 'brace': 89, 'proton': 95, 'amusement': 97, 'fearful': 92, 'tarp': 81, 'depending': 76, 'misplaced': 100, 'interact': 93, 'steer': 97, 'giraffe': 94, 'flux': 72, 'tiara': 91, 'unemployment': 91, 'Barbie': 88, 'joyous': 93, 'snooze': 98, 'nonsense': 82, 'unicorn': 91, 'bolt': 90, 'plasma': 88, 'geek': 93, 'ideas': 91, 'raspberry': 94, 'addict': 96, 'volleyball': 91, 'soothing': 89, 'redneck': 78, 'clay': 93, 'ghetto': 78, 'pronounce': 89, 'bricks': 95, 'spectrum': 90, 'oat': 96, 'courtroom': 95, 'stripper': 90, 'completion': 94, 'impatient': 80, 'pitcher': 92, 'sage': 84, 'superfluous': 74, 'jockey': 94, 'riddle': 85, 'Cuba': 68, 'toothbrush': 96, 'hockey': 93, 'tsunami': 96, 'crane': 88, 'kiwi': 98, 'popcorn': 94, 'patrol': 98, 'wok': 84, 'desirable': 95, 'packaging': 92, 'encore': 90, 'blessing': 92, 'iceberg': 91, 'honestly': 86, 'ethic': 94, 'spam': 93, 'baker': 89, 'surrender': 91, 'fling': 87, 'comedy': 94, 'persistent': 81, 'confirmation': 86, 'perfectionist': 74, 'compress': 94, 'farming': 79, 'potion': 89, 'sleazy': 87, 'compound': 92, 'prey': 96, 'crush': 91, 'patron': 92, 'surfer': 93, 'womb': 96, 'seagull': 93, 'pity': 93, 'socialist': 85, 'surrounded': 73, 'tragedy': 92, 'chalkboard': 95, 'counsel': 88, 'layout': 83, 'compost': 93, 'maternal': 92, 'tentacle': 91, 'hollow': 93, 'buffet': 79, 'traveler': 79, 'aliens': 73, 'diplomacy': 83, 'slowly': 76, 'journalism': 92, 'efficiency': 85, 'outgoing': 94, 'lonesome': 96, 'endangered': 91, 'psycho': 89, 'kit': 77, 'cruelty': 90, 'plush': 91, 'cob': 97, 'overlook': 86, 'colorful': 90, 'vulgar': 94, 'splash': 94, 'warehouse': 75, 'heartache': 94, 'following': 89, 'gallon': 93, 'genre': 92, 'motivate': 93, 'intellect': 91, 'sneaky': 84, 'shed': 86, 'vermin': 90, 'climbing': 91, 'mustard': 93, 'cortex': 79, 'climate': 97, 'vanity': 87, 'gaming': 81, 'festival': 88, 'sinus': 95, 'fighter': 92, 'editor': 89, 'fortunate': 98, 'stylish': 92, 'clique': 87, 'anonymous': 73, 'trees': 92, 'industrial': 90, 'publication': 96, 'dining': 96, 'fin': 92, 'optional': 84, 'pit': 92, 'sensual': 88, 'parents': 89, 'starvation': 93, 'outfit': 94, 'scold': 85, 'boys': 91, 'vibrate': 94, 'verbose': 76, 'hostel': 89, 'typist': 91, 'tribe': 96, 'forgotten': 78, 'herb': 89, 'kisses': 82, 'verdict': 97, 'crafty': 87, 'pretentious': 84, 'boredom': 79, 'classy': 87, 'imperative': 88, 'pointy': 90, 'protocol': 93, 'troll': 88, 'surfing': 93, 'frisbee': 96, 'inviting': 90, 'saying': 89, 'circuit': 94, 'tandem': 87, 'unveil': 94, 'neuron': 89, 'missile': 88, 'hooray': 70, 'capitol': 84, 'waltz': 82, 'starving': 94, 'dork': 93, 'dagger': 91, 'dragon': 92, 'transition': 93, 'voting': 85, 'increment': 82, 'discharge': 81, 'passport': 94, 'enforcement': 99, 'glitch': 88, 'incompetent': 92, 'dominate': 86, 'contagious': 88, 'guardian': 92, 'oblivion': 82, 'descend': 91, 'amphibian': 93, 'robin': 91, 'twig': 97, 'germ': 90, 'golfing': 74, 'grenade': 93, 'altitude': 93, 'lifetime': 92, 'bumpy': 92, 'fortress': 88, 'haze': 95, 'cupcake': 96, 'brimstone': 84, 'judo': 79, 'profile': 80, 'advertising': 81, 'clueless': 86, 'patriotic': 83, 'safari': 95, 'untidy': 97, 'ridiculous': 89, 'flan': 88, 'boulder': 94, 'somersault': 79, 'mash': 95, 'sentimental': 91, 'conviction': 89, 'clinical': 94, 'dresser': 92, 'stupidity': 90, 'details': 71, 'grandma': 92, 'toys': 90, 'plantation': 94, 'douche': 89, 'punk': 89, 'kinky': 90, 'thoughts': 92, 'inaccurate': 93, 'coaster': 95, 'niece': 92, 'bumblebee': 85, 'privilege': 89, 'hardware': 96, 'wondering': 88, 'lawnmower': 92, 'appendix': 83, 'senate': 90, 'virgin': 93, 'drown': 93, 'peach': 94, 'matrix': 76, 'immoral': 88, 'procure': 90, 'expansive': 95, 'cellphone': 86, 'blessed': 93, 'sardine': 89, 'lychee': 46, 'pullover': 90, 'suave': 87, 'bubbles': 93, 'everlasting': 92, 'unlock': 98, 'stressful': 94, 'jolt': 95, 'draft': 93, 'cornucopia': 80, 'amaze': 93, 'supportive': 92, 'coupon': 84, 'ethical': 93, 'enclosure': 90, 'warrior': 93, 't-shirt': 80, 'blackboard': 98, 'hairstyle': 81, 'shaving': 93, 'syndrome': 74, 'lifeguard': 88, 'deviant': 87, 'passing': 83, 'picket': 96, 'silky': 98, 'rebel': 77, 'declare': 89, 'elegance': 87, 'vicar': 78, 'oar': 86, 'lube': 89, 'hyena': 83, 'bling': 88, 'anchor': 96, 'tinker': 85, 'fluent': 94, 'cuddly': 90, 'paws': 91, 'innovation': 90, 'duet': 97, 'drape': 94, 'vice': 87, 'gravel': 92, 'Muslim': 86, 'pessimistic': 89, 'cashier': 94, 'vicinity': 89, 'dizzy': 86, 'gauge': 93, 'dolphin': 86, 'burial': 93, 'pillar': 90, 'intentions': 86, 'plea': 94, 'solitary': 100, 'hurtful': 94, 'plumbing': 89, 'chimney': 95, 'subtle': 87, 'mole': 88, 'actress': 83, 'mischievous': 90, 'filth': 96, 'plans': 80, 'goblet': 80, 'mixer': 91, 'stark': 88, 'icon': 85, 'timetable': 96, 'teamwork': 89, 'keys': 88, 'winding': 81, 'conceal': 99, 'apron': 85, 'postpone': 92, 'endurance': 93, 'destruct': 91, 'quill': 94, 'woodworking': 84, 'microwave': 94, 'gene': 94, 'sacred': 91, 'valve': 84, 'tropical': 95, 'poison': 93, 'spades': 74, 'doodle': 91, 'tart': 91, 'introvert': 93, 'departure': 97, 'barge': 86, 'pedestrian': 99, 'bias': 81, 'flock': 92, 'drone': 84, 'speaking': 91, 'info': 91, 'verbal': 91, 'dragonfly': 91, 'southern': 82, 'dressing': 97, 'mediocre': 87, 'exceptional': 92, 'vulnerable': 91, 'sling': 96, 'charitable': 87, 'raft': 87, 'bamboo': 87, 'acorn': 96, 'magpie': 83, 'banjo': 76, 'meteor': 95, 'shack': 81, 'jealous': 96, 'tantrum': 89, 'wooden': 89, 'blush': 96, 'fidelity': 92, 'recession': 92, 'torment': 91, 'temple': 89, 'porcelain': 94, 'mane': 96, 'mildew': 93, 'examination': 97, 'wasp': 95, 'wipe': 99, 'foul': 94, 'flexible': 91, 'skateboard': 85, 'sniff': 95, 'boil': 94, 'toll': 96, 'regional': 87, 'eggplant': 92, 'violin': 93, 'zucchini': 89, 'notation': 84, 'briefs': 94, 'cultivate': 94, 'persistence': 76, 'fitting': 90, 'dental': 97, 'elucidate': 63, 'spooky': 98, 'colon': 71, 'bikini': 84, 'fad': 85, 'mast': 91, 'dorm': 91, 'pungent': 90, 'pi': 73, 'fracture': 96, 'drip': 96, 'illustration': 95, 'blackberry': 95, 'scrutinize': 88, 'legs': 83, 'evade': 85, 'replica': 96, 'beaver': 92, 'camel': 87, 'insecure': 89, 'mysterious': 91, 'touchy': 92, 'primate': 93, 'hedgehog': 84, 'custody': 93, 'latter': 90, 'slot': 91, 'thug': 86, 'fulfillment': 91, 'aura': 81, 'perspective': 92, 'handy': 94, 'epiphany': 79, 'stereo': 84, 'bro': 86, 'embryo': 94, 'overwhelming': 78, 'flask': 89, 'cargo': 95, 'remorse': 98, 'stuffed': 95, 'freight': 94, 'align': 86, 'baton': 79, 'questionable': 90, 'competitor': 94, 'nutcracker': 99, 'appeal': 92, 'obnoxious': 94, 'illegal': 93, 'caterpillar': 93, 'boulevard': 85, 'stickleback': 44, 'cigar': 90, 'feedback': 94, 'stapler': 78, 'wasteful': 87, 'bulldozer': 92, 'palace': 87, 'employer': 96, 'crawl': 98, 'poorly': 86, 'photocopy': 95, 'dame': 76, 'squat': 82, 'marvelous': 91, 'inception': 86, 'bumble': 93, 'tradition': 88, 'seaweed': 90, 'nicotine': 96, 'analog': 87, 'belly': 97, 'harass': 93, 'dive': 93, 'brave': 88, 'calcium': 89, 'lick': 93, 'dart': 88, 'sweep': 94, 'napkin': 92, 'guarantee': 89, 'hub': 82, 'mechanics': 86, 'maze': 90, 'kilogram': 93, 'intend': 84, 'piracy': 80, 'snowman': 91, 'tusk': 92, 'barber': 93, 'digest': 76, 'toenail': 77, 'playing': 89, 'atheist': 75, 'parched': 95, 'sneakers': 71, 'lobe': 92, 'colonial': 88, 'shares': 74, 'crossword': 97, 'sweater': 98, 'ostrich': 95, 'dove': 93, 'distraction': 79, 'inventory': 94, 'postal': 97, 'cove': 84, 'badminton': 90, 'brunette': 95, 'fridge': 98, 'udder': 88, 'sold': 92, 'arctic': 94, 'Zeppelin': 76, 'procrastinate': 85, 'assured': 83, 'minimize': 82, 'stump': 82, 'tit': 75, 'razor': 95, 'widow': 94, 'midday': 99, 'recite': 93, 'basement': 89, 'oriental': 92, 'tick': 93, 'scalp': 97, 'unsafe': 94, 'reptiles': 74, 'indoors': 99, 'reside': 93, 'softball': 88, 'forum': 86, 'timer': 92, 'nutmeg': 93, 'French': 90, 'toothpaste': 88, 'burglar': 98, 'llama': 67, 'wag': 95, 'cognition': 87, 'lavatory': 90, 'grief': 94, 'extinct': 89, 'nuclear': 89, 'scholarship': 89, 'stamina': 97, 'cosmopolitan': 89, 'decoration': 97, 'fictional': 88, 'arrogance': 81, 'apocalypse': 78, 'jumper': 75, 'sparkle': 95, 'virtual': 90, 'silverware': 83, 'hostage': 91, 'parakeet': 93, 'artisan': 86, 'fried': 94, 'disprove': 81, 'flee': 92, 'itchy': 96, 'salon': 87, 'hover': 93, 'wheels': 91, 'airline': 89, 'sweatshirt': 86, 'resources': 88, 'burglary': 92, 'gluten': 94, 'beet': 93, 'peel': 97, 'beaker': 89, 'eyesight': 92, 'decisive': 89, 'bloom': 96, 'erotic': 94, 'racing': 93, 'beetle': 88, 'soak': 94, 'algorithm': 91, 'assault': 96, 'solitude': 89, 'slug': 93, 'console': 93, 'pheasant': 87, 'lump': 93, 'pearl': 92, 'democrat': 88, 'distinction': 90, 'emphasis': 76, 'tricycle': 94, 'prestige': 89, 'squirrel': 96, 'victim': 90, 'legislation': 96, 'futile': 83, 'delegate': 83, 'rumble': 92, 'browser': 87, 'written': 83, 'lucid': 88, 'pickup': 98, 'currently': 87, 'shoelace': 88, 'venue': 93, 'brutal': 94, 'chatty': 77, 'doom': 90, 'immature': 93, 'cactus': 89, 'grapes': 93, 'smoothie': 94, 'spaghetti': 85, 'fondness': 94, 'aggressive': 96, 'abacus': 87, 'bothersome': 91, 'sociology': 87, 'shrug': 84, 'psychic': 70, 'progression': 87, 'savory': 93, 'defect': 87, 'trousers': 98, 'mercury': 91, 'pickle': 88, 'grainy': 77, 'sanctuary': 96, 'wizard': 77, 'posture': 93, 'mankind': 79, 'lantern': 91, 'icky': 96, 'swirl': 93, 'controversy': 87, 'vicious': 81, 'dip': 95, 'association': 85, 'communism': 83, 'sharpen': 96, 'dandy': 80, 'hydrogen': 92, 'spawn': 86, 'respected': 71, 'domestic': 95, 'calf': 92, 'liability': 89, 'novelty': 92, 'vertical': 94, 'crop': 99, 'correction': 87, 'straighten': 88, 'broth': 95, 'eventually': 79, 'remains': 80, 'pawn': 95, 'surge': 87, 'hem': 85, 'ruminate': 69, 'boost': 92, 'Belgium': 80, 'steering': 95, 'protective': 90, 'escort': 94, 'goddess': 79, 'composition': 98, 'paradise': 88, 'mini': 87, 'drain': 94, 'blurry': 92, 'accordion': 89, 'snooker': 73, 'ore': 93, 'beanie': 93, 'clerk': 89, 'penguin': 89, 'unseen': 91, 'diarrhea': 81, 'rhino': 90, 'exhale': 93, 'wildlife': 94, 'willow': 92, 'blender': 86, 'mining': 88, 'microscopic': 88, 'reluctant': 81, 'balanced': 93, 'rattle': 97, 'snowboard': 93, 'arduous': 86, 'messenger': 83, 'expire': 96, 'entitled': 85, 'curry': 91, 'footprint': 86, 'grit': 87, 'socket': 95, 'renew': 80, 'nanny': 74, 'bison': 91, 'earthquake': 80, 'mammals': 84, 'pelican': 96, 'gorgeous': 99, 'promotion': 95, 'pleasing': 95, 'pinpoint': 84, 'frighten': 99, 'colloquial': 76, 'reflex': 92, 'secrets': 83, 'determined': 83, 'participation': 90, 'fertilizer': 94, 'indigenous': 91, 'slide': 93, 'ram': 84, 'privacy': 92, 'dancer': 92, 'ladybug': 91, 'New Zealand': 81, 'orbit': 95, 'discus': 88, 'linguistics': 86, 'trombone': 89, 'pepperoni': 99, 'resort': 98, 'educated': 84, 'handicap': 95, 'gherkins': 73, 'ritual': 92, 'horsefly': 75, 'violet': 95, 'moss': 85, 'lodge': 85, 'subsequent': 93, 'fatty': 77, 'shark': 95, 'grandchildren': 86, 'yacht': 97, 'studying': 88, 'foliage': 97, 'acceleration': 96, 'petty': 82, 'vitamin': 57, 'psychologist': 94, 'lure': 91, 'wrestling': 83, 'slumber': 96, 'referee': 91, 'voltage': 85, 'skating': 81, 'bleach': 88, 'monotony': 89, 'satellite': 79, 'provision': 79, 'wheelbarrow': 89, 'juvenile': 94, 'sunburn': 93, 'strenuous': 92, 'physician': 97, 'awkward': 88, 'opposition': 88, 'thrive': 96, 'shepherd': 91, 'slob': 89, 'dope': 95, 'permanent': 90, 'raven': 89, 'cuisine': 96, 'retro': 89, 'punctual': 92, 'hanger': 94, 'immortal': 84, 'squint': 92, 'federal': 90, 'instinct': 93, 'helmet': 98, 'carving': 89, 'fig': 94, 'vein': 95, 'grumpy': 87, 'redhead': 85, 'rapper': 77, 'floss': 96, 'mittens': 93, 'cramp': 94, 'veil': 91, 'cheater': 85, 'assets': 89, 'chances': 77, 'enclose': 92, 'vivid': 98, 'dummy': 76, 'majesty': 100, 'dissertation': 86, 'parrot': 94, 'explode': 87, 'icing': 97, 'pantry': 91, 'scrape': 89, 'termite': 93, 'carbon': 90, 'tears': 91, 'interval': 90, 'pasta': 87, 'runner': 88, 'shore': 87, 'dynamic': 96, 'tulip': 96, 'membrane': 90, 'array': 85, 'panther': 96, 'ferocious': 93, 'cranberries': 89, 'quote': 86, 'intoxicated': 97, 'prisoner': 81, 'pram': 71, 'salvation': 93, 'spider': 87, 'blade': 94, 'seasoning': 98, 'spherical': 99, 'petroleum': 98, 'frustration': 87, 'inspiring': 78, 'contempt': 83, 'binary': 90, 'tools': 81, 'duh': 87, 'distribution': 80, 'instructor': 97, 'repetitive': 90, 'excrement': 89, 'canvas': 97, 'sincerely': 84, 'wrench': 90, 'vent': 87, 'losing': 96, 'insanity': 93, 'throat': 92, 'merchant': 87, 'piranha': 90, 'procession': 89, 'arts': 84, 'beans': 77, 'moderate': 82, 'eclipse': 95, 'conformity': 71, 'mango': 93, 'exterminate': 87, 'killer': 97, 'phobia': 95, 'mince': 92, 'scramble': 91, 'cheeky': 87, 'piggy': 94, 'fidget': 88, 'queer': 94, 'testimony': 90, 'denim': 96, 'necklace': 92, 'grime': 89, 'antenna': 69, 'obedience': 90, 'courageous': 95, 'elevated': 79, 'nudity': 87, 'wrinkles': 91, 'archery': 93, 'swordfish': 73, 'coke': 97, 'mixture': 87, 'helpless': 91, 'unhealthy': 96, 'increasing': 91, 'consumerism': 94, 'brat': 90, 'isolation': 96, 'sunflower': 93, 'bankrupt': 93, 'consumption': 88, 'caravan': 78, 'retribution': 77, 'heron': 90, 'ants': 90, 'stoop': 87, 'saxophone': 90, 'tummy': 99, 'ape': 98, 'unreal': 85, 'paddle': 93, 'confused': 77, 'belongings': 89, 'arrogant': 90, 'weave': 89, 'bandage': 94, 'envision': 77, 'canon': 90, 'insert': 85, 'dock': 95, 'reservation': 87, 'trolley': 92, 'surmount': 77, 'thorn': 93, 'graduation': 88, 'tack': 88, 'clarinet': 98, 'taut': 88, 'screwdriver': 93, 'trusting': 95, 'flush': 97, 'myriad': 82, 'grandfather': 90, 'spoiled': 96, 'snobby': 87, 'ballet': 95, 'sly': 92, 'bliss': 92, 'sponge': 88, 'terrorism': 66, 'peppermint': 97, 'insane': 92, 'dates': 90, 'moisture': 92, 'eerie': 88, 'connotation': 74, 'outdoor': 90, 'reaper': 84, 'eel': 89, 'skull': 90, 'empathize': 88, 'especially': 66, 'waffle': 93, 'funds': 94, 'dwell': 87, 'caboose': 82, 'intensity': 92, 'vanish': 95, 'beige': 91, 'opulent': 85, 'whine': 90, 'staple': 90, 'his': 96, 'confrontation': 95, 'pedal': 93, 'veranda': 87, 'slope': 92, 'cloak': 94, 'livestock': 86, 'terrific': 100, 'pill': 88, 'segment': 94, 'poop': 84, 'vanilla': 96, 'crow': 92, 'trampoline': 96, 'pushy': 92, 'sweetie': 93, 'sailor': 90, 'piercing': 92, 'gourmet': 91, 'spade': 91, 'moth': 94, 'salamander': 92, 'pondering': 91, 'bleed': 94, 'blink': 93, 'affordable': 90, 'curl': 91, 'documentary': 75, 'dreary': 94, 'smiling': 94, 'hopeless': 90, 'transit': 98, 'criticism': 90, 'upbeat': 87, 'fanfare': 60, 'elope': 91, 'thread': 94, 'shorts': 80, 'flamboyant': 84, 'bloody': 94, 'oats': 89, 'bassoon': 85, 'scanner': 75, 'selfless': 90, 'mineral': 92, 'arrival': 95, 'congregation': 95, 'workout': 96, 'mattress': 96, 'prospect': 91, 'fortify': 89, 'neutron': 88, 'intake': 87, 'ash': 96, 'discourse': 87, 'ornate': 88, 'cosmos': 90, 'madness': 90, 'seeker': 78, 'louse': 78, 'sob': 94, 'lass': 87, 'envy': 94, 'arena': 85, 'continental': 80, 'weep': 97, 'India': 80, 'introduction': 95, 'sapphire': 98, 'crack': 97, 'results': 86, 'successful': 95, 'rational': 93, 'feral': 95, 'tampon': 90, 'incredible': 94, 'mayhem': 92, 'proclaim': 87, 'fur': 95, 'placid': 85, 'primal': 93, 'granite': 89, 'incomplete': 84, 'purity': 92, 'splinter': 92, 'jagged': 87, 'softly': 91, 'oasis': 96, 'cello': 90, 'hunting': 96, 'asleep': 92, 'puppet': 73, 'convict': 97, 'meager': 86, 'straightforward': 92, 'entirely': 98, 'looming': 75, 'appetite': 96, 'iris': 94, 'Cheddar': 96, 'acoustic': 94, 'poem': 81, 'ice cream': 94, 'bigotry': 87, 'knitting': 86, 'feelings': 97, 'audience': 87, 'torch': 97, 'pragmatic': 81, 'massive': 98, 'clamp': 89, 'observation': 91, 'mushy': 89, 'recommendation': 83, 'submission': 82, 'generosity': 93, 'playboy': 77, 'microscope': 94, 'amble': 66, 'eraser': 96, 'madly': 73, 'acne': 87, 'donor': 99, 'negate': 80, 'ottoman': 79, 'crunchy': 87, 'mortar': 64, 'supervisor': 95, 'flex': 97, 'typing': 89, 'gulp': 94, 'gala': 92, 'dignity': 94, 'mermaid': 76, 'indecisive': 68, 'panties': 86, 'railing': 90, 'survival': 71, 'peril': 94, 'untrustworthy': 86, 'squish': 94, 'sterile': 83, 'numeral': 92, 'tango': 92, 'speeding': 96, 'lime': 93, 'athlete': 92, 'ideal': 94, 'bonnet': 97, 'muscles': 86, 'chord': 94, 'quench': 91, 'curves': 83, 'neutral': 83, 'plead': 97, 'childish': 88, 'killing': 95, 'minimum': 95, 'rapture': 67, 'tranquility': 98, 'shuttle': 95, 'Fahrenheit': 84, 'thankful': 95, 'confusing': 74, 'Japan': 76, 'ramp': 91, 'casual': 94, 'iguana': 90, 'convenience': 94, 'indigo': 96, 'bleak': 87, 'beneficial': 90, 'oh': 81, 'synopsis': 91, 'despair': 92, 'manic': 87, 'shooter': 83, 'manuscript': 93, 'sneak': 97, 'pennies': 84, 'cucumber': 99, 'prism': 87, 'mob': 92, 'bagpipe': 71, 'fusion': 82, 'rebellion': 84, 'rotation': 91, 'nursing': 91, 'cockroach': 93, 'stereotype': 82, 'bun': 90, 'carpentry': 96, 'howl': 88, 'squeak': 95, 'menace': 90, 'plumber': 89, 'flimsy': 87, 'refreshing': 92, 'malicious': 90, 'processor': 89, 'prescription': 95, 'friction': 93, 'maintenance': 74, 'metro': 92, 'haughty': 82, 'immigration': 83, 'zebra': 93, 'eureka': 54, 'spit': 77, 'vehicles': 94, 'lovers': 83, 'cock': 95, 'abdomen': 92, 'mutter': 88, 'motorcycle': 91, 'poodle': 93, 'ignorance': 91, 'drawn': 80, 'crackle': 88, 'presence': 94, 'posterior': 89, 'spa': 92, 'tactful': 84, 'pudding': 94, 'lethargic': 94, 'siblings': 96, 'Buddhism': 85, 'mercy': 87, 'probe': 85, 'deviation': 84, 'freeze': 91, 'persona': 72, 'gypsum': 51, 'centimeter': 84, 'tow': 93, 'stem': 97, 'progressive': 81, 'comfy': 95, 'tractor': 94, 'files': 77, 'senator': 76, 'monotonous': 85, 'explosion': 92, 'execution': 88, 'summit': 86, 'compassionate': 93, 'consonant': 91, 'refresh': 84, 'serial': 92, 'infrequent': 93, 'educator': 99, 'obese': 99, 'bless': 94, 'adhesive': 96, 'hassle': 90, 'haunted': 99, 'curb': 91, 'inspect': 85, 'grid': 92, 'peanut': 92, 'nag': 94, 'nails': 92, 'anvil': 82, 'squash': 93, 'therapy': 87, 'fluorescent': 91, 'scales': 91, 'perspire': 94, 'envelop': 92, 'scope': 78, 'rim': 89, 'totally': 87, 'fallacy': 93, 'mommy': 93, 'polar': 94, 'impediment': 91, 'ranch': 92, 'lyrics': 98, 'vaccine': 77, 'dainty': 89, 'humanity': 87, 'crowbar': 79, 'vector': 84, 'serpent': 91, 'growl': 91, 'establish': 84, 'tonic': 92, 'pulp': 95, 'unwilling': 82, 'sticker': 86, 'grown': 90, 'Mexico': 77, 'keen': 96, 'pickax': 82, 'decent': 88, 'opposed': 96, 'pompous': 83, 'nursery': 88, 'flare': 87, 'salute': 91, 'munch': 91, 'astronomy': 96, 'ax': 80, 'straw': 97, 'tourist': 86, 'prosperity': 95, 'cider': 97, 'civilization': 85, 'pike': 85, 'hippopotamus': 91, 'proxy': 70, 'monologue': 88, 'spear': 89, 'rehearse': 91, 'cape': 87, 'studious': 93, 'barrister': 78, 'inhale': 94, 'recover': 82, 'weights': 77, 'superb': 98, 'postcard': 96, 'hatchet': 86, 'driveway': 92, 'scum': 87, 'forehead': 88, 'martial': 92, 'loo': 92, 'glorious': 87, 'fossil': 95, 'inconvenience': 87, 'download': 90, 'observant': 84, 'fangs': 92, 'spelling': 93, 'zip': 97, 'needle': 98, 'airy': 86, 'relevant': 91, 'mute': 95, 'micro': 94, 'onset': 87, 'falcon': 86, 'spatula': 90, 'slant': 83, 'throb': 95, 'trim': 96, 'legacy': 84, 'toast': 92, 'neglect': 89, 'vine': 96, 'pathway': 90, 'spent': 94, 'stature': 91, 'prose': 93, 'stew': 88, 'lukewarm': 89, 'Russia': 64, 'inspire': 88, 'metaphor': 83, 'cymbals': 84, 'hippie': 82, 'addiction': 92, 'wasted': 95, 'denial': 81, 'parenthood': 90, 'spar': 87, 'obsolete': 87, 'pierce': 89, 'conduct': 89, 'pharmacy': 87, 'crispy': 92, 'wellness': 96, 'diverse': 84, 'surprising': 89, 'parsley': 97, 'mega': 90, 'supreme': 93, 'register': 87, 'loop': 90, 'cuckoo': 94, 'climax': 95, 'stub': 92, 'compulsive': 90, 'printing': 89, 'household': 94, 'landlord': 88, 'uneducated': 78, 'compatible': 78, 'jingle': 89, 'everything': 93, 'orderly': 84, 'prom': 90, 'sneaker': 86, 'mason': 84, 'rub': 90, 'savor': 92, 'tee': 93, 'footwear': 91, 'newborn': 97, 'patent': 88, 'disposal': 96, 'conditioner': 94, 'speck': 91, 'scribble': 87, 'journal': 97, 'deceit': 91, 'astounding': 92, 'corset': 86, 'acute': 97, 'slanted': 68, 'gorge': 83, 'usage': 81, 'foresight': 77, 'senile': 93, 'derivative': 79, 'ravine': 85, 'publish': 96, 'eagle': 94, 'consensus': 92, 'geometric': 91, 'impression': 87, 'starve': 92, 'mentally': 75, 'inference': 77, 'subordinate': 81, 'dune': 94, 'lounge': 88, 'telescope': 88, 'refute': 80, 'rainy': 93, 'proven': 81, 'positively': 91, 'divine': 97, 'collar': 91, 'refrigerator': 92, 'stormy': 93, 'anorexia': 80, 'fellowship': 90, 'grin': 88, 'phase': 90, 'pharmacist': 89, 'matrimony': 90, 'peacock': 92, 'rally': 91, 'priceless': 81, 'seed': 96, 'underage': 89, 'combination': 90, 'restore': 84, 'injure': 99, 'suspense': 88, 'sooner': 85, 'twirl': 95, 'casino': 84, 'cellar': 97, 'sermon': 88, 'contraption': 77, 'superficial': 89, 'rights': 65, 'frost': 95, 'anywhere': 85, 'characteristic': 88, 'liver': 86, 'apparel': 93, 'chewy': 73, 'abbreviation': 68, 'downtown': 86, 'humidity': 96, 'cooperate': 87, 'unknown': 81, 'boom': 91, 'salsa': 90, 'violent': 95, 'inheritance': 93, 'witty': 86, 'invention': 91, 'administration': 85, 'extract': 90, 'weasel': 84, 'snort': 81, 'banner': 89, 'cocaine': 94, 'mediate': 75, 'toad': 94, 'shimmer': 88, 'plaque': 91, 'spoke': 87, 'odor': 93, 'morality': 90, 'seafood': 88, 'prohibit': 96, 'motive': 92, 'fluffy': 91, 'boa': 95, 'trough': 84, 'buns': 83, 'burner': 79, 'nucleus': 92, 'triad': 77, 'disturb': 90, 'recovery': 91, 'welcoming': 87, 'elevation': 93, 'interface': 85, 'sovereign': 94, 'sparrow': 96, 'nourishment': 95, 'satin': 98, 'paternal': 95, 'plum': 96, 'pliers': 86, 'sonar': 88, 'tilt': 88, 'altruism': 74, 'emit': 72, 'Obama': 80, 'abbey': 87, 'cordial': 93, 'seduce': 90, 'covering': 84, 'added': 64, 'outback': 89, 'fond': 90, 'clumsy': 83, 'mathematical': 80, 'champagne': 93, 'collapse': 88, 'philosopher': 71, 'Lego': 90, 'prominent': 78, 'exquisite': 92, 'miner': 89, 'obscure': 89, 'inferior': 85, 'reform': 95, 'sprout': 74, 'independence': 92, 'panic': 94, 'advocate': 90, 'equivalent': 87, 'salesman': 83, 'yearning': 94, 'cologne': 94, 'focused': 90, 'December': 93, 'compensation': 92, 'superstition': 89, 'smug': 76, 'questioning': 86, 'fashionable': 95, 'relay': 92, 'charming': 90, 'sigh': 92, 'attentive': 92, 'ethanol': 91, 'thinker': 79, 'lizard': 92, 'zoom': 87, 'emerge': 77, 'percussion': 94, 'hamburger': 96, 'tram': 83, 'uprising': 91, 'magical': 87, 'bigot': 82, 'perpetual': 88, 'heel': 91, 'zipper': 99, 'courteous': 96, 'sketchy': 86, 'jungle': 92, 'opponent': 97, 'accuse': 88, 'simplicity': 83, 'shovel': 95, 'rift': 88, 'regularly': 87, 'racist': 81, 'sniper': 92, 'crocodile': 88, 'dimension': 85, 'clearly': 82, 'crying': 89, 'verse': 84, 'bars': 86, 'video game': 75, 'copyright': 83, 'towards': 90, 'chemicals': 83, 'breasts': 90, 'rust': 92, 'undefined': 84, 'sunglasses': 90, 'uneasy': 93, 'herbs': 91, 'lint': 91, 'trivial': 95, 'categorize': 82, 'offensive': 91, 'morose': 84, 'weld': 89, 'amber': 88, 'perpendicular': 87, 'sandpaper': 87, 'skills': 66, 'seen': 83, 'reserved': 88, 'physically': 86, 'genetics': 92, 'terrorist': 68, 'predicate': 54, 'sensible': 90, 'aspiration': 94, 'everybody': 94, 'explorer': 70, 'formation': 89, 'daylight': 96, 'innate': 74, 'bore': 83, 'foolish': 92, 'misery': 91, 'conscientious': 90, 'plug': 95, 'stalker': 89, 'plow': 83, 'tartan': 67, 'physiotherapist': 78, 'designer': 92, 'stones': 89, 'beating': 83, 'cancel': 90, 'nipple': 90, 'wages': 97, 'indifferent': 70, 'version': 83, 'congratulate': 92, 'bibliography': 72, 'raw': 96, 'shiver': 88, 'sponsor': 79, 'bead': 98, 'penny': 84, 'gullible': 80, 'sip': 95, 'harp': 88, 'blueberry': 94, 'reminder': 88, 'clone': 93, 'timeless': 95, 'lawsuit': 91, 'awareness': 76, 'aptitude': 92, 'cops': 94, 'antlers': 95, 'obscene': 91, 'weapons': 80, 'scaffolding': 80, 'cave': 81, 'boxers': 91, 'harpsichord': 79, 'cycling': 79, 'mansion': 93, 'celebrity': 87, 'tails': 86, 'tortilla': 92, 'seatbelt': 98, 'dilemma': 95, 'supporter': 89, 'scared': 95, 'wary': 88, 'butcher': 92, 'shellfish': 90, 'economic': 90, 'pastoral': 89, 'tipsy': 88, 'boisterous': 87, 'getting': 77, 'noun': 97, 'fingernail': 90, 'vocation': 93, 'incapable': 92, 'crust': 96, 'motel': 94, 'olive': 95, 'cunning': 88, 'clergy': 94, 'skeptic': 77, 'athletics': 96, 'villain': 90, 'laughing': 91, 'prophet': 53, 'emotions': 96, 'horrific': 95, 'swamp': 90, 'currant': 81, 'comeback': 86, 'courier': 86, 'trait': 88, 'remedy': 94, 'thorough': 85, 'factor': 83, 'trapped': 84, 'mushrooms': 83, 'stronger': 74, 'cheerleader': 73, 'contribution': 94, 'passionate': 94, 'horrendous': 96, 'buffalo': 92, 'restriction': 81, 'cocoa': 93, 'confession': 92, 'undecided': 77, 'navigation': 91, 'Tom': 82, 'salty': 97, 'comprehension': 97, 'lorry': 80, 'tread': 79, 'fluff': 86, 'comedian': 82, 'wilderness': 95, 'advisor': 80, 'emperor': 80, 'transmission': 85, 'syringe': 97, 'reject': 88, 'mechanism': 92, 'ensure': 80, 'becoming': 74, 'bribe': 86, 'meditate': 94, 'ubiquitous': 59, 'marine': 93, 'wobble': 66, 'painful': 96, 'cab': 96, 'magnet': 89, 'poppy': 94, 'tolerate': 75, 'unnecessary': 73, 'slavery': 79, 'slime': 91, 'maths': 79, 'butler': 79, 'suffering': 91, 'tray': 93, 'guideline': 90, 'removal': 87, 'nod': 89, 'dam': 80, 'resolution': 81, 'carefree': 74, 'confide': 95, 'orate': 75, 'inhibit': 84, 'uptight': 83, 'spree': 90, 'recipient': 95, 'outsider': 89, 'aside': 80, 'terse': 78, 'investigation': 87, 'vulture': 88, 'severe': 89, 'unreliable': 85, 'deodorant': 84, 'owner': 89, 'insects': 90, 'training': 91, 'balcony': 76, 'earwig': 84, 'diplomat': 81, 'rustic': 88, 'gel': 93, 'loser': 84, 'remaining': 87, 'blossom': 96, 'rain forest': 91, 'ban': 89, 'famine': 97, 'cleanser': 83, 'yuck': 92, 'inherit': 95, 'blackbird': 78, 'torn': 92, 'mode': 80, 'helicopter': 84, 'stomp': 89, 'savage': 86, 'humid': 96, 'pubes': 75, 'firefly': 82, 'conglomerate': 73, 'portray': 88, 'horseshoe': 90, 'motorbike': 88, 'woe': 80, 'tattle': 79, 'bits': 66, 'chivalrous': 83, 'treaty': 79, 'tracksuit': 75, 'trickery': 82, 'rump': 85, 'bracelet': 86, 'strengthen': 88, 'meme': 71, 'layer': 93, 'espionage': 84, 'radical': 85, 'mischief': 86, 'hunter': 91, 'attraction': 91, 'rusk': 54, 'recently': 87, 'cloudy': 96, 'polo': 84, 'comforting': 92, 'simply': 88, 'an': 61, 'backbone': 89, 'deadly': 89, 'guidance': 70, 'communion': 88, 'sultan': 51, 'makeup': 92, 'hardworking': 90, 'ashamed': 93, 'disgrace': 96, 'bashful': 98, 'humiliate': 89, 'embarrass': 89, 'ornament': 91, 'Crayola': 81, 'compliment': 93, 'aright': 54, 'symptom': 96, 'hesitate': 91, 'barracuda': 86, 'Methodist': 91, 'catastrophe': 90, 'times': 90, 'maggot': 88, 'Hawaii': 78, 'lipstick': 93, 'cookbook': 93, 'quail': 89, 'frightened': 98, 'hymn': 92, 'adventurous': 85, 'sill': 82, 'hitch': 88, 'leaves': 96, 'intuition': 83, 'arms': 86, 'boiled': 90, 'scoop': 91, 'clockwise': 84, 'dynasty': 83, 'brittle': 87, 'dismay': 89, 'instrument': 100, 'outlaw': 85, 'inlet': 82, 'stimulus': 92, 'murderer': 91, 'poise': 83, 'blaze': 90, 'carrots': 98, 'grounds': 84, 'amateur': 80, 'ceramics': 94, 'goo': 87, 'smudge': 87, 'unload': 93, 'smelt': 84, 'Pluto': 94, 'precipice': 79, 'ghoul': 85, 'twinkle': 91, 'competence': 95, 'stethoscope': 96, 'ambition': 97, 'pissed': 92, 'brass': 92, 'cemetery': 96, 'swimmer': 90, 'shrine': 90, 'bran': 86, 'vary': 95, 'roar': 95, 'Dracula': 91, 'sty': 79, 'detach': 86, 'George': 83, 'overwhelm': 83, 'skyscraper': 91, 'hoot': 93, 'scarcity': 87, 'doorway': 93, 'prick': 90, 'holiness': 88, 'antler': 92, 'magnitude': 89, 'gander': 78, 'tact': 90, 'lava': 94, 'charcoal': 89, 'grown-ups': 94, 'oath': 91, 'pancakes': 90, 'inability': 88, 'sting': 96, 'follower': 90, 'proverb': 69, 'rake': 87, 'puck': 87, 'alto': 83, 'rob': 90, 'implode': 91, 'tweezers': 83, 'stoned': 84, 'zoo': 94, 'waffles': 91, 'criterion': 75, 'uncooked': 96, 'chemist': 89, 'plaything': 87, 'clove': 85, 'mailbox': 92, 'dunk': 90, 'clippers': 89, 'heading': 89, 'unused': 89, 'legion': 86, 'id': 85, 'excise': 76, 'truce': 86, 'flowers': 89, 'sirloin': 89, 'tombstone': 91, 'treble': 84, 'hinge': 86, 'cocky': 80, 'hoop': 83, 'give up': 92, 'cavity': 92, 'reel': 88, 'tangy': 85, 'brandy': 92, 'controls': 81, 'disgust': 83, 'sympathetic': 97, 'editorial': 94, 'withdrawn': 85, 'stolen': 84, 'Tupperware': 90, 'valor': 81, 'starboard': 86, 'misunderstand': 81, 'maroon': 87, 'radiator': 92, 'accelerate': 95, 'wigwam': 86, 'recliner': 81, 'cabin': 96, 'marines': 90, 'mayonnaise': 86, 'unsolved': 88, 'fattening': 89, 'vinegar': 93, 'adjustment': 87, 'shun': 80, 'sandals': 90, 'lather': 89, 'righteousness': 87, 'hammock': 93, 'hog': 94, 'Leo': 80, 'bandana': 84, 'aggravate': 85, 'chimpanzee': 95, 'algae': 87, 'infection': 95, \"McDonald's\": 90, 'cyclone': 88, 'lapel': 83, 'cocoon': 90, 'pier': 81, 'cosmetics': 98, 'oligarchy': 70, 'cars': 81, 'mink': 85, 'dryer': 96, 'hitchhike': 87, 'frosted': 97, 'vacancy': 93, 'tangerine': 95, 'roam': 92, 'mitten': 93, 'stocking': 91, 'stud': 84, 'American': 90, 'planets': 81, 'Easter': 95, 'gymnast': 89, 'synagogue': 91, 'Newton': 90, 'hours': 89, 'dissimilar': 90, 'juggler': 88, 'cuff': 84, 'marijuana': 91, 'chowder': 82, 'twine': 85, 'slogan': 88, 'hiking': 90, 'calorie': 89, 'wanted': 87, 'tarnish': 86, 'tutu': 85, 'stairway': 79, 'roses': 95, 'hare': 89, 'marrow': 85, 'almanac': 82, 'disbelieve': 86, 'perch': 87, 'mare': 86, 'sue': 90, 'smoky': 92, 'physiology': 87, \"don't\": 86, 'hustle': 94, 'slither': 86, 'pebble': 92, 'sprain': 92, 'Chinese': 93, 'flying': 92, 'sonnet': 92, 'croak': 90, 'frill': 79, 'burnt': 85, 'oatmeal': 90, 'heights': 70, 'Swiss': 96, 'caption': 86, 'otter': 88, 'humor': 93, 'coral': 97, 'earnestness': 79, 'evacuate': 95, 'fawn': 71, 'utensil': 100, 'flake': 86, 'make up': 91, 'plates': 92, 'quotient': 81, 'abandon': 94, 'crescent': 95, 'disperse': 76, 'chipmunk': 89, 'pass out': 88, 'wick': 88, 'unaware': 82, 'pun': 87, 'memorial': 87, 'ivory': 99, 'orchid': 97, 'muffin': 93, 'well-being': 98, 'criticize': 98, 'nomad': 86, 'despise': 94, 'transplant': 92, 'bathtub': 93, 'taxes': 84, 'ducks': 83, 'elders': 81, 'Los Angeles': 90, 'cardinal': 85, 'painter': 89, 'extravagant': 85, 'toasty': 96, 'confusion': 77, 'prune': 88, 'dustpan': 90, 'reappear': 86, 'lenient': 85, 'ashtray': 92, 'relish': 83, 'soprano': 93, 'morals': 91, 'baked': 95, 'perjury': 90, 'grove': 85, 'dungeon': 89, 'drench': 91, 'succor': 50, 'fan': 91, 'cans': 81, 'fugitive': 82, 'crochet': 86, 'yoke': 89, 'bury': 87, 'publisher': 89, 'snatch': 88, 'walkway': 93, 'veal': 80, 'tackle': 96, 'harmful': 94, 'washcloth': 86, 'doe': 87, 'conquest': 75, 'sedative': 89, 'Jell-O': 92, 'eyebrows': 89, 'constructive': 96, 'disown': 89, 'sap': 88, 'coleslaw': 86, 'hiker': 89, 'Kleenex': 92, 'friendliness': 86, 'biologist': 93, 'shutter': 92, 'offend': 95, 'zenith': 77, 'dandelion': 91, 'Egypt': 89, 'minded': 79, 'delinquent': 92, 'mongoose': 81, 'knapsack': 86, 'mythology': 77, 'bartender': 93, 'Watt': 91, 'axon': 50, 'appraise': 80, 'cats': 92, 'hardy': 75, 'Santa': 54, 'treason': 86, 'Q-Tips': 75, 'rash': 87, 'omelet': 97, 'jumpy': 81, 'play dough': 87, 'caress': 97, 'tribute': 89, 'possum': 79, 'ad': 85, 'flakes': 95, 'outfox': 70, 'sour': 96, 'Washington': 66, 'touchdown': 90, 'hot dogs': 88, 'tuba': 89, 'peroxide': 94, 'screw': 98, 'co-pilot': 96, 'taboo': 79, 'sonic': 89, 'husky': 92, 'crackers': 84, 'peanut butter': 95, 'yo-yo': 91, 'spots': 89, 'brawl': 90, 'holler': 87, 'oboe': 85, 'slab': 93, 'artery': 87, 'pets': 95, 'Jupiter': 89, 'nauseous': 89, 'fountain': 95, 'mafia': 80, 'velvet': 94, 'flipper': 92, 'apex': 88, 'drapes': 98, 'keg': 93, 'protestant': 88, 'handcuffs': 92, 'Pepsi': 90, 'decompose': 96, 'righteous': 86, 'technician': 91, 'aluminum': 96, 'stale': 89, 'pendulum': 89, 'flunk': 95, 'hamper': 83, 'musty': 77, 'abduct': 90, 'rag': 88, 'cougar': 78, 'mastery': 87, 'sow': 91, 'stray': 90, 'elm': 95, 'bog': 76, 'psalm': 53, 'reindeer': 90, 'atomic': 98, 'crafts': 88, 'moron': 90, 'ballerina': 95, 'defrost': 94, 'slander': 78, 'vet': 89, 'blast': 92, 'moat': 76, 'novice': 93, 'soothe': 89, 'nylons': 90, 'meek': 78, 'flannel': 92, 'canvass': 89, 'downstairs': 94, 'tendency': 90, 'numbers': 86, 'spool': 88, 'comet': 83, 'paper towel': 88, 'Valentine': 93, 'extremity': 89, 'bluff': 92, 'providence': 82, 'Harley': 91, 'lit': 86, 'Billy': 86, 'scallop': 89, 'dishwasher': 97, 'slippers': 92, 'jaws': 88, 'crunch': 93, 'horoscope': 87, 'buck': 91, 'ointment': 83, 'heater': 91, 'cuss': 82, 'hooked': 86, 'swabs': 76, 'annually': 94, 'oregano': 97, 'whiskers': 96, 'topping': 94, 'elk': 89, 'honk': 89, 'seashore': 85, 'outrageous': 90, 'deputy': 86, 'deteriorate': 90, 'upstream': 90, 'stopper': 91, 'polyester': 89, 'cobbler': 93, 'mow': 85, 'scuba': 96, 'ulcer': 90, 'mutton': 91, 'feature': 91, 'Mars': 97, 'drowsy': 91, 'dill': 88, 'clench': 90, 'macaroni': 96, 'slacks': 86, 'announce': 93, 'bud': 92, 'interrupt': 93, 'rationalize': 86, 'sheets': 94, 'depletion': 82, 'receptionist': 96, 'peanuts': 83, 'kids': 97, 'usurp': 80, 'raccoon': 92, 'jobless': 97, 'New Year': 91, 'bounty': 94, 'strap': 87, 'Latin': 90, 'veteran': 94, 'earring': 92, 'dollars': 96, 'warmer': 95, 'ridicule': 90, 'Colt': 79, 'scout': 89, 'thicket': 74, 'put down': 90, 'secluded': 87, 'uncommon': 96, 'cowgirl': 91, 'pounce': 86, 'frisk': 78, 'elimination': 82, 'jogger': 97, 'marsh': 80, 'adversary': 88, 'smother': 83, 'trance': 88, 'cooked': 90, 'sphinx': 87, 'highlight': 85, 'gazelle': 90, 'orange juice': 88, 'choke': 89, 'exclamation point': 93, 'reckless': 89, 'dwarfs': 80, 'astrology': 86, 'mist': 93, 'fungi': 95, 'suds': 89, 'flirt': 92, 'ewe': 79, 'frustrate': 87, 'ribs': 92, 'suede': 90, 'malaria': 91, 'fiber': 91, 'adorn': 86, 'minutes': 95, 'evict': 87, 'bassinet': 83, 'doze': 92, 'monument': 93, 'scalpel': 93, 'elf': 87, 'sleigh': 93, 'loaf': 96, 'mint': 89, 'crease': 86, 'daring': 93, 'demolish': 89, 'spike': 85, 'underground': 95, 'careless': 93, 'reminiscence': 89, 'scarecrow': 87, 'corporal': 90, 'Hispanic': 92, 'FBI': 78, 'geyser': 87, 'victor': 91, 'gavel': 78, 'hung': 79, 'snorkel': 92, 'anteater': 85, 'mailman': 91, 'musk': 89, 'lubricate': 91, 'downstream': 92, 'navigator': 87, 'brook': 88, 'squad': 91, 'standards': 88, 'clipper': 93, 'dandruff': 94, 'communist': 85, 'inebriated': 84, 'lifestyle': 91, 'tornado': 92, 'aardvark': 87, 'sickle': 82, 'ecstasy': 96, 'headband': 92, 'Thanksgiving': 95, 'rabbi': 92, 'Morse': 85, 'bugle': 85, 'flashlight': 90, 'acrobat': 90, 'patriot': 90, 'captive': 90, 'mussel': 85, 'Spanish': 84, 'orchard': 91, 'knuckle': 92, 'polish': 94, 'quart': 88, 'aerobics': 93, 'compulsion': 92, 'stuck': 84, 'hornet': 94, 'builder': 87, 'dependent': 92, 'custard': 93, 'plants': 91, 'rung': 88, 'whom': 90, 'woodwind': 78, 'lieutenant': 92, 'fray': 73, 'suffocate': 97, 'voodoo': 89, 'rejoice': 83, 'confuse': 77, 'reptile': 94, 'test tube': 95, 'pail': 80, 'repress': 77, 'helpful': 92, 'threshold': 86, 'molasses': 82, 'spank': 88, 'electrician': 89, 'sergeant': 87, 'series': 80, 'erupt': 96, 'rye': 92, 'lagoon': 97, 'upstairs': 90, 'injection': 96, 'questions': 92, 'Indian': 88, 'prickly': 84, 'oodles': 74, 'ascent': 89, 'intestine': 93, 'ivy': 94, 'ox': 95, 'prosecute': 93, 'fierce': 88, 'unnatural': 88, 'premises': 84, 'emerald': 96, 'blue jay': 87, 'mistreat': 89, 'petals': 94, 'wrinkle': 96, 'shingle': 82, 'skillet': 82, 'incense': 89, 'cinnamon': 98, 'slut': 89, 'claims': 75, 'reap': 83, 'custom': 88, 'zest': 96, 'yours': 94, 'slippery': 92, 'unjust': 92, 'rot': 85, 'grind': 81, 'brothers': 85, 'friar': 81, 'slimy': 91, 'scrambled': 89, 'overview': 83, 'cashew': 95, 'convent': 92, 'ahoy': 88, 'perish': 89, 'husk': 90, 'sash': 79, 'limousine': 95, 'checkers': 89, 'theme': 89, 'graze': 84, 'scotch': 92, 'vault': 94, 'Tampa': 88, 'wimp': 76, 'steps': 91, 'stadium': 92, 'eyes': 86, 'vacate': 90, 'chairperson': 93, 'dots': 85, 'frantic': 84, 'interstate': 91, 'chlorine': 91, 'reprimand': 80, 'fort': 77, 'shortcake': 89, 'eyelash': 92, 'fleet': 91, 'hound': 88, 'padding': 82, 'grease': 88, 'Vaseline': 90, 'pelt': 90, 'hull': 86, 'postage': 96, 'bang': 95, 'slum': 85, 'almighty': 95, 'bouquet': 98, 'tenor': 90, 'motionless': 96, 'checkbook': 87, 'disappoint': 98, 'quack': 90, 'clog': 86, 'condemn': 85, 'air force': 85, 'guys': 76, 'elements': 82, 'rocks': 91, 'swoon': 81, 'adults': 80, 'turnip': 85, 'gangster': 86, 'discourage': 80, 'hallucination': 89, 'chime': 91, 'folly': 90, 'chauffeur': 90, 'goods': 91, 'buzz': 95, 'sleepy': 96, 'pajamas': 76, 'haystack': 92, 'cards': 89, 'famished': 94, 'rinse': 95, 'Roman': 90, 'critic': 94, 'recruit': 86, 'overpower': 89, 'hectic': 88, 'paw': 90, 'enrage': 94, 'baptist': 97, 'pecan': 91, 'pocketbook': 90, 'heroine': 84, 'grandpa': 97, 'Jack': 80, 'soft drink': 97, 'roach': 92, 'lightheaded': 92, 'chirp': 90, 'commander': 89, 'skunk': 87, 'legend': 88, 'fell': 88, 'Florida': 82, 'asteroid': 93, 'blackmail': 85, 'hoe': 88, 'wicker': 85, 'shears': 83, 'gloomy': 88, 'cooler': 93, 'windshield': 92, 'fairy': 93, 'scapegoat': 79, 'nightgown': 87, 'hostess': 90, 'Jane': 93, 'hotter': 79, 'blunt': 84, 'quiver': 90, 'rearrange': 82, 'meteorite': 95, 'cookout': 82, 'dynamite': 79, 'harbor': 93, 'parkway': 73, 'antidote': 97, 'tangent': 77, 'erode': 85, 'saltine': 74, 'diameter': 96, 'untruthful': 93, 'closing': 83, 'Italian': 93, 'viola': 90, 'junior': 98, 'broom': 98, 'words': 89, 'scream': 95, 'stir': 92, 'sliver': 88, 'umpire': 80, 'obsession': 88, 'thigh': 92, 'manufacturer': 96, 'curtains': 100, 'kidnap': 92, 'chromosomes': 77, 'paperclip': 93, 'feud': 79, 'stuck up': 92, 'melt': 94, 'conceit': 72, 'climber': 93, 'Mary': 81, 'broil': 85, 'throw up': 94, 'pickles': 80, 'Venus': 89, 'starch': 91, 'rummy': 77, 'crumb': 95, 'frozen': 96, 'stallion': 95, 'tar': 87, 'meatballs': 95, 'pitchfork': 88, 'colonel': 83, 'inventor': 90, 'hostility': 92, 'orthodontist': 96, 'stripe': 89, 'preview': 82, 'real estate': 95, 'disallow': 85, 'glands': 73, 'rouge': 85, 'hairspray': 89, 'thimble': 85, 'foil': 91, 'bristle': 80, 'bravado': 68, 'ancestor': 86, 'snotty': 88, 'amp': 77, 'siding': 83, 'pick up': 87, 'cups': 79, 'mousse': 92, 'amuse': 89, 'spill': 94, 'pantyhose': 80, 'noose': 91, 'conceited': 81, 'Uranus': 95, 'gums': 96, 'cylinder': 93, 'hygiene': 95, 'descent': 88, 'mascara': 96, 'catcher': 81, 'dashboard': 79, 'flick': 88, 'degrade': 86, 'raisin': 90, 'roost': 85, 'tapioca': 84, 'repentance': 83, 'drugs': 87, 'imitate': 91, 'Jewish': 74, 'goblin': 82, 'typhoon': 92, 'brisk': 93, 'checking': 91, 'deception': 94, 'parade': 82, 'Neptune': 95, 'states': 77, 'proprietor': 88, 'copier': 94, 'handkerchief': 88, 'havoc': 83, 'magnify': 92, 'mints': 86, 'sore': 97, 'prim': 80, 'bizarre': 95, 'repulsive': 97, 'twister': 96, 'living room': 87, 'bookbag': 91, 'California': 84, 'bumps': 70, 'mixed': 77, 'bourbon': 95, 'jeopardy': 87, 'tighten': 91, 'hip': 92, 'fumes': 91, 'poetry': 85, 'prairie': 85, 'nuts': 87, 'shag': 82, 'mower': 91, 'hatch': 85, 'scroll': 90, 'molten': 93, 'fascism': 67, \"can't\": 94, 'Popeye': 87, 'doorbell': 90, 'waterfall': 83, 'Greek': 87, 'inmate': 92, 'glacier': 92, 'hindsight': 67, 'terms': 77, 'seller': 90, 'zit': 94, 'decency': 90, 'gully': 79, 'stoplight': 91, 'revival': 80, 'covered': 86, 'rodeo': 92, 'heart attack': 81, 'subtlety': 83, 'constitution': 77, 'stars': 83, 'years': 91, 'violation': 92, 'breezeway': 53, 'mechanic': 95, 'strand': 84, 'porcupine': 78, 'impulse': 84, 'rays': 74, 'wax': 91, 'godliness': 85, 'passenger': 97, 'freckle': 92, 'hula': 87, 'underwater': 89, 'puke': 93, 'protein': 90, 'apathetic': 77, 'lollipop': 96, 'snob': 89, 'Tarzan': 95, 'grate': 86, 'cents': 91, 'discreet': 93, 'hormones': 84, 'adjourn': 86, 'blockade': 80, 'nosy': 76, 'geese': 89, 'marble': 93, 'renounce': 80, 'honeymoon': 89, 'slick': 91, 'blot': 86, 'indirect': 81, 'bullock': 73, 'Saturn': 95, 'spook': 90, 'galoshes': 77, 'hypnotize': 86, 'harm': 93, 'anatomy': 90, 'disintegrate': 87, 'bravery': 88, 'slay': 90, 'veer': 77, 'libel': 74, 'sales': 85, 'loosen': 91, 'escargot': 92, 'walker': 87, 'oyster': 96, 'slurp': 85, 'unlawful': 94, 'inferno': 94, 'paddy': 84, 'remover': 83, 'admission': 93, 'tickle': 92, 'sophisticated': 86, 'Einstein': 88, 'saber': 84, 'Band-Aid': 91, 'sentry': 77, 'dissolve': 87, 'cafeteria': 95, 'digestion': 86, 'racquetball': 87, 'sinker': 77, 'diver': 90, 'thriller': 86, 'originate': 77, 'piston': 84, 'curved': 88, 'lily': 85, 'bologna': 85, 'stag': 86, 'menthol': 83, 'knees': 81, 'components': 93, 'directions': 89, 'New York': 82, 'trench': 87, 'excel': 94, 'traitor': 75, 'porpoise': 83, 'labyrinth': 85, 'vacuum': 96, 'pious': 81, 'swatter': 79, 'vagrant': 84, 'sauce': 93, 'graft': 85, 'sprinkle': 88, 'periscope': 87, 'gauze': 86, 'gull': 84, 'grape': 99, 'disregard': 89, 'monastery': 93, 'cavern': 81, 'protractor': 85, 'integrate': 84, 'haunt': 93, 'yogurt': 92, 'tepee': 84, 'ashes': 89, 'Frankenstein': 86, 'misses': 72, 'bulletin': 95, 'am': 56, 'accomplished': 83, 'dare': 90, 'klutz': 76, 'Britannica': 85, 'aids': 83, 'Advil': 63, 'nerves': 80, 'saint': 80, 'negotiation': 88, 'head and shoulders': 88, 'parasol': 89, 'brainy': 93, 'desktop': 94, 'senses': 90, 'photos': 86, 'uncaring': 84, 'avocado': 96, 'pleased': 93, 'images': 92, 'heroic': 85, 'traffic jam': 81, 'predicament': 83, 'leftover': 86, 'salient': 60, 'board game': 91, 'eater': 88, 'anyone': 91, 'payback': 92, 'lacking': 83, 'feely': 79, 'hold back': 90, 'donuts': 84, 'lousy': 88, 'United Kingdom': 87, 'fairy tales': 74, 'junkie': 90, 'sauna': 92, 'regime': 88, 'catapult': 73, 'heartbreak': 93, 'scholar': 94, 'clingy': 86, 'annoyed': 86, 'rushed': 90, 'not yet': 94, 'aviation': 93, 'hips': 76, 'condiments': 89, 'constipation': 84, 'timely': 88, 'enunciate': 75, 'answers': 80, 'ultimatum': 85, 'hubris': 58, 'functional': 90, 'ethnicity': 92, 'seeds': 93, 'agitate': 92, 'Linux': 62, 'disciple': 94, 'Microsoft': 88, 'boats': 94, 'puss': 86, 'white powder': 93, 'pimp': 84, 'restart': 79, 'anguish': 94, 'rampage': 74, 'babies': 86, 'no one': 94, 'compelled': 78, 'lawbreaker': 94, 'bummer': 85, 'strokes': 74, 'muse': 91, 'state of mind': 88, 'declaration': 90, 'microbe': 91, 'addicted': 93, 'LSD': 88, 'squirt': 76, 'bowels': 79, 'strawberries': 95, 'seventies': 85, 'lumpy': 82, 'puncture': 92, 'crustacean': 87, 'Native American': 83, 'hairdresser': 85, 'app': 92, 'bees': 90, 'infuriate': 86, 'science fiction': 75, 'preschool': 95, 'outcast': 72, 'allowance': 90, 'lubricant': 95, 'pharaoh': 82, 'cleavage': 91, 'closure': 85, 'cleric': 82, 'scenic': 89, 'toxic': 88, 'brash': 75, 'cheating': 90, 'oily': 95, 'peppy': 63, 'singers': 69, 'cloves': 82, 'allergic': 88, 'skit': 83, 'believable': 89, 'bubbly': 94, 'Oregon': 87, 'esoteric': 72, 'diva': 83, 'gasp': 92, 'insensitive': 89, 'grunt': 80, 'bastard': 74, 'IQ': 89, 'woven': 85, 'oral': 94, 'spying': 69, 'kerosene': 87, 'nightclub': 94, 'Brazil': 76, 'prostitute': 77, 'savings': 95, 'errant': 70, 'teepee': 89, 'teenage': 92, 'so so': 78, 'pm': 89, 'amplifier': 85, 'kernel': 89, 'doormat': 87, 'Mexican': 86, 'podium': 79, 'exceed': 84, 'not real': 93, 'stationery': 85, 'to do': 97, 'organized': 74, 'thrifty': 80, 'uh': 72, 'Yiddish': 83, 'opossum': 76, 'perspiration': 91, 'orphan': 70, 'amplify': 68, 'infernal': 70, 'obviously': 89, 'bio': 90, 'warfare': 87, 'unattractive': 95, 'ailment': 88, 'bundle': 81, 'raspberries': 91, 'slur': 83, 'limited': 74, 'beetroot': 71, 'housewife': 77, 'distinguished': 79, 'vortex': 83, 'detain': 92, 'varnish': 89, 'furnace': 95, 'unimportant': 80, 'Google': 95, 'submissive': 77, 'dripping': 90, 'atheism': 79, 'jellyfish': 86, 'fatal': 92, 'allowed': 88, 'old age': 84, 'exile': 70, 'old fashioned': 83, 'stealing': 87, 'ambiance': 90, 'allspice': 71, 'ruined': 90, 'prestigious': 80, 'Disney': 64, 'prepared': 92, 'give away': 96, 'ecological': 88, 'demolition': 82, 'airhead': 81, 'logistics': 94, 'disadvantage': 80, 'cornflakes': 87, 'have to': 91, 'streak': 91, 'eon': 71, 'sheer': 76, 'delayed': 88, 'hash': 81, 'hippo': 86, 'lessen': 91, 'confinement': 89, 'shard': 78, 'sporty': 94, 'premium': 90, 'bless you': 82, 'chimp': 88, 'baptism': 87, 'seaman': 92, 'incognito': 85, 'gelatin': 90, 'mileage': 88, 'trashed': 85, 'graphic': 97, 'footprints': 86, 'Peru': 77, 'loath': 91, 'manly': 90, 'renegade': 81, 'hoarding': 81, 'genome': 83, 'tequila': 89, 'feminism': 83, 'subscription': 97, 'disrespect': 87, 'twerk': 75, 'broker': 90, 'cloister': 80, 'whirl': 91, 'Louisiana': 70, 'funnel': 82, 'Hoover': 84, 'easygoing': 78, 'dialect': 91, 'a lot': 92, 'vogue': 89, 'carnivore': 87, 'gifts': 96, 'echidna': 47, 'consciousness': 93, 'augment': 79, 'grains': 91, 'bittersweet': 87, 'sunscreen': 80, 'sumo': 98, 'Photoshop': 81, 'Belgian': 84, 'blood pressure': 82, 'sleek': 84, 'fortitude': 87, 'booty': 92, 'Rome': 83, 'guts': 87, 'occasional': 91, 'Freud': 66, 'let go': 94, 'daffodil': 86, 'terrified': 95, 'hairdo': 80, 'tournament': 88, 'juniper': 86, 'eradicate': 85, 'rookie': 87, 'edible': 85, 'adored': 91, 'insured': 90, 'oink': 95, 'buttons': 78, 'facial hair': 97, 'monsoon': 86, 'hard work': 85, 'bedsheets': 82, 'dreaming': 91, 'eyelid': 92, 'incest': 87, 'foreigner': 84, 'colder': 91, 'Isaac': 55, 'whirlwind': 88, 'sticks': 87, 'penance': 76, 'boarding school': 81, 'eyeliner': 89, 'chanting': 86, 'Korea': 78, 'puma': 93, 'molecular': 93, 'Caribbean': 92, 'snails': 78, 'commons': 71, 'skeptical': 78, 'took': 78, 'toxins': 67, 'cortisone': 82, 'shitty': 93, 'glowing': 84, 'best friend': 78, 'slaves': 75, 'hearsay': 78, 'pigs': 88, 'radar': 79, 'defender': 85, 'disability': 92, 'batteries': 86, 'adolescence': 95, 'lights': 83, 'tailor': 94, 'crosswalk': 82, 'get better': 90, 'cantaloupe': 84, 'impede': 87, 'butch': 81, 'contaminate': 90, 'masked': 74, 'wail': 92, 'exalt': 72, 'sector': 92, 'hummus': 80, 'Hollywood': 87, 'hold on': 89, 'boardwalk': 71, 'haunting': 95, 'June': 95, 'wipe out': 88, 'urinate': 90, 'impaired': 82, 'mainstream': 93, 'pornography': 86, 'tacky': 75, 'gardener': 81, 'autonomy': 80, 'caveman': 83, 'presents': 82, 'younger': 92, 'rebirth': 80, 'holidays': 86, 'pretzels': 93, 'lying': 87, 'whoops': 77, 'global warming': 79, 'basil': 89, 'campfire': 83, 'rowing': 86, 'unemployed': 86, 'tablecloth': 85, 'vengeance': 87, 'occasionally': 90, 'pianist': 82, 'steakhouse': 90, 'crotch': 85, 'North Pole': 86, 'procreate': 91, 'veggie': 94, 'dealer': 96, 'lard': 89, 'tentacles': 89, 'cilantro': 62, 'eggnog': 94, 'lunar': 93, 'taking': 86, 'improbable': 87, 'sax': 84, 'mutiny': 85, 'skater': 84, 'dedicated': 88, 'gladiator': 84, 'martial art': 85, 'Buddha': 88, 'dedication': 92, 'fowl': 93, 'starter': 84, 'prostitution': 88, 'not nice': 96, 'concave': 87, 'wink': 86, 'down under': 90, 'celestial': 83, 'belly button': 87, 'mortal': 96, 'swimsuit': 86, 'deranged': 86, 'brute': 95, 'exhaustion': 95, 'tasteless': 89, 'poetic': 80, 'praline': 67, 'gnome': 89, 'searching': 90, 'pinball': 89, 'ransom': 87, 'junk food': 81, 'asshole': 86, 'desperate': 80, 'haphazard': 73, 'wither': 73, 'idiom': 83, 'fastener': 91, 'breezy': 94, 'precedent': 83, 'February': 87, 'decor': 87, 'imperfection': 85, 'torpedo': 90, 'unclean': 96, 'enthusiastic': 95, 'in fact': 80, 'insecurity': 84, 'avid': 79, 'sonata': 78, 'charged': 81, 'biker': 90, 'infatuation': 81, 'ecstatic': 88, 'e-mail': 91, 'Batman': 91, 'peeler': 90, 'in touch': 87, 'constrictor': 87, 'pentecostal': 77, 'biceps': 89, 'buttercup': 84, 'hump': 88, 'enzyme': 82, 'slate': 83, 'CD': 82, 'termites': 92, 'hurts': 89, 'morphine': 91, 'poultry': 92, 'trump': 86, 'tamale': 67, 'evaporate': 91, 'Pokemon': 84, 'hype': 81, 'hoax': 89, 'reconcile': 85, 'ponytail': 96, 'Latino': 92, 'good-looking': 97, 'tendon': 76, 'fodder': 73, 'not sharp': 99, 'refugee': 84, 'publicity': 85, 'oxen': 79, 'ex': 98, 'good news': 72, 'pills': 86, 'bowel': 88, 'flies': 78, 'shorten': 87, 'neurotic': 85, 'ladybird': 66, 'claustrophobia': 80, 'old person': 92, 'fields': 79, 'frosty': 92, 'forgiving': 88, 'babbling': 82, 'insomnia': 92, 'sailors': 81, 'give in': 85, 'masonry': 81, 'pinnacle': 87, 'explosive': 82, 'mollusk': 81, 'swanky': 77, 'contraception': 96, 'saucy': 84, 'bravo': 82, 'inject': 93, 'trowel': 77, 'traveling': 86, 'imperial': 91, 'cheetah': 95, 'poncho': 82, 'dodge': 85, 'sewage': 90, 'smiles': 84, 'gingerbread': 97, 'imperialism': 86, 'muddy': 90, 'showers': 91, 'schematic': 88, 'for sure': 91, 'cheeseburger': 91, 'TV show': 72, 'fizzy': 85, 'alumni': 91, 'fauna': 92, 'pipes': 78, 'nirvana': 86, 'horns': 93, 'sulfur': 90, 'sappy': 77, 'diabetes': 90, 'domination': 88, 'lisp': 69, 'genes': 84, 'treachery': 85, 'panty': 89, 'pretending': 75, 'too many': 82, 'pessimist': 89, 'applause': 91, 'kelp': 86, 'suspenders': 88, 'gravestone': 94, 'elongate': 83, 'old man': 86, 'porn': 91, 'road trip': 93, 'boobs': 90, 'paranoia': 90, 'ripped': 83, 'detest': 96, 'figs': 86, 'leave out': 87, 'palm trees': 87, 'humans': 87, 'abrasive': 80, 'driven': 80, 'newbie': 78, 'books': 87, 'saturate': 91, 'mostly': 71, 'unfinished': 89, 'clams': 81, 'missionary': 91, 'come back': 90, 'embarrassed': 82, 'lineage': 90, 'aftershave': 95, 'obsessed': 79, 'turmoil': 78, 'granola': 87, 'hiss': 94, 'dimple': 81, 'duvet': 83, 'cockpit': 91, 'pins': 91, 'body part': 94, 'limo': 93, 'let down': 92, 'rodents': 94, 'modify': 96, 'prawn': 94, 'wiggly': 82, 'combat': 96, 'cult': 84, 'envious': 91, 'Velcro': 90, 'frontal': 94, 'ex-wife': 84, 'creed': 78, 'exterior': 97, 'brown sugar': 77, 'ooze': 86, 'on top': 96, 'scouts': 71, 'bombshell': 84, 'expertise': 87, 'patty': 84, 'mortality': 96, 'tripod': 84, 'black cat': 90, 'beehive': 89, 'loot': 87, 'humane': 89, 'Shakespeare': 77, 'wind instrument': 90, 'destructive': 86, 'talkative': 79, 'nappy': 82, 'expedition': 88, 'conundrum': 83, 'boob': 90, 'censorship': 81, 'allergies': 85, 'windows': 90, 'Wikipedia': 93, 'subconscious': 90, 'aubergine': 70, 'trademark': 88, 'artificial': 95, 'Alpine': 86, 'portable': 89, 'postulate': 73, 'ambient': 85, 'cleanliness': 81, 'spiritual': 90, 'roads': 79, 'Bambi': 94, 'suburban': 73, 'magma': 89, 'fern': 85, 'vagina': 94, 'spotted': 88, 'scrubs': 73, 'Aboriginal': 90, 'prude': 78, 'motivated': 82, 'lunatic': 92, 'Reddit': 57, 'cosmetic': 92, 'pictures': 91, 'boiling': 96, 'manual': 87, 'tremble': 96, 'aisle': 91, 'stranded': 85, 'leukemia': 96, 'stuffy': 82, 'homosexual': 95, 'cosine': 77, 'debunk': 73, 'Super Bowl': 85, 'grades': 74, 'gooey': 85, 'Manhattan': 93, 'tablespoon': 97, 'Star Trek': 67, 'contraceptive': 90, 'onward': 86, 'babysitter': 85, 'lungs': 90, 'drowning': 91, 'rhubarb': 88, 'larger': 94, 'hunch': 90, 'injustice': 88, 'solvent': 78, 'of interest': 90, 'snowball': 94, 'cog': 79, 'constellation': 90, 'hipster': 87, 'digits': 97, 'bubblegum': 92, 'grunge': 75, 'gale': 75, 'furious': 94, 'bribery': 92, 'drugstore': 78, 'synapse': 86, 'dormitory': 84, \"won't\": 76, 'drums': 83, 'GPS': 83, 'Ebola': 77, 'nuke': 87, 'sprint': 94, 'pistachio': 96, 'corny': 84, 'smut': 75, 'red hair': 84, 'significance': 96, 'glitter': 87, 'apple juice': 95, 'hypocrite': 81, 'warrant': 87, 'cholesterol': 95, 'egocentric': 70, 'grope': 78, 'Wall Street': 93, 'fluctuate': 74, 'cubes': 85, 'tectonic': 90, 'maps': 82, 'concerned': 94, 'delta': 81, 'mindful': 92, 'wholesome': 91, 'swipe': 90, 'throttle': 92, 'noodle': 92, 'condiment': 87, 'optic': 97, 'pointer': 84, 'worms': 81, 'problems': 65, 'ideology': 85, 'solar system': 93, 'logical': 93, 'resign': 94, 'angels': 77, 'raisins': 81, 'rats': 86, 'dark blue': 90, 'pierced': 81, 'breakdown': 89, 'elementary school': 88, 'researcher': 91, 'cognitive': 92, 'sinner': 85, 'enamel': 89, 'Miami': 94, 'entrepreneur': 83, 'scoundrel': 72, 'polka': 93, 'burgers': 91, 'gram': 89, 'trench coat': 82, 'heartbeat': 89, 'programming': 82, 'ghostly': 84, 'salami': 90, 'your': 86, 'jaguar': 91, 'bandicoot': 60, 'utopia': 77, 'instinctive': 84, 'fabricate': 98, 'yogi': 86, 'come in': 96, 'craftsman': 84, 'binoculars': 87, 'bovine': 86, 'cowboys': 85, 'materialism': 84, 'programmer': 85, 'hobbit': 78, 'wanker': 69, 'poplar': 86, 'chatter': 85, 'grown up': 99, 'haha': 95, 'intolerant': 80, 'migrant': 92, 'lavender': 90, 'arriving': 82, 'suffocation': 76, 'drinks': 76, 'nautical': 91, 'pervert': 85, 'barren': 86, 'theology': 86, 'mythical': 88, 'talented': 91, 'grinder': 84, 'yeast': 90, 'Star Wars': 48, 'democratic': 92, 'diagnose': 96, 'bunker': 82, 'nimble': 82, 'Torah': 63, 'limestone': 77, 'disabled': 81, 'boast': 82, 'said': 82, 'rugged': 85, 'cigars': 87, 'backyard': 92, 'musical instrument': 96, 'hooker': 92, 'go bad': 84, 'brie': 92, 'bullshit': 85, 'vines': 85, 'revolt': 76, 'semen': 84, 'frolic': 77, 'prankster': 81, 'ships': 81, 'macro': 92, 'gerbil': 77, 'latex': 94, 'bad mood': 95, 'jewels': 92, 'Portland': 88, 'cloths': 75, 'oranges': 93, 'woodworker': 90, 'porridge': 83, 'underworld': 87, 'impress': 76, 'eastern': 84, 'maple syrup': 91, 'pending': 82, 'cosmic': 90, 'axis': 72, 'levitate': 93, 'minimal': 86, 'rind': 83, 'masturbation': 70, 'ramen': 85, 'interested': 87, 'swimming pool': 90, 'facial': 84, 'creep': 83, 'Austria': 61, 'discard': 92, 'led': 69, 'clouds': 85, 'external': 93, 'booger': 75, 'rating': 90, 'opal': 88, 'dopamine': 84, 'banned': 78, 'peek': 82, 'flattery': 64, 'antibiotics': 88, 'chains': 80, 'folk': 96, 'blimp': 71, 'mesmerize': 79, 'nutritious': 93, 'tires': 86, 'trapper': 76, 'contradictory': 82, 'letterbox': 89, 'undone': 73, 'scratchy': 90, 'mystic': 76, 'documents': 93, 'fingernails': 80, 'puzzled': 85, 'woody': 71, 'lofty': 87, 'illicit': 88, 'charismatic': 85, 'retired': 89, 'pasty': 74, 'exploration': 90, 'appetizer': 75, 'lecturer': 96, 'excuse me': 86, 'Israel': 75, 'smaller': 82, 'cannibal': 68, 'young adult': 95, 'apartheid': 84, 'DNA': 73, 'bam': 77, 'killed': 77, 'finesse': 81, 'misfortune': 91, 'bros': 73, 'drought': 83, 'Indonesia': 67, 'get rid of': 87, 'leverage': 78, 'Asian': 91, 'toga': 88, 'preppy': 72, 'sundae': 90, 'tundra': 79, 'internship': 87, 'disturbing': 87, 'upscale': 74, 'barbarian': 68, 'European': 90, 'earthy': 90, 'rocker': 84, 'tights': 91, 'Spain': 69, 'acrobatics': 89, 'salutations': 90, 'not smart': 93, 'blah': 72, 'overseas': 90, 'cranky': 80, 'nebulous': 82, 'parsnip': 76, 'charade': 86, 'snooty': 76, 'spirits': 96, 'penetration': 85, 'crumbly': 81, 'rainforest': 91, 'integral': 88, 'highschool': 84, 'flip flops': 84, 'simile': 84, 'chewing': 85, 'seeking': 87, 'workshop': 83, 'murmur': 95, 'spending': 93, 'hooves': 87, 'exodus': 62, 'hitchhiker': 83, 'groin': 84, 'dread': 88, 'exposed': 88, 'isle': 82, 'integration': 74, 'bugs': 78, 'spiky': 86, 'downside': 86, 'tunes': 74, 'shabby': 75, 'curvy': 90, 'good job': 85, 'output': 93, 'involved': 89, 'strangle': 94, 'Indians': 79, 'excellence': 89, 'revelation': 65, 'uplifting': 79, 'serenity': 90, 'vegan': 85, 'elections': 82, 'uterus': 98, 'prediction': 80, 'Quaker': 77, 'diapers': 89, 'Sahara': 100, 'not often': 95, 'quantum': 88, 'stigma': 78, 'prohibition': 87, 'earnest': 82, 'tips': 72, 'post office': 91, 'in love': 78, 'cataract': 92, 'Milky Way': 97, 'dark brown': 83, 'shocking': 86, 'eighties': 67, 'clementine': 86, 'buildings': 80, 'forgery': 91, 'template': 89, 'chestnut': 93, 'fractal': 71, 'paisley': 67, 'Japanese': 80, 'exhaustive': 86, 'says': 61, 'bones': 87, 'spacecraft': 81, 'stimulate': 93, 'rarity': 82, 'bouncy': 83, 'accusation': 91, 'sleeping pill': 79, 'artsy': 88, 'anterior': 72, 'speakers': 73, 'janitor': 87, 'destroyed': 68, 'take away': 90, 'Hong Kong': 86, 'Arizona': 82, 'compliant': 75, 'jackhammer': 84, 'African': 88, 'sarcastic': 84, 'mock': 76, 'invader': 83, 'Great Britain': 78, 'blob': 80, 'catchy': 87, 'canine': 94, 'signs': 59, 'wharf': 70, 'tourists': 71, 'olive oil': 86, 'November': 96, 'long hair': 76, 'rejection': 88, 'decipher': 83, 'damsel': 75, 'Capricorn': 81, 'ends': 72, 'mote': 59, 'Australian': 73, 'keep going': 89, 'barf': 84, 'gritty': 69, 'polar bear': 81, 'handmade': 79, 'mockingbird': 67, 'annoyance': 82, 'loudspeaker': 81, 'drummer': 88, 'scarlet': 91, 'busted': 88, 'choices': 91, 'solder': 72, 'hers': 79, 'sisters': 87, 'convert': 89, 'bells': 73, 'alloy': 83, 'West Coast': 72, 'fully': 90, 'menopause': 85, 'blow up': 90, 'xenophobia': 77, 'supposed': 53, 'go ahead': 79, 'squishy': 87, 'whipped': 89, 'shelves': 84, 'bathrobe': 76, 'Titanic': 87, 'work out': 97, 'foal': 92, 'strategic': 89, 'unconditional': 84, 'nana': 78, 'dissipate': 86, 'groovy': 91, 'striped': 89, 'yucky': 96, 'fourth': 76, 'perverted': 84, 'dishonor': 85, 'unwanted': 62, 'firetruck': 91, 'watchful': 81, 'darken': 88, 'leotards': 82, 'eucalyptus': 90, 'musician': 91, 'wild west': 74, 'chronic': 86, 'slushy': 79, 'belittle': 86, 'Bob': 78, 'bad luck': 84, 'werewolf': 86, 'exploitation': 83, 'cheapskate': 71, 'horny': 78, 'tuck': 86, 'radioactive': 83, 'harassment': 93, 'sashimi': 77, 'distrust': 85, 'unripe': 91, 'hormone': 86, 'abstain': 88, 'intimidation': 91, 'betrayal': 84, 'martyr': 87, 'astonish': 91, 'hinder': 76, 'aesthetics': 85, 'crate': 93, 'spirituality': 86, 'hummingbird': 79, 'paranormal': 86, 'shotgun': 89, 'graphite': 92, 'parka': 83, 'clash': 80, 'recipes': 91, 'rhythmic': 86, 'in charge': 92, 'resurrection': 86, 'massacre': 86, 'wiper': 94, 'vile': 89, 'rucksack': 79, 'morgue': 92, 'milkman': 75, 'surfboard': 93, 'loner': 90, 'shocked': 66, 'not sure': 87, 'normally': 88, 'classics': 83, 'pesky': 91, 'mourn': 81, 'ambush': 87, 'decorative': 88, 'humility': 86, 'glistening': 89, 'wispy': 79, 'quietly': 63, 'striptease': 83, 'fingerprint': 88, 'surprised': 76, 'pageant': 91, 'belch': 89, 'earlobe': 91, 'baptize': 91, 'wrinkled': 91, 'bolts': 87, 'glossy': 88, 'bingo': 83, 'sprite': 88, 'noxious': 90, 'brownie': 93, 'closeness': 91, 'inspector': 88, 'clitoris': 81, 'anus': 78, 'video games': 81, 'lighting': 94, 'backpacker': 90, 'steamy': 94, 'weeping': 92, 'empathetic': 92, 'gopher': 72, 'dreamy': 87, 'bakery': 94, 'canteen': 91, 'overbearing': 79, 'fanatic': 87, 'immaculate': 94, 'hazelnut': 83, 'gosh': 45, 'relieve': 82, 'hypnosis': 82, 'beeping': 75, 'Middle East': 68, 'waxy': 86, 'devoted': 93, 'aching': 99, 'Seattle': 86, 'wailing': 91, 'nacho': 91, 'unethical': 87, 'trivia': 82, 'rebuild': 77, 'bloated': 85, 'lighten': 86, 'magnificent': 89, 'roughly': 83, 'childbirth': 89, 'plunger': 91, 'throw out': 88, 'brag': 83, 'vagabond': 76, 'paella': 80, 'pilgrimage': 66, 'biological': 91, 'Darwin': 77, 'handgun': 91, 'terrify': 94, 'cheeks': 84, 'bulky': 91, 'pact': 91, 'semi': 83, 'dressy': 89, 'capsule': 96, 'competitive': 93, 'comics': 72, 'puny': 91, 'jester': 94, 'championship': 92, 'fulfilled': 92, 'watermelon': 93, 'tenderness': 87, 'contents': 86, 'scavenger': 88, 'weirdo': 85, 'not good': 93, 'karaoke': 92, 'frightening': 97, 'veggies': 95, 'fishy': 93, 'CEO': 85, 'zodiac': 83, 'troops': 95, 'acrid': 81, 'rosemary': 95, 'been': 86, 'cherries': 87, 'stagnant': 85, 'tomatoes': 96, 'finale': 92, 'debris': 76, 'inspection': 93, 'trainer': 91, 'filling': 91, 'speechless': 62, 'socialism': 77, 'raucous': 80, 'reinforcement': 85, 'unicycle': 85, 'babble': 82, 'Popsicle': 79, 'tenant': 71, 'mustang': 82, 'immense': 95, 'laid back': 88, 'mandarin': 97, 'doubtful': 96, 'fax': 84, 'dendrite': 52, 'superhero': 87, 'screaming': 94, 'medicinal': 88, 'vegetation': 91, 'woolly': 93, 'copious': 85, 'thong': 83, 'delirious': 83, 'buttery': 94, 'floral': 93, 'steroids': 73, 'fleece': 92, 'lefty': 77, 'foxy': 91, 'circumference': 87, 'badly': 74, 'stand up': 85, 'shrill': 77, 'psychotic': 94, 'look for': 95, 'shriek': 87, 'devout': 93, 'leathery': 89, 'crappy': 99, 'spikes': 79, 'imp': 75, 'august': 86, 'longer': 93, 'mime': 84, 'scented': 90, 'bonding': 80, 'spies': 62, 'songbird': 75, 'graphics': 85, 'chic': 91, 'confound': 79, 'stunt': 90, 'honeydew': 95, 'awaken': 92, 'chastity': 87, 'partridge': 48, 'put on': 85, 'disappointed': 86, 'red tape': 81, 'alcoholism': 89, 'caramel': 89, 'configure': 82, 'Texas': 78, 'soggy': 91, 'swinging': 77, 'headline': 91, 'decadent': 83, 'cynical': 80, 'claws': 87, 'boogie': 93, 'body parts': 82, 'cogs': 87, 'threaten': 92, 'thyme': 72, 'succumb': 85, 'beep': 75, 'supernatural': 83, 'reviewer': 85, 'folklore': 90, 'joystick': 80, 'next to': 84, 'politeness': 90, 'triangular': 86, 'peaches': 79, 'audible': 83, 'cedar': 91, 'hippy': 67, 'amusing': 95, 'mystical': 82, 'homey': 82, 'horses': 79, 'gardening': 83, 'grotesque': 86, 'gypsy': 63, 'preservation': 88, 'tits': 89, 'telegram': 86, 'fragment': 98, 'dopey': 81, 'camper': 80, 'motherfucker': 76, 'minerals': 89, 'detachment': 83, 'wiry': 82, 'specialist': 88, 'unprofessional': 89, 'warship': 61, 'seminar': 94, 'no money': 92, 'provocative': 82, 'hypnotism': 73, 'abortion': 93, 'Buddhist': 90, 'constrict': 87, 'measles': 89, 'islands': 82, 'tad': 80, 'birch': 90, 'obedient': 73, 'idle': 89, 'hustler': 70, 'believer': 92, 'almonds': 91, 'mutant': 70, 'soundless': 92, 'tofu': 88, 'flaky': 84, 'intoxication': 93, 'South America': 70, 'hydrate': 93, 'frustrated': 88, 'ribcage': 87, 'cranberry': 96, 'balm': 86, 'armed': 91, 'ours': 88, 'morbid': 88, 'bladder': 84, 'juicer': 86, 'racial': 87, 'shipment': 91, 'implant': 86, 'pester': 91, 'membership': 94, 'brewery': 91, 'bookcase': 95, 'giggling': 91, 'wombat': 89, 'aging': 93, 'ancestors': 77, 'queasy': 78, 'dreams': 77, 'finisher': 65, 'doorknob': 84, 'rave': 90, 'arc': 71, 'HIV': 92, 'bulldog': 74, 'seductive': 87, 'ferret': 86, 'hoarse': 75, 'boiler': 90, 'dried': 87, 'freckles': 88, 'tusks': 95, 'clasp': 89, 'uranium': 78, 'starfish': 75, 'objection': 84, 'leafy': 87, 'madame': 79, 'aquarium': 93, 'spew': 89, 'troublesome': 80, 'assure': 85, 'diagnosis': 91, 'reddish': 78, 'virginity': 91, 'toothache': 97, 'heifer': 88, 'cutie': 94, 'adoption': 92, 'suspicion': 93, 'curly': 88, 'childlike': 88, 'reset': 73, 'convincing': 85, 'elephants': 80, 'overtake': 90, 'scumbag': 73, 'stressed': 89, 'marching': 90, 'scholarly': 95, 'rehab': 78, 'jackpot': 91, 'irony': 76, 'mindless': 84, 'install': 84, 'unreasonable': 85, 'scrawny': 82, 'undress': 82, 'landmark': 82, 'rotund': 88, 'chopper': 89, 'relationships': 83, 'lengthen': 89, 'wreak': 95, 'twat': 92, 'refined': 84, 'forgiveness': 91, 'hiccup': 83, 'teenagers': 85, 'conspiracy': 87, 'naval': 91, 'indigestion': 67, 'loneliness': 92, 'caribou': 85, 'filled': 80, 'animation': 84, 'celibacy': 72, 'revolver': 92, 'warming': 92, 'disarm': 82, 'hysterical': 88, 'dilute': 76, 'carbohydrate': 89, 'invasion': 88, 'hybrid': 84, 'wake up': 94, 'eczema': 94, 'grandparent': 93, 'godfather': 77, 'extremely': 85, 'cremate': 94, 'whining': 79, 'absorbent': 85, 'emu': 88, 'underdog': 73, 'reincarnation': 74, 'rusty': 88, 'bookshop': 82, 'reverend': 87, 'arrows': 68, 'orphanage': 75, 'screws': 82, 'footstool': 75, 'astonishing': 92, 'felon': 95, 'shanty': 96, 'spud': 84, 'barefoot': 75, 'machete': 90, 'meatball': 95, 'crusade': 77, 'voluntary': 81, 'imitation': 93, 'coerce': 89, 'magenta': 95, 'gambler': 80, 'wizened': 77, 'motorway': 94, 'clause': 86, 'counterfeit': 94, 'homesick': 89, 'emo': 64, 'scorpion': 90, 'viable': 85, 'duke': 55, 'ebony': 96, 'spineless': 77, 'Canadian': 71, 'fruits': 93, 'surreal': 68, 'collaboration': 80, 'vanquish': 87, 'bungalow': 92, 'finch': 84, 'putrid': 88, 'woozy': 93, 'godly': 80, 'swish': 74, 'lasagna': 87, 'dab': 80, 'charred': 87, 'shackle': 84, 'Christianity': 88, 'underpants': 90, 'psychotherapist': 83, 'holocaust': 87, 'tempting': 80, 'hunk': 89, 'eruption': 87, 'backstabber': 79, 'whisker': 97, 'Chicago': 63, 'impolite': 98, 'diligent': 96, 'vibration': 84, 'licorice': 74, 'unpredictable': 84, 'culprit': 85, 'sparkly': 84, 'traumatic': 93, 'spite': 83, 'candid': 91, 'daze': 84, 'flattering': 70, 'extinction': 84, 'whispering': 77, 'strainer': 94, 'aromatic': 87, 'worsen': 77, 'herself': 89, 'screech': 83, 'groundhog': 90, 'NASA': 95, 'minotaur': 75, 'go on': 88, 'deprive': 89, 'get ready': 77, 'venison': 93, 'wobbly': 82, 'heating': 96, 'bodily': 76, 'projection': 83, 'shifty': 91, 'drunken': 74, 'promo': 84, 'sleeplessness': 91, 'wacko': 84, 'bodybuilder': 77, 'bridal': 97, 'bendy': 80, 'tarry': 69, 'warranty': 86, 'expel': 78, 'psychosis': 93, 'zesty': 89, 'ingredients': 95, 'CIA': 87, 'flapjack': 86, 'relatives': 88, 'murmuring': 68, 'take out': 93, 'bitchy': 86, 'soundtrack': 93, 'culinary': 98, 'nightlife': 83, 'cranny': 82, 'vulva': 74, 'bathing': 98, 'hallucinate': 90, 'nip': 86, 'outrage': 95, 'hick': 72, 'jiggle': 90, 'cannabis': 92, 'chant': 82, 'white coat': 90, 'heirloom': 85, 'German': 75, 'legendary': 77, 'spacious': 72, 'breastfeeding': 97, 'foster': 90, 'earwax': 79, 'trader': 72, 'blaring': 95, 'muffled': 63, 'unpalatable': 86, 'glamorous': 92, 'doctorate': 91, 'neurology': 94, 'lighthouse': 94, 'of course': 89, 'wooly': 89, 'sailboat': 88, 'underneath': 97, 'hazy': 90, 'lubrication': 89, 'dingo': 87, 'masturbate': 79, 'leggings': 82, 'scatter': 84, 'bustle': 88, 'covenant': 81, 'receiver': 90, 'unwise': 86, 'promiscuous': 85, 'fondue': 95, 'a little': 78, 'opium': 86, 'planner': 91, 'burrito': 91, 'jab': 89, 'asset': 94, 'sparkling': 90, 'crossbow': 80, 'coy': 90, 'rectangular': 83, 'sixties': 86, 'acidic': 83, 'Valium': 79, 'dub': 77, 'payola': 38, 'voter': 76, 'pelvis': 88, 'trident': 69, 'samurai': 96, 'necktie': 67, 'amen': 91, 'hymen': 86, 'immune': 87, 'nymph': 81, 'sorcerer': 91, 'java': 93, 'capitulate': 72, 'weaken': 79, 'placenta': 93, 'french fries': 96, 'heathen': 67, 'bugger': 73, 'inexperienced': 91, 'dishonesty': 94, 'runaway': 84, 'foreplay': 85, 'mobster': 86, 'untie': 86, 'flatter': 77, 'ethnic': 95, 'dose': 95, 'rosebud': 82, 'freshman': 77, 'intrude': 74, 'melting': 86, 'quirk': 86, 'adopt': 90, 'startle': 95, 'milkshake': 86, 'fraught': 69, 'infidel': 71, 'mozzarella': 99, 'roller': 95, 'foamy': 84, 'usurper': 72, 'wandering': 74, 'wanderer': 86, 'insincere': 86, 'roadblock': 87, 'prolong': 77, 'polished': 89, 'brotherhood': 65, 'ovary': 75, 'genitals': 78, 'irritable': 90, 'stepmother': 84, 'Jew': 72, 'clef': 77, 'snappy': 89, 'leftovers': 90, 'saturated': 85, 'catfish': 79, 'to be': 55, 'applesauce': 83, 'organs': 85, 'psychological': 87, 'gremlin': 90, 'badger': 82, 'aphrodisiac': 74, 'fizz': 90, 'periods': 84, 'croissant': 96, 'banging': 77, 'congratulations': 85, 'Mr': 82, 'greens': 83, 'musky': 85, 'craggy': 71, 'appreciation': 92, 'inherent': 71, 'daunting': 89, 'bracket': 82, 'fruity': 93, 'charisma': 86, 'desperation': 84, 'seashell': 85, 'creased': 84, 'handicapped': 88, 'interpretation': 91, 'overrated': 59, 'millionaire': 80, 'peppery': 94, 'heavenly': 87, 'skis': 85, 'logo': 87, 'do well': 87, 'popping': 80, 'menstrual': 84, 'muggy': 88, 'shortbread': 86, 'rubbery': 80, 'psychiatric': 96, 'closely': 89, 'savvy': 83, 'rancid': 94, 'osmosis': 88, 'flounder': 88, 'cymbal': 88, 'bodyguard': 77, 'embassy': 80, 'drawers': 89, 'piss': 93, 'concoction': 92, 'ma': 68, 'shaky': 83, 'edgy': 86, 'lashes': 91, 'meaty': 90, 'Thailand': 67, 'cornbread': 75, 'chromosome': 75, 'astringent': 65, 'glittery': 80, 'taco': 95, 'Norway': 62, 'translate': 87, 'browse': 90, 'anal': 74, 'beacon': 99, 'look at': 94, 'moldy': 89, 'in spite of': 84, 'craziness': 77, 'undercover': 94, 'crayfish': 68, 'testicles': 92, 'vitamins': 68, 'listening': 95, 'pus': 89, 'kosher': 87, 'himself': 93, 'shaggy': 82, 'juggle': 87, 'cornfield': 72, 'pubic': 90, 'puritan': 72, 'fallen': 87, 'paddock': 79, 'sweatshop': 89, 'boogers': 92, 'roasting': 91, 'icicle': 89, 'gears': 89, 'flamingo': 98, 'cleanse': 87, 'Mormon': 62, 'think about': 86, 'odorous': 96, 'telepathy': 58, 'translation': 81, 'woodsman': 78, 'bleep': 75, 'penetrate': 89, 'sassy': 84, 'rehearsal': 95, 'beets': 84, 'prehistoric': 90, 'bearing': 95, 'portly': 91, 'autism': 67, 'housefly': 74, 'intestines': 82, 'condensation': 97, 'refuge': 90, 'graffiti': 82, 'exposure': 94, 'fast food': 90, 'convex': 86, 'embarrassing': 76, 'grassy': 71, 'notorious': 83, 'barking': 93, 'malfunction': 89, 'khaki': 97, 'droopy': 65, 'eyelashes': 90, 'tales': 91, 'pretender': 80, 'graveyard': 93, 'catalog': 81, 'announcement': 82, 'paranoid': 79, 'dreamer': 67, 'curfew': 84, 'surgical': 91, 'insipid': 70, 'herbivore': 84, 'seep': 87, 'muppet': 50, 'mite': 89, 'heard': 74, 'frisky': 85, 'depressing': 92, 'ranger': 85, 'pup': 90, 'blueberries': 90, 'pollute': 90, 'go away': 83, 'Tumblr': 83, 'fired': 65, 'parasite': 87, 'antiseptic': 88, 'admiral': 90, 'cheesecake': 95, 'react': 91, 'flashy': 78, 'hijack': 95, 'hanky': 39, 'circulation': 94, 'cloying': 74, 'projectile': 90, 'whereas': 66, 'goofy': 81, 'coincidence': 84, 'speckled': 82, 'spongy': 85, 'dogs': 81, 'Swedish': 84, 'superstar': 69, 'stuck-up': 92, 'chores': 91, 'intriguing': 93, 'notification': 92, 'unproductive': 87, 'repel': 75, 'grubby': 86, 'realistic': 86, 'wherever': 90, 'Chinese food': 62, 'conventional': 90, 'parachute': 85, 'whim': 65, 'geisha': 85, 'apples': 89, 'birdhouse': 79, 'congested': 89, 'outdated': 80, 'harpoon': 87, 'fresh air': 84, 'murky': 87, 'slack': 92, 'thoughtless': 92, 'nowadays': 88, 'surveillance': 83, 'feminist': 88, 'capitalist': 93, 'meatloaf': 88, 'scaly': 86, 'demonstration': 85, 'hushed': 78, 'governance': 83, 'banister': 87, 'paintbrush': 88, 'on time': 97, 'additive': 78, 'blemish': 95, 'thorny': 92, 'discriminate': 90, 'funky': 90, 'shrivel': 85, 'desolate': 91, 'sociable': 90, 'lush': 87, 'lithe': 66, 'part of': 81, 'blindness': 75, 'redo': 67, 'cyclist': 84, 'crisps': 87, 'throw away': 93, 'jerky': 89, 'flowery': 84, 'beeswax': 84, 'phenomenon': 81, 'impartial': 70, 'yo': 70, 'rapist': 88, 'barmaid': 73, 'Edison': 62, 'gutter': 82, 'quarterback': 90, 'egoistic': 57, 'dick': 90, 'delightful': 94, 'reasoning': 91, 'exotic': 90, 'jumbo': 92, 'Scientology': 73, 'unfriendly': 93, 'kittens': 89, 'beagle': 93, 'provoke': 81, 'limber': 90, 'nibble': 89, 'ferry': 86, 'break down': 85, 'palatable': 88, 'hourglass': 97, 'doorstep': 93, 'womanly': 86, 'iPad': 94, 'somewhere': 73, 'stealthy': 92, 'toucan': 76, 'arouse': 88, 'disobey': 79, 'feverish': 90, 'lemony': 68, 'tiptoe': 81, 'gluttony': 82, 'dyslexia': 80, 'tingly': 73, 'blowjob': 79, 'saucepan': 91, 'melodious': 68, 'wanting': 90, 'utensils': 90, 'pep': 82, 'fairy tale': 80, 'stinging': 86, 'well done': 88, 'roasted': 87, 'grudge': 83, 'forwards': 91, 'vibrator': 82, 'bookstore': 92, 'mucus': 95, 'plump': 93, 'sizzle': 81, 'nerdy': 73, 'turquoise': 86, 'bimbo': 82, 'visa': 87, 'points': 80, 'holster': 89, 'fleshy': 92, 'chopsticks': 91, 'interfere': 71, 'Las Vegas': 73, 'searing': 88, 'weightless': 93, 'aborigine': 85, 'rotor': 81, 'catwalk': 85, 'Robin Hood': 62, 'snitch': 71, 'tropics': 86, 'point of view': 83, 'nebula': 84, 'peat': 77, 'puffy': 84, 'impulsive': 87, 'miser': 53, 'invade': 87, 'synonym': 70, 'episode': 74, 'tolerant': 84, 'calculation': 91, 'legume': 84, 'customs': 75, 'stole': 85, 'oppression': 76, 'repent': 85, 'budgie': 70, 'gig': 86, 'stutter': 69, 'James': 58, 'tricks': 71, 'not enough': 88, 'baggy': 86, 'options': 89, 'melted': 89, 'Michael Jackson': 86, 'moaning': 78, 'chomp': 90, 'spices': 88, 'patterned': 79, 'discrimination': 89, 'nutty': 90, 'radiant': 91, 'goggles': 86, 'feces': 84, 'minty': 91, 'bail': 94, 'gleaming': 87, 'raincoat': 79, 'cripple': 86, 'cream cheese': 78, 'cheers': 88, 'grub': 84, 'bong': 85, 'sweaty': 89, 'regardless': 76, 'shoemaker': 83, 'equator': 83, 'hairdryer': 73, 'buzzing': 93, 'frying': 94, 'occult': 82, 'UFO': 80, 'fireworks': 70, 'backup': 82, 'fiery': 90, 'platoon': 84, 'anarchist': 74, 'fucking': 81, 'clammy': 88, 'embroidery': 77, 'disturbed': 81, 'ties': 75, 'soapy': 88, 'crashing': 84, 'somehow': 64, 'beta': 91, 'sitcom': 64, 'pesto': 91, 'elite': 76, 'dementia': 72, 'receiving': 89, 'shaman': 63, 'redemption': 76, 'yam': 52, 'planting': 95, 'runway': 89, 'mosaic': 87, 'jittery': 84, 'tyranny': 76, 'adventurer': 83, 'rapidly': 99, 'ineffective': 75, 'berate': 69, 'David': 36, 'guild': 83, 'pyramids': 79, 'antiques': 81, 'tentative': 83, 'carry on': 83, 'cliche': 74, 'remembrance': 81, 'tumbling': 86, 'hypodermic': 92, 'confined': 73, 'prodigal': 72, 'buying': 78, 'sanitary': 91, 'biased': 70, 'films': 91, 'wordy': 84, 'whoever': 89, 'zap': 78, 'laxative': 89, 'magazines': 80, 'primary school': 90, 'balloons': 91, 'trainee': 96, 'laid': 83, 'tattered': 74, 'registered': 53, 'overload': 88, 'stinger': 90, 'sensuous': 79, 'swords': 74, 'Forrest': 61, 'bodies': 79, 'hillbilly': 66, 'forgetting': 72, 'chatting': 89, 'casting': 83, 'admirable': 76, 'light up': 95, 'misbehave': 81, 'wiener': 83, 'saga': 83, 'guinea': 92, 'indignant': 76, 'ping': 33, 'wondrous': 86, 'bale': 84, 'dormant': 85, 'boating': 88, 'mania': 81, 'spoken': 93, 'steadfast': 75, 'outsmart': 84, 'Heather': 80, 'zealot': 70, 'clowns': 83, 'uninformed': 87, 'wrapping': 93, 'Jews': 63, 'procrastination': 87, 'loudly': 76, 'learned': 84, 'sheltered': 87, 'overworked': 76, 'cringe': 80, 'uninterested': 78, 'Antarctic': 91, 'levels': 65, 'flags': 78, 'notable': 74, 'derogatory': 78, 'caustic': 65, 'heedless': 59, 'photocopier': 85, 'appraisal': 85, 'first floor': 72, 'linguistic': 88, 'keep up': 75, 'inhabitant': 84, 'mistrust': 89, 'basin': 88, 'snip': 87, 'herbal': 91, 'chunky': 87, 'commune': 89, 'blaster': 74, 'lethal': 99, 'depressive': 90, 'craving': 88, 'shorter': 86, 'clean up': 91, 'blushing': 93, 'Yahoo': 89, 'cakes': 76, 'cultured': 83, 'bratty': 83, 'held': 76, 'tear down': 79, 'doors': 73, 'scorn': 76, 'glob': 79, 'rook': 82, 'backspace': 93, 'odometer': 85, 'bemuse': 71, 'extraterrestrial': 73, 'police officer': 93, 'deflate': 75, 'perplexed': 90, 'knickers': 79, 'sweetness': 91, 'credit card': 92, 'virtuous': 89, 'sadden': 72, 'Mozart': 90, 'pagan': 66, 'automotive': 88, 'snobbish': 82, 'discovered': 89, 'Ford': 79, 'treadmill': 89, 'megaphone': 86, 'gunk': 85, 'rundown': 72, 'maim': 82, 'fandom': 56, 'informed': 90, 'analyst': 91, 'milky': 97, 'flavoring': 94, 'insignificant': 94, 'pry': 87, 'shameful': 87, 'apes': 78, 'unfocused': 83, 'par': 84, 'kept': 80, 'seduction': 87, 'smoked': 85, 'wriggle': 86, 'dolls': 92, 'wane': 67, 'wiring': 83, 'girdle': 66, 'white flag': 97, 'computing': 78, 'blocked': 81, 'stifle': 78, 'foretell': 61, 'snaps': 79, 'gruel': 81, 'encompass': 78, 'inequality': 82, 'biting': 89, 'violate': 87, 'wistful': 73, 'hot tub': 83, 'token': 84, 'addictive': 83, 'theorize': 82, 'ropes': 81, 'childless': 87, 'disassociate': 74, 'crucial': 94, 'granny': 89, 'mucous': 79, 'sharpie': 90, 'angles': 71, 'listless': 81, 'ruling': 96, 'shuffle': 88, 'bananas': 94, 'sawdust': 72, 'bleeding': 90, 'tot': 74, 'frenzied': 78, 'exemplary': 85, 'beefy': 87, 'unfamiliar': 93, 'horrified': 82, 'fishing pole': 93, 'handyman': 87, 'lookout': 77, 'idiocy': 81, 'dictatorship': 69, 'bigoted': 72, 'scissor': 93, 'torque': 77, 'distasteful': 90, 'agnostic': 71, 'steroid': 83, 'man-made': 81, 'arrested': 88, 'takeover': 84, 'irritation': 84, 'Moses': 48, 'stubble': 85, 'opposing': 89, 'embellish': 74, 'shells': 86, 'not me': 82, 'towering': 87, 'petrified': 90, 'decreasing': 59, 'paintings': 85, 'ding dong': 87, 'skies': 95, 'smoothly': 78, 'sultry': 87, 'disrespectful': 88, 'sixth': 67, 'glazed': 85, 'balsamic': 88, 'sustenance': 80, 'racetrack': 87, 'highly': 66, 'negligent': 85, 'roadkill': 90, 'tenet': 62, 'Madonna': 84, 'see through': 95, 'Roger': 74, 'leaning': 75, 'termination': 92, 'hazardous': 96, 'branches': 91, 'Alaska': 89, 'amass': 87, 'humiliation': 92, 'Tony': 62, 'Iceland': 81, 'inadequate': 88, 'nativity': 89, 'demo': 88, 'scowl': 84, 'gods': 69, 'cardigan': 94, 'unacceptable': 74, 'unappealing': 93, 'rising': 82, 'smartphone': 88, 'incompetence': 80, 'flexibility': 75, 'sons': 39, 'blankets': 87, 'eyeshadow': 95, 'sprinkler': 91, 'windmill': 73, 'bender': 75, 'dismal': 78, 'remote control': 55, 'deluge': 69, 'performer': 94, 'duckling': 79, 'bountiful': 90, 'hulk': 87, 'pretzel': 92, 'bash': 86, 'overcast': 96, 'positivity': 78, 'inward': 87, 'gains': 65, 'Dutch': 76, 'finishing': 87, 'emotionless': 87, 'bramble': 63, 'frivolous': 80, 'poised': 86, 'physique': 89, 'workers': 65, 'beater': 83, 'scattered': 71, 'clipboard': 92, 'clerical': 80, 'goof': 82, 'guinea pig': 83, 'brilliance': 87, 'take over': 88, 'crevasse': 74, 'go down': 82, 'grilled': 90, 'puzzling': 87, 'selling': 89, 'willpower': 95, 'neatness': 76, 'measuring': 82, 'runny': 85, 'muddled': 83, 'leotard': 75, 'dunce': 84, 'products': 83, 'goosebumps': 73, 'ageless': 89, 'spectacles': 89, 'do not': 89, 'employed': 80, 'adrenal': 26, 'creating': 87, 'wounded': 96, 'clinging': 81, 'realist': 74, 'eagerness': 80, 'elitist': 77, 'drudgery': 66, 'Pikachu': 41, 'candy bar': 82, 'plastic surgery': 73, 'revolting': 88, 'nightie': 61, 'washing machine': 91, 'spearmint': 91, 'smallest': 72, 'jackass': 83, 'lining': 89, 'scenario': 89, 'mobility': 95, 'sanitation': 87, 'pointed': 90, 'whiny': 77, 'springtime': 86, 'rudeness': 76, 'derby': 82, 'Harry Potter': 83, 'chewing gum': 90, 'Yankee': 85, 'knights': 71, 'filler': 76, 'stock market': 85, 'trunks': 80, 'wholly': 95, 'partially': 65, 'tourism': 89, 'relinquish': 84, 'indication': 83, 'uphill': 93, 'tremor': 95, 'ohm': 75, 'knives': 67, 'flames': 90, 'hurting': 89, 'grouchy': 72, 'Olympic': 84, 'disparage': 68, 'inquisition': 88, 'traffic light': 92, 'mindset': 85, 'protagonist': 74, 'steward': 81, 'make believe': 92, 'pivot': 86, 'dress up': 85, 'anthropology': 82, 'gumption': 58, 'armed forces': 90, 'potter': 49, 'irritant': 92, 'cipher': 75, 'composure': 79, 'recap': 68, 'weatherman': 61, 'evasive': 74, 'homophobic': 87, 'saver': 83, 'uptown': 85, 'jiggly': 81, 'changing': 62, 'mishear': 74, 'Donald': 91, 'cremation': 95, 'sullen': 68, 'sliding': 90, 'genealogy': 94, 'vaccination': 84, 'chrome': 95, 'nighttime': 98, 'lenses': 90, 'kingly': 79, 'embargo': 82, 'decode': 76, 'lab coat': 93, 'muddle': 75, 'loads': 88, 'Mac': 79, 'downgrade': 79, 'shrubs': 86, 'suction': 87, 'tenacious': 58, 'interrogation': 96, 'province': 87, 'Neanderthal': 78, 'likeness': 93, 'first class': 88, 'obstruct': 92, 'vex': 81, 'introspective': 74, 'farms': 73, 'victorious': 89, 'lightening': 76, 'show up': 86, 'earning': 97, 'pillage': 75, 'circumstances': 76, 'repairman': 88, 'busybody': 73, 'abide': 86, 'meaningless': 79, 'atoms': 62, 'mumps': 86, 'forfeit': 87, 'ominous': 67, 'sombrero': 97, 'ruffle': 86, 'dole': 64, 'pubic hair': 82, 'beaten': 82, 'watched': 57, 'foolishness': 76, 'Old lady': 84, 'San Francisco': 85, 'spay': 78, 'YouTube': 64, 'psyche': 88, 'glimmer': 85, 'resistant': 80, 'psychoanalysis': 89, 'throbbing': 70, 'parties': 84, 'tiredness': 90, 'argumentative': 71, 'holly': 92, 'tradesman': 82, 'violinist': 91, 'fifteen': 71, 'fascinate': 83, 'carrying': 88, 'chaps': 65, 'Space Shuttle': 88, 'resignation': 88, 'infected': 86, 'decimate': 82, 'approximation': 83, 'materials': 83, 'Kung fu': 88, 'Civil War': 69, 'oblivious': 84, 'BBQ': 94, 'coup': 76, 'intervention': 75, 'wishing': 71, 'heads': 87, 'viewing': 88, 'insider': 68, 'resourceful': 92, 'disloyal': 89, 'taps': 78, 'splint': 80, 'emulate': 79, 'lactose': 88, 'logs': 86, 'hone': 78, 'duster': 84, 'hellfire': 88, 'tactics': 90, 'richness': 72, 'controversial': 82, 'marking': 84, 'turning': 71, 'mental health': 92, 'unhappiness': 98, 'convenient': 93, 'swoop': 86, 'hemp': 88, 'ignition': 90, 'brine': 73, 'plethora': 81, 'tarmac': 78, 'erosion': 77, 'salad dressing': 85, 'processing': 78, 'sucks': 79, 'estrogen': 96, 'rings': 87, 'limits': 74, 'chaser': 91, 'eve': 78, 'hindrance': 91, 'cupid': 84, 'voluptuous': 78, 'raging': 92, 'Lee': 53, 'dung': 88, 'cowardly': 87, 'disinfectant': 72, 'hermit': 90, 'plentiful': 92, 'pessimism': 75, 'conception': 95, 'newsletter': 87, 'come together': 77, 'breeding': 80, 'harness': 83, 'agreeable': 76, 'businessman': 84, 'diamonds': 84, 'cuts': 68, 'downpour': 82, 'forthright': 74, 'fag': 89, 'overdone': 73, 'crummy': 85, 'restless': 90, 'Broadway': 86, 'undo': 77, 'thud': 79, 'haiku': 87, 'benchmark': 88, 'kimono': 92, 'cumin': 82, 'shut up': 81, 'fiesta': 93, 'reboot': 84, 'ringing': 88, 'zombies': 76, 'nothingness': 92, 'South Africa': 73, 'copycat': 77, 'scour': 80, 'pacific': 92, 'ghastly': 81, 'Xbox': 82, 'Joe': 78, 'purge': 86, 'earrings': 91, 'rabbits': 63, 'hasty': 90, 'emptiness': 96, 'fallout': 85, 'hangman': 87, 'hideous': 95, 'despicable': 81, 'auburn': 77, 'Middle Ages': 59, 'greenhouse effect': 79, 'pensive': 83, 'Omega': 86, 'cooperative': 78, 'ditzy': 79, 'lark': 77, 'suck up': 50, 'extensive': 85, 'calming': 88, 'Judaism': 91, 'demean': 78, 'irate': 85, 'figures': 72, 'inexperience': 85, 'too much': 74, 'fumble': 81, 'rubric': 67, 'bronco': 66, 'squawk': 88, 'mistakes': 51, 'peninsula': 78, 'praying': 76, 'liable': 77, 'as well': 86, 'perseverance': 73, 'airship': 74, 'environmental': 90, 'heels': 86, 'PC': 77, 'lore': 82, 'choosy': 91, 'Caesar': 68, 'bonfire': 90, 'role model': 92, 'tumbler': 84, 'wash away': 90, 'upward': 75, 'joining': 74, 'inbox': 86, 'scraper': 80, 'Yellowstone': 76, 'planes': 83, 'catholicism': 88, 'thickness': 84, 'boner': 79, 'headdress': 83, 'indulgent': 82, 'stimulant': 88, 'underhanded': 78, 'hazel': 96, 'wreath': 80, 'LA': 83, 'hay fever': 85, 'defecate': 91, 'undead': 93, 'striking': 80, 'slipped': 85, 'disorganized': 89, 'unkempt': 74, 'stencil': 88, 'whomever': 84, 'removed': 63, 'splat': 73, 'luster': 76, 'Indie': 82, 'raising': 79, 'creak': 82, 'lament': 89, 'carnage': 83, 'chops': 89, 'artillery': 85, 'bamboozle': 69, 'pariah': 72, 'search engine': 95, 'principles': 90, 'takeaway': 83, 'nickname': 62, 'aqua': 96, 'antiquated': 81, 'Mediterranean': 88, 'run away': 90, 'yuppie': 71, 'distaste': 81, 'rebellious': 84, 'masses': 75, 'defeated': 83, 'goon': 68, 'miscommunication': 84, 'iPhone': 93, 'noir': 87, 'faggot': 90, 'fondle': 89, 'dodgy': 76, 'poisonous': 89, 'hobble': 72, 'fruitful': 92, 'unalike': 87, 'popularity': 75, 'euphoria': 92, 'movable': 80, 'differentiate': 80, 'psych': 91, 'mount': 80, 'outdo': 75, 'youthful': 95, 'chilling': 92, 'loony': 86, 'weeds': 86, 'hits': 74, 'monks': 75, 'privileged': 84, 'illogical': 80, 'confetti': 88, 'pew': 78, 'shaking': 59, 'discretion': 85, 'infertile': 82, 'fringe': 77, 'crippled': 85, 'scythe': 73, 'android': 96, 'tropic': 90, 'bubble gum': 89, 'leper': 72, 'vampires': 77, 'stopping': 67, 'powerless': 87, 'whipping': 83, 'relent': 71, 'navigate': 89, 'analytical': 92, 'spiteful': 85, 'melee': 76, 'effervescent': 73, 'variance': 82, 'vendor': 88, 'grocery store': 90, 'Beatles': 70, 'sludge': 78, 'isolate': 86, 'lavish': 85, 'criteria': 75, 'wavy': 87, 'tingle': 82, 'testosterone': 90, 'seedy': 79, 'parenting': 93, 'fixation': 89, 'pixie': 87, 'censor': 86, 'armada': 82, 'divider': 85, 'hysteria': 85, 'stout': 90, 'slipping': 88, 'wayward': 74, 'waddle': 80, 'Labrador': 75, 'gave': 83, 'metamorphosis': 83, 'Marx': 40, 'firecracker': 88, 'digging': 78, 'opinionated': 80, 'gazing': 95, 'pedophile': 81, 'fetus': 83, 'frying pan': 92, 'biscuits': 91, 'thrilled': 87, 'prissy': 79, 'surname': 49, 'revered': 56, 'Adam': 85, 'newspapers': 81, 'cynic': 71, 'creeping': 79, 'varied': 82, 'take off': 88, 'uppity': 77, 'finder': 82, 'morsel': 76, 'stimuli': 89, 'kayak': 93, 'affluent': 81, 'won': 86, 'injured': 98, 'gory': 91, 'climate change': 82, 'cluck': 86, 'diseased': 88, 'ligament': 88, 'statistic': 90, 'black hole': 78, 'terminator': 55, 'agreed': 80, 'spinal': 92, 'segregate': 93, 'manipulative': 79, 'achiever': 84, 'light year': 88, 'kidnapper': 87, 'evergreen': 87, 'ugh': 77, 'dejected': 70, 'bubbling': 81, 'imprecise': 84, 'Holland': 62, 'infestation': 83, 'abusive': 92, 'inquisitive': 95, 'links': 70, 'jumble': 86, 'choking': 72, 'dinosaurs': 80, 'padded': 83, 'introverted': 94, 'skittish': 74, 'worthwhile': 86, 'thrust': 90, 'Hebrew': 88, 'dresses': 78, 'impish': 76, 'inclination': 89, 'viscous': 91, 'scheming': 76, 'unhelpful': 82, 'marauder': 73, 'mothers': 62, 'eaten': 64, 'biography': 83, 'thrilling': 93, 'Colorado': 74, 'millions': 68, 'offended': 78, 'erratic': 84, 'justification': 83, 'methodical': 81, 'classification': 74, 'experienced': 90, 'literary': 90, 'hats': 73, 'mosque': 90, 'proficient': 90, 'bowls': 87, 'allure': 84, 'had': 72, 'certified': 74, 'snag': 82, 'refreshment': 94, 'Boston': 66, 'icebox': 91, 'fatherly': 90, 'dying': 84, 'politicians': 64, 'sexist': 83, 'sadomasochism': 66, 'atop': 81, 'squirm': 81, 'church service': 91, 'palm tree': 86, 'classes': 76, 'deter': 78, 'purgatory': 89, 'concentrated': 91, 'corned beef': 83, 'editing': 66, 'fixer': 78, 'suppress': 82, 'beret': 90, 'Hades': 90, 'desired': 96, 'misunderstanding': 93, 'piety': 66, 'inconsistent': 73, 'boo': 82, 'contraband': 76, 'abdicate': 78, 'lacquer': 75, 'fairness': 93, 'solicit': 81, 'parameter': 83, 'talker': 76, 'easily': 76, 'extinguish': 69, 'apprentice': 87, 'bottles': 87, 'sickening': 87, 'dioxide': 93, 'kindle': 90, 'chickens': 74, 'go after': 95, 'teeny': 81, 'suspended': 75, 'glutton': 84, 'trimmer': 80, 'timeline': 90, 'Savannah': 71, 'were': 90, 'motif': 82, 'banish': 75, 'mush': 69, 'homely': 92, 'aerosol': 88, 'hoarder': 74, 'highest': 67, 'ruins': 70, 'ranking': 79, 'phlegm': 87, 'flasher': 80, 'nationalist': 79, 'tweed': 81, 'snakes': 80, 'braggart': 40, 'hand out': 83, 'extroverted': 93, 'indignation': 73, 'upstanding': 85, 'kink': 88, 'completed': 98, 'modification': 87, 'Stalin': 72, 'unintelligent': 94, 'bisexual': 75, 'crowds': 84, 'enchilada': 87, 'free time': 82, 'hurried': 90, 'canister': 82, 'diss': 80, 'baffle': 82, 'wrapping paper': 90, 'shipwreck': 82, 'staring': 80, 'glaze': 92, 'left wing': 75, 'anecdote': 88, 'for sale': 83, 'unrest': 80, 'biggest': 94, 'Game Boy': 79, 'gamma': 91, 'Christmas tree': 85, 'narcotics': 91, 'genocide': 72, 'mountaineer': 85, 'garnish': 85, 'cells': 79, 'law enforcement': 96, 'bullying': 79, 'hypnotic': 63, 'blackout': 82, 'critter': 90, 'tomato sauce': 89, 'antisocial': 89, 'Lima': 85, 'knew': 86, 'jaunty': 65, 'South Pole': 67, 'complication': 92, 'Virgo': 65, 'crawly': 91, 'cufflink': 83, 'fedora': 82, 'homage': 76, 'genus': 81, 'truthfully': 92, 'conquistador': 61, 'deserted': 82, 'crossroad': 86, 'belle': 80, 'stopped': 52, 'troop': 81, 'submerge': 95, 'strangulation': 86, 'works': 72, 'advancement': 92, 'toilet paper': 92, 'blockage': 70, 'correspondence': 94, 'miles': 73, 'girly': 86, 'gelatinous': 80, 'buried': 90, 'heartless': 87, 'dashing': 86, 'Simpsons': 68, 'streets': 76, 'momentum': 92, 'sneaking': 78, 'elves': 75, 'piccolo': 91, 'asphyxiate': 92, 'plains': 77, 'decorum': 82, 'heroism': 91, 'unending': 84, 'regarding': 70, 'uphold': 83, 'cleft': 53, 'nights': 89, 'shaker': 76, 'checkered': 83, 'burgundy': 88, 'pucker': 90, 'bedding': 87, 'aristocratic': 79, 'downfall': 79, 'cardiac': 97, 'drumstick': 94, 'upsetting': 85, 'entertaining': 91, 'sleet': 78, 'gobble': 88, 'genie': 74, 'rocking chair': 89, 'flicker': 82, 'skyline': 86, 'infect': 88, 'feudal': 63, 'jean': 83, 'withhold': 85, 'calmness': 90, 'shamrock': 82, 'severity': 68, 'shingles': 79, 'Tylenol': 80, 'administrator': 83, 'lager': 92, 'bubble wrap': 95, 'felony': 93, 'dogma': 82, 'unhook': 79, 'amiable': 77, 'painkiller': 76, 'doable': 70, 'waver': 73, 'bewilder': 83, 'blurb': 78, 'anthill': 82, 'inspired': 86, 'carpeting': 81, 'third world': 81, 'sending': 84, 'welding': 80, 'rant': 78, 'renewal': 75, 'homicide': 97, 'heave': 87, 'malevolent': 87, 'liter': 86, 'astound': 88, 'show off': 75, 'existentialism': 66, 'sprinkles': 75, 'blown': 89, 'pebbles': 91, 'laden': 65, 'offering': 94, 'grandeur': 68, 'baboon': 91, 'tiles': 88, 'ignite': 92, 'assertive': 81, 'arachnid': 94, 'spastic': 67, 'unknowing': 85, 'smells': 73, 'choral': 86, 'craze': 92, 'bathe': 92, 'penniless': 93, 'chaste': 75, 'legality': 93, 'rabies': 88, 'Nordic': 57, 'Ibuprofen': 75, 'forethought': 67, 'boy scout': 73, 'froth': 86, 'shrubbery': 73, 'conjoined': 78, 'breaking': 74, 'madman': 84, 'dyke': 81, 'well known': 94, 'rolls': 83, 'wrinkly': 87, 'starting': 96, 'infatuated': 85, 'Islam': 87, 'objects': 87, 'watery': 90, 'cash register': 92, 'potty': 92, 'oz': 90, 'qualified': 85, 'Renaissance': 79, 'black magic': 86, 'elated': 78, 'devastation': 85, 'insightful': 88, 'movie star': 85, 'debit card': 93, 'alot': 66, 'animate': 86, 'weeks': 92, 'grimy': 87, 'picturesque': 91, 'family tree': 92, 'ruthless': 77, 'fascist': 77, 'crystal ball': 90, 'stoic': 75, 'Sparky': 84, 'disinherit': 83, 'abhor': 81, 'ammunition': 85, 'lumps': 89, 'trapeze': 87, 'pirates': 59, 'relentless': 63, 'reassure': 93, 'boastful': 77, 'outer space': 87, 'intentional': 64, 'cache': 86, 'stellar': 91, 'shred': 90, 'wasteland': 89, 'spunky': 71, 'fiddler': 78, 'colored': 80, 'glum': 82, 'enlightenment': 79, 'falsify': 87, 'suburbia': 60, 'compulsory': 89, 'Santa Claus': 80, 'objector': 66, 'terrifying': 93, 'irrelevant': 70, 'togetherness': 88, 'ads': 72, 'magnifying glass': 83, 'hang on': 91, 'gore': 80, 'cyst': 77, 'pomp': 66, 'Jill': 89, 'lax': 85, 'deceitful': 93, 'imperfect': 92, 'delusion': 87, 'catalyst': 78, 'slinky': 87, 'javelin': 74, 'cascade': 93, 'duct tape': 85, 'flooring': 75, 'grinding': 76, 'disdain': 80, 'hallelujah': 83, 'neurotransmitter': 82, 'oscillate': 75, 'stun': 86, 'pearls': 78, 'PowerPoint': 89, 'hallucinogen': 90, 'candy cane': 91, 'yelling': 96, 'brushes': 79, 'turn on': 80, 'oxide': 86, 'analogy': 81, 'silo': 88, 'hiding': 75, 'terrace': 92, 'linked': 98, 'stalking': 94, 'fulfill': 93, 'folding': 86, 'unplanned': 88, 'immerse': 87, 'dressed': 69, 'giver': 87, 'enhancement': 84, 'inedible': 82, 'unravel': 74, 'rubbing': 82, 'Gothic': 90, 'raider': 61, 'Victorian': 86, 'muff': 74, 'altruistic': 75, 'levers': 52, 'aloud': 80, 'dining room': 90, 'stylist': 97, 'mashed': 94, 'directed': 77, 'diversion': 81, 'mislead': 82, 'tenure': 82, 'drops': 75, 'lilac': 93, 'hula hoop': 95, 'asthma': 72, 'Pilates': 91, 'axiom': 58, 'Maine': 77, 'sinful': 85, 'floating': 82, 'racer': 91, 'six pack': 90, 'defame': 66, 'knees and toes': 77, 'captivity': 89, 'maize': 92, 'Smith': 80, 'splice': 84, 'brightness': 92, 'ambassador': 79, 'pretense': 85, 'folded': 83, 'sorcery': 88, 'wronged': 63, 'crazed': 80, 'spirited': 78, 'centered': 86, 'bullseye': 71, 'anew': 73, 'outspoken': 93, 'asking': 85, \"don't know\": 75, 'fixing': 65, 'misfit': 74, 'uncivilized': 78, 'malleable': 73, 'hardcore': 91, 'passover': 82, 'birth control': 91, 'wordplay': 82, 'females': 82, 'migration': 92, 'mortified': 84, 'rut': 83, 'steering wheel': 98, 'stimulation': 86, 'cutter': 85, 'kidding': 50, 'Amazon': 84, 'firework': 86, 'flashing': 81, 'finality': 84, 'swings': 72, 'unease': 89, 'disappointing': 82, 'grail': 84, 'niceness': 90, 'housework': 95, 'whipped cream': 80, 'rascal': 73, 'Marxist': 68, 'Minecraft': 87, 'encouragement': 84, 'perverse': 84, 'archaic': 93, 'distracted': 62, 'deceptive': 89, 'woodwork': 83, 'moisturizer': 93, 'handed': 86, 'ironic': 83, 'laying': 84, 'enduring': 80, 'maxim': 67, 'goodwill': 84, 'imprisonment': 79, 'stuffer': 55, 'outwit': 76, 'dupe': 71, 'headed': 84, 'askew': 56, 'crusty': 93, 'air conditioning': 87, 'unmoving': 89, 'barred': 65, 'nasal': 84, 'tin foil': 89, 'reclusive': 83, 'shapes': 73, 'gallows': 83, 'beanstalk': 86, 'malice': 78, 'shaped': 61, 'uncanny': 80, 'Hawking': 33, 'cunt': 87, 'Columbus': 54, 'redden': 80, 'apple pie': 98, 'lampshade': 86, 'believing': 90, 'deviate': 76, 'grandson': 76, 'caregiver': 84, 'finding': 84, 'spout': 77, 'tadpole': 82, 'shaken': 52, 'crawling': 85, 'greater': 92, 'scab': 84, 'chainsaw': 91, 'French horn': 76, 'sign language': 83, 'deprivation': 83, 'rounded': 90, 'sometime': 87, 'bubonic': 89, 'angled': 73, 'gush': 86, 'trucks': 78, 'combined': 87, 'beliefs': 87, 'thump': 87, 'recluse': 83, 'reimburse': 76, 'revolutionary': 81, 'cooling': 89, 'whirlpool': 77, 'spiders': 74, 'infrequently': 94, 'emoticon': 49, 'freely': 60, 'wellbeing': 90, 'arise': 81, 'trespass': 80, 'orthodox': 91, 'meth': 71, 'October': 88, 'cellular': 84, 'aghast': 72, 'questionnaire': 88, 'jokes': 73, 'crabby': 79, 'exclaim': 90, 'goatee': 91, 'skillful': 86, 'soaring': 88, 'Coca Cola': 91, 'sleepless': 90, 'John': 83, 'amend': 86, 'Sherlock': 23, 'noticeable': 83, 'uncontrollable': 76, 'disrupt': 86, 'black and white': 79, 'ruckus': 62, 'Nile': 96, 'bushy': 90, 'showy': 87, 'rewarding': 89, 'nick': 80, 'Alps': 82, 'smartass': 68, 'horde': 72, 'pliable': 77, 'dignified': 82, 'limitless': 77, 'comes': 65, 'excitable': 85, 'Albert': 90, 'lifting': 88, 'wishful': 97, 'well mannered': 79, 'ogre': 80, 'indoor': 94, 'nocturnal': 86, 'toughness': 86, 'bookkeeping': 87, 'hurray': 63, 'Joseph': 66, 'heist': 85, 'question mark': 82, 'whimsical': 75, 'optics': 89, 'repugnant': 80, 'entranced': 50, 'kiln': 82, 'shudder': 86, 'kick out': 82, 'Venice': 81, 'latte': 88, 'hoodie': 85, 'wires': 64, 'stamen': 65, 'go off': 82, 'upside down': 42, 'frank': 84, 'nervous system': 87, 'in time': 90, 'benefits': 65, 'easel': 89, 'roundabout': 74, 'peep': 90, 'faithfulness': 93, 'ejaculation': 86, 'ages': 61, 'disposable': 77, 'joiner': 80, 'agility': 84, 'blacksmith': 88, 'downer': 73, 'slovenly': 59, 'daredevil': 71, 'undesirable': 87, 'sham': 81, 'libido': 72, 'worldly': 80, 'glisten': 78, 'piglet': 69, 'modesty': 77, 'obstinate': 76, 'apprehensive': 95, 'Arab': 75, 'Cairo': 92, 'rocking': 92, 'laziness': 82, 'sides': 73, 'thyroid': 41, 'loom': 84, 'exaggerate': 71, 'dazed': 78, 'Moore': 43, 'alchemy': 82, 'sophistication': 78, 'nuns': 79, 'sexism': 80, 'Plato': 70, 'Mussolini': 79, 'headstone': 87, 'tech': 82, 'gusto': 80, 'skipping': 82, 'cut off': 79, 'prime minister': 74, 'pronunciation': 82, 'bank account': 96, 'mayo': 86, 'moronic': 90, 'imbecile': 90, 'daft': 86, 'pages': 92, 'overwhelmed': 67, 'irk': 83, 'guru': 87, 'bauble': 67, 'airless': 84, 'testing': 80, 'intrusive': 82, 'purposeful': 89, 'moniker': 74, 'jest': 84, 'tic': 78, 'uncoordinated': 83, 'zeal': 72, 'cushy': 89, 'convinced': 77, 'mentality': 92, 'accepted': 70, 'satisfying': 84, 'daycare': 91, 'happenstance': 70, 'teddy bear': 86, 'feeding': 92, 'turncoat': 69, 'put off': 79, 'lawless': 90, 'disarray': 83, 'saving': 78, 'built': 78, 'continuing': 86, 'insulin': 79, 'stingray': 73, 'rue': 84, 'scandalous': 74, 'wham': 79, 'redwood': 83, 'uncouth': 64, 'evangelical': 80, 'solutions': 89, 'came': 70, 'Zeus': 84, 'Panama': 89, 'lance': 70, 'bomber': 85, 'lifeless': 94, 'trained': 93, 'lesser': 83, 'bothered': 87, 'lynch': 91, 'arthritis': 90, 'damaged': 94, 'someday': 83, 'hoof': 91, 'drizzle': 88, 'accomplishment': 93, 'hamburgers': 88, 'subtitle': 89, 'enchant': 83, 'quota': 90, 'noob': 63, 'patriarchy': 82, 'breach': 88, 'discredit': 75, 'divert': 65, 'dancefloor': 84, 'walking stick': 90, 'candles': 87, 'eject': 86, 'dystopia': 61, 'social security': 96, 'deeply': 84, 'antibiotic': 86, 'sympathize': 91, 'controller': 89, 'implication': 82, 'upload': 88, 'needless': 81, 'quake': 94, 'seasonal': 84, 'ick': 70, 'beginnings': 74, 'machine gun': 85, 'dazzle': 85, 'PhD': 92, 'astonishment': 82, 'congestion': 78, 'cartography': 87, 'taunt': 78, 'conditions': 86, 'slop': 75, 'political party': 71, 'seamstress': 82, 'vial': 91, 'skewed': 66, 'callous': 75, 'bad guy': 83, 'quark': 63, 'fertile': 86, 'crusader': 77, 'yuk': 71, 'ghosts': 72, 'gummy': 92, 'vigilante': 81, 'unprepared': 66, 'wishes': 71, 'denounce': 71, 'tops': 49, 'hearts': 83, 'swelling': 82, 'shoddy': 65, 'brainstorm': 86, 'negation': 80, 'lemons': 87, 'omnipotent': 60, 'hot chocolate': 86, 'greeter': 56, 'detour': 71, 'White House': 92, 'possessive': 79, 'life jacket': 77, 'limitation': 88, 'buzzer': 87, 'heredity': 88, 'dalmatian': 87, 'Spock': 69, 'blue collar': 81, 'brazen': 69, 'counterclockwise': 77, 'guiding': 86, 'plotting': 82, 'poof': 82, 'records': 79, 'sugar cane': 91, 'toot': 83, 'ow': 86, 'New Orleans': 80, 'Dolly': 55, 'insertion': 80, 'snoop': 74, 'check out': 94, 'overthrow': 79, 'Parmesan': 95, 'sowing': 74, 'lay down': 94, 'theme park': 81, 'sedate': 83, 'amok': 81, 'pimples': 76, 'citizenship': 86, 'bonkers': 83, 'valiant': 84, 'lewd': 68, 'ladies': 78, 'rolling': 78, 'laborer': 90, 'readiness': 80, 'heady': 64, 'occurrence': 91, 'bicep': 90, 'degrees': 84, 'gunpowder': 91, 'nations': 90, 'existing': 87, 'befuddled': 79, 'stunted': 80, 'flinch': 81, 'imaginative': 97, 'unsuccessful': 87, 'ho': 78, 'robbers': 56, 'wrecked': 90, 'vertigo': 72, 'parking ticket': 91, 'houses': 58, 'snow white': 88, 'talc': 78, 'iced': 89, 'misguided': 77, 'concealed': 90, 'cramped': 77, 'cognac': 84, 'virile': 75, 'Tea Party': 81, 'genesis': 69, 'wretched': 84, 'Poland': 72, 'variation': 83, 'golfer': 74, 'intended': 54, 'tasks': 84, 'fanny': 82, 'plunge': 81, 'Mario': 63, 'needing': 78, 'mannerism': 81, 'fleck': 79, 'bellow': 90, 'not allowed': 69, 'covet': 73, 'covert': 83, 'Gemini': 73, 'graves': 89, 'outward': 91, 'salve': 76, 'actors': 71, 'turn away': 87, 'disposition': 85, 'fang': 89, 'conservation': 89, 'rotting': 83, 'David Bowie': 59, 'rhapsody': 83, 'Soviet': 93, 'Mardi Gras': 79, 'hippies': 73, 'bogus': 84, 'equity': 86, 'red light': 78, 'crockery': 67, 'wrongdoing': 93, 'supplement': 92, 'cracked': 93, 'motto': 80, 'big bang': 89, 'obstruction': 79, 'surpass': 90, 'drool': 72, 'benevolent': 85, 'steed': 84, 'baking soda': 81, 'Nintendo': 73, 'changeable': 77, 'genetic': 79, 'brutish': 77, 'attendant': 91, 'bulk': 85, 'parlor': 73, 'farce': 85, 'piles': 71, 'thee': 78, 'discord': 68, 'look up': 92, 'gizmo': 75, 'axle': 87, 'ruse': 71, 'refine': 77, 'aimless': 76, 'bonds': 84, 'Steve': 69, 'colonialism': 72, 'dropping': 86, 'yank': 78, 'burned': 81, 'realization': 76, 'ended': 92, 'does': 67, 'deduct': 89, 'hernia': 79, 'condescending': 59, 'stretchy': 75, 'hip hop': 90, 'loopy': 79, 'line up': 90, 'emphasize': 74, 'sabbath': 89, 'inter': 75, 'eyed': 71, 'ritzy': 73, 'propriety': 76, 'spotty': 79, 'sheen': 76, 'overhead': 90, 'instantaneous': 89, 'worksheet': 88, 'gallant': 83, 'Vietnam': 91, 'infectious': 93, 'starved': 88, 'impairment': 80, 'alteration': 86, 'chocolate bar': 79, 'worldwide': 92, 'seesaw': 66, 'illumination': 83, 'put together': 84, 'toothpick': 95, 'prying': 80, 'unavoidable': 76, 'unskilled': 84, 'ravenous': 89, 'months': 92, 'soften': 80, 'exploring': 79, 'dangle': 79, 'whoosh': 83, 'decrepit': 76, 'decomposition': 86, 'tuberculosis': 84, 'witches': 51, 'speedometer': 89, 'decisions': 90, 'withdrawal': 79, 'widget': 79, 'ovation': 87, 'untouched': 83, 'unpack': 94, 'songs': 85, 'powers': 60, 'Hamlet': 86, 'embarrassment': 80, 'guacamole': 91, 'cleansing': 81, 'parish': 89, 'fundamentalist': 74, 'oddity': 83, 'migrate': 91, 'aide': 76, 'cheery': 86, 'corps': 90, 'rubbers': 48, 'Elvis': 35, 'resting': 89, 'first aid': 85, 'gatherer': 86, 'budge': 86, 'William': 88, 'admiration': 83, 'calamity': 84, 'coding': 81, 'tempt': 85, 'crypt': 83, 'restrictive': 72, 'forces': 78, 'inspirational': 79, 'intrepid': 76, 'sprawl': 76, 'whiteboard': 91, 'flavorful': 97, 'kiosk': 87, 'tests': 86, 'indecent': 82, 'boxes': 74, 'summertime': 85, 'ramble': 83, 'pinky': 85, 'July': 85, 'Aries': 79, 'untrained': 84, 'subdue': 73, 'retina': 99, 'sweeping': 80, 'quarry': 87, 'iPod': 88, 'etching': 62, 'snide': 80, 'dildo': 84, 'howdy': 88, 'gems': 91, 'roots': 91, 'advert': 84, 'services': 80, 'soaked': 82, 'activist': 76, 'mobile phone': 87, 'tactless': 84, 'lobotomy': 77, 'fish tank': 91, 'curler': 81, 'physicist': 94, 'pathology': 85, 'oaf': 69, 'wars': 79, 'unsympathetic': 83, 'robotics': 68, 'mix up': 91, 'downtrodden': 67, 'inflamed': 87, 'ways': 75, 'raised': 67, 'smitten': 74, 'taint': 79, 'visiting': 84, 'cartoons': 66, 'realtor': 77, 'holes': 80, 'rowdy': 79, 'overpowering': 88, 'Dorothy': 49, 'soldiers': 87, 'hokey': 39, 'dire': 73, 'Rhode Island': 77, 'possessions': 88, 'nail polish': 89, 'Lord of the Rings': 61, 'appealing': 86, 'thorns': 78, 'specialty': 87, 'rang': 75, 'apprehension': 85, 'crows': 78, 'sender': 88, 'Alvin': 57, 'bookish': 83, 'walls': 75, 'setback': 81, 'headstrong': 74, 'minion': 72, 'carbonation': 84, 'nationalism': 85, 'cowboy hat': 69, 'oppressive': 75, 'foyer': 82, 'clues': 68, 'tripping': 90, 'godmother': 70, 'taker': 85, 'unlike': 88, 'narcissistic': 68, 'subliminal': 71, 'carried': 69, 'black sheep': 75, 'figure out': 92, 'flighty': 73, 'sleuth': 80, 'goes': 72, 'supple': 81, 'insemination': 76, 'tons': 91, 'sameness': 81, 'gruff': 57, 'James Bond': 50, 'shots': 86, 'dominance': 87, 'refusal': 87, 'included': 78, 'viewpoint': 85, 'egotistical': 65, 'correctness': 79, 'motherly': 88, 'pots': 36, 'old people': 80, 'covers': 84, 'sentences': 85, 'liqueur': 86, 'entitlement': 83, 'dotted': 74, 'piss off': 80, 'crushed': 73, 'defensive': 82, 'swarm': 87, 'pertinent': 74, 'inept': 81, 'operating system': 78, 'upper class': 76, 'apostle': 71, 'Davidson': 75, 'unafraid': 94, 'repulse': 82, 'offline': 72, 'godless': 82, 'braid': 78, 'flawed': 92, 'gong': 89, 'hateful': 86, 'impoverished': 89, 'chastise': 69, 'retaliation': 85, 'exhausting': 88, 'countdown': 80, 'sore throat': 75, 'goats': 80, 'spontaneity': 79, 'carry out': 82, 'cleave': 73, 'catsup': 64, 'snoopy': 84, 'robbing': 81, 'wounds': 79, 'livid': 95, 'Tolkien': 55, 'mines': 76, 'trickster': 71, 'vivacious': 80, 'slow down': 77, 'stuffing': 93, 'ambitious': 82, 'New England': 66, 'developer': 91, 'unruly': 75, 'probation': 82, 'ultra': 87, 'retrospect': 72, 'explicit': 77, 'sociopath': 69, 'invasive': 85, 'baritone': 87, 'litigation': 81, 'Noel': 90, 'bosom': 90, 'deserving': 77, 'mental illness': 75, 'Dennis': 60, 'nervousness': 81, 'bears': 77, 'guessing': 81, 'threatening': 84, 'newt': 66, 'overalls': 77, 'kidnapping': 87, 'abduction': 86, 'roast beef': 82, 'slutty': 83, 'memorable': 79, 'dingy': 70, 'footpath': 93, 'lol': 61, 'pitiful': 91, 'spunk': 66, 'resilience': 86, 'spiny': 77, 'pedestal': 77, 'lapse': 88, 'quartered': 51, 'bounce back': 74, 'Creole': 66, 'longevity': 75, 'Arthur': 77, 'fiend': 82, 'record player': 72, 'exams': 96, 'Arabic': 81, 'assimilate': 63, 'sect': 84, 'hankie': 68, 'linguist': 74, 'Beyoncé': 73, 'credible': 91, 'healthcare': 86, 'machines': 73, 'permitted': 96, 'trains': 78, 'prostate': 77, 'prudish': 77, 'tiresome': 93, 'shops': 69, 'beaches': 82, 'loathing': 83, 'ostracize': 80, 'nonetheless': 77, 'assassination': 80, 'Hunger Games': 69, 'digestive': 82, 'schizophrenia': 80, 'valued': 57, 'disapproval': 86, 'wetland': 83, 'tables': 55, 'amino acid': 84, 'monkeys': 82, 'illuminated': 80, 'yak': 75, 'pseudoscience': 56, 'Russian': 69, 'anagram': 74, 'sweatpants': 82, 'permissive': 71, 'Ikea': 88, 'crinkle': 76, 'firing': 86, 'outlook': 87, 'waterproof': 67, 'unthinking': 80, 'top hat': 75, 'innovative': 89, 'largely': 73, 'taller': 93, 'ice hockey': 84, 'lightweight': 80, 'emphatic': 81, 'monetary': 85, 'ding': 47, 'game show': 64, 'slayer': 79, 'sneer': 56, 'reschedule': 84, 'afar': 86, 'typical': 84, 'clapping': 88, 'dragons': 68, 'ragged': 74, 'reliant': 85, 'gemstone': 86, 'hairless': 93, 'whose': 74, 'pensioner': 77, 'bushes': 90, 'fortune teller': 77, 'horrifying': 92, 'Dante': 82, 'exoskeleton': 87, 'pounds': 81, 'embellishment': 65, 'derelict': 62, 'fleeting': 74, 'witchcraft': 66, 'shades': 79, 'obliged': 83, 'pushover': 86, 'Sandra': 63, 'involuntary': 71, 'lovable': 85, 'pomegranate': 90, 'rejected': 57, 'patsy': 51, 'sneezing': 70, 'alas': 53, 'cereals': 86, 'sissy': 76, 'Celtic': 79, 'salesperson': 88, 'sails': 89, 'hex': 81, 'Chevy': 83, 'Homer': 29, 'ratchet': 68, 'slacker': 81, 'lymph': 74, 'race car': 76, 'brains': 84, 'ostentatious': 67, 'mace': 74, 'teens': 86, 'kindly': 81, 'pleasurable': 93, 'forced': 54, 'arsenic': 82, 'sherry': 90, 'carbon dioxide': 75, 'inclined': 77, 'saved': 56, 'obtuse': 82, 'spinning': 83, 'imprison': 73, 'robes': 71, 'Beethoven': 75, 'sledge': 87, 'waving': 87, 'feat': 93, 'descriptive': 82, 'wonderland': 42, 'greatness': 82, 'oppress': 84, 'rareness': 84, 'count on': 88, 'reactive': 82, 'hater': 76, 'repression': 67, 'apartments': 61, 'move on': 75, 'unpaid': 90, 'common sense': 76, 'huh': 89, 'circles': 75, 'wrestler': 74, 'fall apart': 86, 'stunning': 94, 'coating': 88, 'elbows': 89, 'birdie': 87, 'marital': 85, 'misuse': 85, 'literate': 76, 'inattentive': 75, 'unfaithful': 89, 'nunnery': 75, 'trite': 60, 'prosecution': 86, 'certify': 84, 'intrigued': 83, 'full stop': 81, 'superego': 76, 'ordered': 68, 'speed up': 92, 'redundant': 80, 'gazebo': 79, 'sanctimonious': 51, 'amongst': 92, 'Americans': 81, 'flyer': 78, 'matey': 81, 'undermine': 69, 'spoils': 76, 'ironing': 89, 'resentment': 83, 'liking': 82, 'restricted': 68, 'sparks': 87, 'assortment': 88, 'forgetful': 68, 'wedge': 87, 'wrapped': 87, 'viral': 85, 'nemesis': 90, 'wiser': 65, 'pedantic': 59, 'unbalanced': 77, 'Rudolph': 85, 'adornment': 77, 'stately': 65, 'Robert': 67, 'based': 79, 'PlayStation': 76, 'hexagon': 83, 'Lincoln': 69, 'underling': 71, 'illegitimate': 80, 'stoke': 78, 'attached': 85, 'lyrical': 89, 'inconsiderate': 90, 'lethargy': 84, 'amorphous': 46, 'nonchalant': 77, 'kings': 45, 'multicultural': 85, 'larceny': 69, 'failing': 88, 'French toast': 91, 'meh': 65, 'actions': 57, 'hypocritical': 78, 'bendable': 92, 'cuticle': 89, 'edifice': 65, 'OCD': 75, 'joints': 84, 'theirs': 75, 'watcher': 54, 'wince': 75, 'stagger': 85, 'incorporate': 79, 'glamour': 83, 'collected': 60, 'unworthy': 66, 'negatively': 77, 'frilly': 66, 'flew': 76, 'grumble': 78, 'epidemic': 89, 'keeping': 70, 'bazaar': 83, 'authoritarian': 78, 'sewing machine': 84, 'flapper': 53, 'treacherous': 83, 'Phoenix': 91, 'snacks': 84, 'grading': 76, 'baloney': 73, 'exclusion': 65, 'apache': 83, 'flight attendant': 86, 'windscreen': 82, 'liner': 86, 'fundamental': 89, 'jumping': 58, 'tarot': 92, 'roadway': 90, 'Native Americans': 87, 'geriatric': 86, 'nuance': 79, 'interject': 79, 'anemia': 83, 'resin': 82, 'Midwest': 76, 'gateway': 86, 'outlandish': 81, 'Abel': 74, 'squares': 79, 'meanness': 73, 'erasure': 60, 'rebuke': 70, 'bought': 70, 'doctors': 64, 'associated': 87, 'goop': 68, 'take part': 88, 'chicken pox': 84, 'highness': 93, 'acronym': 66, 'natives': 77, 'Doctor Who': 44, 'agitated': 87, 'repudiate': 48, 'hooligan': 75, 'Romans': 53, 'lions': 58, 'historic': 80, 'ew': 86, 'breathless': 80, 'grounded': 75, 'stocky': 82, 'pains': 74, 'weaving': 80, 'Kansas': 69, 'lipid': 83, 'chickpea': 63, 'pamphlet': 51, 'aloe': 39, 'swag': 75, 'pituitary': 9})\n"
          ]
        }
      ],
      "source": [
        "import collections \n",
        "Output = collections.defaultdict(int)\n",
        "\n",
        "for elem in lista_tuplas:\n",
        "      Output[elem[0]] += 1\n",
        "      \n",
        "# Printing output\n",
        "print(Output)"
      ]
    },
    {
      "cell_type": "code",
      "execution_count": null,
      "metadata": {
        "colab": {
          "base_uri": "https://localhost:8080/"
        },
        "id": "sKNcaQqI59Gj",
        "outputId": "95d67a67-8ae5-42f0-9ad0-76c46abc4ed7"
      },
      "outputs": [
        {
          "name": "stdout",
          "output_type": "stream",
          "text": [
            "numero parejas 385816\n"
          ]
        }
      ],
      "source": [
        "import collections \n",
        "Output = collections.defaultdict(int)\n",
        "\n",
        "for elem in lista_tuplas:\n",
        "      Output[elem] += 1\n",
        "print('numero parejas',len(Output))"
      ]
    },
    {
      "cell_type": "code",
      "execution_count": null,
      "metadata": {
        "colab": {
          "base_uri": "https://localhost:8080/"
        },
        "id": "EQ2cgrqu7OQB",
        "outputId": "a2185634-6347-4189-a6b3-a1a42d021dc4"
      },
      "outputs": [
        {
          "data": {
            "text/plain": [
              "defaultdict(int,\n",
              "            {('although', 'nevertheless'): 1,\n",
              "             ('deal', 'no'): 3,\n",
              "             ('music', 'notes'): 10,\n",
              "             ('inform', 'tell'): 54,\n",
              "             ('way', 'path'): 19,\n",
              "             ('extra', 'plus'): 6,\n",
              "             ('will', 'free'): 2,\n",
              "             ('paper', 'book'): 3,\n",
              "             ('contract', 'legality'): 1,\n",
              "             ('concern', 'worry'): 41,\n",
              "             ('town', 'village'): 11,\n",
              "             ('couple', 'few'): 2,\n",
              "             ('mind', 'brain'): 22,\n",
              "             ('maybe', 'sometimes'): 6,\n",
              "             ('read', 'write'): 18,\n",
              "             ('board', 'plank'): 6,\n",
              "             ('check', 'tick'): 4,\n",
              "             ('occasion', 'event'): 23,\n",
              "             ('real', 'true'): 22,\n",
              "             ('seat', 'chair'): 40,\n",
              "             ('chair', 'seat'): 18,\n",
              "             ('provide', 'rely'): 1,\n",
              "             ('budget', 'money'): 48,\n",
              "             ('land', 'home'): 1,\n",
              "             ('village', 'land'): 1,\n",
              "             ('feed', 'eat'): 21,\n",
              "             ('exist', 'is'): 3,\n",
              "             ('Sunday', 'Sunday'): 3,\n",
              "             ('wee', 'small'): 34,\n",
              "             ('glass', 'cup'): 8,\n",
              "             ('sister', 'together'): 1,\n",
              "             ('know', 'knowledge'): 16,\n",
              "             ('claim', 'get'): 2,\n",
              "             ('stairs', 'up'): 30,\n",
              "             ('dog', 'bark'): 3,\n",
              "             ('key', 'door'): 13,\n",
              "             ('all', 'together'): 7,\n",
              "             ('grand', 'great'): 4,\n",
              "             ('carry', 'lift'): 7,\n",
              "             ('recent', 'yesterday'): 7,\n",
              "             ('simple', 'easy'): 44,\n",
              "             ('set', 'volleyball'): 1,\n",
              "             ('across', 'sea'): 3,\n",
              "             ('parent', 'father'): 12,\n",
              "             ('Mrs', 'mother'): 4,\n",
              "             ('plus', 'maths'): 1,\n",
              "             ('wrong', 'right'): 50,\n",
              "             ('go', 'away'): 5,\n",
              "             ('assume', 'assumption'): 4,\n",
              "             ('pay', 'money'): 29,\n",
              "             ('possible', 'impossible'): 26,\n",
              "             ('pardon', 'burp'): 3,\n",
              "             ('sheet', 'bed'): 28,\n",
              "             ('industrialize', 'factory'): 10,\n",
              "             ('act', 'actor'): 4,\n",
              "             ('choice', 'magazine'): 1,\n",
              "             ('understand', 'mind'): 1,\n",
              "             ('example', 'question'): 2,\n",
              "             ('space', 'rocket'): 2,\n",
              "             ('sleep', 'bed'): 15,\n",
              "             ('cook', 'food'): 19,\n",
              "             ('waste', 'garbage'): 15,\n",
              "             ('well', 'water'): 16,\n",
              "             ('month', 'moon'): 2,\n",
              "             ('tie', 'shoelace'): 1,\n",
              "             ('advertise', 'sell'): 15,\n",
              "             ('guess', 'know'): 2,\n",
              "             ('science', 'fact'): 1,\n",
              "             ('reckon', 'guess'): 9,\n",
              "             ('radio', 'clock'): 1,\n",
              "             ('nation', 'state'): 5,\n",
              "             ('good', 'bad'): 36,\n",
              "             ('part', 'piece'): 12,\n",
              "             ('feel', 'touch'): 29,\n",
              "             ('they', 'them'): 37,\n",
              "             ('other', 'different'): 9,\n",
              "             ('rate', 'review'): 1,\n",
              "             ('between', 'middle'): 16,\n",
              "             ('very', 'rather'): 1,\n",
              "             ('happen', 'circumstance'): 1,\n",
              "             ('drop', 'water'): 4,\n",
              "             ('father', 'dad'): 26,\n",
              "             ('except', 'me'): 3,\n",
              "             ('like', 'love'): 24,\n",
              "             ('stop', 'lights'): 1,\n",
              "             ('hold', 'baby'): 1,\n",
              "             ('supply', 'demand'): 36,\n",
              "             ('decision', 'choice'): 16,\n",
              "             ('brief', 'short'): 62,\n",
              "             ('sort', 'order'): 6,\n",
              "             ('quiet', 'silent'): 15,\n",
              "             ('throw', 'ball'): 19,\n",
              "             ('wish', 'star'): 16,\n",
              "             ('debate', 'argue'): 36,\n",
              "             ('hospital', 'sick'): 18,\n",
              "             ('deep', 'sea'): 15,\n",
              "             ('miss', 'avoid'): 3,\n",
              "             ('beat', 'box'): 3,\n",
              "             ('much', 'a lot'): 12,\n",
              "             ('match', 'stick'): 9,\n",
              "             ('open', 'up'): 3,\n",
              "             ('fill', 'full'): 7,\n",
              "             ('sorry', 'regret'): 7,\n",
              "             ('resource', 'project'): 1,\n",
              "             ('road', 'long'): 1,\n",
              "             ('television', 'bad'): 1,\n",
              "             ('square', 'cardboard'): 1,\n",
              "             ('once', 'upon'): 23,\n",
              "             ('recommend', 'highly'): 3,\n",
              "             ('offer', 'free'): 1,\n",
              "             ('add', 'me'): 1,\n",
              "             ('definite', 'surely'): 1,\n",
              "             ('client', 'staff'): 1,\n",
              "             ('age', 'date'): 1,\n",
              "             ('card', 'birthday'): 9,\n",
              "             ('cut', 'finger'): 3,\n",
              "             ('fund', 'money'): 50,\n",
              "             ('necessary', 'required'): 8,\n",
              "             ('language', 'English'): 20,\n",
              "             ('say', 'speak'): 33,\n",
              "             ('get', 'want'): 1,\n",
              "             ('rule', 'iron'): 1,\n",
              "             ('telephone', 'talk'): 3,\n",
              "             ('cross', 'angry'): 15,\n",
              "             ('note', 'memo'): 5,\n",
              "             ('finish', 'end'): 40,\n",
              "             ('answer', 'question'): 50,\n",
              "             ('engine', 'car'): 23,\n",
              "             ('apparent', 'obvious'): 33,\n",
              "             ('switch', 'light'): 19,\n",
              "             ('office', 'chair'): 2,\n",
              "             ('area', 'maths'): 2,\n",
              "             ('lunch', 'sandwich'): 7,\n",
              "             ('or', 'either'): 23,\n",
              "             ('lad', 'boy'): 62,\n",
              "             ('money', 'coins'): 2,\n",
              "             ('cover', 'book'): 11,\n",
              "             ('previous', 'before'): 42,\n",
              "             ('sign', 'stop'): 11,\n",
              "             ('tonight', 'stars'): 1,\n",
              "             ('depend', 'emotions'): 1,\n",
              "             ('hullo', 'hello'): 29,\n",
              "             ('laugh', 'joy'): 3,\n",
              "             ('coffee', 'breakfast'): 2,\n",
              "             ('okay', 'yes'): 9,\n",
              "             ('every', 'one'): 9,\n",
              "             ('force', 'police'): 2,\n",
              "             ('stage', 'drama'): 3,\n",
              "             ('around', 'world'): 8,\n",
              "             ('same', 'gender'): 1,\n",
              "             ('travel', 'world'): 3,\n",
              "             ('honest', 'liar'): 1,\n",
              "             ('grow', 'plants'): 3,\n",
              "             ('child', 'mother'): 4,\n",
              "             ('state', 'country'): 9,\n",
              "             ('secure', 'locked'): 3,\n",
              "             ('year', 'time'): 12,\n",
              "             ('odd', 'weird'): 14,\n",
              "             ('wait', 'stop'): 7,\n",
              "             ('buy', 'spend'): 8,\n",
              "             ('attend', 'event'): 2,\n",
              "             ('press', 'release'): 1,\n",
              "             ('always', 'forever'): 43,\n",
              "             ('cent', 'dollar'): 16,\n",
              "             ('story', 'book'): 17,\n",
              "             ('present', 'gift'): 32,\n",
              "             ('than', 'then'): 14,\n",
              "             ('whether', 'or'): 15,\n",
              "             ('policy', 'politics'): 3,\n",
              "             ('some', 'many'): 3,\n",
              "             ('box', 'parcel'): 1,\n",
              "             ('comment', 'speak'): 7,\n",
              "             ('lie', 'lies'): 1,\n",
              "             ('ask', 'question'): 41,\n",
              "             ('never', 'ever'): 38,\n",
              "             ('history', 'book'): 5,\n",
              "             ('already', 'again'): 2,\n",
              "             ('paint', 'wall'): 7,\n",
              "             ('sense', 'spoon'): 1,\n",
              "             ('help', 'me'): 16,\n",
              "             ('first', 'second'): 20,\n",
              "             ('meet', 'greet'): 32,\n",
              "             ('agree', 'yes'): 20,\n",
              "             ('morning', 'sun'): 4,\n",
              "             ('probable', 'likely'): 51,\n",
              "             ('detail', 'book'): 1,\n",
              "             ('mother', 'other'): 1,\n",
              "             ('cheap', 'chips'): 1,\n",
              "             ('most', 'host'): 1,\n",
              "             ('mark', 'day'): 1,\n",
              "             ('active', 'fit'): 6,\n",
              "             ('doctor', 'man'): 1,\n",
              "             ('succeed', 'win'): 27,\n",
              "             ('improve', 'better'): 38,\n",
              "             ('heat', 'hot'): 21,\n",
              "             ('there', 'it'): 2,\n",
              "             ('head', 'ache'): 5,\n",
              "             ('take', 'steal'): 13,\n",
              "             ('two', 'too'): 2,\n",
              "             ('try', 'attempt'): 35,\n",
              "             ('sale', 'house'): 2,\n",
              "             ('process', 'way'): 2,\n",
              "             ('news', 'internet'): 1,\n",
              "             ('own', 'keep'): 1,\n",
              "             ('hard', 'easy'): 9,\n",
              "             ('family', 'vacation'): 1,\n",
              "             ('lay', 'down'): 22,\n",
              "             ('build', 'up'): 3,\n",
              "             ('number', 'letter'): 6,\n",
              "             ('subject', 'verb'): 5,\n",
              "             ('blow', 'job'): 11,\n",
              "             ('further', 'away'): 9,\n",
              "             ('day', 'night'): 48,\n",
              "             ('lead', 'pipe'): 5,\n",
              "             ('bar', 'beer'): 4,\n",
              "             ('knock', 'down'): 2,\n",
              "             ('position', 'sit'): 1,\n",
              "             ('company', 'acquire'): 1,\n",
              "             ('fire', 'leave'): 1,\n",
              "             ('few', 'scarce'): 3,\n",
              "             ('place', 'put'): 6,\n",
              "             ('shop', 'food'): 1,\n",
              "             ('matter', 'outer space'): 1,\n",
              "             ('council', 'small'): 1,\n",
              "             ('insure', 'theft'): 1,\n",
              "             ('file', 'computer'): 2,\n",
              "             ('party', 'politics'): 4,\n",
              "             ('danger', 'fear'): 12,\n",
              "             ('rid', 'remove'): 4,\n",
              "             ('rather', 'prefer'): 22,\n",
              "             ('save', 'backup'): 1,\n",
              "             ('worry', 'ruminate'): 1,\n",
              "             ('king', 'queen'): 53,\n",
              "             ('who', 'what'): 29,\n",
              "             ('actual', 'real'): 64,\n",
              "             ('either', 'or'): 62,\n",
              "             ('figure', 'weight'): 1,\n",
              "             ('course', 'study'): 15,\n",
              "             ('order', 'police'): 1,\n",
              "             ('four', 'five'): 25,\n",
              "             ('free', 'happy'): 1,\n",
              "             ('form', 'bureaucracy'): 1,\n",
              "             ('hope', 'faith'): 12,\n",
              "             ('woman', 'man'): 38,\n",
              "             ('absolute', 'total'): 12,\n",
              "             ('organize', 'organizer'): 1,\n",
              "             ('case', 'brief'): 5,\n",
              "             ('ever', 'forever'): 14,\n",
              "             ('low', 'high'): 36,\n",
              "             ('France', 'England'): 5,\n",
              "             ('horse', 'ride'): 2,\n",
              "             ('write', 'read'): 13,\n",
              "             ('on', 'off'): 24,\n",
              "             ('with', 'without'): 10,\n",
              "             ('near', 'far'): 51,\n",
              "             ('recognize', 'see'): 33,\n",
              "             ('girl', 'female'): 8,\n",
              "             ('walk', 'run'): 24,\n",
              "             ('original', 'same'): 2,\n",
              "             ('fight', 'brawl'): 5,\n",
              "             ('sun', 'bright'): 13,\n",
              "             ('door', 'close'): 3,\n",
              "             ('apply', 'job'): 15,\n",
              "             ('sit', 'bum'): 1,\n",
              "             ('shoe', 'lace'): 10,\n",
              "             ('it', 'was'): 3,\n",
              "             ('together', 'we'): 5,\n",
              "             ('Wednesday', 'hump'): 2,\n",
              "             ('during', 'sex'): 2,\n",
              "             ('eat', 'food'): 35,\n",
              "             ('perhaps', 'if'): 1,\n",
              "             ('can', 'we'): 1,\n",
              "             ('dress', 'size'): 2,\n",
              "             ('letter', 'word'): 6,\n",
              "             ('face', 'intimate'): 1,\n",
              "             ('life', 'love'): 4,\n",
              "             ('responsible', 'eating'): 1,\n",
              "             ('welcome', 'home'): 21,\n",
              "             ('hair', 'dresser'): 3,\n",
              "             ('wonder', 'dream'): 2,\n",
              "             ('ago', 'ages'): 3,\n",
              "             ('should', 'we'): 1,\n",
              "             ('far', 'near'): 20,\n",
              "             ('in', 'out'): 60,\n",
              "             ('cup', 'saucer'): 9,\n",
              "             ('cold', 'flu'): 1,\n",
              "             ('stand', 'sit'): 16,\n",
              "             ('nature', 'natural'): 6,\n",
              "             ('committee', 'meeting'): 10,\n",
              "             ('mean', 'cruel'): 3,\n",
              "             ('member', 'penis'): 6,\n",
              "             ('bother', 'annoy'): 26,\n",
              "             ('again', 'again'): 4,\n",
              "             ('pension', 'retirement'): 29,\n",
              "             ('end', 'over'): 4,\n",
              "             ('nature', 'tree'): 6,\n",
              "             ('oppose', 'forbid'): 1,\n",
              "             ('college', 'school'): 21,\n",
              "             ('site', 'building'): 5,\n",
              "             ('standard', 'practice'): 1,\n",
              "             ('forward', 'backward'): 27,\n",
              "             ('many', 'most'): 2,\n",
              "             ('more', 'over'): 2,\n",
              "             ('service', 'military'): 5,\n",
              "             ('high', 'kite'): 4,\n",
              "             ('current', 'electricity'): 3,\n",
              "             ('work', 'play'): 22,\n",
              "             ('less', 'more'): 61,\n",
              "             ('baby', 'bottle'): 4,\n",
              "             ('strong', 'muscle'): 5,\n",
              "             ('consult', 'talk'): 4,\n",
              "             ('country', 'land'): 7,\n",
              "             ('fall', 'hit'): 2,\n",
              "             ('best', 'star'): 1,\n",
              "             ('kitchen', 'tea'): 1,\n",
              "             ('begin', 'start'): 66,\n",
              "             ('city', 'suburb'): 1,\n",
              "             ('view', 'mountains'): 1,\n",
              "             ('give', 'place'): 1,\n",
              "             ('price', 'money'): 8,\n",
              "             ('so', 'then'): 4,\n",
              "             ('proper', 'right'): 12,\n",
              "             ('structure', 'complex'): 1,\n",
              "             ('field', 'wheat'): 3,\n",
              "             ('husband', 'wife'): 57,\n",
              "             ('start', 'end'): 5,\n",
              "             ('enough', 'is'): 1,\n",
              "             ('shall', 'we'): 5,\n",
              "             ('short', 'tall'): 24,\n",
              "             ('evening', 'morning'): 8,\n",
              "             ('each', 'all'): 2,\n",
              "             ('individual', 'group'): 1,\n",
              "             ('identify', 'not'): 1,\n",
              "             ('eight', 'nine'): 29,\n",
              "             ('really', 'short'): 1,\n",
              "             ('presume', 'to'): 2,\n",
              "             ('society', 'people'): 16,\n",
              "             ('yesterday', 'trouble'): 1,\n",
              "             ('six', 'seven'): 40,\n",
              "             ('bed', 'room'): 3,\n",
              "             ('report', 'card'): 27,\n",
              "             ('leave', 'annual'): 1,\n",
              "             ('exact', 'precision'): 1,\n",
              "             ('apart', 'separate'): 25,\n",
              "             ('control', 'panel'): 2,\n",
              "             ('thirty', 'years'): 6,\n",
              "             ('obvious', 'choice'): 2,\n",
              "             ('heavy', 'dense'): 2,\n",
              "             ('range', 'shooting'): 5,\n",
              "             ('excuse', 'question'): 1,\n",
              "             ('clear', 'fluid'): 1,\n",
              "             ('Thursday', 'Friday'): 27,\n",
              "             ('old', 'man'): 5,\n",
              "             ('copy', 'paper'): 6,\n",
              "             ('hit', 'hard'): 4,\n",
              "             ('true', 'good'): 3,\n",
              "             ('middle', 'child'): 6,\n",
              "             ('relation', 'mother'): 7,\n",
              "             ('lose', 'love'): 1,\n",
              "             ('what', 'who'): 13,\n",
              "             ('friend', 'people'): 1,\n",
              "             ('hate', 'oops'): 1,\n",
              "             ('size', 'large'): 32,\n",
              "             ('to', 'do'): 1,\n",
              "             ('Friday', 'pay'): 2,\n",
              "             ('unless', 'because'): 2,\n",
              "             ('minister', 'priest'): 17,\n",
              "             ('look', 'spectacles'): 1,\n",
              "             ('term', 'school'): 16,\n",
              "             ('three', 'sisters'): 1,\n",
              "             ('back', 'front'): 29,\n",
              "             ('light', 'globe'): 1,\n",
              "             ('involve', 'group'): 2,\n",
              "             ('compare', 'contrast'): 36,\n",
              "             ('bag', 'sack'): 14,\n",
              "             ('dead', 'gone'): 11,\n",
              "             ('argue', 'dispute'): 6,\n",
              "             ('difficult', 'frustrating'): 1,\n",
              "             ('watch', 'hawk'): 1,\n",
              "             ('become', 'grow'): 5,\n",
              "             ('staff', 'school'): 1,\n",
              "             ('night', 'velvet'): 1,\n",
              "             ('elect', 'president'): 26,\n",
              "             ('quid', 'squid'): 5,\n",
              "             ('bus', 'car'): 9,\n",
              "             ('no', 'yes'): 39,\n",
              "             ('leg', 'arm'): 41,\n",
              "             ('exercise', 'gym'): 7,\n",
              "             ('surprise', 'present'): 2,\n",
              "             ('social', 'network'): 14,\n",
              "             ('early', 'morning'): 27,\n",
              "             ('hell', 'hot'): 5,\n",
              "             ('paragraph', 'sentence'): 26,\n",
              "             ('photograph', 'picture'): 54,\n",
              "             ('law', 'police'): 5,\n",
              "             ('balance', 'scales'): 7,\n",
              "             ('department', 'store'): 43,\n",
              "             ('big', 'fat'): 1,\n",
              "             ('value', 'price'): 8,\n",
              "             ('right', 'left'): 25,\n",
              "             ('consider', 'think about'): 9,\n",
              "             ('twelve', 'number'): 8,\n",
              "             ('equal', 'total'): 2,\n",
              "             ('play', 'enjoy'): 1,\n",
              "             ('thank', 'cheers'): 1,\n",
              "             ('half', 'section'): 1,\n",
              "             ('catch', 'grab'): 3,\n",
              "             ('lord', 'God'): 28,\n",
              "             ('Jesus', 'church'): 2,\n",
              "             ('manage', 'control'): 13,\n",
              "             ('operate', 'control'): 3,\n",
              "             ('idea', 'thought'): 39,\n",
              "             ('quick', 'fast'): 58,\n",
              "             ('wash', 'clean'): 38,\n",
              "             ('train', 'rain'): 2,\n",
              "             ('quality', 'control'): 5,\n",
              "             ('meaning', 'of'): 1,\n",
              "             ('house', 'live'): 3,\n",
              "             ('transport', 'public'): 2,\n",
              "             ('moment', 'time'): 36,\n",
              "             ('protect', 'keep'): 2,\n",
              "             ('young', 'old'): 43,\n",
              "             ('next', 'week'): 4,\n",
              "             ('guy', 'man'): 26,\n",
              "             ('fair', 'even'): 6,\n",
              "             ('fish', 'food'): 5,\n",
              "             ('aware', 'awake'): 11,\n",
              "             ('second', 'time'): 9,\n",
              "             ('interest', 'enthusiasm'): 2,\n",
              "             ('another', 'else'): 1,\n",
              "             ('cake', 'dessert'): 7,\n",
              "             ('health', 'life'): 1,\n",
              "             ('full', 'filled'): 1,\n",
              "             ('could', 'would'): 20,\n",
              "             ('express', 'convey'): 2,\n",
              "             ('both', 'two'): 29,\n",
              "             ('positive', 'happy'): 8,\n",
              "             ('spell', 'spelling'): 2,\n",
              "             ('correct', 'yes'): 1,\n",
              "             ('able', 'capable'): 18,\n",
              "             ('function', 'word'): 1,\n",
              "             ('fortune', 'word'): 1,\n",
              "             ('receive', 'take'): 3,\n",
              "             ('enjoy', 'riches'): 1,\n",
              "             ('from', 'the'): 1,\n",
              "             ('appear', 'seem'): 19,\n",
              "             ('nice', 'spice'): 1,\n",
              "             ('let', 'be'): 3,\n",
              "             ('thousand', 'one'): 5,\n",
              "             ('sick', 'dog'): 1,\n",
              "             ('just', 'around'): 1,\n",
              "             ('minute', 'detail'): 1,\n",
              "             ('red', 'color'): 20,\n",
              "             ('arm', 'strong'): 2,\n",
              "             ('chance', 'risk'): 4,\n",
              "             ('hundred', 'one'): 4,\n",
              "             ('slight', 'little'): 8,\n",
              "             ('game', 'over'): 2,\n",
              "             ('easy', 'as'): 1,\n",
              "             ('test', 'desk'): 1,\n",
              "             ('create', 'rainbow'): 1,\n",
              "             ('secretary', 'typewriter'): 2,\n",
              "             ('sudden', 'blue'): 1,\n",
              "             ('wind', 'push'): 1,\n",
              "             ('heart', 'beat'): 10,\n",
              "             ('blood', 'red'): 24,\n",
              "             ('inside', 'organs'): 1,\n",
              "             ('English', 'language'): 56,\n",
              "             ('talk', 'mouth'): 2,\n",
              "             ('regard', 'esteem'): 11,\n",
              "             ('one', 'two'): 32,\n",
              "             ('authority', 'boss'): 6,\n",
              "             ('quite', 'contrary'): 3,\n",
              "             ('list', 'shopping'): 7,\n",
              "             ('under', 'over'): 23,\n",
              "             ('tend', 'wound'): 1,\n",
              "             ('count', 'numbers'): 26,\n",
              "             ('step', 'stairs'): 10,\n",
              "             ('find', 'book'): 1,\n",
              "             ('use', 'drugs'): 2,\n",
              "             ('table', 'top'): 7,\n",
              "             ('touch', 'feel'): 43,\n",
              "             ('remember', 'brain'): 2,\n",
              "             ('awful', 'horrible'): 7,\n",
              "             ('jump', 'high'): 22,\n",
              "             ('community', 'group'): 10,\n",
              "             ('measure', 'tape'): 19,\n",
              "             ('alright', 'mate'): 1,\n",
              "             ('she', 'he'): 40,\n",
              "             ('new', 'shoes'): 3,\n",
              "             ('kid', 'gloves'): 4,\n",
              "             ('but', 'what'): 2,\n",
              "             ('street', 'signs'): 1,\n",
              "             ('though', 'you'): 1,\n",
              "             ('against', 'stop'): 1,\n",
              "             ('thirteen', 'fourteen'): 24,\n",
              "             ('pick', 'nose'): 5,\n",
              "             ('common', 'mistake'): 1,\n",
              "             ('time', 'zone'): 1,\n",
              "             ('name', 'tag'): 5,\n",
              "             ('teach', 'me'): 6,\n",
              "             ('have', 'not'): 15,\n",
              "             ('warm', 'heart'): 1,\n",
              "             ('listen', 'closely'): 4,\n",
              "             ('of', 'and'): 3,\n",
              "             ('certain', 'exact'): 2,\n",
              "             ('busy', 'bee'): 21,\n",
              "             ('hand', 'at'): 1,\n",
              "             ('where', 'map'): 2,\n",
              "             ('govern', 'leader'): 1,\n",
              "             ('ready', 'when'): 1,\n",
              "             ('little', 'short'): 1,\n",
              "             ('hour', 'wolf'): 1,\n",
              "             ('garden', 'in'): 1,\n",
              "             ('smoke', 'water'): 3,\n",
              "             ('then', 'and'): 4,\n",
              "             ('especial', 'unique'): 2,\n",
              "             ('market', 'stock'): 4,\n",
              "             ('limit', 'speed'): 21,\n",
              "             ('university', 'degree'): 3,\n",
              "             ('Monday', 'dull'): 1,\n",
              "             ('finance', 'savings'): 1,\n",
              "             ('private', 'detective'): 3,\n",
              "             ('turn', 'around'): 17,\n",
              "             ('food', 'eat'): 26,\n",
              "             ('off', 'lights'): 1,\n",
              "             ('ground', 'camping'): 1,\n",
              "             ('item', 'shopping'): 1,\n",
              "             ('clock', 'drinks'): 1,\n",
              "             ('kind', 'nice'): 21,\n",
              "             ('might', 'maybe'): 19,\n",
              "             ('job', 'career'): 4,\n",
              "             ('keep', 'own'): 2,\n",
              "             ('luck', 'good'): 32,\n",
              "             ('stuff', 'possessions'): 2,\n",
              "             ('rest', 'peaceful'): 1,\n",
              "             ('the', 'what'): 2,\n",
              "             ('contact', 'number'): 1,\n",
              "             ('think', 'idea'): 7,\n",
              "             ('when', 'where'): 26,\n",
              "             ('serve', 'tennis'): 12,\n",
              "             ('income', 'money'): 50,\n",
              "             ('pretty', 'good'): 3,\n",
              "             ('suppose', 'so'): 2,\n",
              "             ('die', 'hard'): 5,\n",
              "             ('egg', 'nog'): 12,\n",
              "             ('afternoon', 'morning'): 15,\n",
              "             ('future', 'proof'): 1,\n",
              "             ('side', 'sunny'): 1,\n",
              "             ('down', 'up'): 53,\n",
              "             ('poor', 'rich'): 20,\n",
              "             ('approach', 'good'): 2,\n",
              "             ('indeed', 'surely'): 4,\n",
              "             ('change', 'vital'): 1,\n",
              "             ('cost', 'expense'): 7,\n",
              "             ('follow', 'lead'): 29,\n",
              "             ('section', 'chapter'): 1,\n",
              "             ('colleague', 'friend'): 33,\n",
              "             ('put', 'place'): 37,\n",
              "             ('arrange', 'organize'): 8,\n",
              "             ('evidence', 'proof'): 27,\n",
              "             ('continue', 'ongoing'): 2,\n",
              "             ('whole', 'half'): 7,\n",
              "             ('small', 'tiny'): 29,\n",
              "             ('special', 'lovely'): 1,\n",
              "             ('floor', 'tile'): 3,\n",
              "             ('Britain', 'queen'): 6,\n",
              "             ('eye', 'lid'): 2,\n",
              "             ('upon', 'on top'): 7,\n",
              "             ('before', 'previously'): 3,\n",
              "             ('major', 'big'): 10,\n",
              "             ('page', 'book'): 28,\n",
              "             ('print', 'write'): 16,\n",
              "             ('project', 'job'): 2,\n",
              "             ('tell', 'tale'): 4,\n",
              "             ('industry', 'worker'): 1,\n",
              "             ('before', 'after'): 55,\n",
              "             ('project', 'study'): 1,\n",
              "             ('Christ', 'Jesus'): 38,\n",
              "             ('would', 'you'): 7,\n",
              "             ('out', 'about'): 3,\n",
              "             ('likely', 'unlikely'): 9,\n",
              "             ('fast', 'faster'): 2,\n",
              "             ('important', 'very'): 8,\n",
              "             ('eye', 'opener'): 1,\n",
              "             ('not', 'here'): 2,\n",
              "             ('charge', 'credit'): 8,\n",
              "             ('along', 'the'): 3,\n",
              "             ('whole', 'cake'): 1,\n",
              "             ('divide', 'conquer'): 20,\n",
              "             ('describe', 'tell'): 14,\n",
              "             ('expense', 'report'): 5,\n",
              "             ('worth', 'money'): 14,\n",
              "             ('be', 'is'): 12,\n",
              "             ('park', 'street'): 1,\n",
              "             ('final', 'countdown'): 1,\n",
              "             ('great', 'wonderful'): 20,\n",
              "             ('we', 'are'): 9,\n",
              "             ('about', 'run'): 1,\n",
              "             ('develop', 'grow'): 13,\n",
              "             ('allow', 'let'): 30,\n",
              "             ('amount', 'money'): 26,\n",
              "             ('encourage', 'help'): 17,\n",
              "             ('invest', 'money'): 54,\n",
              "             ('develop', 'money'): 1,\n",
              "             ('east', 'west'): 58,\n",
              "             ('yet', 'since'): 1,\n",
              "             ('public', 'toilet'): 2,\n",
              "             ('per', 'that'): 1,\n",
              "             ('care', 'kind'): 4,\n",
              "             ('push', 'pull'): 36,\n",
              "             ('base', 'ground'): 2,\n",
              "             ('raise', 'lift'): 17,\n",
              "             ('shut', 'close'): 41,\n",
              "             ('doubt', 'negate'): 1,\n",
              "             ('worth', 'value'): 48,\n",
              "             ('expect', 'hope'): 7,\n",
              "             ('serious', 'straight'): 1,\n",
              "             ('God', 'big'): 1,\n",
              "             ('percent', 'circles'): 1,\n",
              "             ('plan', 'action'): 4,\n",
              "             ('Germany', 'family'): 1,\n",
              "             ('call', 'make'): 1,\n",
              "             ('over', 'it'): 1,\n",
              "             ('join', 'hands'): 2,\n",
              "             ('round', 'bum'): 1,\n",
              "             ('bad', 'good'): 36,\n",
              "             ('draw', 'pick'): 1,\n",
              "             ('produce', 'make'): 19,\n",
              "             ('gas', 'fart'): 2,\n",
              "             ('north', 'south'): 48,\n",
              "             ('long', 'ruler'): 4,\n",
              "             ('unit', 'rental'): 1,\n",
              "             ('account', 'bank'): 19,\n",
              "             ('gas', 'smell'): 4,\n",
              "             ('God', 'invisible'): 1,\n",
              "             ('too', 'as well'): 5,\n",
              "             ('pass', 'fail'): 13,\n",
              "             ('increase', 'more'): 11,\n",
              "             ('produce', 'market'): 2,\n",
              "             ('draw', 'paint'): 7,\n",
              "             ('round', 'ball'): 17,\n",
              "             ('may', 'maybe'): 5,\n",
              "             ('encourage', 'courage'): 3,\n",
              "             ('fun', 'joy'): 4,\n",
              "             ('red', 'blood'): 6,\n",
              "             ('rise', 'up'): 12,\n",
              "             ('enter', 'go'): 3,\n",
              "             ('forget', 'thought'): 1,\n",
              "             ('say', 'mouth'): 1,\n",
              "             ('type', 'hands'): 1,\n",
              "             ('wife', 'married'): 1,\n",
              "             ('ready', 'eager'): 1,\n",
              "             ('press', 'button'): 8,\n",
              "             ('secure', 'tight'): 3,\n",
              "             ('normal', 'average'): 14,\n",
              "             ('tell', 'speak'): 6,\n",
              "             ('hundred', 'money'): 2,\n",
              "             ('process', 'long'): 1,\n",
              "             ('space', 'explore'): 1,\n",
              "             ('kid', 'love'): 2,\n",
              "             ('major', 'army'): 3,\n",
              "             ('self', 'me'): 42,\n",
              "             ('trade', 'job'): 3,\n",
              "             ('through', 'tunnel'): 11,\n",
              "             ('morning', 'alone'): 1,\n",
              "             ('America', 'freedom'): 4,\n",
              "             ('drop', 'hat'): 1,\n",
              "             ('upon', 'once'): 23,\n",
              "             ('contract', 'teaching'): 1,\n",
              "             ('hot', 'summer'): 5,\n",
              "             ('stay', 'dog'): 9,\n",
              "             ('sense', 'smell'): 13,\n",
              "             ('they', 'are'): 10,\n",
              "             ('film', 'movie'): 51,\n",
              "             ('claim', 'tax'): 1,\n",
              "             ('result', 'good'): 3,\n",
              "             ('various', 'different'): 11,\n",
              "             ('million', 'trillion'): 3,\n",
              "             ('per', 'each'): 16,\n",
              "             ('thirteen', 'teenager'): 6,\n",
              "             ('ago', 'past'): 26,\n",
              "             ('copy', 'same'): 1,\n",
              "             ('there', 'place'): 7,\n",
              "             ('insure', 'protect'): 9,\n",
              "             ('too', 'also'): 54,\n",
              "             ('cut', 'scissors'): 6,\n",
              "             ('support', 'scissors'): 1,\n",
              "             ('join', 'glue'): 2,\n",
              "             ('level', 'even'): 18,\n",
              "             ('in', 'enter'): 2,\n",
              "             ('beauty', 'beast'): 17,\n",
              "             ('hear', 'say'): 2,\n",
              "             ('on', 'top'): 21,\n",
              "             ('unless', 'you'): 6,\n",
              "             ('industrialize', 'nations'): 2,\n",
              "             ('big', 'one'): 1,\n",
              "             ('happen', 'shit'): 3,\n",
              "             ('benefit', 'tax'): 1,\n",
              "             ('date', 'night'): 8,\n",
              "             ('create', 'art'): 12,\n",
              "             ('miss', 'you'): 13,\n",
              "             ('for', 'love'): 1,\n",
              "             ('reason', 'being'): 1,\n",
              "             ('father', 'mother'): 39,\n",
              "             ('responsible', 'tight'): 1,\n",
              "             ('university', 'school'): 16,\n",
              "             ('sister', 'brother'): 44,\n",
              "             ('special', 'services'): 1,\n",
              "             ('mind', 'full'): 1,\n",
              "             ('contact', 'me'): 3,\n",
              "             ('associate', 'professor'): 3,\n",
              "             ('terrible', 'person'): 1,\n",
              "             ('idea', 'bright'): 4,\n",
              "             ('black', 'white'): 53,\n",
              "             ('original', 'music'): 1,\n",
              "             ('okay', 'okay'): 5,\n",
              "             ('put', 'in'): 5,\n",
              "             ('sex', 'people'): 1,\n",
              "             ('perhaps', 'not'): 1,\n",
              "             ('short', 'small'): 11,\n",
              "             ('sure', 'okay'): 6,\n",
              "             ('blow', 'balloon'): 2,\n",
              "             ('student', 'me'): 3,\n",
              "             ('bear', 'hug'): 9,\n",
              "             ('allow', 'permit'): 29,\n",
              "             ('people', 'humans'): 8,\n",
              "             ('health', 'well-being'): 1,\n",
              "             ('speed', 'dating'): 1,\n",
              "             ('thousand', 'million'): 18,\n",
              "             ('life', 'vest'): 1,\n",
              "             ('purpose', 'meaning'): 11,\n",
              "             ('account', 'story'): 5,\n",
              "             ('road', 'nowhere'): 1,\n",
              "             ('language', 'thought'): 1,\n",
              "             ('expect', 'next'): 1,\n",
              "             ('fish', 'sushi'): 1,\n",
              "             ('cheap', 'ghetto'): 1,\n",
              "             ('but', 'butt'): 7,\n",
              "             ('separate', 'cream'): 1,\n",
              "             ('feed', 'me'): 6,\n",
              "             ('hold', 'envelope'): 1,\n",
              "             ('fortune', 'fortunate'): 2,\n",
              "             ('bank', 'money'): 40,\n",
              "             ('politic', 'body'): 10,\n",
              "             ('chair', 'sit'): 32,\n",
              "             ('hope', 'glory'): 2,\n",
              "             ('service', 'self'): 1,\n",
              "             ('save', 'money'): 22,\n",
              "             ('direct', 'object'): 1,\n",
              "             ('busy', 'life'): 2,\n",
              "             ('bad', 'woman'): 1,\n",
              "             ('alright', 'okay'): 45,\n",
              "             ('away', 'run'): 1,\n",
              "             ('farm', 'horse'): 2,\n",
              "             ('economy', 'bust'): 1,\n",
              "             ('general', 'study'): 1,\n",
              "             ('stick', 'walking'): 2,\n",
              "             ('may', 'day'): 3,\n",
              "             ('engine', 'fire'): 7,\n",
              "             ('succeed', 'plan'): 1,\n",
              "             ('fill', 'in'): 6,\n",
              "             ('point', 'me'): 1,\n",
              "             ('bloke', 'guy'): 18,\n",
              "             ('offer', 'cash'): 1,\n",
              "             ('arrange', 'sort'): 9,\n",
              "             ('trust', 'honest'): 3,\n",
              "             ('arm', 'leg'): 47,\n",
              "             ('month', 'period'): 1,\n",
              "             ('market', 'shop'): 8,\n",
              "             ('state', 'new'): 1,\n",
              "             ('head', 'shoulders'): 6,\n",
              "             ('finance', 'money'): 68,\n",
              "             ('most', 'awful'): 1,\n",
              "             ('remember', 'me'): 4,\n",
              "             ('week', 'today'): 2,\n",
              "             ('agree', 'to'): 2,\n",
              "             ('after', 'today'): 1,\n",
              "             ('take', 'that'): 2,\n",
              "             ('which', 'one'): 14,\n",
              "             ('list', 'pen'): 1,\n",
              "             ('catch', 'up'): 4,\n",
              "             ('common', 'up'): 1,\n",
              "             ('today', 'now'): 28,\n",
              "             ('game', 'boy'): 2,\n",
              "             ('thing', 'green'): 1,\n",
              "             ('question', 'time'): 2,\n",
              "             ('at', 'home'): 15,\n",
              "             ('future', 'next'): 3,\n",
              "             ('money', 'bear'): 1,\n",
              "             ('affect', 'me'): 3,\n",
              "             ('because', 'said'): 1,\n",
              "             ('twenty', 'five'): 3,\n",
              "             ('lunch', 'time'): 6,\n",
              "             ('ever', 'after'): 13,\n",
              "             ('sheet', 'graph'): 1,\n",
              "             ('box', 'rectangle'): 2,\n",
              "             ('check', 'review'): 2,\n",
              "             ('four', 'days'): 1,\n",
              "             ('church', 'Sunday'): 4,\n",
              "             ('meaning', 'value'): 1,\n",
              "             ('strike', 'out'): 9,\n",
              "             ('ten', 'Indians'): 3,\n",
              "             ('can', 'do'): 19,\n",
              "             ('law', 'court'): 1,\n",
              "             ('lock', 'Smith'): 7,\n",
              "             ('glass', 'eye'): 5,\n",
              "             ('apparent', 'there'): 1,\n",
              "             ('especial', 'nice'): 1,\n",
              "             ('although', 'though'): 2,\n",
              "             ('traffic', 'study'): 1,\n",
              "             ('stage', 'coach'): 7,\n",
              "             ('bet', 'syrup'): 1,\n",
              "             ('afford', 'rent'): 1,\n",
              "             ('value', 'add'): 1,\n",
              "             ('hand', 'by'): 1,\n",
              "             ('appropriate', 'inappropriate'): 11,\n",
              "             ('end', 'the'): 5,\n",
              "             ('sell', 'out'): 2,\n",
              "             ('garden', 'flowers'): 22,\n",
              "             ('shoot', 'camera'): 1,\n",
              "             ('character', 'actor'): 4,\n",
              "             ('king', 'maker'): 2,\n",
              "             ('believe', 'God'): 9,\n",
              "             ('best', 'better'): 6,\n",
              "             ('consult', 'instruct'): 2,\n",
              "             ('news', 'papers'): 1,\n",
              "             ('income', 'fixed'): 1,\n",
              "             ('wall', 'fence'): 4,\n",
              "             ('worse', 'awful'): 4,\n",
              "             ('boat', 'ship'): 27,\n",
              "             ('consider', 'understand'): 1,\n",
              "             ('ought', 'should'): 70,\n",
              "             ('watch', 'look'): 10,\n",
              "             ('wage', 'wager'): 1,\n",
              "             ('figure', 'skate'): 7,\n",
              "             ('air', 'lift'): 2,\n",
              "             ('transport', 'haul'): 1,\n",
              "             ('detail', 'etching'): 1,\n",
              "             ('country', 'my'): 1,\n",
              "             ('new', 'old'): 29,\n",
              "             ('base', 'army'): 3,\n",
              "             ('yesterday', 'tomorrow'): 16,\n",
              "             ('occasion', 'celebrate'): 1,\n",
              "             ('fair', 'lady'): 3,\n",
              "             ('society', 'collapse'): 1,\n",
              "             ('break', 'window'): 1,\n",
              "             ('eleven', 'seven'): 6,\n",
              "             ('system', 'shock'): 1,\n",
              "             ('run', 'away'): 10,\n",
              "             ('individual', 'single'): 9,\n",
              "             ('ought', 'to'): 12,\n",
              "             ('ring', 'ding'): 3,\n",
              "             ('document', 'paper'): 38,\n",
              "             ('few', 'little'): 17,\n",
              "             ('clean', 'dirty'): 16,\n",
              "             ('want', 'more'): 3,\n",
              "             ('drive', 'slow'): 2,\n",
              "             ('express', 'mail'): 6,\n",
              "             ('private', 'school'): 2,\n",
              "             ('spell', 'word'): 13,\n",
              "             ('confer', 'provide'): 2,\n",
              "             ('half', 'whole'): 15,\n",
              "             ('wear', 'clothes'): 41,\n",
              "             ('hall', 'school'): 6,\n",
              "             ('true', 'false'): 40,\n",
              "             ('supply', 'give'): 9,\n",
              "             ('raise', 'up'): 9,\n",
              "             ('likely', 'will'): 1,\n",
              "             ('up', 'down'): 56,\n",
              "             ('from', 'to'): 25,\n",
              "             ('school', 'education'): 9,\n",
              "             ('place', 'where'): 3,\n",
              "             ('enjoy', 'like'): 23,\n",
              "             ('bring', 'give'): 3,\n",
              "             ('sing', 'song'): 38,\n",
              "             ('again', 'more'): 3,\n",
              "             ('wind', 'water'): 2,\n",
              "             ('likely', 'perhaps'): 3,\n",
              "             ('continue', 'goon'): 10,\n",
              "             ('pressure', 'peer'): 1,\n",
              "             ('rather', 'instead'): 10,\n",
              "             ('child', 'parent'): 6,\n",
              "             ('invest', 'earn'): 1,\n",
              "             ('really', 'totally'): 2,\n",
              "             ('debate', 'format'): 1,\n",
              "             ('wait', 'continue'): 1,\n",
              "             ('introduce', 'meet'): 29,\n",
              "             ('unite', 'continue'): 1,\n",
              "             ('street', 'avenue'): 17,\n",
              "             ('keep', 'up'): 2,\n",
              "             ('first', 'watch'): 1,\n",
              "             ('team', 'sport'): 8,\n",
              "             ('baby', 'cakes'): 4,\n",
              "             ('fall', 'down'): 20,\n",
              "             ('depend', 'need'): 8,\n",
              "             ('business', 'work'): 11,\n",
              "             ('explain', 'clarify'): 4,\n",
              "             ('hate', 'black'): 1,\n",
              "             ('reckon', 'hillbilly'): 4,\n",
              "             ('resource', 'reaction'): 1,\n",
              "             ('danger', 'trouble'): 1,\n",
              "             ('kitchen', 'cupboard'): 3,\n",
              "             ('difference', 'similarity'): 3,\n",
              "             ('basis', 'basic'): 4,\n",
              "             ('around', 'near'): 9,\n",
              "             ('house', 'home'): 58,\n",
              "             ('clothe', 'bathe'): 6,\n",
              "             ('active', 'activity'): 1,\n",
              "             ('share', 'stock'): 5,\n",
              "             ('position', 'place'): 29,\n",
              "             ('fine', 'fee'): 1,\n",
              "             ('standard', 'normal'): 6,\n",
              "             ('record', 'video'): 2,\n",
              "             ('pick', 'axe'): 4,\n",
              "             ('slow', 'down'): 7,\n",
              "             ('office', 'work'): 31,\n",
              "             ('Christmas', 'joy'): 2,\n",
              "             ('read', 'knowledge'): 2,\n",
              "             ('sudden', 'abrupt'): 8,\n",
              "             ('bar', 'drink'): 14,\n",
              "             ('indeed', 'absolutely'): 4,\n",
              "             ('serve', 'obey'): 2,\n",
              "             ('war', 'angst'): 1,\n",
              "             ('work', 'drudgery'): 1,\n",
              "             ('serious', 'frown'): 3,\n",
              "             ('flat', 'boring'): 1,\n",
              "             ('divide', 'multiply'): 10,\n",
              "             ('court', 'spark'): 2,\n",
              "             ('manage', 'try'): 1,\n",
              "             ('stand', 'music'): 3,\n",
              "             ('condition', 'shampoo'): 4,\n",
              "             ('throw', 'toss'): 26,\n",
              "             ('print', 'printer'): 5,\n",
              "             ('college', 'university'): 28,\n",
              "             ('receive', 'give'): 28,\n",
              "             ('almost', 'close'): 7,\n",
              "             ('suppose', 'think'): 13,\n",
              "             ('she', 'her'): 26,\n",
              "             ('measure', 'weigh'): 4,\n",
              "             ('within', 'without'): 26,\n",
              "             ('safe', 'dark'): 1,\n",
              "             ('quiet', 'still'): 6,\n",
              "             ('exist', 'extinct'): 1,\n",
              "             ('commit', 'morals'): 1,\n",
              "             ('scheme', 'program'): 2,\n",
              "             ('write', 'create'): 1,\n",
              "             ('already', 'wait'): 1,\n",
              "             ('Friday', 'fashion'): 1,\n",
              "             ('converse', 'basketball'): 1,\n",
              "             ('complete', 'finish'): 23,\n",
              "             ('hell', 'fake'): 1,\n",
              "             ('dry', 'arid'): 19,\n",
              "             ('field', 'plain'): 1,\n",
              "             ('district', 'area'): 33,\n",
              "             ('except', 'unless'): 5,\n",
              "             ('laugh', 'cry'): 12,\n",
              "             ('unit', 'segment'): 1,\n",
              "             ('about', 'related'): 1,\n",
              "             ('area', 'geometry'): 1,\n",
              "             ('learn', 'teach'): 22,\n",
              "             ('rate', 'judge'): 3,\n",
              "             ('brilliant', 'excellent'): 2,\n",
              "             ('finish', 'complete'): 7,\n",
              "             ('so', 'what'): 28,\n",
              "             ('educate', 'learn'): 21,\n",
              "             ('walk', 'stroll'): 5,\n",
              "             ('choice', 'abortion'): 3,\n",
              "             ('agent', 'sales'): 1,\n",
              "             ('final', 'end'): 24,\n",
              "             ('green', 'organic'): 1,\n",
              "             ('between', 'stuck'): 1,\n",
              "             ('case', 'closure'): 1,\n",
              "             ('brother', 'sibling'): 15,\n",
              "             ('horse', 'rider'): 3,\n",
              "             ('little', 'big'): 15,\n",
              "             ('minute', 'second'): 19,\n",
              "             ('mean', 'nasty'): 14,\n",
              "             ('good', 'lovely'): 1,\n",
              "             ('soon', 'next'): 2,\n",
              "             ('bother', 'trouble'): 11,\n",
              "             ('employ', 'job'): 22,\n",
              "             ('hair', 'head'): 7,\n",
              "             ('mark', 'grade'): 2,\n",
              "             ('equal', 'fair'): 2,\n",
              "             ('to', 'going'): 2,\n",
              "             ('we', 'us'): 52,\n",
              "             ('though', 'although'): 12,\n",
              "             ('social', 'gregarious'): 4,\n",
              "             ('need', 'necessary'): 1,\n",
              "             ('protect', 'shelter'): 4,\n",
              "             ('night', 'evening'): 12,\n",
              "             ('table', 'breakfast'): 1,\n",
              "             ('late', 'punctual'): 1,\n",
              "             ('match', 'connection'): 1,\n",
              "             ('link', 'connection'): 9,\n",
              "             ('hang', 'up'): 6,\n",
              "             ('afternoon', 'midday'): 1,\n",
              "             ('protect', 'fight'): 1,\n",
              "             ('luck', 'lottery'): 1,\n",
              "             ...})"
            ]
          },
          "execution_count": 115,
          "metadata": {},
          "output_type": "execute_result"
        }
      ],
      "source": [
        "Output"
      ]
    },
    {
      "cell_type": "code",
      "execution_count": null,
      "metadata": {
        "colab": {
          "base_uri": "https://localhost:8080/"
        },
        "id": "UgMCU_YDPPbw",
        "outputId": "8a60e376-9978-4b5c-c130-175370d04d87"
      },
      "outputs": [
        {
          "data": {
            "text/plain": [
              "1060109"
            ]
          },
          "execution_count": 101,
          "metadata": {},
          "output_type": "execute_result"
        }
      ],
      "source": [
        "#Verificando que las frecuencias sumadas de las parejas dé el total de elementos de la lista\n",
        "sum =0 \n",
        "for key, value in Output.items():\n",
        "\tsum = sum + value\n",
        "\n",
        "sum"
      ]
    },
    {
      "cell_type": "code",
      "execution_count": null,
      "metadata": {
        "colab": {
          "base_uri": "https://localhost:8080/"
        },
        "id": "LgkGf68QBTKr",
        "outputId": "38e53154-2e7d-46d8-f5cc-f15e9c8b23c6"
      },
      "outputs": [
        {
          "data": {
            "text/plain": [
              "254309"
            ]
          },
          "execution_count": 128,
          "metadata": {},
          "output_type": "execute_result"
        }
      ],
      "source": [
        "# parejas con frecuencia igual a 1\n",
        "unicas = [s for s in Output.values() if s == 1]\n",
        "len(unicas)"
      ]
    },
    {
      "cell_type": "code",
      "execution_count": null,
      "metadata": {
        "colab": {
          "base_uri": "https://localhost:8080/",
          "height": 393
        },
        "id": "3wjfzqYb-tJg",
        "outputId": "4a9b585f-3400-4956-e98c-f7a0cd37d63a"
      },
      "outputs": [
        {
          "data": {
            "image/png": "[encoded data removed]",
            "text/plain": [
              "<Figure size 576x432 with 1 Axes>"
            ]
          },
          "metadata": {},
          "output_type": "display_data"
        }
      ],
      "source": [
        "n,bins,patch = plt.hist(list(Output.values()), bins=100)"
      ]
    },
    {
      "cell_type": "code",
      "execution_count": null,
      "metadata": {
        "colab": {
          "base_uri": "https://localhost:8080/"
        },
        "id": "fEobcwBJCvvp",
        "outputId": "993efddb-9f16-4180-cb62-f438ac295abf"
      },
      "outputs": [
        {
          "data": {
            "text/plain": [
              "(1, 93, 1.0, 2.7477061604495407)"
            ]
          },
          "execution_count": 133,
          "metadata": {},
          "output_type": "execute_result"
        }
      ],
      "source": [
        "min(Output.values()), max(Output.values()),statistics.median(Output.values()),statistics.mean(Output.values())"
      ]
    },
    {
      "cell_type": "code",
      "source": [
        ""
      ],
      "metadata": {
        "id": "AVMpKDyyNOeC"
      },
      "execution_count": null,
      "outputs": []
    },
    {
      "cell_type": "markdown",
      "metadata": {
        "id": "v9wl3sR-DbyM"
      },
      "source": [
        "Con filtrar las que aparecen una sola vez, ya filtro mas de la mitad de los datos (~66%)"
      ]
    },
    {
      "cell_type": "code",
      "execution_count": 252,
      "metadata": {
        "colab": {
          "base_uri": "https://localhost:8080/"
        },
        "id": "W4nUgatmEi0W",
        "outputId": "f0921a00-1f1f-46f7-920f-bdcaa58b8ab2"
      },
      "outputs": [
        {
          "output_type": "execute_result",
          "data": {
            "text/plain": [
              "131507"
            ]
          },
          "metadata": {},
          "execution_count": 252
        }
      ],
      "source": [
        "output_short = dict(filter(lambda val: val[1]>1, Output.items())) #filtrando con frecuencia >1\n",
        "len(output_short)"
      ]
    },
    {
      "cell_type": "code",
      "source": [
        "#b = [0 for a in range(3)]\n",
        "#c = np.zeros(shape=(1,4))\n",
        "#output_short_frecs = np.zeros(shape=(len(output_short),4))\n",
        "\n",
        "#for k in range(len(output_short)):\n",
        "#  b = np.hstack((np.array(out_short_arr[k][0]),out_short_arr[k][1])) #vuelvo out_short[k] un array (era un diccionario)\n",
        "#  for i in range(len(new_df)):\n",
        "#    if b[0] == new_df.iloc[i][0]:   # busco donde coincide la cue del array con la de la tabla de frecuencias\n",
        "#      c = np.hstack((b,np.array(new_df.iloc[i][1]))) # agrego la frecuencia de la cue\n",
        "#  np.append(output_short_frecs,c)\n",
        "\n"
      ],
      "metadata": {
        "id": "pBA0Dwh0fgbF"
      },
      "execution_count": null,
      "outputs": []
    },
    {
      "cell_type": "code",
      "source": [
        "#data_short = np.zeros(shape=(len(out_short_arr),2))\n",
        "\n",
        "#for i in range(len(out_short_arr)):\n",
        "#  np.append(data_short,np.array(out_short_arr[i][0]))\n"
      ],
      "metadata": {
        "id": "ljzX8F7Zxl49"
      },
      "execution_count": null,
      "outputs": []
    },
    {
      "cell_type": "code",
      "source": [
        "# Convertiendo de nuevo a array\n",
        "short_data1 = []\n",
        "short_data2 = []\n",
        "\n",
        "for i in range(len(out_short_arr)):\n",
        "  short_data1.append(out_short_arr[i][0][0])\n",
        "  short_data2.append(out_short_arr[i][0][1])\n",
        "\n",
        "aux1 = pd.DataFrame(short_data1, columns = ['cue'])\n",
        "aux2 = pd.DataFrame(short_data2, columns = ['R1'])\n",
        "\n",
        "data_cl_sh = pd.concat([aux1, aux2], join = 'outer', axis = 1)\n",
        "data_cl_sh.head(10)"
      ],
      "metadata": {
        "colab": {
          "base_uri": "https://localhost:8080/",
          "height": 363
        },
        "id": "NO2gCie36EGJ",
        "outputId": "76ff5bdc-1eb4-4219-c5ed-26686d3bbc07"
      },
      "execution_count": 286,
      "outputs": [
        {
          "output_type": "execute_result",
          "data": {
            "text/html": [
              "<div>\n",
              "<style scoped>\n",
              "    .dataframe tbody tr th:only-of-type {\n",
              "        vertical-align: middle;\n",
              "    }\n",
              "\n",
              "    .dataframe tbody tr th {\n",
              "        vertical-align: top;\n",
              "    }\n",
              "\n",
              "    .dataframe thead th {\n",
              "        text-align: right;\n",
              "    }\n",
              "</style>\n",
              "<table border=\"1\" class=\"dataframe\">\n",
              "  <thead>\n",
              "    <tr style=\"text-align: right;\">\n",
              "      <th></th>\n",
              "      <th>cue</th>\n",
              "      <th>R1</th>\n",
              "    </tr>\n",
              "  </thead>\n",
              "  <tbody>\n",
              "    <tr>\n",
              "      <th>0</th>\n",
              "      <td>deal</td>\n",
              "      <td>no</td>\n",
              "    </tr>\n",
              "    <tr>\n",
              "      <th>1</th>\n",
              "      <td>music</td>\n",
              "      <td>notes</td>\n",
              "    </tr>\n",
              "    <tr>\n",
              "      <th>2</th>\n",
              "      <td>inform</td>\n",
              "      <td>tell</td>\n",
              "    </tr>\n",
              "    <tr>\n",
              "      <th>3</th>\n",
              "      <td>way</td>\n",
              "      <td>path</td>\n",
              "    </tr>\n",
              "    <tr>\n",
              "      <th>4</th>\n",
              "      <td>extra</td>\n",
              "      <td>plus</td>\n",
              "    </tr>\n",
              "    <tr>\n",
              "      <th>5</th>\n",
              "      <td>will</td>\n",
              "      <td>free</td>\n",
              "    </tr>\n",
              "    <tr>\n",
              "      <th>6</th>\n",
              "      <td>paper</td>\n",
              "      <td>book</td>\n",
              "    </tr>\n",
              "    <tr>\n",
              "      <th>7</th>\n",
              "      <td>concern</td>\n",
              "      <td>worry</td>\n",
              "    </tr>\n",
              "    <tr>\n",
              "      <th>8</th>\n",
              "      <td>town</td>\n",
              "      <td>village</td>\n",
              "    </tr>\n",
              "    <tr>\n",
              "      <th>9</th>\n",
              "      <td>couple</td>\n",
              "      <td>few</td>\n",
              "    </tr>\n",
              "  </tbody>\n",
              "</table>\n",
              "</div>"
            ],
            "text/plain": [
              "       cue       R1\n",
              "0     deal       no\n",
              "1    music    notes\n",
              "2   inform     tell\n",
              "3      way     path\n",
              "4    extra     plus\n",
              "5     will     free\n",
              "6    paper     book\n",
              "7  concern    worry\n",
              "8     town  village\n",
              "9   couple      few"
            ]
          },
          "metadata": {},
          "execution_count": 286
        }
      ]
    },
    {
      "cell_type": "code",
      "source": [
        "data_cl_sh.shape[0], data_cl_sh.shape[1]"
      ],
      "metadata": {
        "colab": {
          "base_uri": "https://localhost:8080/"
        },
        "id": "QIuTJiyf7mLG",
        "outputId": "6b1c7548-055b-4d51-a66b-ac9f016e89f3"
      },
      "execution_count": 287,
      "outputs": [
        {
          "output_type": "execute_result",
          "data": {
            "text/plain": [
              "(131507, 2)"
            ]
          },
          "metadata": {},
          "execution_count": 287
        }
      ]
    },
    {
      "cell_type": "code",
      "execution_count": null,
      "metadata": {
        "id": "VFXC-wqlN14n"
      },
      "outputs": [],
      "source": [
        "w2v_model2 = KeyedVectors.load_word2vec_format('./GoogleNews-vectors-negative300.bin.gz', binary=True)"
      ]
    },
    {
      "cell_type": "code",
      "execution_count": null,
      "metadata": {
        "id": "pweqSaO3Neva"
      },
      "outputs": [],
      "source": [
        "# Armo una matriz de distancias\n",
        "distancias_pre=np.zeros((len(lista_palabras),len(lista_palabras))) #matriz cuadrada\n",
        "for i,ti in enumerate(lista_palabras):\n",
        "  for j,tj in enumerate(lista_palabras):\n",
        "    distancias_pre[i,j] = abs(1-w2v_model2.similarity(ti,tj))\n",
        "print (distancias_pre.shape)\n",
        "plt.imshow(distancias_pre)"
      ]
    },
    {
      "cell_type": "code",
      "execution_count": null,
      "metadata": {
        "colab": {
          "base_uri": "https://localhost:8080/"
        },
        "id": "jKSbnQNM2sFk",
        "outputId": "4ed37276-cb5d-4d50-db29-6896f63e108f"
      },
      "outputs": [
        {
          "name": "stdout",
          "output_type": "stream",
          "text": [
            "Calculating best minimal value for power law fit\n"
          ]
        },
        {
          "data": {
            "text/plain": [
              "(4.929133857326881, 0.10396201876262783)"
            ]
          },
          "execution_count": 109,
          "metadata": {},
          "output_type": "execute_result"
        }
      ],
      "source": [
        "results = powerlaw.Fit(new_df['Frequency'])\n",
        "results.power_law.alpha\n",
        "results.power_law.sigma\n",
        "results.distribution_compare('power_law', 'exponential')"
      ]
    },
    {
      "cell_type": "code",
      "execution_count": null,
      "metadata": {
        "colab": {
          "base_uri": "https://localhost:8080/",
          "height": 302
        },
        "id": "hOE0yXqYZ0z_",
        "outputId": "6e14478f-4a0a-4d51-c06b-abe967205bd3"
      },
      "outputs": [
        {
          "data": {
            "text/plain": [
              "Text(0.5, 0, 'Cue Frequency')"
            ]
          },
          "execution_count": 113,
          "metadata": {},
          "output_type": "execute_result"
        },
        {
          "data": {
            "image/png": "[encoded data removed]",
            "text/plain": [
              "<Figure size 432x288 with 1 Axes>"
            ]
          },
          "metadata": {},
          "output_type": "display_data"
        }
      ],
      "source": [
        "figPDF = results.plot_pdf(color='r', linewidth=2)\n",
        "results.power_law.plot_pdf(color='r', linestyle='--', ax=figPDF)\n",
        "\n",
        "####\n",
        "figPDF.set_ylabel(u\"p(X)\")\n",
        "figPDF.set_xlabel(r\"Cue Frequency\")"
      ]
    },
    {
      "cell_type": "code",
      "execution_count": null,
      "metadata": {
        "colab": {
          "base_uri": "https://localhost:8080/"
        },
        "id": "jbi1e4wT5ehl",
        "outputId": "bb8bbe7c-7779-4403-8c04-eac8bb3441da"
      },
      "outputs": [
        {
          "name": "stdout",
          "output_type": "stream",
          "text": [
            "Calculating best minimal value for power law fit\n"
          ]
        },
        {
          "data": {
            "text/plain": [
              "(5.437302213168326, 0.33576215594667147)"
            ]
          },
          "execution_count": 112,
          "metadata": {},
          "output_type": "execute_result"
        }
      ],
      "source": [
        "results_R1 = powerlaw.Fit(new_df_R1['Frequency'])\n",
        "results_R1.power_law.alpha\n",
        "results_R1.power_law.sigma\n",
        "results_R1.distribution_compare('power_law', 'exponential')"
      ]
    },
    {
      "cell_type": "code",
      "execution_count": null,
      "metadata": {
        "colab": {
          "base_uri": "https://localhost:8080/",
          "height": 300
        },
        "id": "jcIS-tEb5oon",
        "outputId": "a0cfadd1-21a1-43f8-f130-e34e57456100"
      },
      "outputs": [
        {
          "data": {
            "text/plain": [
              "Text(0.5, 0, 'R1 Frequency')"
            ]
          },
          "execution_count": 114,
          "metadata": {},
          "output_type": "execute_result"
        },
        {
          "data": {
            "image/png": "[encoded data removed]",
            "text/plain": [
              "<Figure size 432x288 with 1 Axes>"
            ]
          },
          "metadata": {},
          "output_type": "display_data"
        }
      ],
      "source": [
        "figPDF = results_R1.plot_pdf(color='b', linewidth=2)\n",
        "results_R1.power_law.plot_pdf(color='b', linestyle='--', ax=figPDF)\n",
        "\n",
        "####\n",
        "figPDF.set_ylabel(u\"p(X)\")\n",
        "figPDF.set_xlabel(r\"R1 Frequency\")"
      ]
    }
  ],
  "metadata": {
    "colab": {
      "name": "smallworldofwords.ipynb",
      "provenance": [],
      "authorship_tag": "ABX9TyNmiPJPCQX4cJmtqSm4wprS",
      "include_colab_link": true
    },
    "kernelspec": {
      "display_name": "Python 3",
      "name": "python3"
    },
    "language_info": {
      "name": "python"
    }
  },
  "nbformat": 4,
  "nbformat_minor": 0
}