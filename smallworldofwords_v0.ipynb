{
  "cells": [
    {
      "cell_type": "markdown",
      "metadata": {
        "id": "view-in-github",
        "colab_type": "text"
      },
      "source": [
        "<a href=\"https://colab.research.google.com/github/caroldaza/DM_CyT/blob/main/smallworldofwords_v0.ipynb\" target=\"_parent\"><img src=\"https://colab.research.google.com/assets/colab-badge.svg\" alt=\"Open In Colab\"/></a>"
      ]
    },
    {
      "cell_type": "code",
      "execution_count": 5,
      "metadata": {
        "colab": {
          "base_uri": "https://localhost:8080/"
        },
        "id": "wVD57AEt99dT",
        "outputId": "e9ddbfea-4e28-4ce0-fa06-e51cd4429245"
      },
      "outputs": [
        {
          "output_type": "stream",
          "name": "stdout",
          "text": [
            "Mounted at /content/drive\n"
          ]
        }
      ],
      "source": [
        "from google.colab import drive\n",
        "drive.mount('/content/drive')"
      ]
    },
    {
      "cell_type": "code",
      "execution_count": 9,
      "metadata": {
        "id": "B6nE0fEU-VcN"
      },
      "outputs": [],
      "source": [
        "import sys\n",
        "sys.path.append('/content/drive/MyDrive/')"
      ]
    },
    {
      "cell_type": "code",
      "execution_count": null,
      "metadata": {
        "id": "QKAeAB7L_WZL"
      },
      "outputs": [],
      "source": [
        "import time\n",
        "import matplotlib.pyplot as plt\n",
        "import matplotlib as mpl\n",
        "import seaborn as sns\n",
        "sns.set_context('poster')\n",
        "mpl.rcParams['figure.figsize'] = (8,6)\n",
        "\n",
        "import numpy as np\n",
        "import pandas as pd   \n",
        "\n",
        "!pip install networkx powerlaw community\n",
        "\n",
        "import networkx as nx\n",
        "import community\n",
        "import powerlaw\n",
        "from gensim import corpora, models, similarities, matutils\n",
        "from gensim.models.word2vec import Word2Vec\n",
        "from gensim.models import KeyedVectors\n",
        "\n",
        "from sklearn.metrics import adjusted_rand_score"
      ]
    },
    {
      "cell_type": "code",
      "execution_count": 10,
      "metadata": {
        "colab": {
          "base_uri": "https://localhost:8080/",
          "height": 206
        },
        "id": "K0ipWKJ0_zFx",
        "outputId": "46454a32-8938-482c-e6ee-ca431d62a1f3"
      },
      "outputs": [
        {
          "output_type": "execute_result",
          "data": {
            "text/html": [
              "<div>\n",
              "<style scoped>\n",
              "    .dataframe tbody tr th:only-of-type {\n",
              "        vertical-align: middle;\n",
              "    }\n",
              "\n",
              "    .dataframe tbody tr th {\n",
              "        vertical-align: top;\n",
              "    }\n",
              "\n",
              "    .dataframe thead th {\n",
              "        text-align: right;\n",
              "    }\n",
              "</style>\n",
              "<table border=\"1\" class=\"dataframe\">\n",
              "  <thead>\n",
              "    <tr style=\"text-align: right;\">\n",
              "      <th></th>\n",
              "      <th>Unnamed: 0</th>\n",
              "      <th>id</th>\n",
              "      <th>participantID</th>\n",
              "      <th>age</th>\n",
              "      <th>gender</th>\n",
              "      <th>nativeLanguage</th>\n",
              "      <th>country</th>\n",
              "      <th>education</th>\n",
              "      <th>created_at</th>\n",
              "      <th>cue</th>\n",
              "      <th>R1</th>\n",
              "      <th>R2</th>\n",
              "      <th>R3</th>\n",
              "    </tr>\n",
              "  </thead>\n",
              "  <tbody>\n",
              "    <tr>\n",
              "      <th>0</th>\n",
              "      <td>1</td>\n",
              "      <td>29</td>\n",
              "      <td>3</td>\n",
              "      <td>33</td>\n",
              "      <td>Fe</td>\n",
              "      <td>United States</td>\n",
              "      <td>Australia</td>\n",
              "      <td>NaN</td>\n",
              "      <td>2011-08-12 02:19:38</td>\n",
              "      <td>although</td>\n",
              "      <td>nevertheless</td>\n",
              "      <td>yet</td>\n",
              "      <td>but</td>\n",
              "    </tr>\n",
              "    <tr>\n",
              "      <th>1</th>\n",
              "      <td>2</td>\n",
              "      <td>30</td>\n",
              "      <td>3</td>\n",
              "      <td>33</td>\n",
              "      <td>Fe</td>\n",
              "      <td>United States</td>\n",
              "      <td>Australia</td>\n",
              "      <td>NaN</td>\n",
              "      <td>2011-08-12 02:19:38</td>\n",
              "      <td>deal</td>\n",
              "      <td>no</td>\n",
              "      <td>cards</td>\n",
              "      <td>shake</td>\n",
              "    </tr>\n",
              "    <tr>\n",
              "      <th>2</th>\n",
              "      <td>3</td>\n",
              "      <td>31</td>\n",
              "      <td>3</td>\n",
              "      <td>33</td>\n",
              "      <td>Fe</td>\n",
              "      <td>United States</td>\n",
              "      <td>Australia</td>\n",
              "      <td>NaN</td>\n",
              "      <td>2011-08-12 02:19:38</td>\n",
              "      <td>music</td>\n",
              "      <td>notes</td>\n",
              "      <td>band</td>\n",
              "      <td>rhythm</td>\n",
              "    </tr>\n",
              "    <tr>\n",
              "      <th>3</th>\n",
              "      <td>4</td>\n",
              "      <td>32</td>\n",
              "      <td>3</td>\n",
              "      <td>33</td>\n",
              "      <td>Fe</td>\n",
              "      <td>United States</td>\n",
              "      <td>Australia</td>\n",
              "      <td>NaN</td>\n",
              "      <td>2011-08-12 02:19:38</td>\n",
              "      <td>inform</td>\n",
              "      <td>tell</td>\n",
              "      <td>rat on</td>\n",
              "      <td>NaN</td>\n",
              "    </tr>\n",
              "    <tr>\n",
              "      <th>4</th>\n",
              "      <td>5</td>\n",
              "      <td>33</td>\n",
              "      <td>3</td>\n",
              "      <td>33</td>\n",
              "      <td>Fe</td>\n",
              "      <td>United States</td>\n",
              "      <td>Australia</td>\n",
              "      <td>NaN</td>\n",
              "      <td>2011-08-12 02:19:38</td>\n",
              "      <td>way</td>\n",
              "      <td>path</td>\n",
              "      <td>via</td>\n",
              "      <td>method</td>\n",
              "    </tr>\n",
              "  </tbody>\n",
              "</table>\n",
              "</div>"
            ],
            "text/plain": [
              "   Unnamed: 0  id  participantID  age  ...       cue            R1      R2      R3\n",
              "0           1  29              3   33  ...  although  nevertheless     yet     but\n",
              "1           2  30              3   33  ...      deal            no   cards   shake\n",
              "2           3  31              3   33  ...     music         notes    band  rhythm\n",
              "3           4  32              3   33  ...    inform          tell  rat on     NaN\n",
              "4           5  33              3   33  ...       way          path     via  method\n",
              "\n",
              "[5 rows x 13 columns]"
            ]
          },
          "metadata": {},
          "execution_count": 10
        }
      ],
      "source": [
        "filename = '/content/drive/MyDrive/SWOW-EN.R100.csv.zip'\n",
        "datos = pd.read_csv(filename, sep=',')\n",
        "datos.head()"
      ]
    },
    {
      "cell_type": "code",
      "execution_count": 11,
      "metadata": {
        "colab": {
          "base_uri": "https://localhost:8080/",
          "height": 206
        },
        "id": "nOAgC5PR_ZA1",
        "outputId": "27edcdbb-0a0b-4180-9aea-60138ed5686b"
      },
      "outputs": [
        {
          "output_type": "execute_result",
          "data": {
            "text/html": [
              "<div>\n",
              "<style scoped>\n",
              "    .dataframe tbody tr th:only-of-type {\n",
              "        vertical-align: middle;\n",
              "    }\n",
              "\n",
              "    .dataframe tbody tr th {\n",
              "        vertical-align: top;\n",
              "    }\n",
              "\n",
              "    .dataframe thead th {\n",
              "        text-align: right;\n",
              "    }\n",
              "</style>\n",
              "<table border=\"1\" class=\"dataframe\">\n",
              "  <thead>\n",
              "    <tr style=\"text-align: right;\">\n",
              "      <th></th>\n",
              "      <th>cue</th>\n",
              "      <th>R1</th>\n",
              "    </tr>\n",
              "  </thead>\n",
              "  <tbody>\n",
              "    <tr>\n",
              "      <th>0</th>\n",
              "      <td>although</td>\n",
              "      <td>nevertheless</td>\n",
              "    </tr>\n",
              "    <tr>\n",
              "      <th>1</th>\n",
              "      <td>deal</td>\n",
              "      <td>no</td>\n",
              "    </tr>\n",
              "    <tr>\n",
              "      <th>2</th>\n",
              "      <td>music</td>\n",
              "      <td>notes</td>\n",
              "    </tr>\n",
              "    <tr>\n",
              "      <th>3</th>\n",
              "      <td>inform</td>\n",
              "      <td>tell</td>\n",
              "    </tr>\n",
              "    <tr>\n",
              "      <th>4</th>\n",
              "      <td>way</td>\n",
              "      <td>path</td>\n",
              "    </tr>\n",
              "  </tbody>\n",
              "</table>\n",
              "</div>"
            ],
            "text/plain": [
              "        cue            R1\n",
              "0  although  nevertheless\n",
              "1      deal            no\n",
              "2     music         notes\n",
              "3    inform          tell\n",
              "4       way          path"
            ]
          },
          "metadata": {},
          "execution_count": 11
        }
      ],
      "source": [
        "# Nos quedamos solo con la cue y la primera palabra. Tambien botamos Nans\n",
        "data = datos.loc[:,['cue','R1']]\n",
        "data = data.dropna(how='any')\n",
        "\n",
        "# Sacar palabras de una letra\n",
        "data.drop(data[data['cue'].str.len().lt(2)].index, inplace=True)\n",
        "data.drop(data[data['R1'].str.len().lt(2)].index, inplace=True)\n",
        "\n",
        "data.head()"
      ]
    },
    {
      "cell_type": "code",
      "execution_count": 12,
      "metadata": {
        "colab": {
          "base_uri": "https://localhost:8080/"
        },
        "id": "Xcc68n59RkwS",
        "outputId": "fa1aff9b-c670-47a3-b1a8-6112627f5b9c"
      },
      "outputs": [
        {
          "output_type": "execute_result",
          "data": {
            "text/plain": [
              "1194119"
            ]
          },
          "metadata": {},
          "execution_count": 12
        }
      ],
      "source": [
        "data.shape[0]"
      ]
    },
    {
      "cell_type": "code",
      "execution_count": 13,
      "metadata": {
        "colab": {
          "base_uri": "https://localhost:8080/"
        },
        "id": "Eqfj1GNCXR9D",
        "outputId": "214ad0aa-aec1-419f-fe87-c9c4472e9545"
      },
      "outputs": [
        {
          "output_type": "stream",
          "name": "stdout",
          "text": [
            "(12258,)\n",
            "(64663,)\n"
          ]
        }
      ],
      "source": [
        "# ¿Cuántas claves y respuestas son únicas?\n",
        "print(data['cue'].unique().shape)\n",
        "print(data['R1'].unique().shape)"
      ]
    },
    {
      "cell_type": "code",
      "execution_count": 14,
      "metadata": {
        "colab": {
          "base_uri": "https://localhost:8080/"
        },
        "id": "BWVqQSOG5-5d",
        "outputId": "54bf4dd9-62ad-4dfd-85b0-c87b07e15f4c"
      },
      "outputs": [
        {
          "output_type": "stream",
          "name": "stdout",
          "text": [
            "1067977\n",
            "1185365\n"
          ]
        }
      ],
      "source": [
        "# ¿cuántas palabras de R1 están en Cue? ¿alrevés?\n",
        "print(sum(data['R1'].isin(data['cue'].unique())))\n",
        "print(sum(data['cue'].isin(data['R1'].unique())))"
      ]
    },
    {
      "cell_type": "code",
      "execution_count": 15,
      "metadata": {
        "id": "4bL0BAER6ONo"
      },
      "outputs": [],
      "source": [
        "# Sacar palabras que no este en cue Y en R1\n",
        "data.drop(data[data['R1'].isin(data['cue'].unique())==False].index, inplace=True)\n",
        "data.drop(data[data['cue'].isin(data['R1'].unique())==False].index, inplace=True)"
      ]
    },
    {
      "cell_type": "code",
      "execution_count": 16,
      "metadata": {
        "colab": {
          "base_uri": "https://localhost:8080/"
        },
        "id": "q6tgD1sAGA5r",
        "outputId": "71a0cb56-e527-41e1-ebb0-b82d939e7c2a"
      },
      "outputs": [
        {
          "output_type": "execute_result",
          "data": {
            "text/plain": [
              "1060109"
            ]
          },
          "metadata": {},
          "execution_count": 16
        }
      ],
      "source": [
        "data.shape[0]"
      ]
    },
    {
      "cell_type": "code",
      "execution_count": 17,
      "metadata": {
        "id": "HLqWXq2FQ3_N"
      },
      "outputs": [],
      "source": [
        "# la frecuencia de cada cue\n",
        "new_df = data['cue'].str.split(expand=True).stack().value_counts().reset_index()\n",
        "new_df.columns = ['Word', 'Frequency'] "
      ]
    },
    {
      "cell_type": "code",
      "execution_count": 18,
      "metadata": {
        "colab": {
          "base_uri": "https://localhost:8080/",
          "height": 424
        },
        "id": "TJGHnJ-xRLG1",
        "outputId": "ecaa85be-d7f7-49d8-f6f3-245c592dbed9"
      },
      "outputs": [
        {
          "output_type": "execute_result",
          "data": {
            "text/html": [
              "<div>\n",
              "<style scoped>\n",
              "    .dataframe tbody tr th:only-of-type {\n",
              "        vertical-align: middle;\n",
              "    }\n",
              "\n",
              "    .dataframe tbody tr th {\n",
              "        vertical-align: top;\n",
              "    }\n",
              "\n",
              "    .dataframe thead th {\n",
              "        text-align: right;\n",
              "    }\n",
              "</style>\n",
              "<table border=\"1\" class=\"dataframe\">\n",
              "  <thead>\n",
              "    <tr style=\"text-align: right;\">\n",
              "      <th></th>\n",
              "      <th>Word</th>\n",
              "      <th>Frequency</th>\n",
              "    </tr>\n",
              "  </thead>\n",
              "  <tbody>\n",
              "    <tr>\n",
              "      <th>0</th>\n",
              "      <td>up</td>\n",
              "      <td>2021</td>\n",
              "    </tr>\n",
              "    <tr>\n",
              "      <th>1</th>\n",
              "      <td>not</td>\n",
              "      <td>1167</td>\n",
              "    </tr>\n",
              "    <tr>\n",
              "      <th>2</th>\n",
              "      <td>out</td>\n",
              "      <td>1061</td>\n",
              "    </tr>\n",
              "    <tr>\n",
              "      <th>3</th>\n",
              "      <td>on</td>\n",
              "      <td>961</td>\n",
              "    </tr>\n",
              "    <tr>\n",
              "      <th>4</th>\n",
              "      <td>down</td>\n",
              "      <td>830</td>\n",
              "    </tr>\n",
              "    <tr>\n",
              "      <th>...</th>\n",
              "      <td>...</td>\n",
              "      <td>...</td>\n",
              "    </tr>\n",
              "    <tr>\n",
              "      <th>11868</th>\n",
              "      <td>ping</td>\n",
              "      <td>33</td>\n",
              "    </tr>\n",
              "    <tr>\n",
              "      <th>11869</th>\n",
              "      <td>Homer</td>\n",
              "      <td>29</td>\n",
              "    </tr>\n",
              "    <tr>\n",
              "      <th>11870</th>\n",
              "      <td>adrenal</td>\n",
              "      <td>26</td>\n",
              "    </tr>\n",
              "    <tr>\n",
              "      <th>11871</th>\n",
              "      <td>Sherlock</td>\n",
              "      <td>23</td>\n",
              "    </tr>\n",
              "    <tr>\n",
              "      <th>11872</th>\n",
              "      <td>pituitary</td>\n",
              "      <td>9</td>\n",
              "    </tr>\n",
              "  </tbody>\n",
              "</table>\n",
              "<p>11873 rows × 2 columns</p>\n",
              "</div>"
            ],
            "text/plain": [
              "            Word  Frequency\n",
              "0             up       2021\n",
              "1            not       1167\n",
              "2            out       1061\n",
              "3             on        961\n",
              "4           down        830\n",
              "...          ...        ...\n",
              "11868       ping         33\n",
              "11869      Homer         29\n",
              "11870    adrenal         26\n",
              "11871   Sherlock         23\n",
              "11872  pituitary          9\n",
              "\n",
              "[11873 rows x 2 columns]"
            ]
          },
          "metadata": {},
          "execution_count": 18
        }
      ],
      "source": [
        "new_df"
      ]
    },
    {
      "cell_type": "code",
      "execution_count": 19,
      "metadata": {
        "colab": {
          "base_uri": "https://localhost:8080/",
          "height": 410
        },
        "id": "8t8X86pNnQBi",
        "outputId": "e25e98ba-e417-4eb7-bc62-c3ef53649648"
      },
      "outputs": [
        {
          "output_type": "execute_result",
          "data": {
            "text/plain": [
              "[<matplotlib.lines.Line2D at 0x7fce40c2a150>]"
            ]
          },
          "metadata": {},
          "execution_count": 19
        },
        {
          "output_type": "display_data",
          "data": {
            "image/png": "[encoded data removed]",
            "text/plain": [
              "<Figure size 576x432 with 1 Axes>"
            ]
          },
          "metadata": {
            "needs_background": "light"
          }
        }
      ],
      "source": [
        "plt.plot(new_df['Frequency'],'ro')"
      ]
    },
    {
      "cell_type": "code",
      "execution_count": 21,
      "metadata": {
        "colab": {
          "base_uri": "https://localhost:8080/",
          "height": 438
        },
        "id": "fwz2QtAfiDvP",
        "outputId": "7be32a47-2f16-4951-a976-8ac0b97aa3d4"
      },
      "outputs": [
        {
          "output_type": "execute_result",
          "data": {
            "text/plain": [
              "Text(0, 0.5, 'frequency')"
            ]
          },
          "metadata": {},
          "execution_count": 21
        },
        {
          "output_type": "display_data",
          "data": {
            "image/png": "[encoded data removed]",
            "text/plain": [
              "<Figure size 576x432 with 1 Axes>"
            ]
          },
          "metadata": {
            "needs_background": "light"
          }
        }
      ],
      "source": [
        "#plt.loglog(np.linspace(1, len(new_df['Frequency']),len(new_df['Frequency'])),new_df['Frequency'].to_numpy())\n",
        "plt.yscale('log')\n",
        "plt.xscale('log')\n",
        "plt.plot(new_df['Frequency'],'ro')\n",
        "plt.xlabel(\"cue\",fontsize=20)\n",
        "plt.ylabel(\"frequency\",fontsize=20)"
      ]
    },
    {
      "cell_type": "code",
      "execution_count": 23,
      "metadata": {
        "id": "dAfhg2AUmxax"
      },
      "outputs": [],
      "source": [
        "# la frecuencia de cada R1\n",
        "new_df_R1 = data['R1'].str.split(expand=True).stack().value_counts().reset_index()\n",
        "new_df_R1.columns = ['Word', 'Frequency'] "
      ]
    },
    {
      "cell_type": "code",
      "execution_count": 24,
      "metadata": {
        "colab": {
          "base_uri": "https://localhost:8080/",
          "height": 410
        },
        "id": "ADIhHknhmquZ",
        "outputId": "3ce21910-c70e-4c4d-b62e-10369649b5eb"
      },
      "outputs": [
        {
          "output_type": "execute_result",
          "data": {
            "text/plain": [
              "[<matplotlib.lines.Line2D at 0x7fce454ba9d0>]"
            ]
          },
          "metadata": {},
          "execution_count": 24
        },
        {
          "output_type": "display_data",
          "data": {
            "image/png": "[encoded data removed]",
            "text/plain": [
              "<Figure size 576x432 with 1 Axes>"
            ]
          },
          "metadata": {
            "needs_background": "light"
          }
        }
      ],
      "source": [
        "plt.plot(new_df_R1['Frequency'],'bo')"
      ]
    },
    {
      "cell_type": "code",
      "execution_count": 26,
      "metadata": {
        "colab": {
          "base_uri": "https://localhost:8080/",
          "height": 438
        },
        "id": "L974eeRMmqIk",
        "outputId": "17e593d1-f469-4342-bba4-4d5542ab6691"
      },
      "outputs": [
        {
          "output_type": "execute_result",
          "data": {
            "text/plain": [
              "Text(0, 0.5, 'frequency')"
            ]
          },
          "metadata": {},
          "execution_count": 26
        },
        {
          "output_type": "display_data",
          "data": {
            "image/png": "[encoded data removed]",
            "text/plain": [
              "<Figure size 576x432 with 1 Axes>"
            ]
          },
          "metadata": {
            "needs_background": "light"
          }
        }
      ],
      "source": [
        "plt.yscale('log')\n",
        "plt.xscale('log')\n",
        "plt.plot(new_df_R1['Frequency'],'bo')\n",
        "plt.xlabel(\"R1\",fontsize=20)\n",
        "plt.ylabel(\"frequency\",fontsize=20)"
      ]
    },
    {
      "cell_type": "markdown",
      "source": [
        "# Comparando con las palabras de word2vec"
      ],
      "metadata": {
        "id": "40SsnKIrocGf"
      }
    },
    {
      "cell_type": "code",
      "source": [
        "# cargamos word2vec\n",
        "!wget https://s3.amazonaws.com/dl4j-distribution/GoogleNews-vectors-negative300.bin.gz\n",
        "\n",
        "w2v_model2 = KeyedVectors.load_word2vec_format('./GoogleNews-vectors-negative300.bin.gz', binary=True)"
      ],
      "metadata": {
        "id": "0c59ZYRuj5HX",
        "outputId": "645118d5-df8c-4742-8acc-5258757dd097",
        "colab": {
          "base_uri": "https://localhost:8080/"
        }
      },
      "execution_count": 27,
      "outputs": [
        {
          "output_type": "stream",
          "name": "stdout",
          "text": [
            "--2021-12-11 00:07:22--  https://s3.amazonaws.com/dl4j-distribution/GoogleNews-vectors-negative300.bin.gz\n",
            "Resolving s3.amazonaws.com (s3.amazonaws.com)... 52.217.86.254\n",
            "Connecting to s3.amazonaws.com (s3.amazonaws.com)|52.217.86.254|:443... connected.\n",
            "HTTP request sent, awaiting response... 200 OK\n",
            "Length: 1647046227 (1.5G) [application/x-gzip]\n",
            "Saving to: ‘GoogleNews-vectors-negative300.bin.gz’\n",
            "\n",
            "GoogleNews-vectors- 100%[===================>]   1.53G  40.0MB/s    in 34s     \n",
            "\n",
            "2021-12-11 00:07:57 (45.5 MB/s) - ‘GoogleNews-vectors-negative300.bin.gz’ saved [1647046227/1647046227]\n",
            "\n"
          ]
        }
      ]
    },
    {
      "cell_type": "code",
      "source": [
        "# sacar palabras que no esten en w2v\n",
        "l = [w for w in data['cue'] if w not in w2v_model2.vocab]\n",
        "data_f = data[-data['cue'].isin(l)]\n",
        "print(data_f.shape[0]) "
      ],
      "metadata": {
        "id": "264GQyeYXuB2",
        "outputId": "2a69bc52-a34b-4796-d7ce-a20675adcfb8",
        "colab": {
          "base_uri": "https://localhost:8080/"
        }
      },
      "execution_count": 37,
      "outputs": [
        {
          "output_type": "stream",
          "name": "stdout",
          "text": [
            "1025915\n"
          ]
        }
      ]
    },
    {
      "cell_type": "code",
      "source": [
        "l = [w for w in data_f['R1'] if w not in w2v_model2.vocab]\n",
        "data_f = data_f[-data_f['R1'].isin(l)]\n",
        "print(data_f.shape[0])"
      ],
      "metadata": {
        "id": "TMg7GLpIkAWW",
        "outputId": "b65f6eac-e11e-441a-a3c9-2979f85a89d1",
        "colab": {
          "base_uri": "https://localhost:8080/"
        }
      },
      "execution_count": 38,
      "outputs": [
        {
          "output_type": "stream",
          "name": "stdout",
          "text": [
            "1016391\n"
          ]
        }
      ]
    },
    {
      "cell_type": "code",
      "source": [
        "#sacando los duplicados\n",
        "data_f = data_f[data_f.duplicated()]\n",
        "print(data_f.shape[0])"
      ],
      "metadata": {
        "id": "qYPuRzJYkFlO",
        "outputId": "b209e8e7-1224-4591-b683-d9237fde7bd6",
        "colab": {
          "base_uri": "https://localhost:8080/"
        }
      },
      "execution_count": 39,
      "outputs": [
        {
          "output_type": "stream",
          "name": "stdout",
          "text": [
            "647788\n"
          ]
        }
      ]
    },
    {
      "cell_type": "markdown",
      "source": [
        "#Frecuencia de aparicion de pares"
      ],
      "metadata": {
        "id": "ucHhgqspoTpM"
      }
    },
    {
      "cell_type": "code",
      "source": [
        "# calculando frecuencia de aparicion de cada cue\n",
        "df1 = data_f.groupby(['cue']).size().to_frame(name='size').reset_index()\n",
        "df1_sorted = df1.sort_values(by=['size'],ascending=False).reset_index()\n",
        "df1_sorted.head(5)"
      ],
      "metadata": {
        "id": "yjp6889ulcMk",
        "outputId": "acf24291-76c0-4b42-9215-f71f1374eb7d",
        "colab": {
          "base_uri": "https://localhost:8080/",
          "height": 206
        }
      },
      "execution_count": 40,
      "outputs": [
        {
          "output_type": "execute_result",
          "data": {
            "text/html": [
              "<div>\n",
              "<style scoped>\n",
              "    .dataframe tbody tr th:only-of-type {\n",
              "        vertical-align: middle;\n",
              "    }\n",
              "\n",
              "    .dataframe tbody tr th {\n",
              "        vertical-align: top;\n",
              "    }\n",
              "\n",
              "    .dataframe thead th {\n",
              "        text-align: right;\n",
              "    }\n",
              "</style>\n",
              "<table border=\"1\" class=\"dataframe\">\n",
              "  <thead>\n",
              "    <tr style=\"text-align: right;\">\n",
              "      <th></th>\n",
              "      <th>index</th>\n",
              "      <th>cue</th>\n",
              "      <th>size</th>\n",
              "    </tr>\n",
              "  </thead>\n",
              "  <tbody>\n",
              "    <tr>\n",
              "      <th>0</th>\n",
              "      <td>61</td>\n",
              "      <td>Cheddar</td>\n",
              "      <td>92</td>\n",
              "    </tr>\n",
              "    <tr>\n",
              "      <th>1</th>\n",
              "      <td>6881</td>\n",
              "      <td>mozzarella</td>\n",
              "      <td>92</td>\n",
              "    </tr>\n",
              "    <tr>\n",
              "      <th>2</th>\n",
              "      <td>6376</td>\n",
              "      <td>lyrics</td>\n",
              "      <td>91</td>\n",
              "    </tr>\n",
              "    <tr>\n",
              "      <th>3</th>\n",
              "      <td>267</td>\n",
              "      <td>Sahara</td>\n",
              "      <td>91</td>\n",
              "    </tr>\n",
              "    <tr>\n",
              "      <th>4</th>\n",
              "      <td>239</td>\n",
              "      <td>Parmesan</td>\n",
              "      <td>91</td>\n",
              "    </tr>\n",
              "  </tbody>\n",
              "</table>\n",
              "</div>"
            ],
            "text/plain": [
              "   index         cue  size\n",
              "0     61     Cheddar    92\n",
              "1   6881  mozzarella    92\n",
              "2   6376      lyrics    91\n",
              "3    267      Sahara    91\n",
              "4    239    Parmesan    91"
            ]
          },
          "metadata": {},
          "execution_count": 40
        }
      ]
    },
    {
      "cell_type": "code",
      "source": [
        "# calculando frecuencia de aparicion de cada par cue-R1\n",
        "df2 = data_f.groupby(['cue','R1']).size().to_frame(name='size').reset_index()\n",
        "df2_sorted = df2.sort_values(by=['size'],ascending=False).reset_index()\n",
        "df2_sorted.head(5)"
      ],
      "metadata": {
        "id": "jX8o8jROppB2",
        "outputId": "d87de355-de66-4e81-c9c6-8f5abfef75e0",
        "colab": {
          "base_uri": "https://localhost:8080/",
          "height": 206
        }
      },
      "execution_count": 41,
      "outputs": [
        {
          "output_type": "execute_result",
          "data": {
            "text/html": [
              "<div>\n",
              "<style scoped>\n",
              "    .dataframe tbody tr th:only-of-type {\n",
              "        vertical-align: middle;\n",
              "    }\n",
              "\n",
              "    .dataframe tbody tr th {\n",
              "        vertical-align: top;\n",
              "    }\n",
              "\n",
              "    .dataframe thead th {\n",
              "        text-align: right;\n",
              "    }\n",
              "</style>\n",
              "<table border=\"1\" class=\"dataframe\">\n",
              "  <thead>\n",
              "    <tr style=\"text-align: right;\">\n",
              "      <th></th>\n",
              "      <th>index</th>\n",
              "      <th>cue</th>\n",
              "      <th>R1</th>\n",
              "      <th>size</th>\n",
              "    </tr>\n",
              "  </thead>\n",
              "  <tbody>\n",
              "    <tr>\n",
              "      <th>0</th>\n",
              "      <td>566</td>\n",
              "      <td>Cheddar</td>\n",
              "      <td>cheese</td>\n",
              "      <td>92</td>\n",
              "    </tr>\n",
              "    <tr>\n",
              "      <th>1</th>\n",
              "      <td>2131</td>\n",
              "      <td>Parmesan</td>\n",
              "      <td>cheese</td>\n",
              "      <td>91</td>\n",
              "    </tr>\n",
              "    <tr>\n",
              "      <th>2</th>\n",
              "      <td>72731</td>\n",
              "      <td>moo</td>\n",
              "      <td>cow</td>\n",
              "      <td>90</td>\n",
              "    </tr>\n",
              "    <tr>\n",
              "      <th>3</th>\n",
              "      <td>52966</td>\n",
              "      <td>halt</td>\n",
              "      <td>stop</td>\n",
              "      <td>86</td>\n",
              "    </tr>\n",
              "    <tr>\n",
              "      <th>4</th>\n",
              "      <td>73459</td>\n",
              "      <td>mozzarella</td>\n",
              "      <td>cheese</td>\n",
              "      <td>85</td>\n",
              "    </tr>\n",
              "  </tbody>\n",
              "</table>\n",
              "</div>"
            ],
            "text/plain": [
              "   index         cue      R1  size\n",
              "0    566     Cheddar  cheese    92\n",
              "1   2131    Parmesan  cheese    91\n",
              "2  72731         moo     cow    90\n",
              "3  52966        halt    stop    86\n",
              "4  73459  mozzarella  cheese    85"
            ]
          },
          "metadata": {},
          "execution_count": 41
        }
      ]
    },
    {
      "cell_type": "code",
      "source": [
        "df = df2.merge(df1,left_on='cue',right_on='cue')\n",
        "df = df.rename(columns={'size_x':'frec_par','size_y':'frec_cue'})\n",
        "df['frec'] = df['frec_par']/df['frec_cue']\n",
        "df.head(5)"
      ],
      "metadata": {
        "id": "_xUU7U1Tuk2U",
        "outputId": "33b36b70-6ec5-4de7-c5af-373fd6c70587",
        "colab": {
          "base_uri": "https://localhost:8080/",
          "height": 206
        }
      },
      "execution_count": 42,
      "outputs": [
        {
          "output_type": "execute_result",
          "data": {
            "text/html": [
              "<div>\n",
              "<style scoped>\n",
              "    .dataframe tbody tr th:only-of-type {\n",
              "        vertical-align: middle;\n",
              "    }\n",
              "\n",
              "    .dataframe tbody tr th {\n",
              "        vertical-align: top;\n",
              "    }\n",
              "\n",
              "    .dataframe thead th {\n",
              "        text-align: right;\n",
              "    }\n",
              "</style>\n",
              "<table border=\"1\" class=\"dataframe\">\n",
              "  <thead>\n",
              "    <tr style=\"text-align: right;\">\n",
              "      <th></th>\n",
              "      <th>cue</th>\n",
              "      <th>R1</th>\n",
              "      <th>frec_par</th>\n",
              "      <th>frec_cue</th>\n",
              "      <th>frec</th>\n",
              "    </tr>\n",
              "  </thead>\n",
              "  <tbody>\n",
              "    <tr>\n",
              "      <th>0</th>\n",
              "      <td>Abel</td>\n",
              "      <td>Cain</td>\n",
              "      <td>54</td>\n",
              "      <td>59</td>\n",
              "      <td>0.915254</td>\n",
              "    </tr>\n",
              "    <tr>\n",
              "      <th>1</th>\n",
              "      <td>Abel</td>\n",
              "      <td>can</td>\n",
              "      <td>1</td>\n",
              "      <td>59</td>\n",
              "      <td>0.016949</td>\n",
              "    </tr>\n",
              "    <tr>\n",
              "      <th>2</th>\n",
              "      <td>Abel</td>\n",
              "      <td>cane</td>\n",
              "      <td>3</td>\n",
              "      <td>59</td>\n",
              "      <td>0.050847</td>\n",
              "    </tr>\n",
              "    <tr>\n",
              "      <th>3</th>\n",
              "      <td>Abel</td>\n",
              "      <td>religion</td>\n",
              "      <td>1</td>\n",
              "      <td>59</td>\n",
              "      <td>0.016949</td>\n",
              "    </tr>\n",
              "    <tr>\n",
              "      <th>4</th>\n",
              "      <td>Aboriginal</td>\n",
              "      <td>Australia</td>\n",
              "      <td>28</td>\n",
              "      <td>70</td>\n",
              "      <td>0.400000</td>\n",
              "    </tr>\n",
              "  </tbody>\n",
              "</table>\n",
              "</div>"
            ],
            "text/plain": [
              "          cue         R1  frec_par  frec_cue      frec\n",
              "0        Abel       Cain        54        59  0.915254\n",
              "1        Abel        can         1        59  0.016949\n",
              "2        Abel       cane         3        59  0.050847\n",
              "3        Abel   religion         1        59  0.016949\n",
              "4  Aboriginal  Australia        28        70  0.400000"
            ]
          },
          "metadata": {},
          "execution_count": 42
        }
      ]
    },
    {
      "cell_type": "code",
      "source": [
        "# Recortando el grafo\n",
        "\n",
        "df = df[(df['frec_par'] > 5) & (df['frec_cue'] > 10)]\n",
        "\n",
        "# Sacar palabras que no estan mas en el cue y la R1\n",
        "df.drop(df[df['R1'].isin(df['cue'].unique())==False].index, inplace=True)\n",
        "df.drop(df[df['cue'].isin(df['R1'].unique())==False].index, inplace=True)\n",
        "print(df.shape[0])"
      ],
      "metadata": {
        "id": "BLBACYqi201E",
        "outputId": "81cdc8a8-0984-4b36-eefb-c1196f4e1773",
        "colab": {
          "base_uri": "https://localhost:8080/"
        }
      },
      "execution_count": 44,
      "outputs": [
        {
          "output_type": "stream",
          "name": "stdout",
          "text": [
            "15735\n"
          ]
        }
      ]
    },
    {
      "cell_type": "code",
      "source": [
        "df1 = df[['cue']].rename(columns={'cue':'word'},inplace=False) #dejando solo la palabra\n",
        "df2 = df[['R1']].rename(columns={'R1':'word'},inplace=False)\n",
        "\n",
        "df_dict = pd.concat([df1,df2])  # concatenando\n",
        "list_dict = df_dict['word'].unique() #eliminando duplicados\n",
        "list_dict.shape"
      ],
      "metadata": {
        "id": "9taPx4QH4oL0",
        "outputId": "0e7baa18-1a3c-429b-f0c2-e459d110606f",
        "colab": {
          "base_uri": "https://localhost:8080/"
        }
      },
      "execution_count": 54,
      "outputs": [
        {
          "output_type": "execute_result",
          "data": {
            "text/plain": [
              "(6039,)"
            ]
          },
          "metadata": {},
          "execution_count": 54
        }
      ]
    },
    {
      "cell_type": "code",
      "source": [
        "print('numero nodos',len(list_dict))\n",
        "print('numero maximo aristas (no dirigidas y sin loops)',len(list_dict)*(len(list_dict)-1)/2)\n",
        "print('numero maximo aristas (dirigidas y sin loops)',len(list_dict)*(len(list_dict)-1))\n",
        "print('numero maximo aristas (dirigidas y con loops)',len(list_dict)*(len(list_dict)))"
      ],
      "metadata": {
        "id": "FIUkbjru5HlN",
        "outputId": "3a271741-b1c6-4148-dcb0-d20f3c85b1af",
        "colab": {
          "base_uri": "https://localhost:8080/"
        }
      },
      "execution_count": 56,
      "outputs": [
        {
          "output_type": "stream",
          "name": "stdout",
          "text": [
            "numero nodos 6039\n",
            "numero maximo aristas (no dirigidas y sin loops) 18231741.0\n",
            "numero maximo aristas (dirigidas y sin loops) 36463482\n",
            "numero maximo aristas (dirigidas y con loops) 36469521\n"
          ]
        }
      ]
    },
    {
      "cell_type": "markdown",
      "source": [
        "#Distancias"
      ],
      "metadata": {
        "id": "jzT8yPa22TVS"
      }
    },
    {
      "cell_type": "code",
      "execution_count": null,
      "metadata": {
        "id": "pweqSaO3Neva"
      },
      "outputs": [],
      "source": [
        "# Armo una matriz de distancias\n",
        "distancias_pre=np.zeros((len(lista_palabras),len(lista_palabras))) #matriz cuadrada\n",
        "for i,ti in enumerate(lista_palabras):\n",
        "  for j,tj in enumerate(lista_palabras):\n",
        "    distancias_pre[i,j] = abs(1-w2v_model2.similarity(ti,tj))\n",
        "print (distancias_pre.shape)\n",
        "plt.imshow(distancias_pre)"
      ]
    },
    {
      "cell_type": "code",
      "execution_count": null,
      "metadata": {
        "id": "jKSbnQNM2sFk"
      },
      "outputs": [],
      "source": [
        "results = powerlaw.Fit(new_df['Frequency'])\n",
        "results.power_law.alpha\n",
        "results.power_law.sigma\n",
        "results.distribution_compare('power_law', 'exponential')"
      ]
    },
    {
      "cell_type": "code",
      "execution_count": null,
      "metadata": {
        "id": "hOE0yXqYZ0z_"
      },
      "outputs": [],
      "source": [
        "figPDF = results.plot_pdf(color='r', linewidth=2)\n",
        "results.power_law.plot_pdf(color='r', linestyle='--', ax=figPDF)\n",
        "\n",
        "####\n",
        "figPDF.set_ylabel(u\"p(X)\")\n",
        "figPDF.set_xlabel(r\"Cue Frequency\")"
      ]
    },
    {
      "cell_type": "code",
      "execution_count": null,
      "metadata": {
        "id": "jbi1e4wT5ehl"
      },
      "outputs": [],
      "source": [
        "results_R1 = powerlaw.Fit(new_df_R1['Frequency'])\n",
        "results_R1.power_law.alpha\n",
        "results_R1.power_law.sigma\n",
        "results_R1.distribution_compare('power_law', 'exponential')"
      ]
    },
    {
      "cell_type": "code",
      "execution_count": null,
      "metadata": {
        "id": "jcIS-tEb5oon"
      },
      "outputs": [],
      "source": [
        "figPDF = results_R1.plot_pdf(color='b', linewidth=2)\n",
        "results_R1.power_law.plot_pdf(color='b', linestyle='--', ax=figPDF)\n",
        "\n",
        "####\n",
        "figPDF.set_ylabel(u\"p(X)\")\n",
        "figPDF.set_xlabel(r\"R1 Frequency\")"
      ]
    }
  ],
  "metadata": {
    "colab": {
      "name": "smallworldofwords.ipynb",
      "provenance": [],
      "include_colab_link": true
    },
    "kernelspec": {
      "display_name": "Python 3",
      "name": "python3"
    },
    "language_info": {
      "name": "python"
    }
  },
  "nbformat": 4,
  "nbformat_minor": 0
}