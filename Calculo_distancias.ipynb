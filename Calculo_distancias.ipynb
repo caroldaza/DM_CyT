{
  "nbformat": 4,
  "nbformat_minor": 0,
  "metadata": {
    "colab": {
      "name": "EEG_microstates_v1.ipynb",
      "provenance": [],
      "collapsed_sections": [],
      "include_colab_link": true
    },
    "kernelspec": {
      "display_name": "Python 3",
      "language": "python",
      "name": "python3"
    },
    "language_info": {
      "codemirror_mode": {
        "name": "ipython",
        "version": 3
      },
      "file_extension": ".py",
      "mimetype": "text/x-python",
      "name": "python",
      "nbconvert_exporter": "python",
      "pygments_lexer": "ipython3",
      "version": "3.6.9"
    },
    "varInspector": {
      "cols": {
        "lenName": 16,
        "lenType": 16,
        "lenVar": 40
      },
      "kernels_config": {
        "python": {
          "delete_cmd_postfix": "",
          "delete_cmd_prefix": "del ",
          "library": "var_list.py",
          "varRefreshCmd": "print(var_dic_list())"
        },
        "r": {
          "delete_cmd_postfix": ") ",
          "delete_cmd_prefix": "rm(",
          "library": "var_list.r",
          "varRefreshCmd": "cat(var_dic_list()) "
        }
      },
      "types_to_exclude": [
        "module",
        "function",
        "builtin_function_or_method",
        "instance",
        "_Feature"
      ],
      "window_display": false
    }
  },
  "cells": [
    {
      "cell_type": "markdown",
      "metadata": {
        "id": "view-in-github",
        "colab_type": "text"
      },
      "source": [
        "<a href=\"https://colab.research.google.com/github/caroldaza/DM_CyT/blob/Raul/Calculo_distancias.ipynb\" target=\"_parent\"><img src=\"https://colab.research.google.com/assets/colab-badge.svg\" alt=\"Open In Colab\"/></a>"
      ]
    },
    {
      "cell_type": "code",
      "metadata": {
        "colab": {
          "base_uri": "https://localhost:8080/"
        },
        "id": "7A1Qp7ur_cLJ",
        "outputId": "fd17781d-0767-4ff3-e3aa-19460c63c373"
      },
      "source": [
        "from google.colab import drive\n",
        "drive.mount('/content/drive')"
      ],
      "execution_count": 3,
      "outputs": [
        {
          "output_type": "stream",
          "name": "stdout",
          "text": [
            "Mounted at /content/drive\n"
          ]
        }
      ]
    },
    {
      "cell_type": "code",
      "metadata": {
        "id": "W3t42EgaAwa_"
      },
      "source": [
        "# We'll need to update our path to import from Drive.\n",
        "import sys\n",
        "sys.path.append('/content/drive/MyDrive/procesados')"
      ],
      "execution_count": 4,
      "outputs": []
    },
    {
      "cell_type": "markdown",
      "metadata": {
        "id": "udoiqDNTesug"
      },
      "source": [
        "## Importa paquetes\n",
        "\n"
      ]
    },
    {
      "cell_type": "code",
      "metadata": {
        "id": "lVzcUudLesui"
      },
      "source": [
        "import numpy as np\n",
        "import pandas as pd\n",
        "import matplotlib.pylab as plt \n",
        "import matplotlib.gridspec as gridspec\n",
        "from scipy.signal import butter, lfilter\n",
        "from sklearn import decomposition"
      ],
      "execution_count": 5,
      "outputs": []
    },
    {
      "cell_type": "markdown",
      "metadata": {
        "id": "aOtOb0Db2MPW"
      },
      "source": [
        "Bajo paquete para trabajar con EEG- Me permite ver la topografía"
      ]
    },
    {
      "cell_type": "code",
      "metadata": {
        "colab": {
          "base_uri": "https://localhost:8080/"
        },
        "id": "s0n2ey7G2EKM",
        "outputId": "a9b489df-bc1b-402e-d145-ed9a37b8cc88"
      },
      "source": [
        "!pip install mne\n",
        "import mne"
      ],
      "execution_count": 6,
      "outputs": [
        {
          "output_type": "stream",
          "name": "stdout",
          "text": [
            "Collecting mne\n",
            "  Downloading mne-0.23.4-py3-none-any.whl (6.9 MB)\n",
            "\u001b[K     |████████████████████████████████| 6.9 MB 19.4 MB/s \n",
            "\u001b[?25hRequirement already satisfied: numpy>=1.15.4 in /usr/local/lib/python3.7/dist-packages (from mne) (1.19.5)\n",
            "Requirement already satisfied: scipy>=1.1.0 in /usr/local/lib/python3.7/dist-packages (from mne) (1.4.1)\n",
            "Installing collected packages: mne\n",
            "Successfully installed mne-0.23.4\n"
          ]
        }
      ]
    },
    {
      "cell_type": "markdown",
      "metadata": {
        "id": "ok-rCIcASzv8"
      },
      "source": [
        "## (1) Levanto datos de EEG"
      ]
    },
    {
      "cell_type": "markdown",
      "metadata": {
        "id": "Ie5dgmBgesuk"
      },
      "source": [
        "El registro de EEG de 30 canales viene en formato txt. La frecuencia de muestreo es de 128 Hz."
      ]
    },
    {
      "cell_type": "markdown",
      "metadata": {
        "id": "HhBpbs4DYbxh"
      },
      "source": [
        "Los datos ya vienen limpios y filtrados entre 2 y 20 Hz"
      ]
    },
    {
      "cell_type": "markdown",
      "metadata": {
        "id": "DkPai2jox3PT"
      },
      "source": [
        "Topología\n"
      ]
    },
    {
      "cell_type": "markdown",
      "metadata": {
        "id": "ZWhehABLOzmj"
      },
      "source": [
        "***HAY QUE CALCULAR AQUI ALGUNA DE LAS MEDIDAS DE DISTANCIA VISTAS EN CLASE PARA COMPARAR LAS CABECITAS***\n",
        "y hay que revisar la función que dibuja para hacerlas más bonitas"
      ]
    },
    {
      "cell_type": "markdown",
      "metadata": {
        "id": "3vAH_3pED7A3"
      },
      "source": [
        "Qué tan distintos son los individuos entre sí, vistos en cada periodo?\n",
        "Hallaremos el promedio de la medición en cada canal durante el primer segundo (\n",
        "1 segundo) en el primer bloque de reposo (antes de la tarea de aprendizaje)"
      ]
    },
    {
      "cell_type": "markdown",
      "metadata": {
        "id": "cDes47uCY9xZ"
      },
      "source": [
        "# Mediciones en el primer bloque (en reposo previo a la tarea de aprendizaje)\n",
        "Calcularemos el promedio de las mediciones de cada sujeto durante el primer segundo (es decir, durante las primeras 128 mediciones (por ser el sample rate = 128))\n",
        "\n"
      ]
    },
    {
      "cell_type": "code",
      "metadata": {
        "colab": {
          "base_uri": "https://localhost:8080/"
        },
        "id": "IH8Vn967tXDN",
        "outputId": "18509395-b716-427d-b044-5e486d5f7d8e"
      },
      "source": [
        "promedios_bl_1_1s = []\n",
        "# df = pd.DataFrame()\n",
        "subject = [8,9,10,12,13] \n",
        "srate=128 \n",
        "inicio = 1 \n",
        "fin    = 2  \n",
        "for ind,sub in enumerate(subject):  \n",
        "    filename1 = '/content/drive/MyDrive/procesados/suj_' + str(sub) + '_bl_1.txt'        \n",
        "    datos1 = pd.read_csv(filename1, sep=',', header=None)    \n",
        "    EEGdata1_1seg = datos1.to_numpy()   \n",
        "    EEGdata1_1seg = EEGdata1_1seg[:,inicio*srate:fin*srate]        \n",
        "    medias_fila = EEGdata1_1seg.mean(axis=1)    \n",
        "    medias_fila.shape\n",
        "    # medias_fila.transpose\n",
        "    # print(medias_fila)    \n",
        "    promedios_bl_1_1s.append(medias_fila)\n",
        "\n",
        "    print(sub)"
      ],
      "execution_count": 110,
      "outputs": [
        {
          "output_type": "stream",
          "name": "stdout",
          "text": [
            "8\n",
            "9\n",
            "10\n",
            "12\n",
            "13\n"
          ]
        }
      ]
    },
    {
      "cell_type": "code",
      "metadata": {
        "colab": {
          "base_uri": "https://localhost:8080/",
          "height": 224
        },
        "id": "0ioS-wvqtx9A",
        "outputId": "ded1aecc-08df-46d2-cd58-08882d23b65e"
      },
      "source": [
        "kept_channels = ['Fp1', 'Fp2', 'F3', 'F4', 'C3', 'C4', 'P3', 'P4', 'O1', 'O2', 'F7', 'F8', \n",
        "                 'T7', 'T8', 'P7', 'P8', 'Fz', 'Cz', 'Pz', 'FC1', 'FC2',\n",
        "                 'FC5', 'FC6','CP1','CP2','CP5','CP6','AFz','Fpz','POz']\n",
        "\n",
        "df = pd.DataFrame(promedios_bl_1_1s, columns= kept_channels, dtype = float) \n",
        "df"
      ],
      "execution_count": 111,
      "outputs": [
        {
          "output_type": "execute_result",
          "data": {
            "text/html": [
              "<div>\n",
              "<style scoped>\n",
              "    .dataframe tbody tr th:only-of-type {\n",
              "        vertical-align: middle;\n",
              "    }\n",
              "\n",
              "    .dataframe tbody tr th {\n",
              "        vertical-align: top;\n",
              "    }\n",
              "\n",
              "    .dataframe thead th {\n",
              "        text-align: right;\n",
              "    }\n",
              "</style>\n",
              "<table border=\"1\" class=\"dataframe\">\n",
              "  <thead>\n",
              "    <tr style=\"text-align: right;\">\n",
              "      <th></th>\n",
              "      <th>Fp1</th>\n",
              "      <th>Fp2</th>\n",
              "      <th>F3</th>\n",
              "      <th>F4</th>\n",
              "      <th>C3</th>\n",
              "      <th>C4</th>\n",
              "      <th>P3</th>\n",
              "      <th>P4</th>\n",
              "      <th>O1</th>\n",
              "      <th>O2</th>\n",
              "      <th>F7</th>\n",
              "      <th>F8</th>\n",
              "      <th>T7</th>\n",
              "      <th>T8</th>\n",
              "      <th>P7</th>\n",
              "      <th>P8</th>\n",
              "      <th>Fz</th>\n",
              "      <th>Cz</th>\n",
              "      <th>Pz</th>\n",
              "      <th>FC1</th>\n",
              "      <th>FC2</th>\n",
              "      <th>FC5</th>\n",
              "      <th>FC6</th>\n",
              "      <th>CP1</th>\n",
              "      <th>CP2</th>\n",
              "      <th>CP5</th>\n",
              "      <th>CP6</th>\n",
              "      <th>AFz</th>\n",
              "      <th>Fpz</th>\n",
              "      <th>POz</th>\n",
              "    </tr>\n",
              "  </thead>\n",
              "  <tbody>\n",
              "    <tr>\n",
              "      <th>0</th>\n",
              "      <td>-0.797705</td>\n",
              "      <td>-0.432769</td>\n",
              "      <td>0.312478</td>\n",
              "      <td>0.113405</td>\n",
              "      <td>0.190725</td>\n",
              "      <td>-0.287079</td>\n",
              "      <td>-0.237071</td>\n",
              "      <td>0.109291</td>\n",
              "      <td>-0.536993</td>\n",
              "      <td>0.001848</td>\n",
              "      <td>-0.034502</td>\n",
              "      <td>-0.058565</td>\n",
              "      <td>-0.049159</td>\n",
              "      <td>-0.036872</td>\n",
              "      <td>0.237431</td>\n",
              "      <td>-0.067748</td>\n",
              "      <td>0.013553</td>\n",
              "      <td>0.437186</td>\n",
              "      <td>-0.187127</td>\n",
              "      <td>0.016881</td>\n",
              "      <td>0.514832</td>\n",
              "      <td>0.374645</td>\n",
              "      <td>-0.277238</td>\n",
              "      <td>0.656085</td>\n",
              "      <td>0.451375</td>\n",
              "      <td>0.070416</td>\n",
              "      <td>0.372480</td>\n",
              "      <td>-0.104407</td>\n",
              "      <td>-0.742257</td>\n",
              "      <td>-0.023064</td>\n",
              "    </tr>\n",
              "    <tr>\n",
              "      <th>1</th>\n",
              "      <td>-0.071581</td>\n",
              "      <td>-0.090876</td>\n",
              "      <td>-0.166033</td>\n",
              "      <td>0.158866</td>\n",
              "      <td>-0.148120</td>\n",
              "      <td>-0.693563</td>\n",
              "      <td>-0.973258</td>\n",
              "      <td>-0.417496</td>\n",
              "      <td>0.364423</td>\n",
              "      <td>-0.104969</td>\n",
              "      <td>-0.067546</td>\n",
              "      <td>0.459020</td>\n",
              "      <td>-0.028478</td>\n",
              "      <td>-0.361922</td>\n",
              "      <td>0.571312</td>\n",
              "      <td>0.493086</td>\n",
              "      <td>-0.029986</td>\n",
              "      <td>0.121003</td>\n",
              "      <td>0.529532</td>\n",
              "      <td>-0.294255</td>\n",
              "      <td>0.061621</td>\n",
              "      <td>0.361293</td>\n",
              "      <td>-0.077623</td>\n",
              "      <td>0.324555</td>\n",
              "      <td>0.321459</td>\n",
              "      <td>-0.243295</td>\n",
              "      <td>-0.417581</td>\n",
              "      <td>-0.226157</td>\n",
              "      <td>0.387720</td>\n",
              "      <td>0.258854</td>\n",
              "    </tr>\n",
              "    <tr>\n",
              "      <th>2</th>\n",
              "      <td>-0.120162</td>\n",
              "      <td>-0.094653</td>\n",
              "      <td>0.217349</td>\n",
              "      <td>0.328558</td>\n",
              "      <td>0.444406</td>\n",
              "      <td>-0.358509</td>\n",
              "      <td>-0.262834</td>\n",
              "      <td>0.133283</td>\n",
              "      <td>-0.749788</td>\n",
              "      <td>-0.472076</td>\n",
              "      <td>-0.153180</td>\n",
              "      <td>0.270873</td>\n",
              "      <td>0.478316</td>\n",
              "      <td>-0.341106</td>\n",
              "      <td>0.023237</td>\n",
              "      <td>-0.116288</td>\n",
              "      <td>-0.314957</td>\n",
              "      <td>0.292998</td>\n",
              "      <td>0.704498</td>\n",
              "      <td>-0.068330</td>\n",
              "      <td>-0.286321</td>\n",
              "      <td>-0.317592</td>\n",
              "      <td>-0.603629</td>\n",
              "      <td>0.510797</td>\n",
              "      <td>0.861830</td>\n",
              "      <td>0.064205</td>\n",
              "      <td>0.033236</td>\n",
              "      <td>-0.320650</td>\n",
              "      <td>0.604743</td>\n",
              "      <td>-0.388247</td>\n",
              "    </tr>\n",
              "    <tr>\n",
              "      <th>3</th>\n",
              "      <td>0.153329</td>\n",
              "      <td>-0.220583</td>\n",
              "      <td>-0.104933</td>\n",
              "      <td>-0.037169</td>\n",
              "      <td>0.757687</td>\n",
              "      <td>0.398052</td>\n",
              "      <td>0.064125</td>\n",
              "      <td>0.617179</td>\n",
              "      <td>0.059903</td>\n",
              "      <td>-0.251638</td>\n",
              "      <td>-0.133616</td>\n",
              "      <td>-0.447152</td>\n",
              "      <td>-0.040771</td>\n",
              "      <td>0.492697</td>\n",
              "      <td>0.394079</td>\n",
              "      <td>-0.400880</td>\n",
              "      <td>-0.159631</td>\n",
              "      <td>-0.346783</td>\n",
              "      <td>-0.544431</td>\n",
              "      <td>1.601226</td>\n",
              "      <td>-0.404815</td>\n",
              "      <td>-0.265025</td>\n",
              "      <td>-0.099902</td>\n",
              "      <td>-0.088917</td>\n",
              "      <td>0.172401</td>\n",
              "      <td>-0.366826</td>\n",
              "      <td>0.118671</td>\n",
              "      <td>-0.181651</td>\n",
              "      <td>-0.102295</td>\n",
              "      <td>-0.632349</td>\n",
              "    </tr>\n",
              "    <tr>\n",
              "      <th>4</th>\n",
              "      <td>-0.054113</td>\n",
              "      <td>0.034422</td>\n",
              "      <td>-0.172250</td>\n",
              "      <td>-0.056821</td>\n",
              "      <td>0.108050</td>\n",
              "      <td>-0.065845</td>\n",
              "      <td>0.333202</td>\n",
              "      <td>0.253173</td>\n",
              "      <td>-0.014472</td>\n",
              "      <td>-0.211112</td>\n",
              "      <td>-0.369092</td>\n",
              "      <td>0.104665</td>\n",
              "      <td>0.297137</td>\n",
              "      <td>-0.053285</td>\n",
              "      <td>0.084684</td>\n",
              "      <td>0.107527</td>\n",
              "      <td>-0.256957</td>\n",
              "      <td>-0.159325</td>\n",
              "      <td>0.112077</td>\n",
              "      <td>-0.155037</td>\n",
              "      <td>0.350376</td>\n",
              "      <td>-0.170270</td>\n",
              "      <td>-0.153912</td>\n",
              "      <td>0.204988</td>\n",
              "      <td>0.000789</td>\n",
              "      <td>-0.052602</td>\n",
              "      <td>0.036569</td>\n",
              "      <td>-0.338847</td>\n",
              "      <td>0.322875</td>\n",
              "      <td>-0.066600</td>\n",
              "    </tr>\n",
              "  </tbody>\n",
              "</table>\n",
              "</div>"
            ],
            "text/plain": [
              "        Fp1       Fp2        F3  ...       AFz       Fpz       POz\n",
              "0 -0.797705 -0.432769  0.312478  ... -0.104407 -0.742257 -0.023064\n",
              "1 -0.071581 -0.090876 -0.166033  ... -0.226157  0.387720  0.258854\n",
              "2 -0.120162 -0.094653  0.217349  ... -0.320650  0.604743 -0.388247\n",
              "3  0.153329 -0.220583 -0.104933  ... -0.181651 -0.102295 -0.632349\n",
              "4 -0.054113  0.034422 -0.172250  ... -0.338847  0.322875 -0.066600\n",
              "\n",
              "[5 rows x 30 columns]"
            ]
          },
          "metadata": {},
          "execution_count": 111
        }
      ]
    },
    {
      "cell_type": "markdown",
      "metadata": {
        "id": "ph3kBxH2xaz1"
      },
      "source": [
        "## Cálculo de la distancia euclidea"
      ]
    },
    {
      "cell_type": "code",
      "metadata": {
        "colab": {
          "base_uri": "https://localhost:8080/"
        },
        "id": "0tquuV7ut-Lv",
        "outputId": "3f79d7de-4a5b-4183-ac4d-bc4a61d0bf7a"
      },
      "source": [
        "import scipy\n",
        "\n",
        "ary = scipy.spatial.distance.cdist(df.iloc[:,1:], df.iloc[:,1:], metric='euclidean')\n",
        "ary.round(3)"
      ],
      "execution_count": 102,
      "outputs": [
        {
          "output_type": "execute_result",
          "data": {
            "text/plain": [
              "array([[0.   , 2.5  , 2.347, 2.936, 2.032],\n",
              "       [2.5  , 0.   , 2.438, 3.721, 2.194],\n",
              "       [2.347, 2.438, 0.   , 3.213, 1.991],\n",
              "       [2.936, 3.721, 3.213, 0.   , 2.633],\n",
              "       [2.032, 2.194, 1.991, 2.633, 0.   ]])"
            ]
          },
          "metadata": {},
          "execution_count": 102
        }
      ]
    },
    {
      "cell_type": "markdown",
      "metadata": {
        "id": "s0RSfo5Oxkqx"
      },
      "source": [
        "## Cálculo de la distancia de Manhattan "
      ]
    },
    {
      "cell_type": "code",
      "metadata": {
        "colab": {
          "base_uri": "https://localhost:8080/"
        },
        "id": "roMTFg-huqtH",
        "outputId": "386240c0-1de0-4dc6-ff32-5b41bd5f1688"
      },
      "source": [
        "# Import necessary package\n",
        "import scipy.spatial.distance as d\n",
        "\n",
        "def CityBlock_distance(A, B):\n",
        "\n",
        "\tresult = d.cdist(A, B, 'cityblock')\n",
        "\treturn result\n",
        "\n",
        "manhattan_dist = CityBlock_distance(df, df)\n",
        "print(manhattan_dist.round(3))\n"
      ],
      "execution_count": 115,
      "outputs": [
        {
          "output_type": "stream",
          "name": "stdout",
          "text": [
            "[[ 0.    11.552 10.029 13.835  9.682]\n",
            " [11.552  0.    11.089 15.373  9.422]\n",
            " [10.029 11.089  0.    14.028  8.78 ]\n",
            " [13.835 15.373 14.028  0.    10.511]\n",
            " [ 9.682  9.422  8.78  10.511  0.   ]]\n"
          ]
        }
      ]
    },
    {
      "cell_type": "markdown",
      "metadata": {
        "id": "JVhfbvfh2E9f"
      },
      "source": [
        "# Mediciones en el segundo bloque (en reposo posterior a la tarea de aprendizaje)\n",
        "Calcularemos el promedio de las mediciones de cada sujeto durante el primer segundo"
      ]
    },
    {
      "cell_type": "code",
      "metadata": {
        "id": "d3nmT_MC2RHu",
        "outputId": "1f3b0a83-9093-4a4d-fe16-b6f26b6318c6",
        "colab": {
          "base_uri": "https://localhost:8080/"
        }
      },
      "source": [
        "promedios_bl_2_1s = []\n",
        "# df = pd.DataFrame()\n",
        "subject = [8,9,10,12,13] \n",
        "srate=128 \n",
        "inicio = 1 \n",
        "fin    = 2  \n",
        "for ind,sub in enumerate(subject):  \n",
        "    filename1 = '/content/drive/MyDrive/procesados/suj_' + str(sub) + '_bl_2.txt'\n",
        "    datos1 = pd.read_csv(filename1, sep=',', header=None)    \n",
        "    EEGdata1_1seg = datos1.to_numpy()   \n",
        "    EEGdata1_1seg = EEGdata1_1seg[:,inicio*srate:fin*srate]        \n",
        "    medias_fila = EEGdata1_1seg.mean(axis=1)    \n",
        "    medias_fila.shape\n",
        "    # medias_fila.transpose\n",
        "    # print(medias_fila)    \n",
        "    promedios_bl_2_1s.append(medias_fila)"
      ],
      "execution_count": 116,
      "outputs": [
        {
          "output_type": "stream",
          "name": "stdout",
          "text": [
            "8\n",
            "9\n",
            "10\n",
            "12\n",
            "13\n"
          ]
        }
      ]
    },
    {
      "cell_type": "code",
      "metadata": {
        "id": "DMvc09la2eXi",
        "outputId": "d765eb4c-a068-4bac-d4ac-b1814b7c0208",
        "colab": {
          "base_uri": "https://localhost:8080/",
          "height": 224
        }
      },
      "source": [
        "df = pd.DataFrame(promedios_bl_2_1s, columns= kept_channels, dtype = float) \n",
        "df"
      ],
      "execution_count": 117,
      "outputs": [
        {
          "output_type": "execute_result",
          "data": {
            "text/html": [
              "<div>\n",
              "<style scoped>\n",
              "    .dataframe tbody tr th:only-of-type {\n",
              "        vertical-align: middle;\n",
              "    }\n",
              "\n",
              "    .dataframe tbody tr th {\n",
              "        vertical-align: top;\n",
              "    }\n",
              "\n",
              "    .dataframe thead th {\n",
              "        text-align: right;\n",
              "    }\n",
              "</style>\n",
              "<table border=\"1\" class=\"dataframe\">\n",
              "  <thead>\n",
              "    <tr style=\"text-align: right;\">\n",
              "      <th></th>\n",
              "      <th>Fp1</th>\n",
              "      <th>Fp2</th>\n",
              "      <th>F3</th>\n",
              "      <th>F4</th>\n",
              "      <th>C3</th>\n",
              "      <th>C4</th>\n",
              "      <th>P3</th>\n",
              "      <th>P4</th>\n",
              "      <th>O1</th>\n",
              "      <th>O2</th>\n",
              "      <th>F7</th>\n",
              "      <th>F8</th>\n",
              "      <th>T7</th>\n",
              "      <th>T8</th>\n",
              "      <th>P7</th>\n",
              "      <th>P8</th>\n",
              "      <th>Fz</th>\n",
              "      <th>Cz</th>\n",
              "      <th>Pz</th>\n",
              "      <th>FC1</th>\n",
              "      <th>FC2</th>\n",
              "      <th>FC5</th>\n",
              "      <th>FC6</th>\n",
              "      <th>CP1</th>\n",
              "      <th>CP2</th>\n",
              "      <th>CP5</th>\n",
              "      <th>CP6</th>\n",
              "      <th>AFz</th>\n",
              "      <th>Fpz</th>\n",
              "      <th>POz</th>\n",
              "    </tr>\n",
              "  </thead>\n",
              "  <tbody>\n",
              "    <tr>\n",
              "      <th>0</th>\n",
              "      <td>-0.261031</td>\n",
              "      <td>0.758761</td>\n",
              "      <td>0.156790</td>\n",
              "      <td>-0.137884</td>\n",
              "      <td>-0.276327</td>\n",
              "      <td>0.126293</td>\n",
              "      <td>0.214401</td>\n",
              "      <td>-0.140864</td>\n",
              "      <td>0.085400</td>\n",
              "      <td>-0.091247</td>\n",
              "      <td>-0.146566</td>\n",
              "      <td>-0.254963</td>\n",
              "      <td>-0.248971</td>\n",
              "      <td>-1.133349</td>\n",
              "      <td>0.088116</td>\n",
              "      <td>-0.084110</td>\n",
              "      <td>0.250853</td>\n",
              "      <td>0.072357</td>\n",
              "      <td>-0.279628</td>\n",
              "      <td>-0.188215</td>\n",
              "      <td>0.309438</td>\n",
              "      <td>0.482672</td>\n",
              "      <td>0.174575</td>\n",
              "      <td>0.734761</td>\n",
              "      <td>0.086673</td>\n",
              "      <td>-0.235157</td>\n",
              "      <td>-0.120334</td>\n",
              "      <td>-0.077146</td>\n",
              "      <td>0.377369</td>\n",
              "      <td>-0.242631</td>\n",
              "    </tr>\n",
              "    <tr>\n",
              "      <th>1</th>\n",
              "      <td>0.389912</td>\n",
              "      <td>0.289716</td>\n",
              "      <td>0.000849</td>\n",
              "      <td>-0.268204</td>\n",
              "      <td>-0.101493</td>\n",
              "      <td>0.667330</td>\n",
              "      <td>0.206725</td>\n",
              "      <td>-0.109399</td>\n",
              "      <td>0.183974</td>\n",
              "      <td>0.432120</td>\n",
              "      <td>0.041981</td>\n",
              "      <td>-0.453087</td>\n",
              "      <td>-0.128648</td>\n",
              "      <td>-0.293847</td>\n",
              "      <td>-0.053315</td>\n",
              "      <td>-0.390979</td>\n",
              "      <td>0.321405</td>\n",
              "      <td>-0.071681</td>\n",
              "      <td>-0.339163</td>\n",
              "      <td>0.075867</td>\n",
              "      <td>0.240389</td>\n",
              "      <td>0.371730</td>\n",
              "      <td>-0.116010</td>\n",
              "      <td>-0.283232</td>\n",
              "      <td>-0.239231</td>\n",
              "      <td>-0.191432</td>\n",
              "      <td>-0.265693</td>\n",
              "      <td>0.308076</td>\n",
              "      <td>-0.348734</td>\n",
              "      <td>0.124072</td>\n",
              "    </tr>\n",
              "    <tr>\n",
              "      <th>2</th>\n",
              "      <td>-0.168786</td>\n",
              "      <td>0.295848</td>\n",
              "      <td>0.327207</td>\n",
              "      <td>0.214130</td>\n",
              "      <td>0.351656</td>\n",
              "      <td>0.199542</td>\n",
              "      <td>0.143895</td>\n",
              "      <td>0.385427</td>\n",
              "      <td>0.352714</td>\n",
              "      <td>0.443766</td>\n",
              "      <td>0.175417</td>\n",
              "      <td>0.324032</td>\n",
              "      <td>0.250799</td>\n",
              "      <td>0.358815</td>\n",
              "      <td>0.392940</td>\n",
              "      <td>0.250986</td>\n",
              "      <td>0.182410</td>\n",
              "      <td>0.243532</td>\n",
              "      <td>0.175952</td>\n",
              "      <td>0.194104</td>\n",
              "      <td>0.732321</td>\n",
              "      <td>-0.143860</td>\n",
              "      <td>-8.069397</td>\n",
              "      <td>0.054430</td>\n",
              "      <td>0.204837</td>\n",
              "      <td>0.489944</td>\n",
              "      <td>0.253264</td>\n",
              "      <td>0.398309</td>\n",
              "      <td>0.342747</td>\n",
              "      <td>0.642832</td>\n",
              "    </tr>\n",
              "    <tr>\n",
              "      <th>3</th>\n",
              "      <td>0.273957</td>\n",
              "      <td>0.095297</td>\n",
              "      <td>0.149924</td>\n",
              "      <td>0.300229</td>\n",
              "      <td>0.029143</td>\n",
              "      <td>0.791282</td>\n",
              "      <td>0.595909</td>\n",
              "      <td>0.417171</td>\n",
              "      <td>0.268643</td>\n",
              "      <td>-0.090082</td>\n",
              "      <td>-0.226152</td>\n",
              "      <td>-0.651317</td>\n",
              "      <td>-1.011168</td>\n",
              "      <td>0.071549</td>\n",
              "      <td>-0.004537</td>\n",
              "      <td>-0.794736</td>\n",
              "      <td>-0.044737</td>\n",
              "      <td>-0.172572</td>\n",
              "      <td>0.045978</td>\n",
              "      <td>0.785627</td>\n",
              "      <td>-0.219315</td>\n",
              "      <td>-0.132316</td>\n",
              "      <td>0.117397</td>\n",
              "      <td>-0.062027</td>\n",
              "      <td>0.220102</td>\n",
              "      <td>-0.376580</td>\n",
              "      <td>0.383933</td>\n",
              "      <td>-0.498116</td>\n",
              "      <td>0.000512</td>\n",
              "      <td>-0.263015</td>\n",
              "    </tr>\n",
              "    <tr>\n",
              "      <th>4</th>\n",
              "      <td>-0.135491</td>\n",
              "      <td>0.003960</td>\n",
              "      <td>-0.183279</td>\n",
              "      <td>0.144577</td>\n",
              "      <td>-0.052563</td>\n",
              "      <td>-0.156379</td>\n",
              "      <td>-0.281447</td>\n",
              "      <td>0.085448</td>\n",
              "      <td>-0.117664</td>\n",
              "      <td>-0.160659</td>\n",
              "      <td>-0.005644</td>\n",
              "      <td>0.218164</td>\n",
              "      <td>0.136670</td>\n",
              "      <td>-0.129009</td>\n",
              "      <td>-0.017598</td>\n",
              "      <td>0.211677</td>\n",
              "      <td>-0.070329</td>\n",
              "      <td>0.024729</td>\n",
              "      <td>0.105615</td>\n",
              "      <td>0.334960</td>\n",
              "      <td>0.038591</td>\n",
              "      <td>0.021239</td>\n",
              "      <td>-0.146639</td>\n",
              "      <td>0.046961</td>\n",
              "      <td>0.048871</td>\n",
              "      <td>0.050503</td>\n",
              "      <td>0.301260</td>\n",
              "      <td>-0.251935</td>\n",
              "      <td>0.083821</td>\n",
              "      <td>-0.148397</td>\n",
              "    </tr>\n",
              "  </tbody>\n",
              "</table>\n",
              "</div>"
            ],
            "text/plain": [
              "        Fp1       Fp2        F3  ...       AFz       Fpz       POz\n",
              "0 -0.261031  0.758761  0.156790  ... -0.077146  0.377369 -0.242631\n",
              "1  0.389912  0.289716  0.000849  ...  0.308076 -0.348734  0.124072\n",
              "2 -0.168786  0.295848  0.327207  ...  0.398309  0.342747  0.642832\n",
              "3  0.273957  0.095297  0.149924  ... -0.498116  0.000512 -0.263015\n",
              "4 -0.135491  0.003960 -0.183279  ... -0.251935  0.083821 -0.148397\n",
              "\n",
              "[5 rows x 30 columns]"
            ]
          },
          "metadata": {},
          "execution_count": 117
        }
      ]
    },
    {
      "cell_type": "markdown",
      "metadata": {
        "id": "5pptkmLr2m3i"
      },
      "source": [
        "## Cálculo de la distancia euclidea"
      ]
    },
    {
      "cell_type": "code",
      "metadata": {
        "id": "NrOn7Wih2jMw",
        "outputId": "e569d7b6-6180-498f-8b17-e8479d33dff1",
        "colab": {
          "base_uri": "https://localhost:8080/"
        }
      },
      "source": [
        "import scipy\n",
        "\n",
        "ary = scipy.spatial.distance.cdist(df.iloc[:,1:], df.iloc[:,1:], metric='euclidean')\n",
        "ary.round(3)"
      ],
      "execution_count": 118,
      "outputs": [
        {
          "output_type": "execute_result",
          "data": {
            "text/plain": [
              "array([[0.   , 1.988, 8.695, 2.734, 2.125],\n",
              "       [1.988, 0.   , 8.295, 2.295, 2.083],\n",
              "       [8.695, 8.295, 0.   , 8.724, 8.168],\n",
              "       [2.734, 2.295, 8.724, 0.   , 2.444],\n",
              "       [2.125, 2.083, 8.168, 2.444, 0.   ]])"
            ]
          },
          "metadata": {},
          "execution_count": 118
        }
      ]
    },
    {
      "cell_type": "markdown",
      "metadata": {
        "id": "_c_ddrB22qbi"
      },
      "source": [
        "## Cálculo de la distancia de Manhattan "
      ]
    },
    {
      "cell_type": "code",
      "metadata": {
        "id": "IoSHUF-O2uAq",
        "outputId": "92064083-588d-46da-d5de-91b637ab6624",
        "colab": {
          "base_uri": "https://localhost:8080/"
        }
      },
      "source": [
        "# Import necessary package\n",
        "import scipy.spatial.distance as d\n",
        "\n",
        "def CityBlock_distance(A, B):\n",
        "\n",
        "\tresult = d.cdist(A, B, 'cityblock')\n",
        "\treturn result\n",
        "\n",
        "manhattan_dist = CityBlock_distance(df, df)\n",
        "print(manhattan_dist.round(3))"
      ],
      "execution_count": 119,
      "outputs": [
        {
          "output_type": "stream",
          "name": "stdout",
          "text": [
            "[[ 0.     8.598 20.374 12.419  9.736]\n",
            " [ 8.598  0.    19.394 10.789 10.113]\n",
            " [20.374 19.394  0.    21.08  16.62 ]\n",
            " [12.419 10.789 21.08   0.     9.786]\n",
            " [ 9.736 10.113 16.62   9.786  0.   ]]\n"
          ]
        }
      ]
    }
  ]
}